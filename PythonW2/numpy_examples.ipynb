{
 "cells": [
  {
   "cell_type": "markdown",
   "metadata": {},
   "source": [
    "# NumPy\n",
    "\n",
    "numpy is python's package for doing math that is more advanced than +-*/\n",
    "\n",
    "This includes special functions like cosine, exponential, sqrt, ...\n",
    "\n",
    "On top of this we can use numpy to generate samples from many types of random variables\n",
    "\n",
    "numpy also has a powerful data type to define vectors, matrices, and tensors\n",
    "\n",
    "With these data types numpy also allows us to do linear algebra - matrix multiplication and matrix-vector solutions"
   ]
  },
  {
   "cell_type": "code",
   "execution_count": 1,
   "metadata": {},
   "outputs": [],
   "source": [
    "# the first step of using numpy is to tell python to use it\n",
    "import numpy as np"
   ]
  },
  {
   "cell_type": "code",
   "execution_count": 12,
   "metadata": {
    "scrolled": true
   },
   "outputs": [
    {
     "name": "stdout",
     "output_type": "stream",
     "text": [
      "1.2246467991473532e-16\n",
      "3.141592653589793\n",
      "1.1\n",
      "181.27224187515122\n",
      "5.2\n",
      "13.463738035001692\n"
     ]
    },
    {
     "data": {
      "text/plain": [
       "Generator(PCG64) at 0x21108700048"
      ]
     },
     "execution_count": 12,
     "metadata": {},
     "output_type": "execute_result"
    }
   ],
   "source": [
    "print(np.sin(np.pi))\n",
    "# np.cos\n",
    "print(np.pi)\n",
    "print(np.sqrt(1.21))\n",
    "print(np.exp(5.2))\n",
    "print(np.log(np.exp(5.2)))\n",
    "print(np.sqrt(np.exp(5.2)))\n",
    "np.random.default_rng(222)"
   ]
  },
  {
   "cell_type": "code",
   "execution_count": 13,
   "metadata": {},
   "outputs": [
    {
     "name": "stdout",
     "output_type": "stream",
     "text": [
      "[1 2 3]\n",
      "\n",
      "[[1 2 1]\n",
      " [4 5 9]\n",
      " [1 8 9]]\n",
      "\n",
      "[[1 4 1]\n",
      " [2 5 8]\n",
      " [1 9 9]]\n"
     ]
    }
   ],
   "source": [
    "# we can create numpy arrays by converting lists\n",
    "# this is a vector\n",
    "vec = np.array([1,2,3])\n",
    "print(vec)\n",
    "# we can create matrices by converting lists of lists\n",
    "mat = np.array([[1,2,1],[4,5,9],[1,8,9]])\n",
    "print('')\n",
    "print(mat)\n",
    "print('')\n",
    "print(mat.T)"
   ]
  },
  {
   "cell_type": "code",
   "execution_count": 14,
   "metadata": {},
   "outputs": [
    {
     "name": "stdout",
     "output_type": "stream",
     "text": [
      "[ 0  1  2  3  4  5  6  7  8  9 10 11 12 13 14]\n",
      "\n",
      "[ 3  9 15]\n"
     ]
    }
   ],
   "source": [
    "# there are lots of other ways to create numpy arrays\n",
    "vec2 = np.arange(0,15)\n",
    "print(vec2)\n",
    "print('')\n",
    "vec3 = np.arange(3,21,6)\n",
    "print(vec3)\n"
   ]
  },
  {
   "cell_type": "code",
   "execution_count": 15,
   "metadata": {},
   "outputs": [
    {
     "name": "stdout",
     "output_type": "stream",
     "text": [
      "[0.         0.55555556 1.11111111 1.66666667 2.22222222 2.77777778\n",
      " 3.33333333 3.88888889 4.44444444 5.        ]\n",
      "\n",
      "[[0.         0.55555556]\n",
      " [1.11111111 1.66666667]\n",
      " [2.22222222 2.77777778]\n",
      " [3.33333333 3.88888889]\n",
      " [4.44444444 5.        ]]\n",
      "[[0.         0.55555556]\n",
      " [1.11111111 1.66666667]\n",
      " [2.22222222 2.77777778]\n",
      " [3.33333333 3.88888889]\n",
      " [4.44444444 5.        ]]\n",
      "[0.         0.55555556 1.11111111 1.66666667 2.22222222 2.77777778\n",
      " 3.33333333 3.88888889 4.44444444 5.        ]\n"
     ]
    }
   ],
   "source": [
    "\n",
    "vec4 = np.linspace(0,5,10)\n",
    "print(vec4)\n",
    "print('')\n",
    "print(vec4.reshape(5,2))\n",
    "vec4_reshaped = vec4.reshape(5,2)\n",
    "print(vec4_reshaped)\n",
    "print(vec4)"
   ]
  },
  {
   "cell_type": "code",
   "execution_count": null,
   "metadata": {},
   "outputs": [],
   "source": [
    "mat2 = np.zeros([5,3])\n",
    "print(mat2)\n",
    "mat3 = np.ones((3,5))\n",
    "print('')\n",
    "print(mat3)\n",
    "mat4 = np.eye(5)\n",
    "print('')\n",
    "print(mat4)"
   ]
  },
  {
   "cell_type": "code",
   "execution_count": 16,
   "metadata": {},
   "outputs": [
    {
     "name": "stdout",
     "output_type": "stream",
     "text": [
      "[1 2 3 4 5]\n",
      "[3 4 5 6 7]\n",
      "[ 4  6  8 10 12]\n",
      "[ 3  8 15 24 35]\n",
      "[1.         0.5        0.33333333 0.25       0.2       ]\n",
      "[1.73205081 2.         2.23606798 2.44948974 2.64575131]\n"
     ]
    }
   ],
   "source": [
    "# we can +-*/ arrays together if they're the right size\n",
    "vec5 = np.arange(1,6)\n",
    "vec6 = np.arange(3,8)\n",
    "print(vec5)\n",
    "print(vec6)\n",
    "print(vec5+vec6)\n",
    "print(vec5*vec6)\n",
    "print(1/vec5)\n",
    "print(np.sqrt(vec6))"
   ]
  },
  {
   "cell_type": "code",
   "execution_count": 17,
   "metadata": {},
   "outputs": [
    {
     "name": "stdout",
     "output_type": "stream",
     "text": [
      "[[1 2 1]\n",
      " [4 5 9]\n",
      " [1 8 9]]\n",
      "\n",
      "[1 2 3]\n",
      "\n",
      "[ 8 41 44]\n"
     ]
    }
   ],
   "source": [
    "# we can do matrix multiplication\n",
    "print(mat)\n",
    "print('')\n",
    "print(vec)\n",
    "print()\n",
    "product = np.matmul(mat,vec)\n",
    "print(product)"
   ]
  },
  {
   "cell_type": "code",
   "execution_count": 18,
   "metadata": {},
   "outputs": [
    {
     "name": "stdout",
     "output_type": "stream",
     "text": [
      "[1. 2. 3.]\n",
      "\n",
      "[[ 0.5         0.18518519 -0.24074074]\n",
      " [ 0.5        -0.14814815  0.09259259]\n",
      " [-0.5         0.11111111  0.05555556]]\n"
     ]
    }
   ],
   "source": [
    "print(np.linalg.solve(mat,product))\n",
    "print('')\n",
    "print(np.linalg.inv(mat))"
   ]
  },
  {
   "cell_type": "code",
   "execution_count": 19,
   "metadata": {},
   "outputs": [
    {
     "name": "stdout",
     "output_type": "stream",
     "text": [
      "['blue' 'red' 'orange' 'purple' 'purple' 'orange' 'Red' '6']\n",
      "['6' 'Red' 'blue' 'orange' 'purple' 'red']\n"
     ]
    }
   ],
   "source": [
    "# we can find the unique values in an array\n",
    "vec7 = np.array(['blue','red','orange','purple','purple','orange','Red',6])\n",
    "print(vec7)\n",
    "print(np.unique(vec7))"
   ]
  },
  {
   "cell_type": "code",
   "execution_count": 20,
   "metadata": {},
   "outputs": [
    {
     "name": "stdout",
     "output_type": "stream",
     "text": [
      "[[0.61744586 0.18122184 0.60966715 0.91365624 0.10568396]\n",
      " [0.51365019 0.2443462  0.95530232 0.49960178 0.96246691]\n",
      " [0.52641202 0.39251557 0.62343756 0.48534275 0.71398375]\n",
      " [0.46431969 0.86645077 0.42770083 0.76696982 0.70795776]\n",
      " [0.25747303 0.17253028 0.58549242 0.7618755  0.9677564 ]]\n",
      "\n",
      "[[ 1.70566706  0.57211391  0.83527956  0.31168436  0.21611569]\n",
      " [ 0.13353359 -0.41664079 -0.91315263  1.22307725 -1.43301058]\n",
      " [ 0.74010181 -0.36853813 -0.42864059  0.00983069  0.20957799]\n",
      " [ 0.77557668 -1.77988888  1.62575069 -0.55287984  1.49807495]\n",
      " [ 0.30790242  0.47555602 -0.69109321 -0.06361602 -0.61321814]\n",
      " [-0.66980003  0.33595702  1.10153074 -0.32710196 -0.30436546]\n",
      " [-0.20146153  0.67201027  0.40937048  1.47879843 -0.52279615]\n",
      " [-0.77143157  1.06779053  0.49219953 -0.41958699 -0.46380803]\n",
      " [ 0.12386753 -0.57977248  0.56762825  2.34782869 -0.74631371]\n",
      " [ 0.93254388 -0.63967321  0.54252733 -1.48570265 -0.63954847]]\n"
     ]
    }
   ],
   "source": [
    "# we can also use numpy to generate samples of a random variable\n",
    "rand_mat = np.random.rand(5,5) # uniform random variable\n",
    "print(rand_mat)\n",
    "rand_mat2 = np.random.randn(10,5) # standard normal random variable\n",
    "print('')\n",
    "print(rand_mat2)"
   ]
  },
  {
   "cell_type": "code",
   "execution_count": 22,
   "metadata": {},
   "outputs": [
    {
     "name": "stdout",
     "output_type": "stream",
     "text": [
      "0.572930425558127\n",
      "0.865513959744913\n"
     ]
    }
   ],
   "source": [
    "# we can also use numpy for statistical tools on arrays\n",
    "print(np.mean(rand_mat))\n",
    "print(np.std(rand_mat2))"
   ]
  },
  {
   "cell_type": "code",
   "execution_count": 23,
   "metadata": {},
   "outputs": [
    {
     "name": "stdout",
     "output_type": "stream",
     "text": [
      "0.10568395723850221\n",
      "2.347828692748773\n"
     ]
    }
   ],
   "source": [
    "print(np.min(rand_mat))\n",
    "print(np.max(rand_mat2))"
   ]
  },
  {
   "cell_type": "code",
   "execution_count": null,
   "metadata": {},
   "outputs": [],
   "source": [
    "# break here for next video!"
   ]
  },
  {
   "cell_type": "code",
   "execution_count": 24,
   "metadata": {},
   "outputs": [
    {
     "name": "stdout",
     "output_type": "stream",
     "text": [
      "[-1.59139735e+00  1.48048588e-01  1.41157823e+00 -3.82694740e-01\n",
      " -4.74842393e-01  1.13363368e-03  5.15207617e-01  1.25809537e+00\n",
      " -4.68289821e-02  2.54659931e-01 -9.27627585e-02 -2.38235517e-01\n",
      " -3.31820927e-02 -7.18692220e-02  4.70952369e-01 -1.45902891e-02\n",
      "  6.12536297e-01 -2.39705746e-01  1.74835574e-01]\n",
      "0.5152076170504933\n"
     ]
    }
   ],
   "source": [
    "# how do we access entries in a numpy vector\n",
    "rand_vec = np.random.randn(19)\n",
    "print(rand_vec)\n",
    "print(rand_vec[6])"
   ]
  },
  {
   "cell_type": "code",
   "execution_count": 25,
   "metadata": {},
   "outputs": [
    {
     "name": "stdout",
     "output_type": "stream",
     "text": [
      "[-4.74842393e-01  1.13363368e-03  5.15207617e-01  1.25809537e+00\n",
      " -4.68289821e-02]\n"
     ]
    }
   ],
   "source": [
    "# we can access multiple entries at once using :\n",
    "print(rand_vec[4:9])"
   ]
  },
  {
   "cell_type": "code",
   "execution_count": 26,
   "metadata": {},
   "outputs": [
    {
     "name": "stdout",
     "output_type": "stream",
     "text": [
      "[ 0  3  6  9 12]\n",
      "[-1.59139735 -0.38269474  0.51520762  0.25465993 -0.03318209]\n"
     ]
    }
   ],
   "source": [
    "# we can also access multiple non-consecutive entries using np.arange\n",
    "print(np.arange(0,15,3))\n",
    "print(rand_vec[np.arange(0,15,3)])"
   ]
  },
  {
   "cell_type": "code",
   "execution_count": 27,
   "metadata": {},
   "outputs": [
    {
     "name": "stdout",
     "output_type": "stream",
     "text": [
      "[[0.61744586 0.18122184 0.60966715 0.91365624 0.10568396]\n",
      " [0.51365019 0.2443462  0.95530232 0.49960178 0.96246691]\n",
      " [0.52641202 0.39251557 0.62343756 0.48534275 0.71398375]\n",
      " [0.46431969 0.86645077 0.42770083 0.76696982 0.70795776]\n",
      " [0.25747303 0.17253028 0.58549242 0.7618755  0.9677564 ]]\n",
      "0.9553023249563669\n",
      "0.9553023249563669\n"
     ]
    }
   ],
   "source": [
    "# what about matrices\n",
    "print(rand_mat)\n",
    "print(rand_mat[1][2])\n",
    "print(rand_mat[1,2])\n"
   ]
  },
  {
   "cell_type": "code",
   "execution_count": 28,
   "metadata": {},
   "outputs": [
    {
     "name": "stdout",
     "output_type": "stream",
     "text": [
      "[[0.18122184 0.60966715]\n",
      " [0.2443462  0.95530232]]\n"
     ]
    }
   ],
   "source": [
    "print(rand_mat[0:2,1:3])"
   ]
  },
  {
   "cell_type": "code",
   "execution_count": 29,
   "metadata": {},
   "outputs": [
    {
     "name": "stdout",
     "output_type": "stream",
     "text": [
      "[-1.59139735e+00  1.48048588e-01  1.41157823e+00 -3.82694740e-01\n",
      " -4.74842393e-01  1.13363368e-03  5.15207617e-01  1.25809537e+00\n",
      " -4.68289821e-02  2.54659931e-01 -9.27627585e-02 -2.38235517e-01\n",
      " -3.31820927e-02 -7.18692220e-02  4.70952369e-01 -1.45902891e-02\n",
      "  6.12536297e-01 -2.39705746e-01  1.74835574e-01]\n",
      "\n",
      "[-1.59139735e+00  1.48048588e-01  1.41157823e+00  4.00000000e+00\n",
      "  4.00000000e+00  1.13363368e-03  5.15207617e-01  1.25809537e+00\n",
      " -4.68289821e-02  2.54659931e-01 -9.27627585e-02 -2.38235517e-01\n",
      " -3.31820927e-02 -7.18692220e-02  4.70952369e-01 -1.45902891e-02\n",
      "  6.12536297e-01 -2.39705746e-01  1.74835574e-01]\n",
      "\n",
      "[-1.59139735e+00  1.48048588e-01  1.41157823e+00  1.00000000e+00\n",
      "  2.00000000e+00  1.13363368e-03  5.15207617e-01  1.25809537e+00\n",
      " -4.68289821e-02  2.54659931e-01 -9.27627585e-02 -2.38235517e-01\n",
      " -3.31820927e-02 -7.18692220e-02  4.70952369e-01 -1.45902891e-02\n",
      "  6.12536297e-01 -2.39705746e-01  1.74835574e-01]\n"
     ]
    }
   ],
   "source": [
    "# let's change some values in an array!\n",
    "print(rand_vec)\n",
    "rand_vec[3:5] = 4\n",
    "print('')\n",
    "print(rand_vec)\n",
    "rand_vec[3:5] = [1,2]\n",
    "print('')\n",
    "print(rand_vec)"
   ]
  },
  {
   "cell_type": "code",
   "execution_count": 30,
   "metadata": {},
   "outputs": [
    {
     "name": "stdout",
     "output_type": "stream",
     "text": [
      "[[0.61744586 0.18122184 0.60966715 0.91365624 0.10568396]\n",
      " [0.51365019 0.2443462  0.95530232 0.49960178 0.96246691]\n",
      " [0.52641202 0.39251557 0.62343756 0.48534275 0.71398375]\n",
      " [0.46431969 0.86645077 0.42770083 0.76696982 0.70795776]\n",
      " [0.25747303 0.17253028 0.58549242 0.7618755  0.9677564 ]]\n",
      "\n",
      "[[0.61744586 0.18122184 0.60966715 0.91365624 0.10568396]\n",
      " [0.51365019 0.2443462  0.95530232 0.         0.        ]\n",
      " [0.52641202 0.39251557 0.62343756 0.         0.        ]\n",
      " [0.46431969 0.86645077 0.42770083 0.76696982 0.70795776]\n",
      " [0.25747303 0.17253028 0.58549242 0.7618755  0.9677564 ]]\n"
     ]
    }
   ],
   "source": [
    "print(rand_mat)\n",
    "rand_mat[1:3,3:5] = 0\n",
    "print('')\n",
    "print(rand_mat)"
   ]
  },
  {
   "cell_type": "code",
   "execution_count": 31,
   "metadata": {},
   "outputs": [
    {
     "name": "stdout",
     "output_type": "stream",
     "text": [
      "[[0.61744586 0.18122184 0.60966715]\n",
      " [0.51365019 0.2443462  0.95530232]]\n",
      "[[3. 3. 3.]\n",
      " [3. 3. 3.]]\n"
     ]
    }
   ],
   "source": [
    "sub_mat = rand_mat[0:2,0:3]\n",
    "print(sub_mat)\n",
    "sub_mat[:] = 3\n",
    "print(sub_mat)\n"
   ]
  },
  {
   "cell_type": "code",
   "execution_count": 32,
   "metadata": {},
   "outputs": [
    {
     "name": "stdout",
     "output_type": "stream",
     "text": [
      "[[3.         3.         3.         0.91365624 0.10568396]\n",
      " [3.         3.         3.         0.         0.        ]\n",
      " [0.52641202 0.39251557 0.62343756 0.         0.        ]\n",
      " [0.46431969 0.86645077 0.42770083 0.76696982 0.70795776]\n",
      " [0.25747303 0.17253028 0.58549242 0.7618755  0.9677564 ]]\n"
     ]
    }
   ],
   "source": [
    "print(rand_mat)"
   ]
  },
  {
   "cell_type": "code",
   "execution_count": 33,
   "metadata": {},
   "outputs": [
    {
     "name": "stdout",
     "output_type": "stream",
     "text": [
      "[[99. 99. 99.]\n",
      " [99. 99. 99.]]\n",
      "[[3.         3.         3.         0.91365624 0.10568396]\n",
      " [3.         3.         3.         0.         0.        ]\n",
      " [0.52641202 0.39251557 0.62343756 0.         0.        ]\n",
      " [0.46431969 0.86645077 0.42770083 0.76696982 0.70795776]\n",
      " [0.25747303 0.17253028 0.58549242 0.7618755  0.9677564 ]]\n"
     ]
    }
   ],
   "source": [
    "sub_mat2 = rand_mat[0:2,0:3].copy()\n",
    "sub_mat2[:] = 99\n",
    "print(sub_mat2)\n",
    "print(rand_mat)\n"
   ]
  },
  {
   "cell_type": "code",
   "execution_count": null,
   "metadata": {},
   "outputs": [],
   "source": [
    "# break here for next video"
   ]
  },
  {
   "cell_type": "code",
   "execution_count": 34,
   "metadata": {},
   "outputs": [
    {
     "name": "stdout",
     "output_type": "stream",
     "text": [
      "[ 0.57859293  1.15694496  0.0558618  -0.29413361 -1.43873521 -0.11072101\n",
      " -1.8672516   0.17632939 -0.22899149 -1.10786136 -0.53310949  1.82169176\n",
      " -0.6741655  -1.47402142 -0.20667006]\n",
      "[ True  True  True False False False False  True False False False  True\n",
      " False False False]\n",
      "[0.57859293 1.15694496 0.0558618  0.17632939 1.82169176]\n"
     ]
    }
   ],
   "source": [
    "# we can also access entries with logicals\n",
    "rand_vec = np.random.randn(15)\n",
    "\n",
    "print(rand_vec)\n",
    "print(rand_vec>0)\n",
    "print(rand_vec[rand_vec>0])"
   ]
  },
  {
   "cell_type": "code",
   "execution_count": 36,
   "metadata": {},
   "outputs": [
    {
     "name": "stdout",
     "output_type": "stream",
     "text": [
      "[[ 1.70566706  0.57211391  0.83527956  0.31168436  0.21611569]\n",
      " [ 0.13353359 -0.41664079 -0.91315263  1.22307725 -1.43301058]\n",
      " [ 0.74010181 -0.36853813 -0.42864059  0.00983069  0.20957799]\n",
      " [ 0.77557668 -1.77988888  1.62575069 -0.55287984  1.49807495]\n",
      " [ 0.30790242  0.47555602 -0.69109321 -0.06361602 -0.61321814]\n",
      " [-0.66980003  0.33595702  1.10153074 -0.32710196 -0.30436546]\n",
      " [-0.20146153  0.67201027  0.40937048  1.47879843 -0.52279615]\n",
      " [-0.77143157  1.06779053  0.49219953 -0.41958699 -0.46380803]\n",
      " [ 0.12386753 -0.57977248  0.56762825  2.34782869 -0.74631371]\n",
      " [ 0.93254388 -0.63967321  0.54252733 -1.48570265 -0.63954847]]\n",
      "[1.70566706 0.57211391 0.83527956 0.31168436 0.21611569 0.13353359\n",
      " 1.22307725 0.74010181 0.00983069 0.20957799 0.77557668 1.62575069\n",
      " 1.49807495 0.30790242 0.47555602 0.33595702 1.10153074 0.67201027\n",
      " 0.40937048 1.47879843 1.06779053 0.49219953 0.12386753 0.56762825\n",
      " 2.34782869 0.93254388 0.54252733]\n"
     ]
    }
   ],
   "source": [
    "print(rand_mat2)\n",
    "print(rand_mat2[rand_mat2>0])"
   ]
  },
  {
   "cell_type": "code",
   "execution_count": 37,
   "metadata": {},
   "outputs": [
    {
     "name": "stdout",
     "output_type": "stream",
     "text": [
      "[ 0.57859293  1.15694496  0.0558618  -0.29413361 -1.43873521 -0.11072101\n",
      " -1.8672516   0.17632939 -0.22899149 -1.10786136 -0.53310949  1.82169176\n",
      " -0.6741655  -1.47402142 -0.20667006]\n",
      "\n",
      "[-5.         -5.          0.0558618  -0.29413361 -1.43873521 -0.11072101\n",
      " -1.8672516   0.17632939 -0.22899149 -1.10786136 -0.53310949 -5.\n",
      " -0.6741655  -1.47402142 -0.20667006]\n"
     ]
    }
   ],
   "source": [
    "\n",
    "print(rand_vec)\n",
    "print('')\n",
    "rand_vec[rand_vec>0.5] = -5\n",
    "print(rand_vec)"
   ]
  },
  {
   "cell_type": "code",
   "execution_count": 38,
   "metadata": {},
   "outputs": [],
   "source": [
    "# let's save some arrays on the disk for use later!\n",
    "np.save('saved_file_name',rand_mat2)\n"
   ]
  },
  {
   "cell_type": "code",
   "execution_count": 39,
   "metadata": {},
   "outputs": [],
   "source": [
    "np.savez('zipped_file_name',rand_mat=rand_mat,rand_mat2=rand_mat2)"
   ]
  },
  {
   "cell_type": "code",
   "execution_count": 41,
   "metadata": {},
   "outputs": [
    {
     "name": "stdout",
     "output_type": "stream",
     "text": [
      "[[ 1.70566706  0.57211391  0.83527956  0.31168436  0.21611569]\n",
      " [ 0.13353359 -0.41664079 -0.91315263  1.22307725 -1.43301058]\n",
      " [ 0.74010181 -0.36853813 -0.42864059  0.00983069  0.20957799]\n",
      " [ 0.77557668 -1.77988888  1.62575069 -0.55287984  1.49807495]\n",
      " [ 0.30790242  0.47555602 -0.69109321 -0.06361602 -0.61321814]\n",
      " [-0.66980003  0.33595702  1.10153074 -0.32710196 -0.30436546]\n",
      " [-0.20146153  0.67201027  0.40937048  1.47879843 -0.52279615]\n",
      " [-0.77143157  1.06779053  0.49219953 -0.41958699 -0.46380803]\n",
      " [ 0.12386753 -0.57977248  0.56762825  2.34782869 -0.74631371]\n",
      " [ 0.93254388 -0.63967321  0.54252733 -1.48570265 -0.63954847]]\n",
      "\n",
      "<numpy.lib.npyio.NpzFile object at 0x0000021108732C48>\n"
     ]
    }
   ],
   "source": [
    "# now let's load it\n",
    "loaded_vec = np.load('saved_file_name.npy')\n",
    "loaded_zip = np.load('zipped_file_name.npz')\n",
    "\n",
    "print(loaded_vec)\n",
    "print('')\n",
    "print(loaded_zip)"
   ]
  },
  {
   "cell_type": "code",
   "execution_count": null,
   "metadata": {},
   "outputs": [],
   "source": [
    "print(loaded_zip['rand_mat'])\n",
    "print('')\n",
    "print(loaded_zip['rand_mat2'])\n",
    "\n",
    "new_array  = loaded_zip['rand_mat']\n",
    "print(new_array)"
   ]
  },
  {
   "cell_type": "code",
   "execution_count": 42,
   "metadata": {},
   "outputs": [
    {
     "name": "stdout",
     "output_type": "stream",
     "text": [
      "[[3.         3.         3.         0.91365624 0.10568396]\n",
      " [3.         3.         3.         0.         0.        ]\n",
      " [0.52641202 0.39251557 0.62343756 0.         0.        ]\n",
      " [0.46431969 0.86645077 0.42770083 0.76696982 0.70795776]\n",
      " [0.25747303 0.17253028 0.58549242 0.7618755  0.9677564 ]]\n",
      "\n",
      "[[3.         3.         3.         0.91365624 0.10568396]\n",
      " [3.         3.         3.         0.         0.        ]\n",
      " [0.52641202 0.39251557 0.62343756 0.         0.        ]\n",
      " [0.46431969 0.86645077 0.42770083 0.76696982 0.70795776]\n",
      " [0.25747303 0.17253028 0.58549242 0.7618755  0.9677564 ]]\n"
     ]
    }
   ],
   "source": [
    "# we can also save/load as text files...but only single variables\n",
    "np.savetxt('text_file_name.txt',rand_mat,delimiter=',')\n",
    "rand_mat_txt = np.loadtxt('text_file_name.txt',delimiter=',')\n",
    "print(rand_mat)\n",
    "print('')\n",
    "print(rand_mat_txt)"
   ]
  },
  {
   "cell_type": "code",
   "execution_count": null,
   "metadata": {},
   "outputs": [],
   "source": []
  }
 ],
 "metadata": {
  "kernelspec": {
   "display_name": "Python 3",
   "language": "python",
   "name": "python3"
  },
  "language_info": {
   "codemirror_mode": {
    "name": "ipython",
    "version": 3
   },
   "file_extension": ".py",
   "mimetype": "text/x-python",
   "name": "python",
   "nbconvert_exporter": "python",
   "pygments_lexer": "ipython3",
   "version": "3.7.6"
  }
 },
 "nbformat": 4,
 "nbformat_minor": 2
}
