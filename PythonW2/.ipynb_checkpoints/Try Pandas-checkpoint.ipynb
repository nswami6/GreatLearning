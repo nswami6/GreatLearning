{
 "cells": [
  {
   "cell_type": "code",
   "execution_count": null,
   "metadata": {},
   "outputs": [],
   "source": [
    "import numpy as np\n",
    "import pandas as pd"
   ]
  },
  {
   "cell_type": "code",
   "execution_count": null,
   "metadata": {},
   "outputs": [],
   "source": [
    "b=np.arange(12).reshape(3,4)\n",
    "print(b)\n",
    "print(b.sum(axis=0))"
   ]
  },
  {
   "cell_type": "code",
   "execution_count": null,
   "metadata": {},
   "outputs": [],
   "source": [
    "B=np.arange(3)\n",
    "print(B)\n",
    "# print( np.exp(B))\n",
    "# print(np.sqrt(B))\n",
    "C=np.array([2.,-1.,4.])\n",
    "print(C)\n",
    "print(B+C)\n",
    "# print(np.add(B,C))\n",
    "\n",
    "a=np.ndarray \n",
    "a=np.array([[1,2,3]])\n",
    "print(a**3)\n"
   ]
  },
  {
   "cell_type": "code",
   "execution_count": null,
   "metadata": {},
   "outputs": [],
   "source": []
  },
  {
   "cell_type": "code",
   "execution_count": null,
   "metadata": {},
   "outputs": [],
   "source": [
    "town=\"town\"\n",
    "code=\"code\"\n",
    "df1 = pd.DataFrame(\n",
    "        { town:['Adyar','Tiruvanmiyur','perambur','medavakkam','urapakkam','vandalur'],\n",
    "     code:['a','b','c','d','e','f']})\n",
    "#\n",
    "ser1=pd.Series(['R1 Puram','R2 puram','r3 puram','r4 puram','r5 puram','r6 puram'])\n",
    "ser2=pd.Series([10,20,30,40,50,60])\n",
    "df2 = pd.DataFrame({\"town\":ser1, \"code\":ser2})\n",
    "print(df1)\n",
    "print(ser1)\n",
    "print(ser2)\n",
    "print(df2)"
   ]
  },
  {
   "cell_type": "code",
   "execution_count": null,
   "metadata": {},
   "outputs": [],
   "source": [
    "# print('df1 \\n',df1,'\\n df2 \\n',df2,'\\ndf1,2 outer merge \\n',  pd.DataFrame.merge(df1,df2,\"outer\",on='town'))\n",
    "\n",
    "# print('df1,2 inner merge \\n',pd.DataFrame.merge(df1,df2,how=\"inner\",on='town'))\n",
    "\n",
    "df3=pd.DataFrame.merge(df1,df2,how='outer',left_on='town', right_on='town')\n",
    "print('df1 \\n', df1)\n",
    "print('df2 \\n', df2)\n",
    "df2=pd.concat([df1,df2]).copy()\n",
    "# df3.set_index(\"town\")\n",
    "# df2.set_index(\"town\")\n",
    "print('df2 after concat\\n', df2)\n",
    "print('df3 \\n', df3)\n",
    " \n",
    "print('df2 iloc\\n', df2.iloc[:][1:])\n",
    "print('df1 \\n', df1)\n",
    "df4=pd.DataFrame.join(df1,df2,df3.iloc[:,0:1])\n",
    "print('df4 \\n',df4) \n",
    "# print('iloc \"\\n\"',df4.iloc[2])"
   ]
  },
  {
   "cell_type": "code",
   "execution_count": null,
   "metadata": {},
   "outputs": [],
   "source": []
  }
 ],
 "metadata": {
  "kernelspec": {
   "display_name": "Python 3",
   "language": "python",
   "name": "python3"
  },
  "language_info": {
   "codemirror_mode": {
    "name": "ipython",
    "version": 3
   },
   "file_extension": ".py",
   "mimetype": "text/x-python",
   "name": "python",
   "nbconvert_exporter": "python",
   "pygments_lexer": "ipython3",
   "version": "3.7.6"
  }
 },
 "nbformat": 4,
 "nbformat_minor": 4
}
