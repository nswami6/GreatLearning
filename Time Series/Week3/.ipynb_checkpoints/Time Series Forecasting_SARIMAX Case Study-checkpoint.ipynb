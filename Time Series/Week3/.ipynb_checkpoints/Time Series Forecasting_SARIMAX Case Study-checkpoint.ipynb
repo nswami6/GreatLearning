{
 "cells": [
  {
   "cell_type": "code",
   "execution_count": 1,
   "metadata": {
    "ExecuteTime": {
     "end_time": "2020-05-29T09:40:59.373715Z",
     "start_time": "2020-05-29T09:40:56.363413Z"
    },
    "colab": {
     "base_uri": "https://localhost:8080/",
     "height": 71
    },
    "colab_type": "code",
    "id": "d8PFoEDn1Jxf",
    "outputId": "bc499fd3-96af-4790-fa03-5c7729c963f1"
   },
   "outputs": [
    {
     "name": "stderr",
     "output_type": "stream",
     "text": [
      "D:\\Anaconda\\lib\\site-packages\\ipykernel_launcher.py:5: FutureWarning: The pandas.datetime class is deprecated and will be removed from pandas in a future version. Import from datetime module instead.\n",
      "  \"\"\"\n"
     ]
    }
   ],
   "source": [
    "# loading packages\n",
    "# basic + dates \n",
    "import numpy as np\n",
    "import pandas as pd\n",
    "from pandas import datetime\n",
    "\n",
    "# data visualization\n",
    "import matplotlib.pyplot as plt\n",
    "import seaborn as sns # advanced vizs\n",
    "%matplotlib inline\n",
    "\n",
    "# statistics\n",
    "from statsmodels.distributions.empirical_distribution import ECDF\n",
    "\n",
    "# time series analysis\n",
    "from statsmodels.tsa.seasonal import seasonal_decompose\n",
    "from statsmodels.graphics.tsaplots import plot_acf, plot_pacf\n",
    "\n",
    "import warnings\n",
    "warnings.filterwarnings(\"ignore\")"
   ]
  },
  {
   "cell_type": "markdown",
   "metadata": {
    "colab_type": "text",
    "id": "LSN6gKO31JxX"
   },
   "source": [
    "Store id \n",
    "Day of Week \n",
    "Date\n",
    "Customers: the number of customers on a given day.(Target Variable)\n",
    "Open: an indicator for whether the store was open: 0 = closed, 1 = open.\n",
    "Promo: indicates whether a store is running a promo on that day.\n",
    "StateHoliday: indicates a state holiday. Normally all stores, with few exceptions, are closed on state holidays. This has value as \"0\", \"a\", \"b\", \"c\"\n",
    "SchoolHoliday: indicates if the (Store, Date) was affected by the closure of public schools.\n"
   ]
  },
  {
   "cell_type": "code",
   "execution_count": 2,
   "metadata": {
    "ExecuteTime": {
     "end_time": "2020-05-29T09:41:13.495394Z",
     "start_time": "2020-05-29T09:40:59.377973Z"
    },
    "colab": {},
    "colab_type": "code",
    "id": "bksFCfWS1Jxs"
   },
   "outputs": [],
   "source": [
    "# importing data\n",
    "import os\n",
    "os.chdir('D:/Academic Operations/DSBA - Python/Online/Time Series Forecasting/ARIMAX Case Study/Final')\n",
    "\n",
    "Store50 = pd.read_excel(\"Store_50.xlsx\", parse_dates = True, index_col = 'Date')"
   ]
  },
  {
   "cell_type": "code",
   "execution_count": 3,
   "metadata": {
    "ExecuteTime": {
     "end_time": "2020-05-29T09:41:13.536975Z",
     "start_time": "2020-05-29T09:41:13.500975Z"
    },
    "colab": {
     "base_uri": "https://localhost:8080/",
     "height": 235
    },
    "colab_type": "code",
    "id": "8kqBDtZQ1Jx6",
    "outputId": "fb3553bc-1fed-4da2-99d5-dff6b75c6111"
   },
   "outputs": [
    {
     "data": {
      "text/html": [
       "<div>\n",
       "<style scoped>\n",
       "    .dataframe tbody tr th:only-of-type {\n",
       "        vertical-align: middle;\n",
       "    }\n",
       "\n",
       "    .dataframe tbody tr th {\n",
       "        vertical-align: top;\n",
       "    }\n",
       "\n",
       "    .dataframe thead th {\n",
       "        text-align: right;\n",
       "    }\n",
       "</style>\n",
       "<table border=\"1\" class=\"dataframe\">\n",
       "  <thead>\n",
       "    <tr style=\"text-align: right;\">\n",
       "      <th></th>\n",
       "      <th>Store</th>\n",
       "      <th>Day Of Week</th>\n",
       "      <th>Customers</th>\n",
       "      <th>Open</th>\n",
       "      <th>Promotion</th>\n",
       "      <th>State Holiday</th>\n",
       "      <th>School Holiday</th>\n",
       "    </tr>\n",
       "    <tr>\n",
       "      <th>Date</th>\n",
       "      <th></th>\n",
       "      <th></th>\n",
       "      <th></th>\n",
       "      <th></th>\n",
       "      <th></th>\n",
       "      <th></th>\n",
       "      <th></th>\n",
       "    </tr>\n",
       "  </thead>\n",
       "  <tbody>\n",
       "    <tr>\n",
       "      <th>2016-05-31</th>\n",
       "      <td>1044</td>\n",
       "      <td>1</td>\n",
       "      <td>884</td>\n",
       "      <td>1</td>\n",
       "      <td>1</td>\n",
       "      <td>0</td>\n",
       "      <td>0</td>\n",
       "    </tr>\n",
       "    <tr>\n",
       "      <th>2016-05-31</th>\n",
       "      <td>1041</td>\n",
       "      <td>1</td>\n",
       "      <td>1032</td>\n",
       "      <td>1</td>\n",
       "      <td>1</td>\n",
       "      <td>0</td>\n",
       "      <td>1</td>\n",
       "    </tr>\n",
       "    <tr>\n",
       "      <th>2016-05-31</th>\n",
       "      <td>1036</td>\n",
       "      <td>1</td>\n",
       "      <td>1070</td>\n",
       "      <td>1</td>\n",
       "      <td>1</td>\n",
       "      <td>0</td>\n",
       "      <td>0</td>\n",
       "    </tr>\n",
       "    <tr>\n",
       "      <th>2016-05-31</th>\n",
       "      <td>1047</td>\n",
       "      <td>1</td>\n",
       "      <td>2043</td>\n",
       "      <td>1</td>\n",
       "      <td>1</td>\n",
       "      <td>0</td>\n",
       "      <td>0</td>\n",
       "    </tr>\n",
       "    <tr>\n",
       "      <th>2016-05-31</th>\n",
       "      <td>1012</td>\n",
       "      <td>1</td>\n",
       "      <td>1239</td>\n",
       "      <td>1</td>\n",
       "      <td>1</td>\n",
       "      <td>0</td>\n",
       "      <td>0</td>\n",
       "    </tr>\n",
       "  </tbody>\n",
       "</table>\n",
       "</div>"
      ],
      "text/plain": [
       "            Store  Day Of Week  Customers  Open  Promotion State Holiday  \\\n",
       "Date                                                                       \n",
       "2016-05-31   1044            1        884     1          1             0   \n",
       "2016-05-31   1041            1       1032     1          1             0   \n",
       "2016-05-31   1036            1       1070     1          1             0   \n",
       "2016-05-31   1047            1       2043     1          1             0   \n",
       "2016-05-31   1012            1       1239     1          1             0   \n",
       "\n",
       "            School Holiday  \n",
       "Date                        \n",
       "2016-05-31               0  \n",
       "2016-05-31               1  \n",
       "2016-05-31               0  \n",
       "2016-05-31               0  \n",
       "2016-05-31               0  "
      ]
     },
     "execution_count": 3,
     "metadata": {},
     "output_type": "execute_result"
    }
   ],
   "source": [
    "Store50.head()"
   ]
  },
  {
   "cell_type": "code",
   "execution_count": 4,
   "metadata": {
    "ExecuteTime": {
     "end_time": "2020-05-29T09:41:13.680476Z",
     "start_time": "2020-05-29T09:41:13.542078Z"
    }
   },
   "outputs": [
    {
     "name": "stdout",
     "output_type": "stream",
     "text": [
      "The number of rows:  43326 \n",
      "The number of columns:  7\n"
     ]
    }
   ],
   "source": [
    "print(\"The number of rows: \",Store50.shape[0], \"\\n\"\"The number of columns: \",Store50.shape[1])"
   ]
  },
  {
   "cell_type": "code",
   "execution_count": 5,
   "metadata": {
    "ExecuteTime": {
     "end_time": "2020-05-29T09:41:13.845220Z",
     "start_time": "2020-05-29T09:41:13.684152Z"
    }
   },
   "outputs": [],
   "source": [
    "Store50_1044 = Store50[Store50.Store == 1044]['Customers']. sort_index(ascending=True)"
   ]
  },
  {
   "cell_type": "code",
   "execution_count": 6,
   "metadata": {
    "ExecuteTime": {
     "end_time": "2020-05-29T09:41:13.990569Z",
     "start_time": "2020-05-29T09:41:13.849258Z"
    }
   },
   "outputs": [
    {
     "data": {
      "text/plain": [
       "Date\n",
       "2014-01-01      0\n",
       "2014-01-02    473\n",
       "2014-01-03    483\n",
       "2014-01-04      0\n",
       "2014-01-05      0\n",
       "Name: Customers, dtype: int64"
      ]
     },
     "execution_count": 6,
     "metadata": {},
     "output_type": "execute_result"
    }
   ],
   "source": [
    "Store50_1044.head()"
   ]
  },
  {
   "cell_type": "code",
   "execution_count": 7,
   "metadata": {
    "ExecuteTime": {
     "end_time": "2020-05-29T09:41:14.594614Z",
     "start_time": "2020-05-29T09:41:13.994974Z"
    },
    "colab": {
     "base_uri": "https://localhost:8080/",
     "height": 501
    },
    "colab_type": "code",
    "id": "KJMZqRrb1J3d",
    "outputId": "d0d6eda3-7e03-496b-d8df-0d5b994715f9"
   },
   "outputs": [
    {
     "data": {
      "image/png": "[encoded data removed]",
      "text/plain": [
       "<Figure size 864x576 with 1 Axes>"
      ]
     },
     "metadata": {
      "needs_background": "light"
     },
     "output_type": "display_data"
    }
   ],
   "source": [
    "plt.figure(figsize=(12,8))\n",
    "plot_acf(Store50_1044,lags=50,  ax=plt.gca())\n",
    "plt.show()"
   ]
  },
  {
   "cell_type": "code",
   "execution_count": 8,
   "metadata": {
    "ExecuteTime": {
     "end_time": "2020-05-29T09:41:15.156209Z",
     "start_time": "2020-05-29T09:41:14.599660Z"
    },
    "colab": {
     "base_uri": "https://localhost:8080/",
     "height": 501
    },
    "colab_type": "code",
    "id": "t5SPt6-g1J3l",
    "outputId": "e3ba8285-fb03-4dd0-b07c-72323f341f67"
   },
   "outputs": [
    {
     "data": {
      "image/png": "[encoded data removed]",
      "text/plain": [
       "<Figure size 864x576 with 1 Axes>"
      ]
     },
     "metadata": {
      "needs_background": "light"
     },
     "output_type": "display_data"
    }
   ],
   "source": [
    "plt.figure(figsize=(12,8))\n",
    "plot_pacf(Store50_1044, lags=50, ax=plt.gca())\n",
    "plt.show()"
   ]
  },
  {
   "cell_type": "code",
   "execution_count": 9,
   "metadata": {
    "ExecuteTime": {
     "end_time": "2020-05-29T09:41:15.172074Z",
     "start_time": "2020-05-29T09:41:15.162604Z"
    },
    "colab": {},
    "colab_type": "code",
    "id": "siN13Nqr1J3w"
   },
   "outputs": [],
   "source": [
    "## Seasonality after certain lags is visible. Every 7th day"
   ]
  },
  {
   "cell_type": "code",
   "execution_count": 10,
   "metadata": {
    "ExecuteTime": {
     "end_time": "2020-05-29T09:41:15.302046Z",
     "start_time": "2020-05-29T09:41:15.176124Z"
    }
   },
   "outputs": [],
   "source": [
    "### Data is being read again for model. This time no index is created while loading the data. First time when the data, index was used\n",
    "## so that specific Explortory Data Analysis can be done."
   ]
  },
  {
   "cell_type": "code",
   "execution_count": 11,
   "metadata": {
    "ExecuteTime": {
     "end_time": "2020-05-29T09:41:29.270582Z",
     "start_time": "2020-05-29T09:41:15.303043Z"
    },
    "colab": {},
    "colab_type": "code",
    "id": "rwyD7-pQ1J3-"
   },
   "outputs": [],
   "source": [
    "Store50 = pd.read_excel(\"Store_50.xlsx\",parse_dates=True)\n",
    "# Extract customers only for store 1044 and the model would be built for this customer \n",
    "Store50_1044 = Store50[Store50.Store == 1044]\n",
    "# reverse to the order: from 2013 to 2015\n",
    "Store50_1044 = Store50_1044.sort_index(ascending = False)\n",
    "\n"
   ]
  },
  {
   "cell_type": "code",
   "execution_count": 12,
   "metadata": {
    "ExecuteTime": {
     "end_time": "2020-05-29T09:41:29.310239Z",
     "start_time": "2020-05-29T09:41:29.270582Z"
    },
    "colab": {
     "base_uri": "https://localhost:8080/",
     "height": 204
    },
    "colab_type": "code",
    "id": "zlnlFZ4b1J4O",
    "outputId": "ab90c345-017d-4681-efb1-928e4bf56d1a"
   },
   "outputs": [
    {
     "data": {
      "text/html": [
       "<div>\n",
       "<style scoped>\n",
       "    .dataframe tbody tr th:only-of-type {\n",
       "        vertical-align: middle;\n",
       "    }\n",
       "\n",
       "    .dataframe tbody tr th {\n",
       "        vertical-align: top;\n",
       "    }\n",
       "\n",
       "    .dataframe thead th {\n",
       "        text-align: right;\n",
       "    }\n",
       "</style>\n",
       "<table border=\"1\" class=\"dataframe\">\n",
       "  <thead>\n",
       "    <tr style=\"text-align: right;\">\n",
       "      <th></th>\n",
       "      <th>Store</th>\n",
       "      <th>Day Of Week</th>\n",
       "      <th>Date</th>\n",
       "      <th>Customers</th>\n",
       "      <th>Open</th>\n",
       "      <th>Promotion</th>\n",
       "      <th>State Holiday</th>\n",
       "      <th>School Holiday</th>\n",
       "    </tr>\n",
       "  </thead>\n",
       "  <tbody>\n",
       "    <tr>\n",
       "      <th>43275</th>\n",
       "      <td>1044</td>\n",
       "      <td>2</td>\n",
       "      <td>2014-01-01 00:00:00</td>\n",
       "      <td>0</td>\n",
       "      <td>0</td>\n",
       "      <td>0</td>\n",
       "      <td>a</td>\n",
       "      <td>1</td>\n",
       "    </tr>\n",
       "    <tr>\n",
       "      <th>43224</th>\n",
       "      <td>1044</td>\n",
       "      <td>3</td>\n",
       "      <td>2014-02-01 00:00:00</td>\n",
       "      <td>481</td>\n",
       "      <td>1</td>\n",
       "      <td>0</td>\n",
       "      <td>0</td>\n",
       "      <td>1</td>\n",
       "    </tr>\n",
       "    <tr>\n",
       "      <th>43173</th>\n",
       "      <td>1044</td>\n",
       "      <td>4</td>\n",
       "      <td>2014-03-01 00:00:00</td>\n",
       "      <td>453</td>\n",
       "      <td>1</td>\n",
       "      <td>0</td>\n",
       "      <td>0</td>\n",
       "      <td>1</td>\n",
       "    </tr>\n",
       "    <tr>\n",
       "      <th>43122</th>\n",
       "      <td>1044</td>\n",
       "      <td>5</td>\n",
       "      <td>2014-04-01 00:00:00</td>\n",
       "      <td>497</td>\n",
       "      <td>1</td>\n",
       "      <td>0</td>\n",
       "      <td>0</td>\n",
       "      <td>1</td>\n",
       "    </tr>\n",
       "    <tr>\n",
       "      <th>43071</th>\n",
       "      <td>1044</td>\n",
       "      <td>6</td>\n",
       "      <td>2014-05-01 00:00:00</td>\n",
       "      <td>450</td>\n",
       "      <td>1</td>\n",
       "      <td>0</td>\n",
       "      <td>0</td>\n",
       "      <td>0</td>\n",
       "    </tr>\n",
       "  </tbody>\n",
       "</table>\n",
       "</div>"
      ],
      "text/plain": [
       "       Store  Day Of Week                 Date  Customers  Open  Promotion  \\\n",
       "43275   1044            2  2014-01-01 00:00:00          0     0          0   \n",
       "43224   1044            3  2014-02-01 00:00:00        481     1          0   \n",
       "43173   1044            4  2014-03-01 00:00:00        453     1          0   \n",
       "43122   1044            5  2014-04-01 00:00:00        497     1          0   \n",
       "43071   1044            6  2014-05-01 00:00:00        450     1          0   \n",
       "\n",
       "      State Holiday  School Holiday  \n",
       "43275             a               1  \n",
       "43224             0               1  \n",
       "43173             0               1  \n",
       "43122             0               1  \n",
       "43071             0               0  "
      ]
     },
     "execution_count": 12,
     "metadata": {},
     "output_type": "execute_result"
    }
   ],
   "source": [
    "Store50_1044.head()"
   ]
  },
  {
   "cell_type": "code",
   "execution_count": 13,
   "metadata": {
    "ExecuteTime": {
     "end_time": "2020-05-29T09:41:29.489035Z",
     "start_time": "2020-05-29T09:41:29.313234Z"
    },
    "colab": {},
    "colab_type": "code",
    "id": "qLANKBcX1J4a"
   },
   "outputs": [],
   "source": [
    "Store50_1044.rename(columns = {\"Day Of Week\": \"DayOfWeek\", \"State Holiday\":\"StateHoliday\",\"School Holiday\":\"SchoolHoliday\"}, \n",
    "                      inplace = True) "
   ]
  },
  {
   "cell_type": "code",
   "execution_count": 14,
   "metadata": {
    "ExecuteTime": {
     "end_time": "2020-05-29T09:41:29.776696Z",
     "start_time": "2020-05-29T09:41:29.493375Z"
    },
    "colab": {},
    "colab_type": "code",
    "id": "VKLzzqrG1J4l"
   },
   "outputs": [],
   "source": [
    "Store50_1044['Date'] = pd.to_datetime(Store50_1044['Date'])\n"
   ]
  },
  {
   "cell_type": "code",
   "execution_count": 15,
   "metadata": {
    "ExecuteTime": {
     "end_time": "2020-05-29T09:41:29.810327Z",
     "start_time": "2020-05-29T09:41:29.781877Z"
    },
    "colab": {},
    "colab_type": "code",
    "id": "f3uttVaZ1J4u"
   },
   "outputs": [],
   "source": [
    "Store50_1044['year']= Store50_1044['Date'].dt.year"
   ]
  },
  {
   "cell_type": "code",
   "execution_count": 16,
   "metadata": {
    "ExecuteTime": {
     "end_time": "2020-05-29T09:41:29.942381Z",
     "start_time": "2020-05-29T09:41:29.813358Z"
    },
    "colab": {
     "base_uri": "https://localhost:8080/",
     "height": 204
    },
    "colab_type": "code",
    "id": "i3FkqsoY1J45",
    "outputId": "f5530492-dea3-4aa2-dd7d-1fbe16d8a7ee"
   },
   "outputs": [
    {
     "data": {
      "text/html": [
       "<div>\n",
       "<style scoped>\n",
       "    .dataframe tbody tr th:only-of-type {\n",
       "        vertical-align: middle;\n",
       "    }\n",
       "\n",
       "    .dataframe tbody tr th {\n",
       "        vertical-align: top;\n",
       "    }\n",
       "\n",
       "    .dataframe thead th {\n",
       "        text-align: right;\n",
       "    }\n",
       "</style>\n",
       "<table border=\"1\" class=\"dataframe\">\n",
       "  <thead>\n",
       "    <tr style=\"text-align: right;\">\n",
       "      <th></th>\n",
       "      <th>Store</th>\n",
       "      <th>DayOfWeek</th>\n",
       "      <th>Date</th>\n",
       "      <th>Customers</th>\n",
       "      <th>Open</th>\n",
       "      <th>Promotion</th>\n",
       "      <th>StateHoliday</th>\n",
       "      <th>SchoolHoliday</th>\n",
       "      <th>year</th>\n",
       "    </tr>\n",
       "  </thead>\n",
       "  <tbody>\n",
       "    <tr>\n",
       "      <th>43275</th>\n",
       "      <td>1044</td>\n",
       "      <td>2</td>\n",
       "      <td>2014-01-01</td>\n",
       "      <td>0</td>\n",
       "      <td>0</td>\n",
       "      <td>0</td>\n",
       "      <td>a</td>\n",
       "      <td>1</td>\n",
       "      <td>2014</td>\n",
       "    </tr>\n",
       "    <tr>\n",
       "      <th>43224</th>\n",
       "      <td>1044</td>\n",
       "      <td>3</td>\n",
       "      <td>2014-02-01</td>\n",
       "      <td>481</td>\n",
       "      <td>1</td>\n",
       "      <td>0</td>\n",
       "      <td>0</td>\n",
       "      <td>1</td>\n",
       "      <td>2014</td>\n",
       "    </tr>\n",
       "    <tr>\n",
       "      <th>43173</th>\n",
       "      <td>1044</td>\n",
       "      <td>4</td>\n",
       "      <td>2014-03-01</td>\n",
       "      <td>453</td>\n",
       "      <td>1</td>\n",
       "      <td>0</td>\n",
       "      <td>0</td>\n",
       "      <td>1</td>\n",
       "      <td>2014</td>\n",
       "    </tr>\n",
       "    <tr>\n",
       "      <th>43122</th>\n",
       "      <td>1044</td>\n",
       "      <td>5</td>\n",
       "      <td>2014-04-01</td>\n",
       "      <td>497</td>\n",
       "      <td>1</td>\n",
       "      <td>0</td>\n",
       "      <td>0</td>\n",
       "      <td>1</td>\n",
       "      <td>2014</td>\n",
       "    </tr>\n",
       "    <tr>\n",
       "      <th>43071</th>\n",
       "      <td>1044</td>\n",
       "      <td>6</td>\n",
       "      <td>2014-05-01</td>\n",
       "      <td>450</td>\n",
       "      <td>1</td>\n",
       "      <td>0</td>\n",
       "      <td>0</td>\n",
       "      <td>0</td>\n",
       "      <td>2014</td>\n",
       "    </tr>\n",
       "  </tbody>\n",
       "</table>\n",
       "</div>"
      ],
      "text/plain": [
       "       Store  DayOfWeek       Date  Customers  Open  Promotion StateHoliday  \\\n",
       "43275   1044          2 2014-01-01          0     0          0            a   \n",
       "43224   1044          3 2014-02-01        481     1          0            0   \n",
       "43173   1044          4 2014-03-01        453     1          0            0   \n",
       "43122   1044          5 2014-04-01        497     1          0            0   \n",
       "43071   1044          6 2014-05-01        450     1          0            0   \n",
       "\n",
       "       SchoolHoliday  year  \n",
       "43275              1  2014  \n",
       "43224              1  2014  \n",
       "43173              1  2014  \n",
       "43122              1  2014  \n",
       "43071              0  2014  "
      ]
     },
     "execution_count": 16,
     "metadata": {},
     "output_type": "execute_result"
    }
   ],
   "source": [
    "Store50_1044.head()"
   ]
  },
  {
   "cell_type": "code",
   "execution_count": 17,
   "metadata": {
    "ExecuteTime": {
     "end_time": "2020-05-29T09:41:30.044313Z",
     "start_time": "2020-05-29T09:41:29.946373Z"
    },
    "colab": {},
    "colab_type": "code",
    "id": "kSh1TDQg1J5D"
   },
   "outputs": [],
   "source": [
    "train=Store50_1044[Store50_1044['year'] !=2016]\n",
    "test=Store50_1044[Store50_1044['year'] ==2016]"
   ]
  },
  {
   "cell_type": "code",
   "execution_count": 18,
   "metadata": {
    "ExecuteTime": {
     "end_time": "2020-05-29T09:41:30.143590Z",
     "start_time": "2020-05-29T09:41:30.045310Z"
    },
    "colab": {},
    "colab_type": "code",
    "id": "T27GFRRw1J5N"
   },
   "outputs": [],
   "source": [
    "train_mod=train[['Date','Customers']]\n",
    "test_mod=train[['Date','Customers']]"
   ]
  },
  {
   "cell_type": "code",
   "execution_count": 19,
   "metadata": {
    "ExecuteTime": {
     "end_time": "2020-05-29T09:41:30.295383Z",
     "start_time": "2020-05-29T09:41:30.147627Z"
    },
    "colab": {
     "base_uri": "https://localhost:8080/",
     "height": 51
    },
    "colab_type": "code",
    "id": "So15h7Me1J5c",
    "outputId": "b28f96dd-4f9e-4ead-ebac-69ff898e120b"
   },
   "outputs": [
    {
     "name": "stdout",
     "output_type": "stream",
     "text": [
      "(730, 9)\n",
      "(152, 9)\n"
     ]
    }
   ],
   "source": [
    "print(train.shape)\n",
    "print(test.shape)"
   ]
  },
  {
   "cell_type": "code",
   "execution_count": 20,
   "metadata": {
    "ExecuteTime": {
     "end_time": "2020-05-29T09:41:30.427519Z",
     "start_time": "2020-05-29T09:41:30.295383Z"
    },
    "colab": {},
    "colab_type": "code",
    "id": "RORbasuj1J5k"
   },
   "outputs": [],
   "source": [
    "## Test for stationarity of the series - Dicky Fuller test\n",
    "\n",
    "from statsmodels.tsa.stattools import adfuller\n",
    "def test_stationarity(timeseries):\n",
    "    \n",
    "    #Determing rolling statistics\n",
    "    rolmean = timeseries.rolling(window=7).mean()\n",
    "    rolstd = timeseries.rolling(window=7).std()\n",
    "\n",
    "    #Plot rolling statistics:\n",
    "    orig = plt.plot(timeseries, color='blue',label='Original')\n",
    "    mean = plt.plot(rolmean, color='red', label='Rolling Mean')\n",
    "    std = plt.plot(rolstd, color='black', label = 'Rolling Std')\n",
    "    plt.legend(loc='best')\n",
    "    plt.title('Rolling Mean & Standard Deviation')\n",
    "    plt.show(block=False)\n",
    "    \n",
    "    #Perform Dickey-Fuller test:\n",
    "    print ('Results of Dickey-Fuller Test:')\n",
    "    dftest = adfuller(timeseries, autolag='AIC')\n",
    "    dfoutput = pd.Series(dftest[0:4], index=['Test Statistic','p-value','#Lags Used','Number of Observations Used'])\n",
    "    for key,value in dftest[4].items():\n",
    "        dfoutput['Critical Value (%s)'%key] = value\n",
    "    print (dfoutput,'\\n')"
   ]
  },
  {
   "cell_type": "code",
   "execution_count": 21,
   "metadata": {
    "ExecuteTime": {
     "end_time": "2020-05-29T09:41:31.186925Z",
     "start_time": "2020-05-29T09:41:30.429518Z"
    },
    "colab": {
     "base_uri": "https://localhost:8080/",
     "height": 604
    },
    "colab_type": "code",
    "id": "gs-Lwhns1J5r",
    "outputId": "e5b1c4c8-7b00-438d-9d7d-cdf70c77ed42"
   },
   "outputs": [
    {
     "data": {
      "image/png": "[encoded data removed]",
      "text/plain": [
       "<Figure size 432x288 with 1 Axes>"
      ]
     },
     "metadata": {
      "needs_background": "light"
     },
     "output_type": "display_data"
    },
    {
     "name": "stdout",
     "output_type": "stream",
     "text": [
      "Results of Dickey-Fuller Test:\n",
      "Test Statistic                  -2.872975\n",
      "p-value                          0.048582\n",
      "#Lags Used                      20.000000\n",
      "Number of Observations Used    709.000000\n",
      "Critical Value (1%)             -3.439607\n",
      "Critical Value (5%)             -2.865625\n",
      "Critical Value (10%)            -2.568945\n",
      "dtype: float64 \n",
      "\n"
     ]
    }
   ],
   "source": [
    "test_stationarity(train['Customers'])"
   ]
  },
  {
   "cell_type": "code",
   "execution_count": 22,
   "metadata": {
    "ExecuteTime": {
     "end_time": "2020-05-29T09:41:31.202842Z",
     "start_time": "2020-05-29T09:41:31.188924Z"
    },
    "colab": {},
    "colab_type": "code",
    "id": "1yihHf6O1J5y"
   },
   "outputs": [],
   "source": [
    "## Series is stationary and hence no need for differentiation"
   ]
  },
  {
   "cell_type": "code",
   "execution_count": 23,
   "metadata": {
    "ExecuteTime": {
     "end_time": "2020-05-29T09:41:31.310014Z",
     "start_time": "2020-05-29T09:41:31.213362Z"
    },
    "colab": {
     "base_uri": "https://localhost:8080/",
     "height": 102
    },
    "colab_type": "code",
    "id": "GIhmfjrT1J54",
    "outputId": "504a2fc5-60ff-4bc0-ede5-fc45ec7fe7b8"
   },
   "outputs": [
    {
     "name": "stdout",
     "output_type": "stream",
     "text": [
      "Examples of parameter combinations for Model...\n",
      "Model: (0, 0, 1)(0, 0, 1, 7)\n",
      "Model: (0, 0, 1)(0, 0, 2, 7)\n",
      "Model: (0, 0, 2)(1, 0, 0, 7)\n",
      "Model: (0, 0, 2)(1, 0, 1, 7)\n"
     ]
    }
   ],
   "source": [
    "import itertools\n",
    "p = q = range(0, 3)\n",
    "d= range(0,1)\n",
    "pdq = list(itertools.product(p, d, q))\n",
    "model_pdq = [(x[0], x[1], x[2], 7) for x in list(itertools.product(p, d, q))]\n",
    "print('Examples of parameter combinations for Model...')\n",
    "print('Model: {}{}'.format(pdq[1], model_pdq[1]))\n",
    "print('Model: {}{}'.format(pdq[1], model_pdq[2]))\n",
    "print('Model: {}{}'.format(pdq[2], model_pdq[3]))\n",
    "print('Model: {}{}'.format(pdq[2], model_pdq[4]))"
   ]
  },
  {
   "cell_type": "code",
   "execution_count": 24,
   "metadata": {
    "ExecuteTime": {
     "end_time": "2020-05-29T09:41:31.439876Z",
     "start_time": "2020-05-29T09:41:31.317564Z"
    }
   },
   "outputs": [
    {
     "name": "stdout",
     "output_type": "stream",
     "text": [
      "Empty DataFrame\n",
      "Columns: [param, AIC]\n",
      "Index: []\n"
     ]
    }
   ],
   "source": [
    "# Creating an empty Dataframe with column names only\n",
    "ARIMA_AIC = pd.DataFrame(columns=['param', 'AIC'])\n",
    "print(ARIMA_AIC)\n"
   ]
  },
  {
   "cell_type": "code",
   "execution_count": 25,
   "metadata": {
    "ExecuteTime": {
     "end_time": "2020-05-29T09:41:31.548299Z",
     "start_time": "2020-05-29T09:41:31.444623Z"
    }
   },
   "outputs": [
    {
     "data": {
      "text/plain": [
       "43275      0\n",
       "43224    481\n",
       "43173    453\n",
       "43122    497\n",
       "43071    450\n",
       "        ... \n",
       "7920     537\n",
       "7878       0\n",
       "7836     667\n",
       "7794     668\n",
       "7752     462\n",
       "Name: Customers, Length: 730, dtype: int64"
      ]
     },
     "execution_count": 25,
     "metadata": {},
     "output_type": "execute_result"
    }
   ],
   "source": [
    "train['Customers']"
   ]
  },
  {
   "cell_type": "code",
   "execution_count": 26,
   "metadata": {
    "ExecuteTime": {
     "end_time": "2020-05-29T09:41:36.753045Z",
     "start_time": "2020-05-29T09:41:31.551315Z"
    }
   },
   "outputs": [
    {
     "name": "stdout",
     "output_type": "stream",
     "text": [
      "ARIMA(0, 0, 0) - AIC:10018.497075995292\n",
      "ARIMA(0, 0, 1) - AIC:9999.149162163405\n",
      "ARIMA(0, 0, 2) - AIC:9993.00009008884\n",
      "ARIMA(1, 0, 0) - AIC:10004.023773665094\n",
      "ARIMA(1, 0, 1) - AIC:9994.564290480055\n",
      "ARIMA(1, 0, 2) - AIC:9961.499492459083\n",
      "ARIMA(2, 0, 0) - AIC:9993.938366856577\n",
      "ARIMA(2, 0, 1) - AIC:9995.557870322467\n",
      "ARIMA(2, 0, 2) - AIC:9787.594549151676\n"
     ]
    }
   ],
   "source": [
    "from statsmodels.tsa.arima_model import ARIMA\n",
    "\n",
    "for param in pdq:\n",
    "    ARIMA_model = ARIMA(train['Customers'],order=param).fit()\n",
    "    print('ARIMA{} - AIC:{}'.format(param,ARIMA_model.aic))\n",
    "    ARIMA_AIC = ARIMA_AIC.append({'param':param, 'AIC': ARIMA_model.aic}, ignore_index=True)"
   ]
  },
  {
   "cell_type": "code",
   "execution_count": 27,
   "metadata": {
    "ExecuteTime": {
     "end_time": "2020-05-29T09:41:36.778147Z",
     "start_time": "2020-05-29T09:41:36.754043Z"
    }
   },
   "outputs": [
    {
     "data": {
      "text/html": [
       "<div>\n",
       "<style scoped>\n",
       "    .dataframe tbody tr th:only-of-type {\n",
       "        vertical-align: middle;\n",
       "    }\n",
       "\n",
       "    .dataframe tbody tr th {\n",
       "        vertical-align: top;\n",
       "    }\n",
       "\n",
       "    .dataframe thead th {\n",
       "        text-align: right;\n",
       "    }\n",
       "</style>\n",
       "<table border=\"1\" class=\"dataframe\">\n",
       "  <thead>\n",
       "    <tr style=\"text-align: right;\">\n",
       "      <th></th>\n",
       "      <th>param</th>\n",
       "      <th>AIC</th>\n",
       "    </tr>\n",
       "  </thead>\n",
       "  <tbody>\n",
       "    <tr>\n",
       "      <th>8</th>\n",
       "      <td>(2, 0, 2)</td>\n",
       "      <td>9787.594549</td>\n",
       "    </tr>\n",
       "    <tr>\n",
       "      <th>5</th>\n",
       "      <td>(1, 0, 2)</td>\n",
       "      <td>9961.499492</td>\n",
       "    </tr>\n",
       "    <tr>\n",
       "      <th>2</th>\n",
       "      <td>(0, 0, 2)</td>\n",
       "      <td>9993.000090</td>\n",
       "    </tr>\n",
       "    <tr>\n",
       "      <th>6</th>\n",
       "      <td>(2, 0, 0)</td>\n",
       "      <td>9993.938367</td>\n",
       "    </tr>\n",
       "    <tr>\n",
       "      <th>4</th>\n",
       "      <td>(1, 0, 1)</td>\n",
       "      <td>9994.564290</td>\n",
       "    </tr>\n",
       "    <tr>\n",
       "      <th>7</th>\n",
       "      <td>(2, 0, 1)</td>\n",
       "      <td>9995.557870</td>\n",
       "    </tr>\n",
       "    <tr>\n",
       "      <th>1</th>\n",
       "      <td>(0, 0, 1)</td>\n",
       "      <td>9999.149162</td>\n",
       "    </tr>\n",
       "    <tr>\n",
       "      <th>3</th>\n",
       "      <td>(1, 0, 0)</td>\n",
       "      <td>10004.023774</td>\n",
       "    </tr>\n",
       "    <tr>\n",
       "      <th>0</th>\n",
       "      <td>(0, 0, 0)</td>\n",
       "      <td>10018.497076</td>\n",
       "    </tr>\n",
       "  </tbody>\n",
       "</table>\n",
       "</div>"
      ],
      "text/plain": [
       "       param           AIC\n",
       "8  (2, 0, 2)   9787.594549\n",
       "5  (1, 0, 2)   9961.499492\n",
       "2  (0, 0, 2)   9993.000090\n",
       "6  (2, 0, 0)   9993.938367\n",
       "4  (1, 0, 1)   9994.564290\n",
       "7  (2, 0, 1)   9995.557870\n",
       "1  (0, 0, 1)   9999.149162\n",
       "3  (1, 0, 0)  10004.023774\n",
       "0  (0, 0, 0)  10018.497076"
      ]
     },
     "execution_count": 27,
     "metadata": {},
     "output_type": "execute_result"
    }
   ],
   "source": [
    "ARIMA_AIC.sort_values(by='AIC',ascending=True)"
   ]
  },
  {
   "cell_type": "code",
   "execution_count": 28,
   "metadata": {
    "ExecuteTime": {
     "end_time": "2020-05-29T09:41:39.993764Z",
     "start_time": "2020-05-29T09:41:36.780739Z"
    },
    "scrolled": false
   },
   "outputs": [
    {
     "name": "stdout",
     "output_type": "stream",
     "text": [
      "                              ARMA Model Results                              \n",
      "==============================================================================\n",
      "Dep. Variable:              Customers   No. Observations:                  730\n",
      "Model:                     ARMA(2, 2)   Log Likelihood               -4887.797\n",
      "Method:                       css-mle   S.D. of innovations            194.422\n",
      "Date:                Fri, 29 May 2020   AIC                           9787.595\n",
      "Time:                        15:11:39   BIC                           9815.153\n",
      "Sample:                             0   HQIC                          9798.227\n",
      "                                                                              \n",
      "===================================================================================\n",
      "                      coef    std err          z      P>|z|      [0.025      0.975]\n",
      "-----------------------------------------------------------------------------------\n",
      "const             462.1847      7.169     64.474      0.000     448.135     476.235\n",
      "ar.L1.Customers    -0.4446      0.001   -618.869      0.000      -0.446      -0.443\n",
      "ar.L2.Customers    -0.9999      0.000  -5893.722      0.000      -1.000      -1.000\n",
      "ma.L1.Customers     0.4351      0.005     81.520      0.000       0.425       0.446\n",
      "ma.L2.Customers     0.9996      0.007    137.427      0.000       0.985       1.014\n",
      "                                    Roots                                    \n",
      "=============================================================================\n",
      "                  Real          Imaginary           Modulus         Frequency\n",
      "-----------------------------------------------------------------------------\n",
      "AR.1           -0.2223           -0.9750j            1.0001           -0.2857\n",
      "AR.2           -0.2223           +0.9750j            1.0001            0.2857\n",
      "MA.1           -0.2177           -0.9762j            1.0002           -0.2849\n",
      "MA.2           -0.2177           +0.9762j            1.0002            0.2849\n",
      "-----------------------------------------------------------------------------\n"
     ]
    }
   ],
   "source": [
    "## ARIMA(2,0,2) has the lowest AIC\n",
    "mod = ARIMA(train['Customers'], order=(2,0,2))\n",
    "\n",
    "results_Arima = mod.fit()\n",
    "\n",
    "print(results_Arima.summary())"
   ]
  },
  {
   "cell_type": "code",
   "execution_count": 29,
   "metadata": {
    "ExecuteTime": {
     "end_time": "2020-05-29T09:41:40.025550Z",
     "start_time": "2020-05-29T09:41:39.995758Z"
    }
   },
   "outputs": [],
   "source": [
    "test.Customers= test.Customers.astype(float)\n",
    "final_hat_avg =test.copy()\n",
    "pred = results_Arima.forecast(steps=152)"
   ]
  },
  {
   "cell_type": "code",
   "execution_count": 30,
   "metadata": {
    "ExecuteTime": {
     "end_time": "2020-05-29T09:41:40.209849Z",
     "start_time": "2020-05-29T09:41:40.028585Z"
    }
   },
   "outputs": [
    {
     "name": "stdout",
     "output_type": "stream",
     "text": [
      "237.50186849976757\n"
     ]
    }
   ],
   "source": [
    "from sklearn.metrics import  mean_squared_error\n",
    "rmse = mean_squared_error(test.Customers,pred[0],squared=False)\n",
    "print(rmse)"
   ]
  },
  {
   "cell_type": "code",
   "execution_count": 31,
   "metadata": {
    "ExecuteTime": {
     "end_time": "2020-05-29T09:41:40.278212Z",
     "start_time": "2020-05-29T09:41:40.213406Z"
    }
   },
   "outputs": [
    {
     "data": {
      "text/html": [
       "<div>\n",
       "<style scoped>\n",
       "    .dataframe tbody tr th:only-of-type {\n",
       "        vertical-align: middle;\n",
       "    }\n",
       "\n",
       "    .dataframe tbody tr th {\n",
       "        vertical-align: top;\n",
       "    }\n",
       "\n",
       "    .dataframe thead th {\n",
       "        text-align: right;\n",
       "    }\n",
       "</style>\n",
       "<table border=\"1\" class=\"dataframe\">\n",
       "  <thead>\n",
       "    <tr style=\"text-align: right;\">\n",
       "      <th></th>\n",
       "      <th>RMSE</th>\n",
       "    </tr>\n",
       "  </thead>\n",
       "  <tbody>\n",
       "    <tr>\n",
       "      <th>ARIMA(2,0,2)</th>\n",
       "      <td>237.501868</td>\n",
       "    </tr>\n",
       "  </tbody>\n",
       "</table>\n",
       "</div>"
      ],
      "text/plain": [
       "                    RMSE\n",
       "ARIMA(2,0,2)  237.501868"
      ]
     },
     "execution_count": 31,
     "metadata": {},
     "output_type": "execute_result"
    }
   ],
   "source": [
    "resultsDf = pd.DataFrame({'RMSE': [rmse]}\n",
    "                           ,index=['ARIMA(2,0,2)'])\n",
    "\n",
    "resultsDf"
   ]
  },
  {
   "cell_type": "code",
   "execution_count": 32,
   "metadata": {
    "ExecuteTime": {
     "end_time": "2020-05-29T09:41:40.477115Z",
     "start_time": "2020-05-29T09:41:40.280948Z"
    }
   },
   "outputs": [],
   "source": [
    "### As the dataset has seasonality.. Let's build the model with SARIMA"
   ]
  },
  {
   "cell_type": "code",
   "execution_count": 33,
   "metadata": {
    "ExecuteTime": {
     "end_time": "2020-05-29T09:41:40.585378Z",
     "start_time": "2020-05-29T09:41:40.479110Z"
    }
   },
   "outputs": [
    {
     "name": "stdout",
     "output_type": "stream",
     "text": [
      "Empty DataFrame\n",
      "Columns: [param, seasonal, AIC]\n",
      "Index: []\n"
     ]
    }
   ],
   "source": [
    "SARIMA_AIC = pd.DataFrame(columns=['param','seasonal', 'AIC'])\n",
    "print(SARIMA_AIC)"
   ]
  },
  {
   "cell_type": "code",
   "execution_count": 34,
   "metadata": {
    "ExecuteTime": {
     "end_time": "2020-05-29T09:41:40.710240Z",
     "start_time": "2020-05-29T09:41:40.585378Z"
    }
   },
   "outputs": [
    {
     "data": {
      "text/html": [
       "<div>\n",
       "<style scoped>\n",
       "    .dataframe tbody tr th:only-of-type {\n",
       "        vertical-align: middle;\n",
       "    }\n",
       "\n",
       "    .dataframe tbody tr th {\n",
       "        vertical-align: top;\n",
       "    }\n",
       "\n",
       "    .dataframe thead th {\n",
       "        text-align: right;\n",
       "    }\n",
       "</style>\n",
       "<table border=\"1\" class=\"dataframe\">\n",
       "  <thead>\n",
       "    <tr style=\"text-align: right;\">\n",
       "      <th></th>\n",
       "      <th>param</th>\n",
       "      <th>seasonal</th>\n",
       "      <th>AIC</th>\n",
       "    </tr>\n",
       "  </thead>\n",
       "  <tbody>\n",
       "  </tbody>\n",
       "</table>\n",
       "</div>"
      ],
      "text/plain": [
       "Empty DataFrame\n",
       "Columns: [param, seasonal, AIC]\n",
       "Index: []"
      ]
     },
     "execution_count": 34,
     "metadata": {},
     "output_type": "execute_result"
    }
   ],
   "source": [
    "SARIMA_AIC"
   ]
  },
  {
   "cell_type": "code",
   "execution_count": 35,
   "metadata": {
    "ExecuteTime": {
     "end_time": "2020-05-29T09:47:42.551905Z",
     "start_time": "2020-05-29T09:41:40.712238Z"
    },
    "colab": {
     "base_uri": "https://localhost:8080/",
     "height": 1000
    },
    "colab_type": "code",
    "id": "2hZXzyzu1J5-",
    "outputId": "7a1fd77c-45cb-4180-81fb-c5f0654dbe6f",
    "scrolled": true
   },
   "outputs": [
    {
     "name": "stdout",
     "output_type": "stream",
     "text": [
      "SARIMA(0, 0, 0)x(0, 0, 0, 7)7 - AIC:11185.950413292372\n",
      "SARIMA(0, 0, 0)x(0, 0, 1, 7)7 - AIC:10518.569230074643\n",
      "SARIMA(0, 0, 0)x(0, 0, 2, 7)7 - AIC:10040.609277392647\n",
      "SARIMA(0, 0, 0)x(1, 0, 0, 7)7 - AIC:9521.374457632435\n",
      "SARIMA(0, 0, 0)x(1, 0, 1, 7)7 - AIC:9016.226831861857\n",
      "SARIMA(0, 0, 0)x(1, 0, 2, 7)7 - AIC:8914.949176593082\n",
      "SARIMA(0, 0, 0)x(2, 0, 0, 7)7 - AIC:9122.879538850024\n",
      "SARIMA(0, 0, 0)x(2, 0, 1, 7)7 - AIC:8919.558922751308\n",
      "SARIMA(0, 0, 0)x(2, 0, 2, 7)7 - AIC:8885.374420976743\n",
      "SARIMA(0, 0, 1)x(0, 0, 0, 7)7 - AIC:10844.339587952114\n",
      "SARIMA(0, 0, 1)x(0, 0, 1, 7)7 - AIC:10277.416370385537\n",
      "SARIMA(0, 0, 1)x(0, 0, 2, 7)7 - AIC:9913.184015362254\n",
      "SARIMA(0, 0, 1)x(1, 0, 0, 7)7 - AIC:9508.331991535473\n",
      "SARIMA(0, 0, 1)x(1, 0, 1, 7)7 - AIC:8963.90810549052\n",
      "SARIMA(0, 0, 1)x(1, 0, 2, 7)7 - AIC:8876.614391864263\n",
      "SARIMA(0, 0, 1)x(2, 0, 0, 7)7 - AIC:9124.566045236486\n",
      "SARIMA(0, 0, 1)x(2, 0, 1, 7)7 - AIC:8892.991515742746\n",
      "SARIMA(0, 0, 1)x(2, 0, 2, 7)7 - AIC:8866.091085863953\n",
      "SARIMA(0, 0, 2)x(0, 0, 0, 7)7 - AIC:10687.562456381835\n",
      "SARIMA(0, 0, 2)x(0, 0, 1, 7)7 - AIC:10159.160348648595\n",
      "SARIMA(0, 0, 2)x(0, 0, 2, 7)7 - AIC:9816.828928818402\n",
      "SARIMA(0, 0, 2)x(1, 0, 0, 7)7 - AIC:9486.624248859034\n",
      "SARIMA(0, 0, 2)x(1, 0, 1, 7)7 - AIC:8952.954465029281\n",
      "SARIMA(0, 0, 2)x(1, 0, 2, 7)7 - AIC:8899.005798731932\n",
      "SARIMA(0, 0, 2)x(2, 0, 0, 7)7 - AIC:9122.081657680323\n",
      "SARIMA(0, 0, 2)x(2, 0, 1, 7)7 - AIC:8894.885408433689\n",
      "SARIMA(0, 0, 2)x(2, 0, 2, 7)7 - AIC:9062.59811886667\n",
      "SARIMA(1, 0, 0)x(0, 0, 0, 7)7 - AIC:10523.341431346827\n",
      "SARIMA(1, 0, 0)x(0, 0, 1, 7)7 - AIC:10068.947488852333\n",
      "SARIMA(1, 0, 0)x(0, 0, 2, 7)7 - AIC:9797.238079814102\n",
      "SARIMA(1, 0, 0)x(1, 0, 0, 7)7 - AIC:9481.926224339788\n",
      "SARIMA(1, 0, 0)x(1, 0, 1, 7)7 - AIC:8975.18810833296\n",
      "SARIMA(1, 0, 0)x(1, 0, 2, 7)7 - AIC:8885.759322016607\n",
      "SARIMA(1, 0, 0)x(2, 0, 0, 7)7 - AIC:9112.256640043739\n",
      "SARIMA(1, 0, 0)x(2, 0, 1, 7)7 - AIC:8881.351068928567\n",
      "SARIMA(1, 0, 0)x(2, 0, 2, 7)7 - AIC:9003.30695953964\n",
      "SARIMA(1, 0, 1)x(0, 0, 0, 7)7 - AIC:10014.826133118486\n",
      "SARIMA(1, 0, 1)x(0, 0, 1, 7)7 - AIC:9786.622058378018\n",
      "SARIMA(1, 0, 1)x(0, 0, 2, 7)7 - AIC:9615.518790242197\n",
      "SARIMA(1, 0, 1)x(1, 0, 0, 7)7 - AIC:9470.001415730563\n",
      "SARIMA(1, 0, 1)x(1, 0, 1, 7)7 - AIC:9038.947968584795\n",
      "SARIMA(1, 0, 1)x(1, 0, 2, 7)7 - AIC:9250.286966345086\n",
      "SARIMA(1, 0, 1)x(2, 0, 0, 7)7 - AIC:9113.72592501191\n",
      "SARIMA(1, 0, 1)x(2, 0, 1, 7)7 - AIC:9469.263238888292\n",
      "SARIMA(1, 0, 1)x(2, 0, 2, 7)7 - AIC:9454.313747839595\n",
      "SARIMA(1, 0, 2)x(0, 0, 0, 7)7 - AIC:9964.567262967477\n",
      "SARIMA(1, 0, 2)x(0, 0, 1, 7)7 - AIC:9751.962159486657\n",
      "SARIMA(1, 0, 2)x(0, 0, 2, 7)7 - AIC:9575.04359478008\n",
      "SARIMA(1, 0, 2)x(1, 0, 0, 7)7 - AIC:9423.187611594018\n",
      "SARIMA(1, 0, 2)x(1, 0, 1, 7)7 - AIC:9504.028361626984\n",
      "SARIMA(1, 0, 2)x(1, 0, 2, 7)7 - AIC:9410.09134157398\n",
      "SARIMA(1, 0, 2)x(2, 0, 0, 7)7 - AIC:9093.30966222168\n",
      "SARIMA(1, 0, 2)x(2, 0, 1, 7)7 - AIC:9431.638031980086\n",
      "SARIMA(1, 0, 2)x(2, 0, 2, 7)7 - AIC:9407.510786009094\n",
      "SARIMA(2, 0, 0)x(0, 0, 0, 7)7 - AIC:10338.339792999152\n",
      "SARIMA(2, 0, 0)x(0, 0, 1, 7)7 - AIC:9932.896157681429\n",
      "SARIMA(2, 0, 0)x(0, 0, 2, 7)7 - AIC:9659.026836592351\n",
      "SARIMA(2, 0, 0)x(1, 0, 0, 7)7 - AIC:9447.701506828702\n",
      "SARIMA(2, 0, 0)x(1, 0, 1, 7)7 - AIC:8963.79557034895\n",
      "SARIMA(2, 0, 0)x(1, 0, 2, 7)7 - AIC:8894.740140286869\n",
      "SARIMA(2, 0, 0)x(2, 0, 0, 7)7 - AIC:9097.982800844777\n",
      "SARIMA(2, 0, 0)x(2, 0, 1, 7)7 - AIC:9062.791465744676\n",
      "SARIMA(2, 0, 0)x(2, 0, 2, 7)7 - AIC:8951.12959458203\n",
      "SARIMA(2, 0, 1)x(0, 0, 0, 7)7 - AIC:10025.524224302531\n",
      "SARIMA(2, 0, 1)x(0, 0, 1, 7)7 - AIC:9786.735419774952\n",
      "SARIMA(2, 0, 1)x(0, 0, 2, 7)7 - AIC:9615.36945057972\n",
      "SARIMA(2, 0, 1)x(1, 0, 0, 7)7 - AIC:9668.339739532425\n",
      "SARIMA(2, 0, 1)x(1, 0, 1, 7)7 - AIC:9232.180208464491\n",
      "SARIMA(2, 0, 1)x(1, 0, 2, 7)7 - AIC:9282.07627636777\n",
      "SARIMA(2, 0, 1)x(2, 0, 0, 7)7 - AIC:9216.47780631897\n",
      "SARIMA(2, 0, 1)x(2, 0, 1, 7)7 - AIC:9456.529774747829\n",
      "SARIMA(2, 0, 1)x(2, 0, 2, 7)7 - AIC:9457.211007966169\n",
      "SARIMA(2, 0, 2)x(0, 0, 0, 7)7 - AIC:9943.707295031629\n",
      "SARIMA(2, 0, 2)x(0, 0, 1, 7)7 - AIC:9753.68851696513\n",
      "SARIMA(2, 0, 2)x(0, 0, 2, 7)7 - AIC:9576.605855937943\n",
      "SARIMA(2, 0, 2)x(1, 0, 0, 7)7 - AIC:9640.564806610102\n",
      "SARIMA(2, 0, 2)x(1, 0, 1, 7)7 - AIC:9504.980973970512\n",
      "SARIMA(2, 0, 2)x(1, 0, 2, 7)7 - AIC:9398.8195700687\n",
      "SARIMA(2, 0, 2)x(2, 0, 0, 7)7 - AIC:9408.419498117226\n",
      "SARIMA(2, 0, 2)x(2, 0, 1, 7)7 - AIC:9422.753420065563\n",
      "SARIMA(2, 0, 2)x(2, 0, 2, 7)7 - AIC:9407.853581345262\n"
     ]
    }
   ],
   "source": [
    "import statsmodels.api as sm\n",
    "\n",
    "for param in pdq:\n",
    "    for param_seasonal in model_pdq:\n",
    "        SARIMA_model = sm.tsa.statespace.SARIMAX(train['Customers'],\n",
    "                                            order=param,\n",
    "                                            seasonal_order=param_seasonal,\n",
    "                                            enforce_stationarity=False,\n",
    "                                            enforce_invertibility=False)\n",
    "            \n",
    "        results_SARIMA = SARIMA_model.fit()\n",
    "        print('SARIMA{}x{}7 - AIC:{}'.format(param, param_seasonal, results_SARIMA.aic))\n",
    "        SARIMA_AIC = SARIMA_AIC.append({'param':param,'seasonal':param_seasonal ,'AIC': results_SARIMA.aic}, ignore_index=True)\n",
    "        "
   ]
  },
  {
   "cell_type": "code",
   "execution_count": 36,
   "metadata": {
    "ExecuteTime": {
     "end_time": "2020-05-29T09:47:42.602395Z",
     "start_time": "2020-05-29T09:47:42.552900Z"
    }
   },
   "outputs": [
    {
     "data": {
      "text/html": [
       "<div>\n",
       "<style scoped>\n",
       "    .dataframe tbody tr th:only-of-type {\n",
       "        vertical-align: middle;\n",
       "    }\n",
       "\n",
       "    .dataframe tbody tr th {\n",
       "        vertical-align: top;\n",
       "    }\n",
       "\n",
       "    .dataframe thead th {\n",
       "        text-align: right;\n",
       "    }\n",
       "</style>\n",
       "<table border=\"1\" class=\"dataframe\">\n",
       "  <thead>\n",
       "    <tr style=\"text-align: right;\">\n",
       "      <th></th>\n",
       "      <th>param</th>\n",
       "      <th>seasonal</th>\n",
       "      <th>AIC</th>\n",
       "    </tr>\n",
       "  </thead>\n",
       "  <tbody>\n",
       "    <tr>\n",
       "      <th>17</th>\n",
       "      <td>(0, 0, 1)</td>\n",
       "      <td>(2, 0, 2, 7)</td>\n",
       "      <td>8866.091086</td>\n",
       "    </tr>\n",
       "    <tr>\n",
       "      <th>14</th>\n",
       "      <td>(0, 0, 1)</td>\n",
       "      <td>(1, 0, 2, 7)</td>\n",
       "      <td>8876.614392</td>\n",
       "    </tr>\n",
       "    <tr>\n",
       "      <th>34</th>\n",
       "      <td>(1, 0, 0)</td>\n",
       "      <td>(2, 0, 1, 7)</td>\n",
       "      <td>8881.351069</td>\n",
       "    </tr>\n",
       "    <tr>\n",
       "      <th>8</th>\n",
       "      <td>(0, 0, 0)</td>\n",
       "      <td>(2, 0, 2, 7)</td>\n",
       "      <td>8885.374421</td>\n",
       "    </tr>\n",
       "    <tr>\n",
       "      <th>32</th>\n",
       "      <td>(1, 0, 0)</td>\n",
       "      <td>(1, 0, 2, 7)</td>\n",
       "      <td>8885.759322</td>\n",
       "    </tr>\n",
       "  </tbody>\n",
       "</table>\n",
       "</div>"
      ],
      "text/plain": [
       "        param      seasonal          AIC\n",
       "17  (0, 0, 1)  (2, 0, 2, 7)  8866.091086\n",
       "14  (0, 0, 1)  (1, 0, 2, 7)  8876.614392\n",
       "34  (1, 0, 0)  (2, 0, 1, 7)  8881.351069\n",
       "8   (0, 0, 0)  (2, 0, 2, 7)  8885.374421\n",
       "32  (1, 0, 0)  (1, 0, 2, 7)  8885.759322"
      ]
     },
     "execution_count": 36,
     "metadata": {},
     "output_type": "execute_result"
    }
   ],
   "source": [
    "SARIMA_AIC.sort_values(by=['AIC']).head()"
   ]
  },
  {
   "cell_type": "code",
   "execution_count": 37,
   "metadata": {
    "ExecuteTime": {
     "end_time": "2020-05-29T09:47:52.048202Z",
     "start_time": "2020-05-29T09:47:42.606385Z"
    },
    "colab": {
     "base_uri": "https://localhost:8080/",
     "height": 476
    },
    "colab_type": "code",
    "id": "WOR7SZy41J6W",
    "outputId": "554ccb7e-ffde-4876-c7bb-b671e2cb73dd"
   },
   "outputs": [
    {
     "name": "stdout",
     "output_type": "stream",
     "text": [
      "                                       SARIMAX Results                                        \n",
      "==============================================================================================\n",
      "Dep. Variable:                              Customers   No. Observations:                  730\n",
      "Model:             SARIMAX(0, 0, 1)x(2, 0, [1, 2], 7)   Log Likelihood               -4427.046\n",
      "Date:                                Fri, 29 May 2020   AIC                           8866.091\n",
      "Time:                                        15:17:52   BIC                           8893.516\n",
      "Sample:                                             0   HQIC                          8876.683\n",
      "                                                - 730                                         \n",
      "Covariance Type:                                  opg                                         \n",
      "==============================================================================\n",
      "                 coef    std err          z      P>|z|      [0.025      0.975]\n",
      "------------------------------------------------------------------------------\n",
      "ma.L1          0.0387      0.023      1.674      0.094      -0.007       0.084\n",
      "ar.S.L7        0.2997      0.126      2.374      0.018       0.052       0.547\n",
      "ar.S.L14       0.7049      0.127      5.570      0.000       0.457       0.953\n",
      "ma.S.L7        0.6840      0.479      1.428      0.153      -0.255       1.623\n",
      "ma.S.L14      -1.6817      0.666     -2.523      0.012      -2.988      -0.376\n",
      "sigma2      4810.3339   2789.806      1.724      0.085    -657.585    1.03e+04\n",
      "===================================================================================\n",
      "Ljung-Box (Q):                       66.79   Jarque-Bera (JB):              5108.50\n",
      "Prob(Q):                              0.00   Prob(JB):                         0.00\n",
      "Heteroskedasticity (H):               1.62   Skew:                            -2.59\n",
      "Prob(H) (two-sided):                  0.00   Kurtosis:                        15.04\n",
      "===================================================================================\n",
      "\n",
      "Warnings:\n",
      "[1] Covariance matrix calculated using the outer product of gradients (complex-step).\n"
     ]
    }
   ],
   "source": [
    "import statsmodels.api as sm\n",
    "\n",
    "## SARIMA(0, 0, 1)(2, 0, 2, 7)\n",
    "mod = sm.tsa.statespace.SARIMAX(train['Customers'],\n",
    "                                order=(0,0,1),\n",
    "                                seasonal_order=(2, 0, 2, 7),\n",
    "                                enforce_stationarity=False,\n",
    "                                enforce_invertibility=False)\n",
    "results_SARIMA = mod.fit()\n",
    "print(results_SARIMA.summary())"
   ]
  },
  {
   "cell_type": "code",
   "execution_count": 38,
   "metadata": {
    "ExecuteTime": {
     "end_time": "2020-05-29T09:47:53.793138Z",
     "start_time": "2020-05-29T09:47:52.053322Z"
    },
    "colab": {
     "base_uri": "https://localhost:8080/",
     "height": 513
    },
    "colab_type": "code",
    "id": "IZLtRcwv1J6f",
    "outputId": "4117a9e5-1add-4cec-8841-4da79a25e009"
   },
   "outputs": [
    {
     "data": {
      "image/png": "[encoded data removed]",
      "text/plain": [
       "<Figure size 1152x576 with 4 Axes>"
      ]
     },
     "metadata": {
      "needs_background": "light"
     },
     "output_type": "display_data"
    }
   ],
   "source": [
    "results_SARIMA.plot_diagnostics(figsize=(16, 8))\n",
    "plt.show()"
   ]
  },
  {
   "cell_type": "code",
   "execution_count": 39,
   "metadata": {
    "ExecuteTime": {
     "end_time": "2020-05-29T09:47:53.839713Z",
     "start_time": "2020-05-29T09:47:53.794966Z"
    },
    "colab": {
     "base_uri": "https://localhost:8080/",
     "height": 204
    },
    "colab_type": "code",
    "id": "8i8HAivm1J6q",
    "outputId": "f4820826-1979-4e6b-f059-43185c44d5ee"
   },
   "outputs": [
    {
     "data": {
      "text/html": [
       "<div>\n",
       "<style scoped>\n",
       "    .dataframe tbody tr th:only-of-type {\n",
       "        vertical-align: middle;\n",
       "    }\n",
       "\n",
       "    .dataframe tbody tr th {\n",
       "        vertical-align: top;\n",
       "    }\n",
       "\n",
       "    .dataframe thead th {\n",
       "        text-align: right;\n",
       "    }\n",
       "</style>\n",
       "<table border=\"1\" class=\"dataframe\">\n",
       "  <thead>\n",
       "    <tr style=\"text-align: right;\">\n",
       "      <th></th>\n",
       "      <th>Store</th>\n",
       "      <th>DayOfWeek</th>\n",
       "      <th>Date</th>\n",
       "      <th>Customers</th>\n",
       "      <th>Open</th>\n",
       "      <th>Promotion</th>\n",
       "      <th>StateHoliday</th>\n",
       "      <th>SchoolHoliday</th>\n",
       "      <th>year</th>\n",
       "    </tr>\n",
       "  </thead>\n",
       "  <tbody>\n",
       "    <tr>\n",
       "      <th>7701</th>\n",
       "      <td>1044</td>\n",
       "      <td>4</td>\n",
       "      <td>2016-01-01</td>\n",
       "      <td>0.0</td>\n",
       "      <td>0</td>\n",
       "      <td>0</td>\n",
       "      <td>a</td>\n",
       "      <td>1</td>\n",
       "      <td>2016</td>\n",
       "    </tr>\n",
       "    <tr>\n",
       "      <th>7650</th>\n",
       "      <td>1044</td>\n",
       "      <td>5</td>\n",
       "      <td>2016-02-01</td>\n",
       "      <td>633.0</td>\n",
       "      <td>1</td>\n",
       "      <td>0</td>\n",
       "      <td>0</td>\n",
       "      <td>1</td>\n",
       "      <td>2016</td>\n",
       "    </tr>\n",
       "    <tr>\n",
       "      <th>7599</th>\n",
       "      <td>1044</td>\n",
       "      <td>6</td>\n",
       "      <td>2016-03-01</td>\n",
       "      <td>530.0</td>\n",
       "      <td>1</td>\n",
       "      <td>0</td>\n",
       "      <td>0</td>\n",
       "      <td>0</td>\n",
       "      <td>2016</td>\n",
       "    </tr>\n",
       "    <tr>\n",
       "      <th>7548</th>\n",
       "      <td>1044</td>\n",
       "      <td>7</td>\n",
       "      <td>2016-04-01</td>\n",
       "      <td>0.0</td>\n",
       "      <td>0</td>\n",
       "      <td>0</td>\n",
       "      <td>0</td>\n",
       "      <td>0</td>\n",
       "      <td>2016</td>\n",
       "    </tr>\n",
       "    <tr>\n",
       "      <th>7497</th>\n",
       "      <td>1044</td>\n",
       "      <td>1</td>\n",
       "      <td>2016-05-01</td>\n",
       "      <td>845.0</td>\n",
       "      <td>1</td>\n",
       "      <td>1</td>\n",
       "      <td>0</td>\n",
       "      <td>1</td>\n",
       "      <td>2016</td>\n",
       "    </tr>\n",
       "  </tbody>\n",
       "</table>\n",
       "</div>"
      ],
      "text/plain": [
       "      Store  DayOfWeek       Date  Customers  Open  Promotion StateHoliday  \\\n",
       "7701   1044          4 2016-01-01        0.0     0          0            a   \n",
       "7650   1044          5 2016-02-01      633.0     1          0            0   \n",
       "7599   1044          6 2016-03-01      530.0     1          0            0   \n",
       "7548   1044          7 2016-04-01        0.0     0          0            0   \n",
       "7497   1044          1 2016-05-01      845.0     1          1            0   \n",
       "\n",
       "      SchoolHoliday  year  \n",
       "7701              1  2016  \n",
       "7650              1  2016  \n",
       "7599              0  2016  \n",
       "7548              0  2016  \n",
       "7497              1  2016  "
      ]
     },
     "execution_count": 39,
     "metadata": {},
     "output_type": "execute_result"
    }
   ],
   "source": [
    "test.head()"
   ]
  },
  {
   "cell_type": "code",
   "execution_count": 40,
   "metadata": {
    "ExecuteTime": {
     "end_time": "2020-05-29T09:47:54.025100Z",
     "start_time": "2020-05-29T09:47:53.844895Z"
    },
    "colab": {
     "base_uri": "https://localhost:8080/",
     "height": 221
    },
    "colab_type": "code",
    "id": "Kb9l_9QFr0RA",
    "outputId": "0f9960b5-cbcf-42d2-c48a-0a33c1c09afe"
   },
   "outputs": [
    {
     "data": {
      "text/plain": [
       "730    634.518467\n",
       "731    696.259813\n",
       "732    616.578554\n",
       "733     -0.006368\n",
       "734    730.755081\n",
       "          ...    \n",
       "877    599.361800\n",
       "878    651.949991\n",
       "879    634.792589\n",
       "880     -0.006309\n",
       "881    758.205810\n",
       "Length: 152, dtype: float64"
      ]
     },
     "execution_count": 40,
     "metadata": {},
     "output_type": "execute_result"
    }
   ],
   "source": [
    "test.Customers= test.Customers.astype(float)\n",
    "final_hat_avg =test.copy()\n",
    "pred = results_SARIMA.get_forecast(steps=152)\n",
    "pred.predicted_mean"
   ]
  },
  {
   "cell_type": "code",
   "execution_count": 41,
   "metadata": {
    "ExecuteTime": {
     "end_time": "2020-05-29T09:47:54.150564Z",
     "start_time": "2020-05-29T09:47:54.028212Z"
    }
   },
   "outputs": [
    {
     "data": {
      "text/html": [
       "<div>\n",
       "<style scoped>\n",
       "    .dataframe tbody tr th:only-of-type {\n",
       "        vertical-align: middle;\n",
       "    }\n",
       "\n",
       "    .dataframe tbody tr th {\n",
       "        vertical-align: top;\n",
       "    }\n",
       "\n",
       "    .dataframe thead th {\n",
       "        text-align: right;\n",
       "    }\n",
       "</style>\n",
       "<table border=\"1\" class=\"dataframe\">\n",
       "  <thead>\n",
       "    <tr style=\"text-align: right;\">\n",
       "      <th>Customers</th>\n",
       "      <th>mean</th>\n",
       "      <th>mean_se</th>\n",
       "      <th>mean_ci_lower</th>\n",
       "      <th>mean_ci_upper</th>\n",
       "    </tr>\n",
       "  </thead>\n",
       "  <tbody>\n",
       "    <tr>\n",
       "      <th>730</th>\n",
       "      <td>634.518467</td>\n",
       "      <td>117.252153</td>\n",
       "      <td>404.708469</td>\n",
       "      <td>864.328464</td>\n",
       "    </tr>\n",
       "    <tr>\n",
       "      <th>731</th>\n",
       "      <td>696.259813</td>\n",
       "      <td>117.339710</td>\n",
       "      <td>466.278208</td>\n",
       "      <td>926.241418</td>\n",
       "    </tr>\n",
       "    <tr>\n",
       "      <th>732</th>\n",
       "      <td>616.578554</td>\n",
       "      <td>117.339710</td>\n",
       "      <td>386.596949</td>\n",
       "      <td>846.560160</td>\n",
       "    </tr>\n",
       "    <tr>\n",
       "      <th>733</th>\n",
       "      <td>-0.006368</td>\n",
       "      <td>117.339710</td>\n",
       "      <td>-229.987974</td>\n",
       "      <td>229.975237</td>\n",
       "    </tr>\n",
       "    <tr>\n",
       "      <th>734</th>\n",
       "      <td>730.755081</td>\n",
       "      <td>117.339710</td>\n",
       "      <td>500.773476</td>\n",
       "      <td>960.736687</td>\n",
       "    </tr>\n",
       "    <tr>\n",
       "      <th>...</th>\n",
       "      <td>...</td>\n",
       "      <td>...</td>\n",
       "      <td>...</td>\n",
       "      <td>...</td>\n",
       "    </tr>\n",
       "    <tr>\n",
       "      <th>877</th>\n",
       "      <td>599.361800</td>\n",
       "      <td>118.670202</td>\n",
       "      <td>366.772479</td>\n",
       "      <td>831.951121</td>\n",
       "    </tr>\n",
       "    <tr>\n",
       "      <th>878</th>\n",
       "      <td>651.949991</td>\n",
       "      <td>118.670214</td>\n",
       "      <td>419.360645</td>\n",
       "      <td>884.539337</td>\n",
       "    </tr>\n",
       "    <tr>\n",
       "      <th>879</th>\n",
       "      <td>634.792589</td>\n",
       "      <td>118.670214</td>\n",
       "      <td>402.203243</td>\n",
       "      <td>867.381935</td>\n",
       "    </tr>\n",
       "    <tr>\n",
       "      <th>880</th>\n",
       "      <td>-0.006309</td>\n",
       "      <td>118.670214</td>\n",
       "      <td>-232.595655</td>\n",
       "      <td>232.583037</td>\n",
       "    </tr>\n",
       "    <tr>\n",
       "      <th>881</th>\n",
       "      <td>758.205810</td>\n",
       "      <td>118.670214</td>\n",
       "      <td>525.616464</td>\n",
       "      <td>990.795156</td>\n",
       "    </tr>\n",
       "  </tbody>\n",
       "</table>\n",
       "<p>152 rows × 4 columns</p>\n",
       "</div>"
      ],
      "text/plain": [
       "Customers        mean     mean_se  mean_ci_lower  mean_ci_upper\n",
       "730        634.518467  117.252153     404.708469     864.328464\n",
       "731        696.259813  117.339710     466.278208     926.241418\n",
       "732        616.578554  117.339710     386.596949     846.560160\n",
       "733         -0.006368  117.339710    -229.987974     229.975237\n",
       "734        730.755081  117.339710     500.773476     960.736687\n",
       "..                ...         ...            ...            ...\n",
       "877        599.361800  118.670202     366.772479     831.951121\n",
       "878        651.949991  118.670214     419.360645     884.539337\n",
       "879        634.792589  118.670214     402.203243     867.381935\n",
       "880         -0.006309  118.670214    -232.595655     232.583037\n",
       "881        758.205810  118.670214     525.616464     990.795156\n",
       "\n",
       "[152 rows x 4 columns]"
      ]
     },
     "execution_count": 41,
     "metadata": {},
     "output_type": "execute_result"
    }
   ],
   "source": [
    "pred.summary_frame()"
   ]
  },
  {
   "cell_type": "code",
   "execution_count": 42,
   "metadata": {
    "ExecuteTime": {
     "end_time": "2020-05-29T09:47:54.318752Z",
     "start_time": "2020-05-29T09:47:54.152862Z"
    },
    "colab": {
     "base_uri": "https://localhost:8080/",
     "height": 34
    },
    "colab_type": "code",
    "id": "QSUJhdUj1J66",
    "outputId": "fb4bef8c-e7fe-4cac-e6c7-4609f4d6522f"
   },
   "outputs": [
    {
     "name": "stdout",
     "output_type": "stream",
     "text": [
      "149.18367642502253\n"
     ]
    }
   ],
   "source": [
    "from math import sqrt\n",
    "from sklearn.metrics import mean_squared_error\n",
    "rmse = sqrt(mean_squared_error(test.Customers ,pred.predicted_mean))\n",
    "print(rmse)"
   ]
  },
  {
   "cell_type": "code",
   "execution_count": 43,
   "metadata": {
    "ExecuteTime": {
     "end_time": "2020-05-29T09:47:54.504034Z",
     "start_time": "2020-05-29T09:47:54.320602Z"
    }
   },
   "outputs": [
    {
     "data": {
      "text/html": [
       "<div>\n",
       "<style scoped>\n",
       "    .dataframe tbody tr th:only-of-type {\n",
       "        vertical-align: middle;\n",
       "    }\n",
       "\n",
       "    .dataframe tbody tr th {\n",
       "        vertical-align: top;\n",
       "    }\n",
       "\n",
       "    .dataframe thead th {\n",
       "        text-align: right;\n",
       "    }\n",
       "</style>\n",
       "<table border=\"1\" class=\"dataframe\">\n",
       "  <thead>\n",
       "    <tr style=\"text-align: right;\">\n",
       "      <th></th>\n",
       "      <th>RMSE</th>\n",
       "    </tr>\n",
       "  </thead>\n",
       "  <tbody>\n",
       "    <tr>\n",
       "      <th>ARIMA(2,0,2)</th>\n",
       "      <td>237.501868</td>\n",
       "    </tr>\n",
       "    <tr>\n",
       "      <th>SARIMA(0,0,1)(2,0,2)7</th>\n",
       "      <td>149.183676</td>\n",
       "    </tr>\n",
       "  </tbody>\n",
       "</table>\n",
       "</div>"
      ],
      "text/plain": [
       "                             RMSE\n",
       "ARIMA(2,0,2)           237.501868\n",
       "SARIMA(0,0,1)(2,0,2)7  149.183676"
      ]
     },
     "execution_count": 43,
     "metadata": {},
     "output_type": "execute_result"
    }
   ],
   "source": [
    "temp_resultsDf = pd.DataFrame({'RMSE': [rmse]}\n",
    "                           ,index=['SARIMA(0,0,1)(2,0,2)7'])\n",
    "\n",
    "resultsDf = pd.concat([resultsDf, temp_resultsDf])\n",
    "resultsDf"
   ]
  },
  {
   "cell_type": "code",
   "execution_count": 44,
   "metadata": {
    "ExecuteTime": {
     "end_time": "2020-05-29T09:48:03.818096Z",
     "start_time": "2020-05-29T09:47:54.504034Z"
    },
    "colab": {
     "base_uri": "https://localhost:8080/",
     "height": 493
    },
    "colab_type": "code",
    "id": "O9vw84z91J7B",
    "outputId": "b9935f2a-2bc3-430a-94a3-14151d20ce0e"
   },
   "outputs": [
    {
     "name": "stdout",
     "output_type": "stream",
     "text": [
      "                                       SARIMAX Results                                        \n",
      "==============================================================================================\n",
      "Dep. Variable:                              Customers   No. Observations:                  882\n",
      "Model:             SARIMAX(0, 0, 1)x(2, 0, [1, 2], 7)   Log Likelihood               -5407.355\n",
      "Date:                                Fri, 29 May 2020   AIC                          10826.710\n",
      "Time:                                        15:18:03   BIC                          10855.293\n",
      "Sample:                                             0   HQIC                         10837.649\n",
      "                                                - 882                                         \n",
      "Covariance Type:                                  opg                                         \n",
      "==============================================================================\n",
      "                 coef    std err          z      P>|z|      [0.025      0.975]\n",
      "------------------------------------------------------------------------------\n",
      "ma.L1          0.0021      0.023      0.090      0.928      -0.043       0.047\n",
      "ar.S.L7        0.3718      0.130      2.865      0.004       0.117       0.626\n",
      "ar.S.L14       0.6321      0.130      4.859      0.000       0.377       0.887\n",
      "ma.S.L7       -0.4897      0.140     -3.488      0.000      -0.765      -0.215\n",
      "ma.S.L14      -0.5101      0.142     -3.587      0.000      -0.789      -0.231\n",
      "sigma2      1.499e+04   4.58e-06   3.27e+09      0.000     1.5e+04     1.5e+04\n",
      "===================================================================================\n",
      "Ljung-Box (Q):                       70.48   Jarque-Bera (JB):              7149.27\n",
      "Prob(Q):                              0.00   Prob(JB):                         0.00\n",
      "Heteroskedasticity (H):               1.87   Skew:                            -2.82\n",
      "Prob(H) (two-sided):                  0.00   Kurtosis:                        15.90\n",
      "===================================================================================\n",
      "\n",
      "Warnings:\n",
      "[1] Covariance matrix calculated using the outer product of gradients (complex-step).\n",
      "[2] Covariance matrix is singular or near-singular, with condition number 8.01e+25. Standard errors may be unstable.\n"
     ]
    }
   ],
   "source": [
    "## To get the real forecast for 7 days, we will rerun the model on the complete dataset\n",
    "\n",
    "mod = sm.tsa.statespace.SARIMAX(Store50_1044['Customers'],\n",
    "                                order=(0,0,1),\n",
    "                                seasonal_order=(2, 0, 2, 7),\n",
    "                                enforce_stationarity=False,\n",
    "                                enforce_invertibility=False)\n",
    "results = mod.fit()\n",
    "print(results.summary())"
   ]
  },
  {
   "cell_type": "code",
   "execution_count": 45,
   "metadata": {
    "ExecuteTime": {
     "end_time": "2020-05-29T09:48:03.853962Z",
     "start_time": "2020-05-29T09:48:03.822252Z"
    },
    "colab": {
     "base_uri": "https://localhost:8080/",
     "height": 153
    },
    "colab_type": "code",
    "id": "FZ-LKlOX1J7J",
    "outputId": "882685ae-c88c-473d-dbbd-508cba5097a0"
   },
   "outputs": [
    {
     "data": {
      "text/plain": [
       "882    667.492671\n",
       "883    626.708663\n",
       "884    608.001916\n",
       "885    636.046718\n",
       "886    620.464692\n",
       "887     -0.000277\n",
       "888    665.473652\n",
       "dtype: float64"
      ]
     },
     "execution_count": 45,
     "metadata": {},
     "output_type": "execute_result"
    }
   ],
   "source": [
    "pred = results.get_forecast(steps=7)\n",
    "pred.predicted_mean"
   ]
  },
  {
   "cell_type": "code",
   "execution_count": 46,
   "metadata": {
    "ExecuteTime": {
     "end_time": "2020-05-29T09:48:04.008678Z",
     "start_time": "2020-05-29T09:48:03.858218Z"
    }
   },
   "outputs": [
    {
     "data": {
      "text/html": [
       "<div>\n",
       "<style scoped>\n",
       "    .dataframe tbody tr th:only-of-type {\n",
       "        vertical-align: middle;\n",
       "    }\n",
       "\n",
       "    .dataframe tbody tr th {\n",
       "        vertical-align: top;\n",
       "    }\n",
       "\n",
       "    .dataframe thead th {\n",
       "        text-align: right;\n",
       "    }\n",
       "</style>\n",
       "<table border=\"1\" class=\"dataframe\">\n",
       "  <thead>\n",
       "    <tr style=\"text-align: right;\">\n",
       "      <th>Customers</th>\n",
       "      <th>mean</th>\n",
       "      <th>mean_se</th>\n",
       "      <th>mean_ci_lower</th>\n",
       "      <th>mean_ci_upper</th>\n",
       "    </tr>\n",
       "  </thead>\n",
       "  <tbody>\n",
       "    <tr>\n",
       "      <th>882</th>\n",
       "      <td>667.492671</td>\n",
       "      <td>122.899660</td>\n",
       "      <td>426.613764</td>\n",
       "      <td>908.371579</td>\n",
       "    </tr>\n",
       "    <tr>\n",
       "      <th>883</th>\n",
       "      <td>626.708663</td>\n",
       "      <td>122.899926</td>\n",
       "      <td>385.829235</td>\n",
       "      <td>867.588091</td>\n",
       "    </tr>\n",
       "    <tr>\n",
       "      <th>884</th>\n",
       "      <td>608.001916</td>\n",
       "      <td>122.896036</td>\n",
       "      <td>367.130111</td>\n",
       "      <td>848.873720</td>\n",
       "    </tr>\n",
       "    <tr>\n",
       "      <th>885</th>\n",
       "      <td>636.046718</td>\n",
       "      <td>122.896036</td>\n",
       "      <td>395.174914</td>\n",
       "      <td>876.918523</td>\n",
       "    </tr>\n",
       "    <tr>\n",
       "      <th>886</th>\n",
       "      <td>620.464692</td>\n",
       "      <td>122.896036</td>\n",
       "      <td>379.592887</td>\n",
       "      <td>861.336496</td>\n",
       "    </tr>\n",
       "    <tr>\n",
       "      <th>887</th>\n",
       "      <td>-0.000277</td>\n",
       "      <td>122.896036</td>\n",
       "      <td>-240.872081</td>\n",
       "      <td>240.871528</td>\n",
       "    </tr>\n",
       "    <tr>\n",
       "      <th>888</th>\n",
       "      <td>665.473652</td>\n",
       "      <td>122.896036</td>\n",
       "      <td>424.601848</td>\n",
       "      <td>906.345457</td>\n",
       "    </tr>\n",
       "  </tbody>\n",
       "</table>\n",
       "</div>"
      ],
      "text/plain": [
       "Customers        mean     mean_se  mean_ci_lower  mean_ci_upper\n",
       "882        667.492671  122.899660     426.613764     908.371579\n",
       "883        626.708663  122.899926     385.829235     867.588091\n",
       "884        608.001916  122.896036     367.130111     848.873720\n",
       "885        636.046718  122.896036     395.174914     876.918523\n",
       "886        620.464692  122.896036     379.592887     861.336496\n",
       "887         -0.000277  122.896036    -240.872081     240.871528\n",
       "888        665.473652  122.896036     424.601848     906.345457"
      ]
     },
     "execution_count": 46,
     "metadata": {},
     "output_type": "execute_result"
    }
   ],
   "source": [
    "pred.summary_frame()"
   ]
  },
  {
   "cell_type": "markdown",
   "metadata": {},
   "source": [
    "# SARIMAX Models"
   ]
  },
  {
   "cell_type": "code",
   "execution_count": 47,
   "metadata": {
    "ExecuteTime": {
     "end_time": "2020-05-29T09:48:04.119982Z",
     "start_time": "2020-05-29T09:48:04.010046Z"
    },
    "colab": {},
    "colab_type": "code",
    "id": "TMpZWz261J73"
   },
   "outputs": [],
   "source": [
    "## This data set has exogeneous variables and hence the same should be considered while creating the model\n",
    "## so to start with let's create a subset which only has exogeneous variables\n"
   ]
  },
  {
   "cell_type": "code",
   "execution_count": 48,
   "metadata": {
    "ExecuteTime": {
     "end_time": "2020-05-29T09:48:04.254288Z",
     "start_time": "2020-05-29T09:48:04.125108Z"
    },
    "colab": {},
    "colab_type": "code",
    "id": "KyboBLJe1J8E"
   },
   "outputs": [],
   "source": [
    "ex_train=train[['Open','Promotion','StateHoliday','SchoolHoliday']]\n",
    "ex_test=test[['Open','Promotion','StateHoliday','SchoolHoliday']]"
   ]
  },
  {
   "cell_type": "code",
   "execution_count": 49,
   "metadata": {
    "ExecuteTime": {
     "end_time": "2020-05-29T09:48:04.410295Z",
     "start_time": "2020-05-29T09:48:04.259198Z"
    },
    "colab": {
     "base_uri": "https://localhost:8080/",
     "height": 204
    },
    "colab_type": "code",
    "id": "PWiBV0Gq1J8M",
    "outputId": "6dde1054-624c-4595-dd68-69b939e7e326"
   },
   "outputs": [
    {
     "data": {
      "text/html": [
       "<div>\n",
       "<style scoped>\n",
       "    .dataframe tbody tr th:only-of-type {\n",
       "        vertical-align: middle;\n",
       "    }\n",
       "\n",
       "    .dataframe tbody tr th {\n",
       "        vertical-align: top;\n",
       "    }\n",
       "\n",
       "    .dataframe thead th {\n",
       "        text-align: right;\n",
       "    }\n",
       "</style>\n",
       "<table border=\"1\" class=\"dataframe\">\n",
       "  <thead>\n",
       "    <tr style=\"text-align: right;\">\n",
       "      <th></th>\n",
       "      <th>Open</th>\n",
       "      <th>Promotion</th>\n",
       "      <th>StateHoliday</th>\n",
       "      <th>SchoolHoliday</th>\n",
       "    </tr>\n",
       "  </thead>\n",
       "  <tbody>\n",
       "    <tr>\n",
       "      <th>43275</th>\n",
       "      <td>0</td>\n",
       "      <td>0</td>\n",
       "      <td>1</td>\n",
       "      <td>1</td>\n",
       "    </tr>\n",
       "    <tr>\n",
       "      <th>43224</th>\n",
       "      <td>1</td>\n",
       "      <td>0</td>\n",
       "      <td>0</td>\n",
       "      <td>1</td>\n",
       "    </tr>\n",
       "    <tr>\n",
       "      <th>43173</th>\n",
       "      <td>1</td>\n",
       "      <td>0</td>\n",
       "      <td>0</td>\n",
       "      <td>1</td>\n",
       "    </tr>\n",
       "    <tr>\n",
       "      <th>43122</th>\n",
       "      <td>1</td>\n",
       "      <td>0</td>\n",
       "      <td>0</td>\n",
       "      <td>1</td>\n",
       "    </tr>\n",
       "    <tr>\n",
       "      <th>43071</th>\n",
       "      <td>1</td>\n",
       "      <td>0</td>\n",
       "      <td>0</td>\n",
       "      <td>0</td>\n",
       "    </tr>\n",
       "  </tbody>\n",
       "</table>\n",
       "</div>"
      ],
      "text/plain": [
       "       Open  Promotion StateHoliday  SchoolHoliday\n",
       "43275     0          0            1              1\n",
       "43224     1          0            0              1\n",
       "43173     1          0            0              1\n",
       "43122     1          0            0              1\n",
       "43071     1          0            0              0"
      ]
     },
     "execution_count": 49,
     "metadata": {},
     "output_type": "execute_result"
    }
   ],
   "source": [
    "## State variable has numeric character which has to be convered\n",
    "ex_train[\"StateHoliday\"].loc[ex_train[\"StateHoliday\"] == \"0\"] = 0\n",
    "ex_train[\"StateHoliday\"].loc[ex_train[\"StateHoliday\"] == \"a\"] = 1\n",
    "ex_train[\"StateHoliday\"].loc[ex_train[\"StateHoliday\"] == \"b\"] = 2\n",
    "ex_train[\"StateHoliday\"].loc[ex_train[\"StateHoliday\"] == \"c\"] = 3\n",
    "ex_train.head()"
   ]
  },
  {
   "cell_type": "code",
   "execution_count": 50,
   "metadata": {
    "ExecuteTime": {
     "end_time": "2020-05-29T09:48:04.513549Z",
     "start_time": "2020-05-29T09:48:04.412737Z"
    }
   },
   "outputs": [
    {
     "name": "stdout",
     "output_type": "stream",
     "text": [
      "<class 'pandas.core.frame.DataFrame'>\n",
      "Int64Index: 730 entries, 43275 to 7752\n",
      "Data columns (total 4 columns):\n",
      " #   Column         Non-Null Count  Dtype \n",
      "---  ------         --------------  ----- \n",
      " 0   Open           730 non-null    int64 \n",
      " 1   Promotion      730 non-null    int64 \n",
      " 2   StateHoliday   730 non-null    object\n",
      " 3   SchoolHoliday  730 non-null    int64 \n",
      "dtypes: int64(3), object(1)\n",
      "memory usage: 28.5+ KB\n"
     ]
    }
   ],
   "source": [
    "ex_train.info()"
   ]
  },
  {
   "cell_type": "code",
   "execution_count": 51,
   "metadata": {
    "ExecuteTime": {
     "end_time": "2020-05-29T09:48:04.642351Z",
     "start_time": "2020-05-29T09:48:04.517206Z"
    }
   },
   "outputs": [
    {
     "name": "stdout",
     "output_type": "stream",
     "text": [
      "<class 'pandas.core.frame.DataFrame'>\n",
      "Int64Index: 730 entries, 43275 to 7752\n",
      "Data columns (total 4 columns):\n",
      " #   Column         Non-Null Count  Dtype\n",
      "---  ------         --------------  -----\n",
      " 0   Open           730 non-null    int64\n",
      " 1   Promotion      730 non-null    int64\n",
      " 2   StateHoliday   730 non-null    int64\n",
      " 3   SchoolHoliday  730 non-null    int64\n",
      "dtypes: int64(4)\n",
      "memory usage: 28.5 KB\n"
     ]
    }
   ],
   "source": [
    "ex_train['StateHoliday'] = ex_train['StateHoliday'].astype('int64')\n",
    "ex_train.info()"
   ]
  },
  {
   "cell_type": "code",
   "execution_count": 52,
   "metadata": {
    "ExecuteTime": {
     "end_time": "2020-05-29T09:48:04.793427Z",
     "start_time": "2020-05-29T09:48:04.644346Z"
    },
    "colab": {
     "base_uri": "https://localhost:8080/",
     "height": 204
    },
    "colab_type": "code",
    "id": "uO-mAAQy1J8T",
    "outputId": "97585e6a-64a5-4a99-a7cd-456855bc86c3"
   },
   "outputs": [
    {
     "data": {
      "text/html": [
       "<div>\n",
       "<style scoped>\n",
       "    .dataframe tbody tr th:only-of-type {\n",
       "        vertical-align: middle;\n",
       "    }\n",
       "\n",
       "    .dataframe tbody tr th {\n",
       "        vertical-align: top;\n",
       "    }\n",
       "\n",
       "    .dataframe thead th {\n",
       "        text-align: right;\n",
       "    }\n",
       "</style>\n",
       "<table border=\"1\" class=\"dataframe\">\n",
       "  <thead>\n",
       "    <tr style=\"text-align: right;\">\n",
       "      <th></th>\n",
       "      <th>Open</th>\n",
       "      <th>Promotion</th>\n",
       "      <th>StateHoliday</th>\n",
       "      <th>SchoolHoliday</th>\n",
       "    </tr>\n",
       "  </thead>\n",
       "  <tbody>\n",
       "    <tr>\n",
       "      <th>7701</th>\n",
       "      <td>0</td>\n",
       "      <td>0</td>\n",
       "      <td>1</td>\n",
       "      <td>1</td>\n",
       "    </tr>\n",
       "    <tr>\n",
       "      <th>7650</th>\n",
       "      <td>1</td>\n",
       "      <td>0</td>\n",
       "      <td>0</td>\n",
       "      <td>1</td>\n",
       "    </tr>\n",
       "    <tr>\n",
       "      <th>7599</th>\n",
       "      <td>1</td>\n",
       "      <td>0</td>\n",
       "      <td>0</td>\n",
       "      <td>0</td>\n",
       "    </tr>\n",
       "    <tr>\n",
       "      <th>7548</th>\n",
       "      <td>0</td>\n",
       "      <td>0</td>\n",
       "      <td>0</td>\n",
       "      <td>0</td>\n",
       "    </tr>\n",
       "    <tr>\n",
       "      <th>7497</th>\n",
       "      <td>1</td>\n",
       "      <td>1</td>\n",
       "      <td>0</td>\n",
       "      <td>1</td>\n",
       "    </tr>\n",
       "  </tbody>\n",
       "</table>\n",
       "</div>"
      ],
      "text/plain": [
       "      Open  Promotion StateHoliday  SchoolHoliday\n",
       "7701     0          0            1              1\n",
       "7650     1          0            0              1\n",
       "7599     1          0            0              0\n",
       "7548     0          0            0              0\n",
       "7497     1          1            0              1"
      ]
     },
     "execution_count": 52,
     "metadata": {},
     "output_type": "execute_result"
    }
   ],
   "source": [
    "## State variable has numeric character which has to be convered\n",
    "ex_test[\"StateHoliday\"].loc[ex_test[\"StateHoliday\"] == \"0\"] = 0\n",
    "ex_test[\"StateHoliday\"].loc[ex_test[\"StateHoliday\"] == \"a\"] = 1\n",
    "ex_test[\"StateHoliday\"].loc[ex_test[\"StateHoliday\"] == \"b\"] = 2\n",
    "ex_test[\"StateHoliday\"].loc[ex_test[\"StateHoliday\"] == \"c\"] = 3\n",
    "ex_test.head()"
   ]
  },
  {
   "cell_type": "code",
   "execution_count": 53,
   "metadata": {
    "ExecuteTime": {
     "end_time": "2020-05-29T09:48:04.926948Z",
     "start_time": "2020-05-29T09:48:04.798326Z"
    }
   },
   "outputs": [
    {
     "name": "stdout",
     "output_type": "stream",
     "text": [
      "<class 'pandas.core.frame.DataFrame'>\n",
      "Int64Index: 152 entries, 7701 to 0\n",
      "Data columns (total 4 columns):\n",
      " #   Column         Non-Null Count  Dtype \n",
      "---  ------         --------------  ----- \n",
      " 0   Open           152 non-null    int64 \n",
      " 1   Promotion      152 non-null    int64 \n",
      " 2   StateHoliday   152 non-null    object\n",
      " 3   SchoolHoliday  152 non-null    int64 \n",
      "dtypes: int64(3), object(1)\n",
      "memory usage: 5.9+ KB\n"
     ]
    }
   ],
   "source": [
    "ex_test.info()"
   ]
  },
  {
   "cell_type": "code",
   "execution_count": 54,
   "metadata": {
    "ExecuteTime": {
     "end_time": "2020-05-29T09:48:05.054393Z",
     "start_time": "2020-05-29T09:48:04.930106Z"
    }
   },
   "outputs": [
    {
     "name": "stdout",
     "output_type": "stream",
     "text": [
      "<class 'pandas.core.frame.DataFrame'>\n",
      "Int64Index: 152 entries, 7701 to 0\n",
      "Data columns (total 4 columns):\n",
      " #   Column         Non-Null Count  Dtype\n",
      "---  ------         --------------  -----\n",
      " 0   Open           152 non-null    int64\n",
      " 1   Promotion      152 non-null    int64\n",
      " 2   StateHoliday   152 non-null    int64\n",
      " 3   SchoolHoliday  152 non-null    int64\n",
      "dtypes: int64(4)\n",
      "memory usage: 5.9 KB\n"
     ]
    }
   ],
   "source": [
    "ex_test['StateHoliday'] = ex_test['StateHoliday'].astype('int64')\n",
    "ex_test.info()"
   ]
  },
  {
   "cell_type": "code",
   "execution_count": 55,
   "metadata": {
    "ExecuteTime": {
     "end_time": "2020-05-29T09:48:05.160180Z",
     "start_time": "2020-05-29T09:48:05.059107Z"
    }
   },
   "outputs": [
    {
     "name": "stdout",
     "output_type": "stream",
     "text": [
      "Empty DataFrame\n",
      "Columns: [param, seasonal, AIC]\n",
      "Index: []\n"
     ]
    }
   ],
   "source": [
    "SARIMAX_AIC = pd.DataFrame(columns=['param','seasonal', 'AIC'])\n",
    "print(SARIMAX_AIC)"
   ]
  },
  {
   "cell_type": "code",
   "execution_count": 56,
   "metadata": {
    "ExecuteTime": {
     "end_time": "2020-05-29T09:58:53.578995Z",
     "start_time": "2020-05-29T09:48:05.165915Z"
    },
    "colab": {
     "base_uri": "https://localhost:8080/",
     "height": 1000
    },
    "colab_type": "code",
    "id": "WFy7b-CQ1J8f",
    "outputId": "2f255b5c-dd53-49e6-9981-18793c8b9c4e",
    "scrolled": true
   },
   "outputs": [
    {
     "name": "stdout",
     "output_type": "stream",
     "text": [
      "SARIMA(0, 0, 0)(0, 0, 0, 7) - AIC:8449.698132723304\n",
      "SARIMA(0, 0, 0)(0, 0, 1, 7) - AIC:8279.9262403979\n",
      "SARIMA(0, 0, 0)(0, 0, 2, 7) - AIC:8108.890198950639\n",
      "SARIMA(0, 0, 0)(1, 0, 0, 7) - AIC:8211.177187215797\n",
      "SARIMA(0, 0, 0)(1, 0, 1, 7) - AIC:7981.857353701567\n",
      "SARIMA(0, 0, 0)(1, 0, 2, 7) - AIC:7910.367225627974\n",
      "SARIMA(0, 0, 0)(2, 0, 0, 7) - AIC:8009.100682638315\n",
      "SARIMA(0, 0, 0)(2, 0, 1, 7) - AIC:7919.60346937044\n",
      "SARIMA(0, 0, 0)(2, 0, 2, 7) - AIC:7892.84684799241\n",
      "SARIMA(0, 0, 1)(0, 0, 0, 7) - AIC:8359.036843291542\n",
      "SARIMA(0, 0, 1)(0, 0, 1, 7) - AIC:8198.543288931502\n",
      "SARIMA(0, 0, 1)(0, 0, 2, 7) - AIC:8043.613108278147\n",
      "SARIMA(0, 0, 1)(1, 0, 0, 7) - AIC:8157.2418163555685\n",
      "SARIMA(0, 0, 1)(1, 0, 1, 7) - AIC:7940.441463429517\n",
      "SARIMA(0, 0, 1)(1, 0, 2, 7) - AIC:7863.943748379586\n",
      "SARIMA(0, 0, 1)(2, 0, 0, 7) - AIC:7974.072465889667\n",
      "SARIMA(0, 0, 1)(2, 0, 1, 7) - AIC:7885.552237576367\n",
      "SARIMA(0, 0, 1)(2, 0, 2, 7) - AIC:7859.525879431731\n",
      "SARIMA(0, 0, 2)(0, 0, 0, 7) - AIC:8317.251613332379\n",
      "SARIMA(0, 0, 2)(0, 0, 1, 7) - AIC:8165.550345177275\n",
      "SARIMA(0, 0, 2)(0, 0, 2, 7) - AIC:8012.487100668262\n",
      "SARIMA(0, 0, 2)(1, 0, 0, 7) - AIC:8142.266599728346\n",
      "SARIMA(0, 0, 2)(1, 0, 1, 7) - AIC:7915.386888467852\n",
      "SARIMA(0, 0, 2)(1, 0, 2, 7) - AIC:7834.968903904732\n",
      "SARIMA(0, 0, 2)(2, 0, 0, 7) - AIC:7956.210560592861\n",
      "SARIMA(0, 0, 2)(2, 0, 1, 7) - AIC:7864.694718410129\n",
      "SARIMA(0, 0, 2)(2, 0, 2, 7) - AIC:7827.911137594685\n",
      "SARIMA(1, 0, 0)(0, 0, 0, 7) - AIC:8328.58844466095\n",
      "SARIMA(1, 0, 0)(0, 0, 1, 7) - AIC:8182.838915224662\n",
      "SARIMA(1, 0, 0)(0, 0, 2, 7) - AIC:8029.986794113285\n",
      "SARIMA(1, 0, 0)(1, 0, 0, 7) - AIC:8124.499969949024\n",
      "SARIMA(1, 0, 0)(1, 0, 1, 7) - AIC:7934.3626967699065\n",
      "SARIMA(1, 0, 0)(1, 0, 2, 7) - AIC:7860.854245426375\n",
      "SARIMA(1, 0, 0)(2, 0, 0, 7) - AIC:7937.5374662116465\n",
      "SARIMA(1, 0, 0)(2, 0, 1, 7) - AIC:7859.15618035698\n",
      "SARIMA(1, 0, 0)(2, 0, 2, 7) - AIC:7850.6627669736745\n",
      "SARIMA(1, 0, 1)(0, 0, 0, 7) - AIC:8242.684773695526\n",
      "SARIMA(1, 0, 1)(0, 0, 1, 7) - AIC:8133.820602847868\n",
      "SARIMA(1, 0, 1)(0, 0, 2, 7) - AIC:7984.96168196231\n",
      "SARIMA(1, 0, 1)(1, 0, 0, 7) - AIC:8100.8651463965\n",
      "SARIMA(1, 0, 1)(1, 0, 1, 7) - AIC:7888.371931417533\n",
      "SARIMA(1, 0, 1)(1, 0, 2, 7) - AIC:7807.896556091202\n",
      "SARIMA(1, 0, 1)(2, 0, 0, 7) - AIC:7908.460348446133\n",
      "SARIMA(1, 0, 1)(2, 0, 1, 7) - AIC:7816.523058713111\n",
      "SARIMA(1, 0, 1)(2, 0, 2, 7) - AIC:7808.55908326395\n",
      "SARIMA(1, 0, 2)(0, 0, 0, 7) - AIC:8213.84618965449\n",
      "SARIMA(1, 0, 2)(0, 0, 1, 7) - AIC:8104.8792247592255\n",
      "SARIMA(1, 0, 2)(0, 0, 2, 7) - AIC:7975.958671824904\n",
      "SARIMA(1, 0, 2)(1, 0, 0, 7) - AIC:8102.785166639887\n",
      "SARIMA(1, 0, 2)(1, 0, 1, 7) - AIC:7883.621756417512\n",
      "SARIMA(1, 0, 2)(1, 0, 2, 7) - AIC:7794.711438060036\n",
      "SARIMA(1, 0, 2)(2, 0, 0, 7) - AIC:7907.258010262689\n",
      "SARIMA(1, 0, 2)(2, 0, 1, 7) - AIC:7814.197957447112\n",
      "SARIMA(1, 0, 2)(2, 0, 2, 7) - AIC:7793.8030160962735\n",
      "SARIMA(2, 0, 0)(0, 0, 0, 7) - AIC:8291.647218036367\n",
      "SARIMA(2, 0, 0)(0, 0, 1, 7) - AIC:8165.605285859768\n",
      "SARIMA(2, 0, 0)(0, 0, 2, 7) - AIC:8009.93721134566\n",
      "SARIMA(2, 0, 0)(1, 0, 0, 7) - AIC:8097.496501209549\n",
      "SARIMA(2, 0, 0)(1, 0, 1, 7) - AIC:7899.058935243329\n",
      "SARIMA(2, 0, 0)(1, 0, 2, 7) - AIC:7833.222852860237\n",
      "SARIMA(2, 0, 0)(2, 0, 0, 7) - AIC:7905.172592346368\n",
      "SARIMA(2, 0, 0)(2, 0, 1, 7) - AIC:7818.740702446757\n",
      "SARIMA(2, 0, 0)(2, 0, 2, 7) - AIC:7814.913318742607\n",
      "SARIMA(2, 0, 1)(0, 0, 0, 7) - AIC:8226.033744681385\n",
      "SARIMA(2, 0, 1)(0, 0, 1, 7) - AIC:8117.696482943395\n",
      "SARIMA(2, 0, 1)(0, 0, 2, 7) - AIC:7975.643653798198\n",
      "SARIMA(2, 0, 1)(1, 0, 0, 7) - AIC:8091.355404968017\n",
      "SARIMA(2, 0, 1)(1, 0, 1, 7) - AIC:7889.381829284841\n",
      "SARIMA(2, 0, 1)(1, 0, 2, 7) - AIC:7814.352135207342\n",
      "SARIMA(2, 0, 1)(2, 0, 0, 7) - AIC:7896.845962687148\n",
      "SARIMA(2, 0, 1)(2, 0, 1, 7) - AIC:7810.653419422497\n",
      "SARIMA(2, 0, 1)(2, 0, 2, 7) - AIC:7805.172658935392\n",
      "SARIMA(2, 0, 2)(0, 0, 0, 7) - AIC:8222.865108634534\n",
      "SARIMA(2, 0, 2)(0, 0, 1, 7) - AIC:8118.802650825052\n",
      "SARIMA(2, 0, 2)(0, 0, 2, 7) - AIC:7981.334086194347\n",
      "SARIMA(2, 0, 2)(1, 0, 0, 7) - AIC:8097.311628800657\n",
      "SARIMA(2, 0, 2)(1, 0, 1, 7) - AIC:7908.344127892918\n",
      "SARIMA(2, 0, 2)(1, 0, 2, 7) - AIC:7810.701751863728\n",
      "SARIMA(2, 0, 2)(2, 0, 0, 7) - AIC:7909.498051539575\n",
      "SARIMA(2, 0, 2)(2, 0, 1, 7) - AIC:7863.864110039126\n",
      "SARIMA(2, 0, 2)(2, 0, 2, 7) - AIC:7816.26058805305\n"
     ]
    }
   ],
   "source": [
    "## Let's first use SARIMAX with exogenous variable \n",
    "\n",
    "for param in pdq:\n",
    "    for param_seasonal in model_pdq:\n",
    "        mod = sm.tsa.statespace.SARIMAX(train['Customers'],exog=ex_train,\n",
    "                                            order=param,\n",
    "                                            seasonal_order=param_seasonal,\n",
    "                                            enforce_stationarity=False,\n",
    "                                            enforce_invertibility=False)\n",
    "            \n",
    "        results_SARIMAX = mod.fit()\n",
    "        print('SARIMA{}{} - AIC:{}'.format(param, param_seasonal, results_SARIMAX.aic))\n",
    "        SARIMAX_AIC = SARIMAX_AIC.append({'param':param,'seasonal':param_seasonal ,'AIC': results_SARIMAX.aic}, ignore_index=True)\n"
   ]
  },
  {
   "cell_type": "code",
   "execution_count": 57,
   "metadata": {
    "ExecuteTime": {
     "end_time": "2020-05-29T09:58:53.620920Z",
     "start_time": "2020-05-29T09:58:53.581426Z"
    }
   },
   "outputs": [
    {
     "data": {
      "text/html": [
       "<div>\n",
       "<style scoped>\n",
       "    .dataframe tbody tr th:only-of-type {\n",
       "        vertical-align: middle;\n",
       "    }\n",
       "\n",
       "    .dataframe tbody tr th {\n",
       "        vertical-align: top;\n",
       "    }\n",
       "\n",
       "    .dataframe thead th {\n",
       "        text-align: right;\n",
       "    }\n",
       "</style>\n",
       "<table border=\"1\" class=\"dataframe\">\n",
       "  <thead>\n",
       "    <tr style=\"text-align: right;\">\n",
       "      <th></th>\n",
       "      <th>param</th>\n",
       "      <th>seasonal</th>\n",
       "      <th>AIC</th>\n",
       "    </tr>\n",
       "  </thead>\n",
       "  <tbody>\n",
       "    <tr>\n",
       "      <th>53</th>\n",
       "      <td>(1, 0, 2)</td>\n",
       "      <td>(2, 0, 2, 7)</td>\n",
       "      <td>7793.803016</td>\n",
       "    </tr>\n",
       "    <tr>\n",
       "      <th>50</th>\n",
       "      <td>(1, 0, 2)</td>\n",
       "      <td>(1, 0, 2, 7)</td>\n",
       "      <td>7794.711438</td>\n",
       "    </tr>\n",
       "    <tr>\n",
       "      <th>71</th>\n",
       "      <td>(2, 0, 1)</td>\n",
       "      <td>(2, 0, 2, 7)</td>\n",
       "      <td>7805.172659</td>\n",
       "    </tr>\n",
       "    <tr>\n",
       "      <th>41</th>\n",
       "      <td>(1, 0, 1)</td>\n",
       "      <td>(1, 0, 2, 7)</td>\n",
       "      <td>7807.896556</td>\n",
       "    </tr>\n",
       "    <tr>\n",
       "      <th>44</th>\n",
       "      <td>(1, 0, 1)</td>\n",
       "      <td>(2, 0, 2, 7)</td>\n",
       "      <td>7808.559083</td>\n",
       "    </tr>\n",
       "  </tbody>\n",
       "</table>\n",
       "</div>"
      ],
      "text/plain": [
       "        param      seasonal          AIC\n",
       "53  (1, 0, 2)  (2, 0, 2, 7)  7793.803016\n",
       "50  (1, 0, 2)  (1, 0, 2, 7)  7794.711438\n",
       "71  (2, 0, 1)  (2, 0, 2, 7)  7805.172659\n",
       "41  (1, 0, 1)  (1, 0, 2, 7)  7807.896556\n",
       "44  (1, 0, 1)  (2, 0, 2, 7)  7808.559083"
      ]
     },
     "execution_count": 57,
     "metadata": {},
     "output_type": "execute_result"
    }
   ],
   "source": [
    "SARIMAX_AIC.sort_values(by=['AIC']).head()"
   ]
  },
  {
   "cell_type": "code",
   "execution_count": 58,
   "metadata": {
    "ExecuteTime": {
     "end_time": "2020-05-29T09:59:08.717185Z",
     "start_time": "2020-05-29T09:58:53.623523Z"
    },
    "colab": {
     "base_uri": "https://localhost:8080/",
     "height": 459
    },
    "colab_type": "code",
    "id": "eyp3pVxj1J8o",
    "outputId": "ae21592e-1052-424a-89f2-4cb01c970219"
   },
   "outputs": [
    {
     "name": "stdout",
     "output_type": "stream",
     "text": [
      "                                     SARIMAX Results                                     \n",
      "=========================================================================================\n",
      "Dep. Variable:                         Customers   No. Observations:                  730\n",
      "Model:             SARIMAX(1, 0, 2)x(2, 0, 2, 7)   Log Likelihood               -3884.902\n",
      "Date:                           Fri, 29 May 2020   AIC                           7793.803\n",
      "Time:                                   15:29:08   BIC                           7848.637\n",
      "Sample:                                        0   HQIC                          7814.981\n",
      "                                           - 730                                         \n",
      "Covariance Type:                             opg                                         \n",
      "=================================================================================\n",
      "                    coef    std err          z      P>|z|      [0.025      0.975]\n",
      "---------------------------------------------------------------------------------\n",
      "Open            518.1309     22.456     23.073      0.000     474.117     562.145\n",
      "Promotion        94.1513      6.966     13.515      0.000      80.497     107.805\n",
      "StateHoliday    -18.6194     13.289     -1.401      0.161     -44.665       7.426\n",
      "SchoolHoliday    13.3680      6.375      2.097      0.036       0.872      25.864\n",
      "ar.L1             0.7974      0.052     15.249      0.000       0.695       0.900\n",
      "ma.L1            -0.6552      0.064    -10.299      0.000      -0.780      -0.531\n",
      "ma.L2             0.1153      0.032      3.554      0.000       0.052       0.179\n",
      "ar.S.L7           0.2523      0.101      2.508      0.012       0.055       0.449\n",
      "ar.S.L14          0.7364      0.100      7.380      0.000       0.541       0.932\n",
      "ma.S.L7          -0.2430      0.119     -2.047      0.041      -0.476      -0.010\n",
      "ma.S.L14         -0.5362      0.108     -4.968      0.000      -0.748      -0.325\n",
      "sigma2         3117.7672    109.302     28.524      0.000    2903.540    3331.995\n",
      "===================================================================================\n",
      "Ljung-Box (Q):                       44.10   Jarque-Bera (JB):               962.08\n",
      "Prob(Q):                              0.30   Prob(JB):                         0.00\n",
      "Heteroskedasticity (H):               2.11   Skew:                             0.92\n",
      "Prob(H) (two-sided):                  0.00   Kurtosis:                         8.39\n",
      "===================================================================================\n",
      "\n",
      "Warnings:\n",
      "[1] Covariance matrix calculated using the outer product of gradients (complex-step).\n"
     ]
    }
   ],
   "source": [
    "## SARIMA(1, 0, 2)(2, 0, 2, 7)\n",
    "mod = sm.tsa.statespace.SARIMAX(train['Customers'],exog=ex_train,\n",
    "                                order=(1,0,2),\n",
    "                                seasonal_order=(2, 0, 2, 7),\n",
    "                                enforce_stationarity=False,\n",
    "                                enforce_invertibility=False)\n",
    "results = mod.fit()\n",
    "print(results.summary())"
   ]
  },
  {
   "cell_type": "code",
   "execution_count": 59,
   "metadata": {
    "ExecuteTime": {
     "end_time": "2020-05-29T09:59:08.766550Z",
     "start_time": "2020-05-29T09:59:08.717185Z"
    }
   },
   "outputs": [
    {
     "data": {
      "text/plain": [
       "730     32.615274\n",
       "731    588.238779\n",
       "732    623.482769\n",
       "733     -8.843813\n",
       "734    811.510674\n",
       "          ...    \n",
       "877    547.337577\n",
       "878    568.203489\n",
       "879    601.546648\n",
       "880     -1.179037\n",
       "881    762.436777\n",
       "Length: 152, dtype: float64"
      ]
     },
     "execution_count": 59,
     "metadata": {},
     "output_type": "execute_result"
    }
   ],
   "source": [
    "pred = results.get_forecast(steps=152,exog=ex_test)\n",
    "pred.predicted_mean"
   ]
  },
  {
   "cell_type": "code",
   "execution_count": 60,
   "metadata": {
    "ExecuteTime": {
     "end_time": "2020-05-29T09:59:08.814018Z",
     "start_time": "2020-05-29T09:59:08.771937Z"
    }
   },
   "outputs": [
    {
     "name": "stdout",
     "output_type": "stream",
     "text": [
      "60.8229549381696\n"
     ]
    }
   ],
   "source": [
    "rmse_SARIMAX = sqrt(mean_squared_error(test.Customers ,pred.predicted_mean))\n",
    "print(rmse_SARIMAX)"
   ]
  },
  {
   "cell_type": "code",
   "execution_count": 61,
   "metadata": {
    "ExecuteTime": {
     "end_time": "2020-05-29T09:59:08.952441Z",
     "start_time": "2020-05-29T09:59:08.815396Z"
    }
   },
   "outputs": [
    {
     "data": {
      "text/html": [
       "<div>\n",
       "<style scoped>\n",
       "    .dataframe tbody tr th:only-of-type {\n",
       "        vertical-align: middle;\n",
       "    }\n",
       "\n",
       "    .dataframe tbody tr th {\n",
       "        vertical-align: top;\n",
       "    }\n",
       "\n",
       "    .dataframe thead th {\n",
       "        text-align: right;\n",
       "    }\n",
       "</style>\n",
       "<table border=\"1\" class=\"dataframe\">\n",
       "  <thead>\n",
       "    <tr style=\"text-align: right;\">\n",
       "      <th></th>\n",
       "      <th>RMSE</th>\n",
       "    </tr>\n",
       "  </thead>\n",
       "  <tbody>\n",
       "    <tr>\n",
       "      <th>ARIMA(2,0,2)</th>\n",
       "      <td>237.501868</td>\n",
       "    </tr>\n",
       "    <tr>\n",
       "      <th>SARIMA(0,0,1)(2,0,2)7</th>\n",
       "      <td>149.183676</td>\n",
       "    </tr>\n",
       "    <tr>\n",
       "      <th>SARIMAX(1,0,2)(2,0,2)7</th>\n",
       "      <td>60.822955</td>\n",
       "    </tr>\n",
       "  </tbody>\n",
       "</table>\n",
       "</div>"
      ],
      "text/plain": [
       "                              RMSE\n",
       "ARIMA(2,0,2)            237.501868\n",
       "SARIMA(0,0,1)(2,0,2)7   149.183676\n",
       "SARIMAX(1,0,2)(2,0,2)7   60.822955"
      ]
     },
     "execution_count": 61,
     "metadata": {},
     "output_type": "execute_result"
    }
   ],
   "source": [
    "temp_resultsDf = pd.DataFrame({'RMSE': [rmse_SARIMAX]}\n",
    "                           ,index=['SARIMAX(1,0,2)(2,0,2)7'])\n",
    "\n",
    "resultsDf = pd.concat([resultsDf, temp_resultsDf])\n",
    "resultsDf"
   ]
  },
  {
   "cell_type": "code",
   "execution_count": 62,
   "metadata": {
    "ExecuteTime": {
     "end_time": "2020-05-29T09:59:29.387506Z",
     "start_time": "2020-05-29T09:59:08.954475Z"
    }
   },
   "outputs": [
    {
     "name": "stdout",
     "output_type": "stream",
     "text": [
      "                                     SARIMAX Results                                     \n",
      "=========================================================================================\n",
      "Dep. Variable:                         Customers   No. Observations:                  730\n",
      "Model:             SARIMAX(1, 0, 2)x(2, 0, 2, 7)   Log Likelihood               -3878.172\n",
      "Date:                           Fri, 29 May 2020   AIC                           7780.343\n",
      "Time:                                   15:29:29   BIC                           7835.110\n",
      "Sample:                                        0   HQIC                          7801.501\n",
      "                                           - 730                                         \n",
      "Covariance Type:                             opg                                         \n",
      "=====================================================================================\n",
      "                        coef    std err          z      P>|z|      [0.025      0.975]\n",
      "-------------------------------------------------------------------------------------\n",
      "ar.L1                 0.6791      0.129      5.257      0.000       0.426       0.932\n",
      "ma.L1                -0.5038      0.131     -3.848      0.000      -0.760      -0.247\n",
      "ma.L2                 0.0810      0.047      1.722      0.085      -0.011       0.173\n",
      "ar.S.L7               1.4887      0.201      7.425      0.000       1.096       1.882\n",
      "ar.S.L14             -0.4861      0.202     -2.410      0.016      -0.881      -0.091\n",
      "ma.S.L7              -1.5264      0.193     -7.892      0.000      -1.905      -1.147\n",
      "ma.S.L14              0.5459      0.187      2.922      0.003       0.180       0.912\n",
      "var.Open             14.8473      5.988      2.479      0.013       3.111      26.584\n",
      "var.Promotion         3.5913      5.101      0.704      0.481      -6.406      13.589\n",
      "var.StateHoliday      6.2719     10.245      0.612      0.540     -13.808      26.352\n",
      "var.SchoolHoliday     1.8485      2.308      0.801      0.423      -2.675       6.372\n",
      "sigma2             3112.6045    127.048     24.499      0.000    2863.595    3361.614\n",
      "===================================================================================\n",
      "Ljung-Box (Q):                       68.29   Jarque-Bera (JB):               655.45\n",
      "Prob(Q):                              0.00   Prob(JB):                         0.00\n",
      "Heteroskedasticity (H):               1.89   Skew:                             0.55\n",
      "Prob(H) (two-sided):                  0.00   Kurtosis:                         7.58\n",
      "===================================================================================\n",
      "\n",
      "Warnings:\n",
      "[1] Covariance matrix calculated using the outer product of gradients (complex-step).\n"
     ]
    }
   ],
   "source": [
    "## Let's use SARIMAX with exogenous variable whose coefficients are allowed to vary over time \n",
    "## Time Varying Linear Model[TVLM] SARIMA(1, 0, 2)(2, 0, 2, 7)\n",
    "mod = sm.tsa.statespace.SARIMAX(train['Customers'],exog=ex_train,time_varying_regression=True,mle_regression=False,\n",
    "                                order=(1,0,2),\n",
    "                                seasonal_order=(2, 0, 2, 7),\n",
    "                                enforce_stationarity=False,\n",
    "                                enforce_invertibility=False)\n",
    "results = mod.fit()\n",
    "print(results.summary())"
   ]
  },
  {
   "cell_type": "code",
   "execution_count": 63,
   "metadata": {
    "ExecuteTime": {
     "end_time": "2020-05-29T09:59:29.419674Z",
     "start_time": "2020-05-29T09:59:29.392136Z"
    },
    "colab": {
     "base_uri": "https://localhost:8080/",
     "height": 221
    },
    "colab_type": "code",
    "id": "ab7_qyEV1J8v",
    "outputId": "2d9fa3f4-bb78-4b5c-a908-4fcabbe9ba81"
   },
   "outputs": [
    {
     "data": {
      "text/plain": [
       "730    -91.579523\n",
       "731    617.565071\n",
       "732    622.923060\n",
       "733    -11.072485\n",
       "734    830.343320\n",
       "          ...    \n",
       "877    563.615925\n",
       "878    602.857675\n",
       "879    634.933576\n",
       "880     -0.543043\n",
       "881    814.836680\n",
       "Length: 152, dtype: float64"
      ]
     },
     "execution_count": 63,
     "metadata": {},
     "output_type": "execute_result"
    }
   ],
   "source": [
    "pred = results.get_forecast(steps=152,exog=ex_test)\n",
    "pred.predicted_mean"
   ]
  },
  {
   "cell_type": "code",
   "execution_count": 64,
   "metadata": {
    "ExecuteTime": {
     "end_time": "2020-05-29T09:59:29.674794Z",
     "start_time": "2020-05-29T09:59:29.421456Z"
    },
    "colab": {
     "base_uri": "https://localhost:8080/",
     "height": 34
    },
    "colab_type": "code",
    "id": "6Y7Mfdm01J83",
    "outputId": "3d9a9aeb-d6f5-44c7-9426-479e70285354"
   },
   "outputs": [
    {
     "name": "stdout",
     "output_type": "stream",
     "text": [
      "56.75709528098245\n"
     ]
    }
   ],
   "source": [
    "rmse_SARIMAX_timevarying = sqrt(mean_squared_error(test.Customers ,pred.predicted_mean))\n",
    "print(rmse_SARIMAX_timevarying)"
   ]
  },
  {
   "cell_type": "code",
   "execution_count": 65,
   "metadata": {
    "ExecuteTime": {
     "end_time": "2020-05-29T09:59:29.863622Z",
     "start_time": "2020-05-29T09:59:29.682188Z"
    }
   },
   "outputs": [
    {
     "data": {
      "text/html": [
       "<div>\n",
       "<style scoped>\n",
       "    .dataframe tbody tr th:only-of-type {\n",
       "        vertical-align: middle;\n",
       "    }\n",
       "\n",
       "    .dataframe tbody tr th {\n",
       "        vertical-align: top;\n",
       "    }\n",
       "\n",
       "    .dataframe thead th {\n",
       "        text-align: right;\n",
       "    }\n",
       "</style>\n",
       "<table border=\"1\" class=\"dataframe\">\n",
       "  <thead>\n",
       "    <tr style=\"text-align: right;\">\n",
       "      <th></th>\n",
       "      <th>RMSE</th>\n",
       "    </tr>\n",
       "  </thead>\n",
       "  <tbody>\n",
       "    <tr>\n",
       "      <th>ARIMA(2,0,2)</th>\n",
       "      <td>237.501868</td>\n",
       "    </tr>\n",
       "    <tr>\n",
       "      <th>SARIMA(0,0,1)(2,0,2)7</th>\n",
       "      <td>149.183676</td>\n",
       "    </tr>\n",
       "    <tr>\n",
       "      <th>SARIMAX(1,0,2)(2,0,2)7</th>\n",
       "      <td>60.822955</td>\n",
       "    </tr>\n",
       "    <tr>\n",
       "      <th>SARIMAX_tvlm(1,0,2)(2,0,2)7</th>\n",
       "      <td>56.757095</td>\n",
       "    </tr>\n",
       "  </tbody>\n",
       "</table>\n",
       "</div>"
      ],
      "text/plain": [
       "                                   RMSE\n",
       "ARIMA(2,0,2)                 237.501868\n",
       "SARIMA(0,0,1)(2,0,2)7        149.183676\n",
       "SARIMAX(1,0,2)(2,0,2)7        60.822955\n",
       "SARIMAX_tvlm(1,0,2)(2,0,2)7   56.757095"
      ]
     },
     "execution_count": 65,
     "metadata": {},
     "output_type": "execute_result"
    }
   ],
   "source": [
    "temp_resultsDf = pd.DataFrame({'RMSE': [rmse_SARIMAX_timevarying]}\n",
    "                           ,index=['SARIMAX_tvlm(1,0,2)(2,0,2)7'])\n",
    "\n",
    "resultsDf = pd.concat([resultsDf, temp_resultsDf])\n",
    "resultsDf"
   ]
  },
  {
   "cell_type": "code",
   "execution_count": 66,
   "metadata": {
    "ExecuteTime": {
     "end_time": "2020-05-29T09:59:30.033935Z",
     "start_time": "2020-05-29T09:59:29.868339Z"
    },
    "colab": {},
    "colab_type": "code",
    "id": "UaymcMF-1J8-"
   },
   "outputs": [],
   "source": [
    "ex_1044=Store50_1044[['Open','Promotion','StateHoliday','SchoolHoliday']]"
   ]
  },
  {
   "cell_type": "code",
   "execution_count": 67,
   "metadata": {
    "ExecuteTime": {
     "end_time": "2020-05-29T09:59:30.202921Z",
     "start_time": "2020-05-29T09:59:30.034978Z"
    },
    "colab": {
     "base_uri": "https://localhost:8080/",
     "height": 204
    },
    "colab_type": "code",
    "id": "pvxf4Uj11J9D",
    "outputId": "d8ac11a7-f88d-4d94-c83c-68c706746bff"
   },
   "outputs": [
    {
     "data": {
      "text/html": [
       "<div>\n",
       "<style scoped>\n",
       "    .dataframe tbody tr th:only-of-type {\n",
       "        vertical-align: middle;\n",
       "    }\n",
       "\n",
       "    .dataframe tbody tr th {\n",
       "        vertical-align: top;\n",
       "    }\n",
       "\n",
       "    .dataframe thead th {\n",
       "        text-align: right;\n",
       "    }\n",
       "</style>\n",
       "<table border=\"1\" class=\"dataframe\">\n",
       "  <thead>\n",
       "    <tr style=\"text-align: right;\">\n",
       "      <th></th>\n",
       "      <th>Open</th>\n",
       "      <th>Promotion</th>\n",
       "      <th>StateHoliday</th>\n",
       "      <th>SchoolHoliday</th>\n",
       "    </tr>\n",
       "  </thead>\n",
       "  <tbody>\n",
       "    <tr>\n",
       "      <th>43275</th>\n",
       "      <td>0</td>\n",
       "      <td>0</td>\n",
       "      <td>1</td>\n",
       "      <td>1</td>\n",
       "    </tr>\n",
       "    <tr>\n",
       "      <th>43224</th>\n",
       "      <td>1</td>\n",
       "      <td>0</td>\n",
       "      <td>0</td>\n",
       "      <td>1</td>\n",
       "    </tr>\n",
       "    <tr>\n",
       "      <th>43173</th>\n",
       "      <td>1</td>\n",
       "      <td>0</td>\n",
       "      <td>0</td>\n",
       "      <td>1</td>\n",
       "    </tr>\n",
       "    <tr>\n",
       "      <th>43122</th>\n",
       "      <td>1</td>\n",
       "      <td>0</td>\n",
       "      <td>0</td>\n",
       "      <td>1</td>\n",
       "    </tr>\n",
       "    <tr>\n",
       "      <th>43071</th>\n",
       "      <td>1</td>\n",
       "      <td>0</td>\n",
       "      <td>0</td>\n",
       "      <td>0</td>\n",
       "    </tr>\n",
       "  </tbody>\n",
       "</table>\n",
       "</div>"
      ],
      "text/plain": [
       "       Open  Promotion StateHoliday  SchoolHoliday\n",
       "43275     0          0            1              1\n",
       "43224     1          0            0              1\n",
       "43173     1          0            0              1\n",
       "43122     1          0            0              1\n",
       "43071     1          0            0              0"
      ]
     },
     "execution_count": 67,
     "metadata": {},
     "output_type": "execute_result"
    }
   ],
   "source": [
    "## State variable has numeric character which has to be convered\n",
    "ex_1044[\"StateHoliday\"].loc[ex_1044[\"StateHoliday\"] == \"0\"] = 0\n",
    "ex_1044[\"StateHoliday\"].loc[ex_1044[\"StateHoliday\"] == \"a\"] = 1\n",
    "ex_1044[\"StateHoliday\"].loc[ex_1044[\"StateHoliday\"] == \"b\"] = 2\n",
    "ex_1044[\"StateHoliday\"].loc[ex_1044[\"StateHoliday\"] == \"c\"] = 3\n",
    "ex_1044.head()"
   ]
  },
  {
   "cell_type": "code",
   "execution_count": 68,
   "metadata": {
    "ExecuteTime": {
     "end_time": "2020-05-29T09:59:30.338187Z",
     "start_time": "2020-05-29T09:59:30.231619Z"
    }
   },
   "outputs": [
    {
     "name": "stdout",
     "output_type": "stream",
     "text": [
      "<class 'pandas.core.frame.DataFrame'>\n",
      "Int64Index: 882 entries, 43275 to 0\n",
      "Data columns (total 4 columns):\n",
      " #   Column         Non-Null Count  Dtype \n",
      "---  ------         --------------  ----- \n",
      " 0   Open           882 non-null    int64 \n",
      " 1   Promotion      882 non-null    int64 \n",
      " 2   StateHoliday   882 non-null    object\n",
      " 3   SchoolHoliday  882 non-null    int64 \n",
      "dtypes: int64(3), object(1)\n",
      "memory usage: 34.5+ KB\n"
     ]
    }
   ],
   "source": [
    "ex_1044.info()"
   ]
  },
  {
   "cell_type": "code",
   "execution_count": 69,
   "metadata": {
    "ExecuteTime": {
     "end_time": "2020-05-29T09:59:30.451740Z",
     "start_time": "2020-05-29T09:59:30.356285Z"
    }
   },
   "outputs": [
    {
     "name": "stdout",
     "output_type": "stream",
     "text": [
      "<class 'pandas.core.frame.DataFrame'>\n",
      "Int64Index: 882 entries, 43275 to 0\n",
      "Data columns (total 4 columns):\n",
      " #   Column         Non-Null Count  Dtype\n",
      "---  ------         --------------  -----\n",
      " 0   Open           882 non-null    int64\n",
      " 1   Promotion      882 non-null    int64\n",
      " 2   StateHoliday   882 non-null    int64\n",
      " 3   SchoolHoliday  882 non-null    int64\n",
      "dtypes: int64(4)\n",
      "memory usage: 34.5 KB\n"
     ]
    }
   ],
   "source": [
    "ex_1044['StateHoliday'] = ex_1044['StateHoliday'].astype('int64')\n",
    "ex_1044.info()"
   ]
  },
  {
   "cell_type": "code",
   "execution_count": 70,
   "metadata": {
    "ExecuteTime": {
     "end_time": "2020-05-29T09:59:49.383291Z",
     "start_time": "2020-05-29T09:59:30.456831Z"
    },
    "colab": {
     "base_uri": "https://localhost:8080/",
     "height": 170
    },
    "colab_type": "code",
    "id": "33BWkLlo1J9P",
    "outputId": "2da89653-9555-4e0f-9e00-ab303b32d24b"
   },
   "outputs": [
    {
     "name": "stdout",
     "output_type": "stream",
     "text": [
      "                                     SARIMAX Results                                     \n",
      "=========================================================================================\n",
      "Dep. Variable:                         Customers   No. Observations:                  882\n",
      "Model:             SARIMAX(1, 0, 2)x(2, 0, 2, 7)   Log Likelihood               -4713.275\n",
      "Date:                           Fri, 29 May 2020   AIC                           9450.550\n",
      "Time:                                   15:29:49   BIC                           9507.703\n",
      "Sample:                                        0   HQIC                          9472.424\n",
      "                                           - 882                                         \n",
      "Covariance Type:                             opg                                         \n",
      "=================================================================================\n",
      "                    coef    std err          z      P>|z|      [0.025      0.975]\n",
      "---------------------------------------------------------------------------------\n",
      "Open            532.4158     18.768     28.368      0.000     495.631     569.201\n",
      "Promotion        96.4011      5.857     16.460      0.000      84.922     107.880\n",
      "StateHoliday    -19.2800     11.612     -1.660      0.097     -42.038       3.478\n",
      "SchoolHoliday     9.5949      5.744      1.670      0.095      -1.663      20.853\n",
      "ar.L1             0.8092      0.046     17.479      0.000       0.718       0.900\n",
      "ma.L1            -0.7128      0.056    -12.774      0.000      -0.822      -0.603\n",
      "ma.L2             0.1375      0.028      4.872      0.000       0.082       0.193\n",
      "ar.S.L7           0.2406      0.088      2.732      0.006       0.068       0.413\n",
      "ar.S.L14          0.7329      0.087      8.426      0.000       0.562       0.903\n",
      "ma.S.L7          -0.2416      0.105     -2.310      0.021      -0.447      -0.037\n",
      "ma.S.L14         -0.5323      0.095     -5.599      0.000      -0.719      -0.346\n",
      "sigma2         3130.6501    105.572     29.654      0.000    2923.732    3337.568\n",
      "===================================================================================\n",
      "Ljung-Box (Q):                       50.60   Jarque-Bera (JB):               988.68\n",
      "Prob(Q):                              0.12   Prob(JB):                         0.00\n",
      "Heteroskedasticity (H):               1.91   Skew:                             0.93\n",
      "Prob(H) (two-sided):                  0.00   Kurtosis:                         7.90\n",
      "===================================================================================\n",
      "\n",
      "Warnings:\n",
      "[1] Covariance matrix calculated using the outer product of gradients (complex-step).\n"
     ]
    }
   ],
   "source": [
    "## To get the real forecast for 7 days, we will rerun the model on the complete dataset\n",
    "\n",
    "mod = sm.tsa.statespace.SARIMAX(Store50_1044['Customers'],exog=ex_1044,\n",
    "                                order=(1,0,2),\n",
    "                                seasonal_order=(2, 0, 2, 7),\n",
    "                                enforce_stationarity=False,\n",
    "                                enforce_invertibility=False)\n",
    "results = mod.fit()\n",
    "print(results.summary())"
   ]
  },
  {
   "cell_type": "markdown",
   "metadata": {
    "colab_type": "text",
    "id": "t29sYWF11J-W"
   },
   "source": [
    "\n"
   ]
  },
  {
   "cell_type": "markdown",
   "metadata": {
    "colab": {},
    "colab_type": "code",
    "id": "vhQmUQgg1J-Y"
   },
   "source": [
    "Role of Exogenous variables is not to reduce errors but to ensure to consider the additional variables in a practical way."
   ]
  },
  {
   "cell_type": "markdown",
   "metadata": {
    "colab": {},
    "colab_type": "code",
    "id": "iUpCUfdf1J-c"
   },
   "source": [
    "Now let's verify if the order as we got it using ACF and PACF gives you a better model in terms of performance.\n",
    "So we will build two models with order=(0,0,0),seasonal_order=(1, 1,1, 7) and order=(0,0,1),seasonal_order=(1, 1,1, 7) for both \n",
    "SARIMAX with and without exogeneous variables\n",
    "seasonality value for P and Q is assumed to be one because as per ACF and PACF plot seasonality was visible for every 7th period. \n",
    "In our SARIMAX loop in the earlier part of code we have assumed d to be 0. With this we will verify if first order differentiation makes a difference \n",
    "in terms of value of p and q both for the order and seasonal order."
   ]
  },
  {
   "cell_type": "code",
   "execution_count": 71,
   "metadata": {
    "ExecuteTime": {
     "end_time": "2020-05-29T09:59:51.237999Z",
     "start_time": "2020-05-29T09:59:49.385323Z"
    }
   },
   "outputs": [
    {
     "name": "stdout",
     "output_type": "stream",
     "text": [
      "                                 SARIMAX Results                                 \n",
      "=================================================================================\n",
      "Dep. Variable:                 Customers   No. Observations:                  730\n",
      "Model:             SARIMAX(1, 1, [1], 7)   Log Likelihood               -4447.653\n",
      "Date:                   Fri, 29 May 2020   AIC                           8901.305\n",
      "Time:                           15:29:51   BIC                           8915.022\n",
      "Sample:                                0   HQIC                          8906.602\n",
      "                                   - 730                                         \n",
      "Covariance Type:                     opg                                         \n",
      "==============================================================================\n",
      "                 coef    std err          z      P>|z|      [0.025      0.975]\n",
      "------------------------------------------------------------------------------\n",
      "ar.S.L7       -0.1793      0.034     -5.256      0.000      -0.246      -0.112\n",
      "ma.S.L7       -0.8971      0.019    -47.406      0.000      -0.934      -0.860\n",
      "sigma2      1.464e+04    344.168     42.533      0.000     1.4e+04    1.53e+04\n",
      "===================================================================================\n",
      "Ljung-Box (Q):                       81.24   Jarque-Bera (JB):              4296.24\n",
      "Prob(Q):                              0.00   Prob(JB):                         0.00\n",
      "Heteroskedasticity (H):               1.65   Skew:                            -2.40\n",
      "Prob(H) (two-sided):                  0.00   Kurtosis:                        14.01\n",
      "===================================================================================\n",
      "\n",
      "Warnings:\n",
      "[1] Covariance matrix calculated using the outer product of gradients (complex-step).\n"
     ]
    }
   ],
   "source": [
    "## SARIMA(0, 0, 0)(1,1,1, 7) \n",
    "mod = sm.tsa.statespace.SARIMAX(train['Customers'],\n",
    "                                order=(0,0,0),\n",
    "                                seasonal_order=(1, 1, 1, 7),\n",
    "                                enforce_stationarity=False,\n",
    "                                enforce_invertibility=False)\n",
    "results = mod.fit()\n",
    "print(results.summary())"
   ]
  },
  {
   "cell_type": "code",
   "execution_count": 72,
   "metadata": {
    "ExecuteTime": {
     "end_time": "2020-05-29T09:59:51.272630Z",
     "start_time": "2020-05-29T09:59:51.242649Z"
    }
   },
   "outputs": [
    {
     "data": {
      "text/plain": [
       "730    642.531307\n",
       "731    665.945208\n",
       "732    593.709434\n",
       "733      0.000000\n",
       "734    746.046270\n",
       "          ...    \n",
       "877    544.846190\n",
       "878    564.700437\n",
       "879    585.087803\n",
       "880      0.000000\n",
       "881    734.028732\n",
       "Length: 152, dtype: float64"
      ]
     },
     "execution_count": 72,
     "metadata": {},
     "output_type": "execute_result"
    }
   ],
   "source": [
    "test.Customers= test.Customers.astype(float)\n",
    "final_hat_avg =test.copy()\n",
    "pred = results.get_forecast(steps=152)\n",
    "pred.predicted_mean"
   ]
  },
  {
   "cell_type": "code",
   "execution_count": 73,
   "metadata": {
    "ExecuteTime": {
     "end_time": "2020-05-29T09:59:51.425953Z",
     "start_time": "2020-05-29T09:59:51.273627Z"
    }
   },
   "outputs": [
    {
     "name": "stdout",
     "output_type": "stream",
     "text": [
      "149.42542304503164\n"
     ]
    }
   ],
   "source": [
    "from math import sqrt\n",
    "from sklearn.metrics import mean_squared_error\n",
    "rms = sqrt(mean_squared_error(test.Customers ,pred.predicted_mean))\n",
    "print(rms)"
   ]
  },
  {
   "cell_type": "code",
   "execution_count": 74,
   "metadata": {
    "ExecuteTime": {
     "end_time": "2020-05-29T09:59:51.630367Z",
     "start_time": "2020-05-29T09:59:51.429951Z"
    }
   },
   "outputs": [
    {
     "data": {
      "text/html": [
       "<div>\n",
       "<style scoped>\n",
       "    .dataframe tbody tr th:only-of-type {\n",
       "        vertical-align: middle;\n",
       "    }\n",
       "\n",
       "    .dataframe tbody tr th {\n",
       "        vertical-align: top;\n",
       "    }\n",
       "\n",
       "    .dataframe thead th {\n",
       "        text-align: right;\n",
       "    }\n",
       "</style>\n",
       "<table border=\"1\" class=\"dataframe\">\n",
       "  <thead>\n",
       "    <tr style=\"text-align: right;\">\n",
       "      <th></th>\n",
       "      <th>RMSE</th>\n",
       "    </tr>\n",
       "  </thead>\n",
       "  <tbody>\n",
       "    <tr>\n",
       "      <th>ARIMA(2,0,2)</th>\n",
       "      <td>237.501868</td>\n",
       "    </tr>\n",
       "    <tr>\n",
       "      <th>SARIMA(0,0,1)(2,0,2)7</th>\n",
       "      <td>149.183676</td>\n",
       "    </tr>\n",
       "    <tr>\n",
       "      <th>SARIMAX(1,0,2)(2,0,2)7</th>\n",
       "      <td>60.822955</td>\n",
       "    </tr>\n",
       "    <tr>\n",
       "      <th>SARIMAX_tvlm(1,0,2)(2,0,2)7</th>\n",
       "      <td>56.757095</td>\n",
       "    </tr>\n",
       "    <tr>\n",
       "      <th>SARIMA(0,0,0)(1,1,1)7</th>\n",
       "      <td>149.425423</td>\n",
       "    </tr>\n",
       "  </tbody>\n",
       "</table>\n",
       "</div>"
      ],
      "text/plain": [
       "                                   RMSE\n",
       "ARIMA(2,0,2)                 237.501868\n",
       "SARIMA(0,0,1)(2,0,2)7        149.183676\n",
       "SARIMAX(1,0,2)(2,0,2)7        60.822955\n",
       "SARIMAX_tvlm(1,0,2)(2,0,2)7   56.757095\n",
       "SARIMA(0,0,0)(1,1,1)7        149.425423"
      ]
     },
     "execution_count": 74,
     "metadata": {},
     "output_type": "execute_result"
    }
   ],
   "source": [
    "temp_resultsDf = pd.DataFrame({'RMSE': [rms]}\n",
    "                           ,index=['SARIMA(0,0,0)(1,1,1)7'])\n",
    "\n",
    "resultsDf = pd.concat([resultsDf, temp_resultsDf])\n",
    "resultsDf"
   ]
  },
  {
   "cell_type": "code",
   "execution_count": 75,
   "metadata": {
    "ExecuteTime": {
     "end_time": "2020-05-29T09:59:53.777947Z",
     "start_time": "2020-05-29T09:59:51.633489Z"
    }
   },
   "outputs": [
    {
     "name": "stdout",
     "output_type": "stream",
     "text": [
      "                                     SARIMAX Results                                     \n",
      "=========================================================================================\n",
      "Dep. Variable:                         Customers   No. Observations:                  730\n",
      "Model:             SARIMAX(0, 0, 1)x(1, 1, 1, 7)   Log Likelihood               -4440.512\n",
      "Date:                           Fri, 29 May 2020   AIC                           8889.024\n",
      "Time:                                   15:29:53   BIC                           8907.308\n",
      "Sample:                                        0   HQIC                          8896.085\n",
      "                                           - 730                                         \n",
      "Covariance Type:                             opg                                         \n",
      "==============================================================================\n",
      "                 coef    std err          z      P>|z|      [0.025      0.975]\n",
      "------------------------------------------------------------------------------\n",
      "ma.L1          0.0574      0.023      2.504      0.012       0.012       0.102\n",
      "ar.S.L7       -0.1668      0.035     -4.796      0.000      -0.235      -0.099\n",
      "ma.S.L7       -0.9018      0.019    -48.285      0.000      -0.938      -0.865\n",
      "sigma2       1.46e+04    343.245     42.534      0.000    1.39e+04    1.53e+04\n",
      "===================================================================================\n",
      "Ljung-Box (Q):                       76.54   Jarque-Bera (JB):              4328.05\n",
      "Prob(Q):                              0.00   Prob(JB):                         0.00\n",
      "Heteroskedasticity (H):               1.60   Skew:                            -2.41\n",
      "Prob(H) (two-sided):                  0.00   Kurtosis:                        14.06\n",
      "===================================================================================\n",
      "\n",
      "Warnings:\n",
      "[1] Covariance matrix calculated using the outer product of gradients (complex-step).\n"
     ]
    }
   ],
   "source": [
    "## SARIMA(0, 0, 1)(1,1,1, 7) \n",
    "mod = sm.tsa.statespace.SARIMAX(train['Customers'],\n",
    "                                order=(0,0,1),\n",
    "                                seasonal_order=(1, 1, 1, 7),\n",
    "                                enforce_stationarity=False,\n",
    "                                enforce_invertibility=False)\n",
    "results = mod.fit()\n",
    "print(results.summary())"
   ]
  },
  {
   "cell_type": "code",
   "execution_count": 76,
   "metadata": {
    "ExecuteTime": {
     "end_time": "2020-05-29T09:59:53.813172Z",
     "start_time": "2020-05-29T09:59:53.782214Z"
    }
   },
   "outputs": [
    {
     "data": {
      "text/plain": [
       "730    6.272193e+02\n",
       "731    6.593675e+02\n",
       "732    5.909295e+02\n",
       "733   -1.002132e-06\n",
       "734    7.422851e+02\n",
       "           ...     \n",
       "877    5.438530e+02\n",
       "878    5.651201e+02\n",
       "879    5.832210e+02\n",
       "880   -8.588914e-07\n",
       "881    7.315241e+02\n",
       "Length: 152, dtype: float64"
      ]
     },
     "execution_count": 76,
     "metadata": {},
     "output_type": "execute_result"
    }
   ],
   "source": [
    "test.Customers= test.Customers.astype(float)\n",
    "final_hat_avg =test.copy()\n",
    "pred = results.get_forecast(steps=152)\n",
    "pred.predicted_mean"
   ]
  },
  {
   "cell_type": "code",
   "execution_count": 77,
   "metadata": {
    "ExecuteTime": {
     "end_time": "2020-05-29T09:59:53.899293Z",
     "start_time": "2020-05-29T09:59:53.817162Z"
    }
   },
   "outputs": [
    {
     "name": "stdout",
     "output_type": "stream",
     "text": [
      "148.93879111224805\n"
     ]
    }
   ],
   "source": [
    "rms = sqrt(mean_squared_error(test.Customers ,pred.predicted_mean))\n",
    "print(rms)"
   ]
  },
  {
   "cell_type": "code",
   "execution_count": 78,
   "metadata": {
    "ExecuteTime": {
     "end_time": "2020-05-29T09:59:54.016388Z",
     "start_time": "2020-05-29T09:59:53.903036Z"
    }
   },
   "outputs": [
    {
     "data": {
      "text/html": [
       "<div>\n",
       "<style scoped>\n",
       "    .dataframe tbody tr th:only-of-type {\n",
       "        vertical-align: middle;\n",
       "    }\n",
       "\n",
       "    .dataframe tbody tr th {\n",
       "        vertical-align: top;\n",
       "    }\n",
       "\n",
       "    .dataframe thead th {\n",
       "        text-align: right;\n",
       "    }\n",
       "</style>\n",
       "<table border=\"1\" class=\"dataframe\">\n",
       "  <thead>\n",
       "    <tr style=\"text-align: right;\">\n",
       "      <th></th>\n",
       "      <th>RMSE</th>\n",
       "    </tr>\n",
       "  </thead>\n",
       "  <tbody>\n",
       "    <tr>\n",
       "      <th>ARIMA(2,0,2)</th>\n",
       "      <td>237.501868</td>\n",
       "    </tr>\n",
       "    <tr>\n",
       "      <th>SARIMA(0,0,1)(2,0,2)7</th>\n",
       "      <td>149.183676</td>\n",
       "    </tr>\n",
       "    <tr>\n",
       "      <th>SARIMAX(1,0,2)(2,0,2)7</th>\n",
       "      <td>60.822955</td>\n",
       "    </tr>\n",
       "    <tr>\n",
       "      <th>SARIMAX_tvlm(1,0,2)(2,0,2)7</th>\n",
       "      <td>56.757095</td>\n",
       "    </tr>\n",
       "    <tr>\n",
       "      <th>SARIMA(0,0,0)(1,1,1)7</th>\n",
       "      <td>149.425423</td>\n",
       "    </tr>\n",
       "    <tr>\n",
       "      <th>SARIMA(0,0,1)(1,1,1)7</th>\n",
       "      <td>148.938791</td>\n",
       "    </tr>\n",
       "  </tbody>\n",
       "</table>\n",
       "</div>"
      ],
      "text/plain": [
       "                                   RMSE\n",
       "ARIMA(2,0,2)                 237.501868\n",
       "SARIMA(0,0,1)(2,0,2)7        149.183676\n",
       "SARIMAX(1,0,2)(2,0,2)7        60.822955\n",
       "SARIMAX_tvlm(1,0,2)(2,0,2)7   56.757095\n",
       "SARIMA(0,0,0)(1,1,1)7        149.425423\n",
       "SARIMA(0,0,1)(1,1,1)7        148.938791"
      ]
     },
     "execution_count": 78,
     "metadata": {},
     "output_type": "execute_result"
    }
   ],
   "source": [
    "temp_resultsDf = pd.DataFrame({'RMSE': [rms]}\n",
    "                           ,index=['SARIMA(0,0,1)(1,1,1)7'])\n",
    "\n",
    "resultsDf = pd.concat([resultsDf, temp_resultsDf])\n",
    "resultsDf"
   ]
  },
  {
   "cell_type": "code",
   "execution_count": 79,
   "metadata": {
    "ExecuteTime": {
     "end_time": "2020-05-29T10:00:01.226313Z",
     "start_time": "2020-05-29T09:59:54.021620Z"
    }
   },
   "outputs": [
    {
     "name": "stdout",
     "output_type": "stream",
     "text": [
      "                                 SARIMAX Results                                 \n",
      "=================================================================================\n",
      "Dep. Variable:                 Customers   No. Observations:                  730\n",
      "Model:             SARIMAX(1, 1, [1], 7)   Log Likelihood               -3947.744\n",
      "Date:                   Fri, 29 May 2020   AIC                           7909.489\n",
      "Time:                           15:30:01   BIC                           7941.495\n",
      "Sample:                                0   HQIC                          7921.849\n",
      "                                   - 730                                         \n",
      "Covariance Type:                     opg                                         \n",
      "=================================================================================\n",
      "                    coef    std err          z      P>|z|      [0.025      0.975]\n",
      "---------------------------------------------------------------------------------\n",
      "Open            510.8673     28.386     17.997      0.000     455.232     566.502\n",
      "Promotion        98.5281      5.173     19.046      0.000      88.389     108.667\n",
      "StateHoliday    -18.4184     17.211     -1.070      0.285     -52.152      15.315\n",
      "SchoolHoliday     5.3378      5.474      0.975      0.330      -5.392      16.068\n",
      "ar.S.L7          -0.0933      0.045     -2.088      0.037      -0.181      -0.006\n",
      "ma.S.L7          -0.8142      0.026    -30.730      0.000      -0.866      -0.762\n",
      "sigma2         3639.2029    116.739     31.174      0.000    3410.399    3868.007\n",
      "===================================================================================\n",
      "Ljung-Box (Q):                      192.42   Jarque-Bera (JB):              1975.73\n",
      "Prob(Q):                              0.00   Prob(JB):                         0.00\n",
      "Heteroskedasticity (H):               2.00   Skew:                             1.48\n",
      "Prob(H) (two-sided):                  0.00   Kurtosis:                        10.59\n",
      "===================================================================================\n",
      "\n",
      "Warnings:\n",
      "[1] Covariance matrix calculated using the outer product of gradients (complex-step).\n"
     ]
    }
   ],
   "source": [
    "## Exogeneous with order = (0,0,0) and seasonal order (1,1,1,7)\n",
    "mod = sm.tsa.statespace.SARIMAX(train['Customers'],exog=ex_train,\n",
    "                                order=(0,0,0),\n",
    "                                seasonal_order=(1, 1, 1, 7),\n",
    "                                enforce_stationarity=False,\n",
    "                                enforce_invertibility=False)\n",
    "results = mod.fit()\n",
    "print(results.summary())"
   ]
  },
  {
   "cell_type": "code",
   "execution_count": 80,
   "metadata": {
    "ExecuteTime": {
     "end_time": "2020-05-29T10:00:01.267461Z",
     "start_time": "2020-05-29T10:00:01.229604Z"
    }
   },
   "outputs": [
    {
     "data": {
      "text/plain": [
       "730     36.482780\n",
       "731    589.148477\n",
       "732    641.340518\n",
       "733      0.000000\n",
       "734    824.194044\n",
       "          ...    \n",
       "877    560.460905\n",
       "878    581.846162\n",
       "879    632.438630\n",
       "880      0.000000\n",
       "881    813.851073\n",
       "Length: 152, dtype: float64"
      ]
     },
     "execution_count": 80,
     "metadata": {},
     "output_type": "execute_result"
    }
   ],
   "source": [
    "pred = results.get_forecast(steps=152,exog=ex_test)\n",
    "pred.predicted_mean"
   ]
  },
  {
   "cell_type": "code",
   "execution_count": 81,
   "metadata": {
    "ExecuteTime": {
     "end_time": "2020-05-29T10:00:01.378658Z",
     "start_time": "2020-05-29T10:00:01.270712Z"
    }
   },
   "outputs": [
    {
     "name": "stdout",
     "output_type": "stream",
     "text": [
      "66.68962245985132\n"
     ]
    }
   ],
   "source": [
    "rms = sqrt(mean_squared_error(test.Customers ,pred.predicted_mean))\n",
    "print(rms)"
   ]
  },
  {
   "cell_type": "code",
   "execution_count": 82,
   "metadata": {
    "ExecuteTime": {
     "end_time": "2020-05-29T10:00:01.526405Z",
     "start_time": "2020-05-29T10:00:01.379695Z"
    }
   },
   "outputs": [
    {
     "data": {
      "text/html": [
       "<div>\n",
       "<style scoped>\n",
       "    .dataframe tbody tr th:only-of-type {\n",
       "        vertical-align: middle;\n",
       "    }\n",
       "\n",
       "    .dataframe tbody tr th {\n",
       "        vertical-align: top;\n",
       "    }\n",
       "\n",
       "    .dataframe thead th {\n",
       "        text-align: right;\n",
       "    }\n",
       "</style>\n",
       "<table border=\"1\" class=\"dataframe\">\n",
       "  <thead>\n",
       "    <tr style=\"text-align: right;\">\n",
       "      <th></th>\n",
       "      <th>RMSE</th>\n",
       "    </tr>\n",
       "  </thead>\n",
       "  <tbody>\n",
       "    <tr>\n",
       "      <th>ARIMA(2,0,2)</th>\n",
       "      <td>237.501868</td>\n",
       "    </tr>\n",
       "    <tr>\n",
       "      <th>SARIMA(0,0,1)(2,0,2)7</th>\n",
       "      <td>149.183676</td>\n",
       "    </tr>\n",
       "    <tr>\n",
       "      <th>SARIMAX(1,0,2)(2,0,2)7</th>\n",
       "      <td>60.822955</td>\n",
       "    </tr>\n",
       "    <tr>\n",
       "      <th>SARIMAX_tvlm(1,0,2)(2,0,2)7</th>\n",
       "      <td>56.757095</td>\n",
       "    </tr>\n",
       "    <tr>\n",
       "      <th>SARIMA(0,0,0)(1,1,1)7</th>\n",
       "      <td>149.425423</td>\n",
       "    </tr>\n",
       "    <tr>\n",
       "      <th>SARIMA(0,0,1)(1,1,1)7</th>\n",
       "      <td>148.938791</td>\n",
       "    </tr>\n",
       "    <tr>\n",
       "      <th>SARIMAX(0,0,0)(1,1,1)7</th>\n",
       "      <td>66.689622</td>\n",
       "    </tr>\n",
       "  </tbody>\n",
       "</table>\n",
       "</div>"
      ],
      "text/plain": [
       "                                   RMSE\n",
       "ARIMA(2,0,2)                 237.501868\n",
       "SARIMA(0,0,1)(2,0,2)7        149.183676\n",
       "SARIMAX(1,0,2)(2,0,2)7        60.822955\n",
       "SARIMAX_tvlm(1,0,2)(2,0,2)7   56.757095\n",
       "SARIMA(0,0,0)(1,1,1)7        149.425423\n",
       "SARIMA(0,0,1)(1,1,1)7        148.938791\n",
       "SARIMAX(0,0,0)(1,1,1)7        66.689622"
      ]
     },
     "execution_count": 82,
     "metadata": {},
     "output_type": "execute_result"
    }
   ],
   "source": [
    "temp_resultsDf = pd.DataFrame({'RMSE': [rms]}\n",
    "                           ,index=['SARIMAX(0,0,0)(1,1,1)7'])\n",
    "\n",
    "resultsDf = pd.concat([resultsDf, temp_resultsDf])\n",
    "resultsDf"
   ]
  },
  {
   "cell_type": "code",
   "execution_count": 83,
   "metadata": {
    "ExecuteTime": {
     "end_time": "2020-05-29T10:00:08.918379Z",
     "start_time": "2020-05-29T10:00:01.529460Z"
    }
   },
   "outputs": [
    {
     "name": "stdout",
     "output_type": "stream",
     "text": [
      "                                     SARIMAX Results                                     \n",
      "=========================================================================================\n",
      "Dep. Variable:                         Customers   No. Observations:                  730\n",
      "Model:             SARIMAX(0, 0, 1)x(1, 1, 1, 7)   Log Likelihood               -3923.857\n",
      "Date:                           Fri, 29 May 2020   AIC                           7863.715\n",
      "Time:                                   15:30:08   BIC                           7900.282\n",
      "Sample:                                        0   HQIC                          7877.837\n",
      "                                           - 730                                         \n",
      "Covariance Type:                             opg                                         \n",
      "=================================================================================\n",
      "                    coef    std err          z      P>|z|      [0.025      0.975]\n",
      "---------------------------------------------------------------------------------\n",
      "Open            548.0563     25.541     21.458      0.000     497.998     598.115\n",
      "Promotion        90.4548      5.978     15.131      0.000      78.738     102.172\n",
      "StateHoliday     -8.4460     14.466     -0.584      0.559     -36.798      19.906\n",
      "SchoolHoliday     5.7068      5.890      0.969      0.333      -5.837      17.250\n",
      "ma.L1             0.2042      0.021      9.805      0.000       0.163       0.245\n",
      "ar.S.L7          -0.0968      0.045     -2.130      0.033      -0.186      -0.008\n",
      "ma.S.L7          -0.8219      0.026    -32.152      0.000      -0.872      -0.772\n",
      "sigma2         3468.3004    111.280     31.167      0.000    3250.195    3686.405\n",
      "===================================================================================\n",
      "Ljung-Box (Q):                      112.50   Jarque-Bera (JB):              1664.40\n",
      "Prob(Q):                              0.00   Prob(JB):                         0.00\n",
      "Heteroskedasticity (H):               2.00   Skew:                             1.32\n",
      "Prob(H) (two-sided):                  0.00   Kurtosis:                        10.00\n",
      "===================================================================================\n",
      "\n",
      "Warnings:\n",
      "[1] Covariance matrix calculated using the outer product of gradients (complex-step).\n"
     ]
    }
   ],
   "source": [
    "## Exogeneous with order = (0,0,1) and seasonal order (1,1,1,7)\n",
    "mod = sm.tsa.statespace.SARIMAX(train['Customers'],exog=ex_train,\n",
    "                                order=(0,0,1),\n",
    "                                seasonal_order=(1, 1, 1, 7),\n",
    "                                enforce_stationarity=False,\n",
    "                                enforce_invertibility=False)\n",
    "results = mod.fit()\n",
    "print(results.summary())"
   ]
  },
  {
   "cell_type": "code",
   "execution_count": 84,
   "metadata": {
    "ExecuteTime": {
     "end_time": "2020-05-29T10:00:08.967368Z",
     "start_time": "2020-05-29T10:00:08.918379Z"
    }
   },
   "outputs": [
    {
     "data": {
      "text/plain": [
       "730   -6.522270e+00\n",
       "731    5.950376e+02\n",
       "732    6.410170e+02\n",
       "733    9.969781e-10\n",
       "734    8.182211e+02\n",
       "           ...     \n",
       "877    5.615287e+02\n",
       "878    5.874213e+02\n",
       "879    6.318403e+02\n",
       "880    9.090216e-10\n",
       "881    8.071532e+02\n",
       "Length: 152, dtype: float64"
      ]
     },
     "execution_count": 84,
     "metadata": {},
     "output_type": "execute_result"
    }
   ],
   "source": [
    "pred = results.get_forecast(steps=152,exog=ex_test)\n",
    "pred.predicted_mean"
   ]
  },
  {
   "cell_type": "code",
   "execution_count": 85,
   "metadata": {
    "ExecuteTime": {
     "end_time": "2020-05-29T10:00:09.051138Z",
     "start_time": "2020-05-29T10:00:08.968936Z"
    }
   },
   "outputs": [
    {
     "name": "stdout",
     "output_type": "stream",
     "text": [
      "64.64210399862579\n"
     ]
    }
   ],
   "source": [
    "rms = sqrt(mean_squared_error(test.Customers ,pred.predicted_mean))\n",
    "print(rms)"
   ]
  },
  {
   "cell_type": "code",
   "execution_count": 86,
   "metadata": {
    "ExecuteTime": {
     "end_time": "2020-05-29T10:00:09.158603Z",
     "start_time": "2020-05-29T10:00:09.051138Z"
    }
   },
   "outputs": [
    {
     "data": {
      "text/html": [
       "<div>\n",
       "<style scoped>\n",
       "    .dataframe tbody tr th:only-of-type {\n",
       "        vertical-align: middle;\n",
       "    }\n",
       "\n",
       "    .dataframe tbody tr th {\n",
       "        vertical-align: top;\n",
       "    }\n",
       "\n",
       "    .dataframe thead th {\n",
       "        text-align: right;\n",
       "    }\n",
       "</style>\n",
       "<table border=\"1\" class=\"dataframe\">\n",
       "  <thead>\n",
       "    <tr style=\"text-align: right;\">\n",
       "      <th></th>\n",
       "      <th>RMSE</th>\n",
       "    </tr>\n",
       "  </thead>\n",
       "  <tbody>\n",
       "    <tr>\n",
       "      <th>ARIMA(2,0,2)</th>\n",
       "      <td>237.501868</td>\n",
       "    </tr>\n",
       "    <tr>\n",
       "      <th>SARIMA(0,0,1)(2,0,2)7</th>\n",
       "      <td>149.183676</td>\n",
       "    </tr>\n",
       "    <tr>\n",
       "      <th>SARIMAX(1,0,2)(2,0,2)7</th>\n",
       "      <td>60.822955</td>\n",
       "    </tr>\n",
       "    <tr>\n",
       "      <th>SARIMAX_tvlm(1,0,2)(2,0,2)7</th>\n",
       "      <td>56.757095</td>\n",
       "    </tr>\n",
       "    <tr>\n",
       "      <th>SARIMA(0,0,0)(1,1,1)7</th>\n",
       "      <td>149.425423</td>\n",
       "    </tr>\n",
       "    <tr>\n",
       "      <th>SARIMA(0,0,1)(1,1,1)7</th>\n",
       "      <td>148.938791</td>\n",
       "    </tr>\n",
       "    <tr>\n",
       "      <th>SARIMAX(0,0,0)(1,1,1)7</th>\n",
       "      <td>66.689622</td>\n",
       "    </tr>\n",
       "    <tr>\n",
       "      <th>SARIMAX(0,0,1)(1,1,1)7</th>\n",
       "      <td>64.642104</td>\n",
       "    </tr>\n",
       "  </tbody>\n",
       "</table>\n",
       "</div>"
      ],
      "text/plain": [
       "                                   RMSE\n",
       "ARIMA(2,0,2)                 237.501868\n",
       "SARIMA(0,0,1)(2,0,2)7        149.183676\n",
       "SARIMAX(1,0,2)(2,0,2)7        60.822955\n",
       "SARIMAX_tvlm(1,0,2)(2,0,2)7   56.757095\n",
       "SARIMA(0,0,0)(1,1,1)7        149.425423\n",
       "SARIMA(0,0,1)(1,1,1)7        148.938791\n",
       "SARIMAX(0,0,0)(1,1,1)7        66.689622\n",
       "SARIMAX(0,0,1)(1,1,1)7        64.642104"
      ]
     },
     "execution_count": 86,
     "metadata": {},
     "output_type": "execute_result"
    }
   ],
   "source": [
    "temp_resultsDf = pd.DataFrame({'RMSE': [rms]}\n",
    "                           ,index=['SARIMAX(0,0,1)(1,1,1)7'])\n",
    "\n",
    "resultsDf = pd.concat([resultsDf, temp_resultsDf])\n",
    "resultsDf"
   ]
  },
  {
   "cell_type": "code",
   "execution_count": 87,
   "metadata": {
    "ExecuteTime": {
     "end_time": "2020-05-29T10:00:29.619974Z",
     "start_time": "2020-05-29T10:00:09.163715Z"
    }
   },
   "outputs": [
    {
     "name": "stdout",
     "output_type": "stream",
     "text": [
      "                                     SARIMAX Results                                     \n",
      "=========================================================================================\n",
      "Dep. Variable:                         Customers   No. Observations:                  730\n",
      "Model:             SARIMAX(0, 0, 1)x(1, 1, 1, 7)   Log Likelihood               -2212.501\n",
      "Date:                           Fri, 29 May 2020   AIC                           4441.003\n",
      "Time:                                   15:30:29   BIC                           4477.525\n",
      "Sample:                                        0   HQIC                          4455.111\n",
      "                                           - 730                                         \n",
      "Covariance Type:                             opg                                         \n",
      "=====================================================================================\n",
      "                        coef    std err          z      P>|z|      [0.025      0.975]\n",
      "-------------------------------------------------------------------------------------\n",
      "ma.L1                 1.2779   1.55e-19   8.27e+18      0.000       1.278       1.278\n",
      "ar.S.L7              -0.3164   5.17e-20  -6.12e+18      0.000      -0.316      -0.316\n",
      "ma.S.L7              -0.5197   1.21e-19  -4.28e+18      0.000      -0.520      -0.520\n",
      "var.Open           3339.0262   5.42e-32   6.16e+34      0.000    3339.026    3339.026\n",
      "var.Promotion      2967.6224   7.48e-33   3.97e+35      0.000    2967.622    2967.622\n",
      "var.StateHoliday     12.7368   1.51e-30   8.42e+30      0.000      12.737      12.737\n",
      "var.SchoolHoliday  1157.0338   5.42e-32   2.14e+34      0.000    1157.034    1157.034\n",
      "sigma2             1.699e-13   1.89e-10      0.001      0.999    -3.7e-10     3.7e-10\n",
      "===================================================================================\n",
      "Ljung-Box (Q):                      156.68   Jarque-Bera (JB):             10838.07\n",
      "Prob(Q):                              0.00   Prob(JB):                         0.00\n",
      "Heteroskedasticity (H):               1.97   Skew:                            -2.08\n",
      "Prob(H) (two-sided):                  0.00   Kurtosis:                        21.68\n",
      "===================================================================================\n",
      "\n",
      "Warnings:\n",
      "[1] Covariance matrix calculated using the outer product of gradients (complex-step).\n",
      "[2] Covariance matrix is singular or near-singular, with condition number 6.73e+73. Standard errors may be unstable.\n"
     ]
    }
   ],
   "source": [
    "## Exogeneous with order = (0,0,1) and seasonal order (1,1,1,7) - TVLM\n",
    "mod = sm.tsa.statespace.SARIMAX(train['Customers'],exog=ex_train,time_varying_regression=True,mle_regression=False,\n",
    "                                order=(0,0,1),\n",
    "                                seasonal_order=(1, 1, 1, 7),\n",
    "                                enforce_stationarity=False,\n",
    "                                enforce_invertibility=False)\n",
    "results = mod.fit()\n",
    "print(results.summary())"
   ]
  },
  {
   "cell_type": "code",
   "execution_count": 88,
   "metadata": {
    "ExecuteTime": {
     "end_time": "2020-05-29T10:00:29.683549Z",
     "start_time": "2020-05-29T10:00:29.624091Z"
    }
   },
   "outputs": [
    {
     "data": {
      "text/plain": [
       "730    2.325101e+01\n",
       "731    5.056866e+02\n",
       "732    4.699371e+02\n",
       "733    2.965665e-14\n",
       "734    4.941147e+02\n",
       "           ...     \n",
       "877    4.608784e+02\n",
       "878    4.783963e+02\n",
       "879    4.699371e+02\n",
       "880    2.553021e-14\n",
       "881    4.668244e+02\n",
       "Length: 152, dtype: float64"
      ]
     },
     "execution_count": 88,
     "metadata": {},
     "output_type": "execute_result"
    }
   ],
   "source": [
    "pred = results.get_forecast(steps=152,exog=ex_test)\n",
    "pred.predicted_mean"
   ]
  },
  {
   "cell_type": "code",
   "execution_count": 89,
   "metadata": {
    "ExecuteTime": {
     "end_time": "2020-05-29T10:00:29.781840Z",
     "start_time": "2020-05-29T10:00:29.684547Z"
    }
   },
   "outputs": [
    {
     "name": "stdout",
     "output_type": "stream",
     "text": [
      "197.75832558828608\n"
     ]
    }
   ],
   "source": [
    "rms = sqrt(mean_squared_error(test.Customers ,pred.predicted_mean))\n",
    "print(rms)"
   ]
  },
  {
   "cell_type": "code",
   "execution_count": 90,
   "metadata": {
    "ExecuteTime": {
     "end_time": "2020-05-29T10:00:29.980823Z",
     "start_time": "2020-05-29T10:00:29.782986Z"
    }
   },
   "outputs": [
    {
     "data": {
      "text/html": [
       "<div>\n",
       "<style scoped>\n",
       "    .dataframe tbody tr th:only-of-type {\n",
       "        vertical-align: middle;\n",
       "    }\n",
       "\n",
       "    .dataframe tbody tr th {\n",
       "        vertical-align: top;\n",
       "    }\n",
       "\n",
       "    .dataframe thead th {\n",
       "        text-align: right;\n",
       "    }\n",
       "</style>\n",
       "<table border=\"1\" class=\"dataframe\">\n",
       "  <thead>\n",
       "    <tr style=\"text-align: right;\">\n",
       "      <th></th>\n",
       "      <th>RMSE</th>\n",
       "    </tr>\n",
       "  </thead>\n",
       "  <tbody>\n",
       "    <tr>\n",
       "      <th>ARIMA(2,0,2)</th>\n",
       "      <td>237.501868</td>\n",
       "    </tr>\n",
       "    <tr>\n",
       "      <th>SARIMA(0,0,1)(2,0,2)7</th>\n",
       "      <td>149.183676</td>\n",
       "    </tr>\n",
       "    <tr>\n",
       "      <th>SARIMAX(1,0,2)(2,0,2)7</th>\n",
       "      <td>60.822955</td>\n",
       "    </tr>\n",
       "    <tr>\n",
       "      <th>SARIMAX_tvlm(1,0,2)(2,0,2)7</th>\n",
       "      <td>56.757095</td>\n",
       "    </tr>\n",
       "    <tr>\n",
       "      <th>SARIMA(0,0,0)(1,1,1)7</th>\n",
       "      <td>149.425423</td>\n",
       "    </tr>\n",
       "    <tr>\n",
       "      <th>SARIMA(0,0,1)(1,1,1)7</th>\n",
       "      <td>148.938791</td>\n",
       "    </tr>\n",
       "    <tr>\n",
       "      <th>SARIMAX(0,0,0)(1,1,1)7</th>\n",
       "      <td>66.689622</td>\n",
       "    </tr>\n",
       "    <tr>\n",
       "      <th>SARIMAX(0,0,1)(1,1,1)7</th>\n",
       "      <td>64.642104</td>\n",
       "    </tr>\n",
       "    <tr>\n",
       "      <th>SARIMAX_tvlm(0,0,1)(1,1,1)7</th>\n",
       "      <td>197.758326</td>\n",
       "    </tr>\n",
       "  </tbody>\n",
       "</table>\n",
       "</div>"
      ],
      "text/plain": [
       "                                   RMSE\n",
       "ARIMA(2,0,2)                 237.501868\n",
       "SARIMA(0,0,1)(2,0,2)7        149.183676\n",
       "SARIMAX(1,0,2)(2,0,2)7        60.822955\n",
       "SARIMAX_tvlm(1,0,2)(2,0,2)7   56.757095\n",
       "SARIMA(0,0,0)(1,1,1)7        149.425423\n",
       "SARIMA(0,0,1)(1,1,1)7        148.938791\n",
       "SARIMAX(0,0,0)(1,1,1)7        66.689622\n",
       "SARIMAX(0,0,1)(1,1,1)7        64.642104\n",
       "SARIMAX_tvlm(0,0,1)(1,1,1)7  197.758326"
      ]
     },
     "execution_count": 90,
     "metadata": {},
     "output_type": "execute_result"
    }
   ],
   "source": [
    "temp_resultsDf = pd.DataFrame({'RMSE': [rms]}\n",
    "                           ,index=['SARIMAX_tvlm(0,0,1)(1,1,1)7'])\n",
    "\n",
    "resultsDf = pd.concat([resultsDf, temp_resultsDf])\n",
    "resultsDf"
   ]
  },
  {
   "cell_type": "markdown",
   "metadata": {},
   "source": [
    "# END"
   ]
  }
 ],
 "metadata": {
  "colab": {
   "name": "TimeSeries_Arimax_4.0.ipynb",
   "provenance": []
  },
  "kernelspec": {
   "display_name": "Python 3",
   "language": "python",
   "name": "python3"
  },
  "language_info": {
   "codemirror_mode": {
    "name": "ipython",
    "version": 3
   },
   "file_extension": ".py",
   "mimetype": "text/x-python",
   "name": "python",
   "nbconvert_exporter": "python",
   "pygments_lexer": "ipython3",
   "version": "3.8.5"
  },
  "toc": {
   "base_numbering": 1,
   "nav_menu": {},
   "number_sections": true,
   "sideBar": true,
   "skip_h1_title": false,
   "title_cell": "Table of Contents",
   "title_sidebar": "Contents",
   "toc_cell": false,
   "toc_position": {},
   "toc_section_display": true,
   "toc_window_display": false
  },
  "varInspector": {
   "cols": {
    "lenName": 16,
    "lenType": 16,
    "lenVar": 40
   },
   "kernels_config": {
    "python": {
     "delete_cmd_postfix": "",
     "delete_cmd_prefix": "del ",
     "library": "var_list.py",
     "varRefreshCmd": "print(var_dic_list())"
    },
    "r": {
     "delete_cmd_postfix": ") ",
     "delete_cmd_prefix": "rm(",
     "library": "var_list.r",
     "varRefreshCmd": "cat(var_dic_list()) "
    }
   },
   "types_to_exclude": [
    "module",
    "function",
    "builtin_function_or_method",
    "instance",
    "_Feature"
   ],
   "window_display": false
  }
 },
 "nbformat": 4,
 "nbformat_minor": 1
}
