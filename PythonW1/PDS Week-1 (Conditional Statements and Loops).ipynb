{
 "cells": [
  {
   "cell_type": "markdown",
   "metadata": {},
   "source": [
    "# Introduction to Programming using Python\n",
    "\n",
    "**Using Anaconda Distribution's Jupyter Notebook**\n",
    "\n",
    "## Conditional Statements and Loops"
   ]
  },
  {
   "cell_type": "markdown",
   "metadata": {},
   "source": [
    "## Conditional Statements\n",
    "\n",
    "- `IF condtion`\n",
    "- `IF-ELSE condition`\n",
    "- `Nested IF-ELSE condtion`\n",
    "\n",
    "### These statements are used to make decisions based on conditions\n",
    "\n",
    "**Syntax**\n",
    "\n",
    "    if test expression:\n",
    "           statement(s)\n",
    "  \n"
   ]
  },
  {
   "cell_type": "markdown",
   "metadata": {},
   "source": [
    "## IF condition"
   ]
  },
  {
   "cell_type": "code",
   "execution_count": 1,
   "metadata": {},
   "outputs": [
    {
     "name": "stdout",
     "output_type": "stream",
     "text": [
      "Hello World\n"
     ]
    }
   ],
   "source": [
    "#Example\n",
    "x=1\n",
    "if x>0:\n",
    "    print('Hello World')"
   ]
  },
  {
   "cell_type": "code",
   "execution_count": 5,
   "metadata": {},
   "outputs": [],
   "source": [
    "#Run the exact above code with x=0\n",
    "#Write your code here"
   ]
  },
  {
   "cell_type": "markdown",
   "metadata": {},
   "source": [
    "## IF-ELSE condition"
   ]
  },
  {
   "cell_type": "code",
   "execution_count": 4,
   "metadata": {},
   "outputs": [
    {
     "name": "stdout",
     "output_type": "stream",
     "text": [
      "Hi World\n"
     ]
    }
   ],
   "source": [
    "#Example\n",
    "x=0\n",
    "if x>0:\n",
    "    print('Hello World')\n",
    "else:\n",
    "    print('Hi World')\n"
   ]
  },
  {
   "cell_type": "markdown",
   "metadata": {},
   "source": [
    "## Nested IF-ELSE condition"
   ]
  },
  {
   "cell_type": "code",
   "execution_count": 25,
   "metadata": {},
   "outputs": [
    {
     "name": "stdout",
     "output_type": "stream",
     "text": [
      "c is the largest\n"
     ]
    }
   ],
   "source": [
    "#Example\n",
    "a=10\n",
    "b=11\n",
    "c=91\n",
    "if (a>b) and (a>c):\n",
    "    print('a is the largest')\n",
    "elif (a<b) and (b<c): # else - if \n",
    "    print('c is the largest')\n",
    "elif (a<b) and (a<c):\n",
    "    print('a is the smallest')\n",
    "elif (b>c) and (b>a):\n",
    "    print('b is the largest')\n",
    "#Play around by changing the values"
   ]
  },
  {
   "cell_type": "markdown",
   "metadata": {},
   "source": [
    "# Loops\n",
    "- FOR loop\n",
    "- While loop"
   ]
  },
  {
   "cell_type": "markdown",
   "metadata": {},
   "source": [
    "## `for` Loop"
   ]
  },
  {
   "cell_type": "code",
   "execution_count": 29,
   "metadata": {},
   "outputs": [
    {
     "name": "stdout",
     "output_type": "stream",
     "text": [
      "Square of 1 is 1\n",
      "Square of 2 is 4\n",
      "Square of 3 is 9\n",
      "Square of 4 is 16\n",
      "Square of 5 is 25\n",
      "Square of 6 is 36\n",
      "Square of 7 is 49\n",
      "Square of 8 is 64\n",
      "Square of 9 is 81\n"
     ]
    }
   ],
   "source": [
    "#Printing square from 1 to 10\n",
    "x=[1,2,3,4,5,6,7,8,9]\n",
    "\n",
    "for i in x:#iterating in list x and printing each element of the list x along with its square\n",
    "    print('Square of {} is {}'.format(i,i*i))"
   ]
  },
  {
   "cell_type": "markdown",
   "metadata": {},
   "source": [
    "## `while` loop"
   ]
  },
  {
   "cell_type": "code",
   "execution_count": 2,
   "metadata": {},
   "outputs": [
    {
     "name": "stdout",
     "output_type": "stream",
     "text": [
      "Square of 0 is 0\n",
      "Square of 1 is 1\n",
      "Square of 2 is 4\n",
      "Square of 3 is 9\n",
      "Square of 4 is 16\n",
      "Square of 5 is 25\n",
      "Square of 6 is 36\n",
      "Square of 7 is 49\n",
      "Square of 8 is 64\n",
      "Square of 9 is 81\n",
      "Square of 10 is 100\n"
     ]
    }
   ],
   "source": [
    "#Printing square from 1 to 10\n",
    "i=0\n",
    "while i<=10: #condition until i is less equal to 10, keep running\n",
    "    print('Square of {} is {}'.format(i,i*i))\n",
    "    i=i+1 #incrementing i after every print"
   ]
  },
  {
   "cell_type": "markdown",
   "metadata": {},
   "source": [
    "## Using IF-ELSE with for and while loops"
   ]
  },
  {
   "cell_type": "code",
   "execution_count": 3,
   "metadata": {},
   "outputs": [
    {
     "name": "stdout",
     "output_type": "stream",
     "text": [
      "Square of 0 is 0\n",
      "Square of 2 is 4\n",
      "Square of 4 is 16\n",
      "Square of 6 is 36\n",
      "Square of 8 is 64\n",
      "Square of 10 is 100\n",
      "Square of 12 is 144\n",
      "Square of 14 is 196\n",
      "Square of 16 is 256\n",
      "Square of 18 is 324\n",
      "Square of 20 is 400\n",
      "Square of 22 is 484\n",
      "Square of 24 is 576\n",
      "Square of 26 is 676\n",
      "Square of 28 is 784\n",
      "Square of 30 is 900\n",
      "Square of 32 is 1024\n",
      "Square of 34 is 1156\n",
      "Square of 36 is 1296\n",
      "Square of 38 is 1444\n",
      "Square of 40 is 1600\n",
      "Square of 42 is 1764\n",
      "Square of 44 is 1936\n",
      "Square of 46 is 2116\n",
      "Square of 48 is 2304\n",
      "Square of 50 is 2500\n",
      "Square of 52 is 2704\n",
      "Square of 54 is 2916\n",
      "Square of 56 is 3136\n",
      "Square of 58 is 3364\n",
      "Square of 60 is 3600\n",
      "Square of 62 is 3844\n",
      "Square of 64 is 4096\n",
      "Square of 66 is 4356\n",
      "Square of 68 is 4624\n",
      "Square of 70 is 4900\n",
      "Square of 72 is 5184\n",
      "Square of 74 is 5476\n",
      "Square of 76 is 5776\n",
      "Square of 78 is 6084\n",
      "Square of 80 is 6400\n",
      "Square of 82 is 6724\n",
      "Square of 84 is 7056\n",
      "Square of 86 is 7396\n",
      "Square of 88 is 7744\n",
      "Square of 90 is 8100\n",
      "Square of 92 is 8464\n",
      "Square of 94 is 8836\n",
      "Square of 96 is 9216\n",
      "Square of 98 is 9604\n",
      "Square of 100 is 10000\n"
     ]
    }
   ],
   "source": [
    "#Example 1\n",
    "#Printing squares of even numbers from 1 to 100\n",
    "#range is used to get a list of numbers from a specified range. The last number is not printed as counting starts from 0 in python\n",
    "for i in range(0,101):\n",
    "    if i%2==0:\n",
    "        print('Square of {} is {}'.format(i,i*i))"
   ]
  },
  {
   "cell_type": "code",
   "execution_count": 1,
   "metadata": {},
   "outputs": [
    {
     "name": "stdout",
     "output_type": "stream",
     "text": [
      "Square of 0 is 0\n",
      "Square of 2 is 4\n",
      "Square of 4 is 16\n",
      "Square of 6 is 36\n",
      "Square of 8 is 64\n",
      "Square of 10 is 100\n",
      "Square of 12 is 144\n",
      "Square of 14 is 196\n",
      "Square of 16 is 256\n",
      "Square of 18 is 324\n",
      "Square of 20 is 400\n",
      "Square of 22 is 484\n",
      "Square of 24 is 576\n",
      "Square of 26 is 676\n",
      "Square of 28 is 784\n",
      "Square of 30 is 900\n",
      "Square of 32 is 1024\n",
      "Square of 34 is 1156\n",
      "Square of 36 is 1296\n",
      "Square of 38 is 1444\n",
      "Square of 40 is 1600\n",
      "Square of 42 is 1764\n",
      "Square of 44 is 1936\n",
      "Square of 46 is 2116\n",
      "Square of 48 is 2304\n",
      "Square of 50 is 2500\n",
      "Square of 52 is 2704\n",
      "Square of 54 is 2916\n",
      "Square of 56 is 3136\n",
      "Square of 58 is 3364\n",
      "Square of 60 is 3600\n",
      "Square of 62 is 3844\n",
      "Square of 64 is 4096\n",
      "Square of 66 is 4356\n",
      "Square of 68 is 4624\n",
      "Square of 70 is 4900\n",
      "Square of 72 is 5184\n",
      "Square of 74 is 5476\n",
      "Square of 76 is 5776\n",
      "Square of 78 is 6084\n",
      "Square of 80 is 6400\n",
      "Square of 82 is 6724\n",
      "Square of 84 is 7056\n",
      "Square of 86 is 7396\n",
      "Square of 88 is 7744\n",
      "Square of 90 is 8100\n",
      "Square of 92 is 8464\n",
      "Square of 94 is 8836\n",
      "Square of 96 is 9216\n",
      "Square of 98 is 9604\n",
      "Square of 100 is 10000\n"
     ]
    }
   ],
   "source": [
    "#Example 2\n",
    "#Printing squares of even numbers from 1 to 100\n",
    "i=0\n",
    "while i<=100:\n",
    "    if i%2==0:\n",
    "        print('Square of {} is {}'.format(i,i*i))\n",
    "    i=i+1"
   ]
  },
  {
   "cell_type": "code",
   "execution_count": null,
   "metadata": {},
   "outputs": [],
   "source": []
  }
 ],
 "metadata": {
  "kernelspec": {
   "display_name": "Python 3",
   "language": "python",
   "name": "python3"
  },
  "language_info": {
   "codemirror_mode": {
    "name": "ipython",
    "version": 3
   },
   "file_extension": ".py",
   "mimetype": "text/x-python",
   "name": "python",
   "nbconvert_exporter": "python",
   "pygments_lexer": "ipython3",
   "version": "3.7.3"
  },
  "toc": {
   "base_numbering": 1,
   "nav_menu": {},
   "number_sections": true,
   "sideBar": true,
   "skip_h1_title": false,
   "title_cell": "Table of Contents",
   "title_sidebar": "Contents",
   "toc_cell": false,
   "toc_position": {},
   "toc_section_display": true,
   "toc_window_display": false
  },
  "varInspector": {
   "cols": {
    "lenName": 16,
    "lenType": 16,
    "lenVar": 40
   },
   "kernels_config": {
    "python": {
     "delete_cmd_postfix": "",
     "delete_cmd_prefix": "del ",
     "library": "var_list.py",
     "varRefreshCmd": "print(var_dic_list())"
    },
    "r": {
     "delete_cmd_postfix": ") ",
     "delete_cmd_prefix": "rm(",
     "library": "var_list.r",
     "varRefreshCmd": "cat(var_dic_list()) "
    }
   },
   "types_to_exclude": [
    "module",
    "function",
    "builtin_function_or_method",
    "instance",
    "_Feature"
   ],
   "window_display": false
  }
 },
 "nbformat": 4,
 "nbformat_minor": 2
}
