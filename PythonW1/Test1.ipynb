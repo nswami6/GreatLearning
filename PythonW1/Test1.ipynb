{
 "cells": [
  {
   "cell_type": "code",
   "execution_count": 83,
   "metadata": {},
   "outputs": [
    {
     "name": "stdout",
     "output_type": "stream",
     "text": [
      "1\n",
      "2\n",
      "a\n",
      "b\n",
      "Successful\n"
     ]
    }
   ],
   "source": [
    "a_list = [1,2,\"a\",\"b\"]\n",
    "for i in a_list:\n",
    "    print(i)\n",
    "if 2 in a_list:\n",
    "    print(\"Successful\")\n",
    "\n"
   ]
  },
  {
   "cell_type": "code",
   "execution_count": 94,
   "metadata": {
    "scrolled": false
   },
   "outputs": [
    {
     "name": "stdout",
     "output_type": "stream",
     "text": [
      "range(6, 10, 2)\n"
     ]
    },
    {
     "data": {
      "text/plain": [
       "[6, 8]"
      ]
     },
     "execution_count": 94,
     "metadata": {},
     "output_type": "execute_result"
    }
   ],
   "source": [
    "print (range(6,10,2)) \n",
    "list(range(6,10,2))"
   ]
  },
  {
   "cell_type": "code",
   "execution_count": 82,
   "metadata": {},
   "outputs": [
    {
     "ename": "AttributeError",
     "evalue": "'tuple' object has no attribute 'append'",
     "output_type": "error",
     "traceback": [
      "\u001b[1;31m---------------------------------------------------------------------------\u001b[0m",
      "\u001b[1;31mAttributeError\u001b[0m                            Traceback (most recent call last)",
      "\u001b[1;32m<ipython-input-82-0b5f0cf8c3e3>\u001b[0m in \u001b[0;36m<module>\u001b[1;34m\u001b[0m\n\u001b[0;32m      3\u001b[0m \u001b[0mb_tuple\u001b[0m \u001b[1;33m=\u001b[0m \u001b[1;33m(\u001b[0m\u001b[1;36m2\u001b[0m\u001b[1;33m,\u001b[0m\u001b[1;36m3\u001b[0m\u001b[1;33m)\u001b[0m\u001b[1;33m\u001b[0m\u001b[1;33m\u001b[0m\u001b[0m\n\u001b[0;32m      4\u001b[0m \u001b[0ma_list\u001b[0m\u001b[1;33m=\u001b[0m\u001b[0mb_tuple\u001b[0m\u001b[1;33m\u001b[0m\u001b[1;33m\u001b[0m\u001b[0m\n\u001b[1;32m----> 5\u001b[1;33m \u001b[0ma_list\u001b[0m\u001b[1;33m.\u001b[0m\u001b[0mappend\u001b[0m\u001b[1;33m(\u001b[0m\u001b[1;36m4\u001b[0m\u001b[1;33m)\u001b[0m\u001b[1;33m\u001b[0m\u001b[1;33m\u001b[0m\u001b[0m\n\u001b[0m",
      "\u001b[1;31mAttributeError\u001b[0m: 'tuple' object has no attribute 'append'"
     ]
    }
   ],
   "source": [
    "# Erroneous scenario to check list converted to tuple behaves a tuple\n",
    "a_list=[2,3,4,5,7]\n",
    "b_tuple = (2,3)\n",
    "a_list=b_tuple\n",
    "a_list.append(4)"
   ]
  },
  {
   "cell_type": "markdown",
   "metadata": {},
   "source": [
    "Control tab will comment the line\n",
    "tab against partial commands will list the available commands starting with those letters\n",
    "shift tab on a command will show description on that command usage\n",
    "\n",
    "collection of variables:\n",
    "list surrounded by square brackers whereas tuple is parenthesis \n",
    "set and dictionary are surrounded by curly braces.\n",
    "list that are copied with .copy will save another copy while = is used it points to the same memory.\n",
    "list is index by numbers rather dictionary is by strings\n",
    "\n",
    "set is unordered and cannot have duplicates\n",
    "list and tuple are ordered and can contain duplicate while tuple cant be modified\n",
    "Set is unordered and does not allow duplicate."
   ]
  },
  {
   "cell_type": "code",
   "execution_count": 61,
   "metadata": {},
   "outputs": [
    {
     "name": "stdout",
     "output_type": "stream",
     "text": [
      "5\n",
      "[3, 4, 5, 6, 7, 8, 9, 10, 11, 12, 13]\n",
      "(2, 4, 6, 8)\n",
      "2\n",
      "[[20, 40, 60, 80], [21, 42, 63, 84], [22, 44, 66, 88], [23, 46, 69, 92], [24, 48, 72, 96], [25, 50, 75, 100], [26, 52, 78, 104], [27, 54, 81, 108], [28, 56, 84, 112], [29, 58, 87, 116], [30, 60, 90, 120]]\n",
      "80\n",
      "84\n",
      "88\n",
      "92\n",
      "96\n",
      "100\n",
      "104\n",
      "108\n",
      "112\n",
      "116\n",
      "120\n"
     ]
    }
   ],
   "source": [
    "#Trying lambda function\n",
    "y=lambda x:x+3\n",
    "print(y(2))\n",
    "\n",
    "# This section attempts to use lambda function recursively to populate a list\n",
    "list_with_lambda=[]\n",
    "for i in range(0,11):\n",
    "    list_with_lambda.append((lambda x : x+3)(i))\n",
    "\n",
    "print(list_with_lambda)\n",
    "\n",
    "#This section is trying to return a list populated in iteration and returned through a user defined function to populate a tuple\n",
    "#and check that the tuple variable is not modifiable (code modified to make it successful).\n",
    "\n",
    "def array_return(x):\n",
    "    list_a=[]\n",
    "    for i in range(1,5):\n",
    "       list_a.append(i*x)\n",
    "    return list_a\n",
    "tuple_with_lambda=tuple((array_return(2)))\n",
    "\n",
    "print(tuple_with_lambda)\n",
    "print(tuple_with_lambda[0])\n",
    "\n",
    "\n",
    "    \n",
    "\n",
    "list_a=[]\n",
    "for i in range(20, 31):\n",
    "    list_a.append(array_return(i))\n",
    "print(list_a)\n",
    "for i in list_a:\n",
    "    print(i[3])"
   ]
  },
  {
   "cell_type": "code",
   "execution_count": 75,
   "metadata": {},
   "outputs": [
    {
     "name": "stdout",
     "output_type": "stream",
     "text": [
      "{'First': 'HCL HP', 'Second': 'Polaris', 'Third': 'E&Y', 'Fourth': 'Wellington Management', 'Fifth': 'Cognizant'}\n",
      "Company First is HCL HP\n",
      "Company Second is Polaris\n",
      "Company Third is E&Y\n",
      "Company Fourth is Wellington Management\n",
      "Company Fifth is Cognizant\n",
      "First refers to HCL HP\n",
      "Second refers to Polaris\n",
      "Third refers to E&Y\n",
      "Fourth refers to Wellington Management\n",
      "Fifth refers to Cognizant\n",
      "{'First': 'HCL HP', 'Second': 'Polaris', 'Third': 'E&Y', 'Fourth': 'Wellington Management', 'Fifth': 'Cognizant', 'Next': 'Which company?:)'}\n"
     ]
    }
   ],
   "source": [
    "\n",
    "a_dictionary={\"First\":\"HCL HP\", \"Second\":\"Polaris\", \"Third\":\"E&Y\", \"Fourth\":\"Wellington Management\", \"Fifth\":\"Cognizant\"}\n",
    "print (a_dictionary)\n",
    "\n",
    "for i,j in a_dictionary.items():\n",
    "    print(\"Company \"+i+\" is \"+j)\n",
    "\n",
    "# looping through dictionary will fetch the keys that could be indexed to refer to values further\n",
    "for i in a_dictionary:\n",
    "    print(i+\" refers to \"+a_dictionary[i])\n",
    "\n",
    "a_dictionary['Next']='Which company?:)'\n",
    "print(a_dictionary)"
   ]
  },
  {
   "cell_type": "code",
   "execution_count": 77,
   "metadata": {
    "collapsed": true
   },
   "outputs": [
    {
     "data": {
      "text/plain": [
       "['__class__',\n",
       " '__contains__',\n",
       " '__delattr__',\n",
       " '__delitem__',\n",
       " '__dir__',\n",
       " '__doc__',\n",
       " '__eq__',\n",
       " '__format__',\n",
       " '__ge__',\n",
       " '__getattribute__',\n",
       " '__getitem__',\n",
       " '__gt__',\n",
       " '__hash__',\n",
       " '__init__',\n",
       " '__init_subclass__',\n",
       " '__iter__',\n",
       " '__le__',\n",
       " '__len__',\n",
       " '__lt__',\n",
       " '__ne__',\n",
       " '__new__',\n",
       " '__reduce__',\n",
       " '__reduce_ex__',\n",
       " '__repr__',\n",
       " '__setattr__',\n",
       " '__setitem__',\n",
       " '__sizeof__',\n",
       " '__str__',\n",
       " '__subclasshook__',\n",
       " 'clear',\n",
       " 'copy',\n",
       " 'fromkeys',\n",
       " 'get',\n",
       " 'items',\n",
       " 'keys',\n",
       " 'pop',\n",
       " 'popitem',\n",
       " 'setdefault',\n",
       " 'update',\n",
       " 'values']"
      ]
     },
     "execution_count": 77,
     "metadata": {},
     "output_type": "execute_result"
    }
   ],
   "source": [
    "#below command gives internal methods used by dictionaries\n",
    "\n",
    "dir({})"
   ]
  },
  {
   "cell_type": "code",
   "execution_count": 79,
   "metadata": {},
   "outputs": [
    {
     "name": "stdout",
     "output_type": "stream",
     "text": [
      "1.0\n",
      "2.0\n",
      "3.0\n",
      "4.0\n"
     ]
    }
   ],
   "source": [
    "value=1.0\n",
    "while (value<5):\n",
    "    print(value)\n",
    "    value += 1"
   ]
  }
 ],
 "metadata": {
  "kernelspec": {
   "display_name": "Python 3",
   "language": "python",
   "name": "python3"
  },
  "language_info": {
   "codemirror_mode": {
    "name": "ipython",
    "version": 3
   },
   "file_extension": ".py",
   "mimetype": "text/x-python",
   "name": "python",
   "nbconvert_exporter": "python",
   "pygments_lexer": "ipython3",
   "version": "3.7.6"
  }
 },
 "nbformat": 4,
 "nbformat_minor": 4
}
