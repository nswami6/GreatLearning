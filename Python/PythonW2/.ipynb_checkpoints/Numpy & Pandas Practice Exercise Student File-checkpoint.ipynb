{
 "cells": [
  {
   "cell_type": "markdown",
   "metadata": {},
   "source": [
    "# Section 1:  NumPy"
   ]
  },
  {
   "cell_type": "markdown",
   "metadata": {},
   "source": [
    "#### Import the library with alias np"
   ]
  },
  {
   "cell_type": "code",
   "execution_count": 3,
   "metadata": {},
   "outputs": [],
   "source": [
    "import numpy as np"
   ]
  },
  {
   "cell_type": "markdown",
   "metadata": {},
   "source": [
    "####  1. Create an array of  8 eights"
   ]
  },
  {
   "cell_type": "code",
   "execution_count": 5,
   "metadata": {},
   "outputs": [],
   "source": [
    "array1=np.ndarray([8,8,8,8,8,8,8,8]) "
   ]
  },
  {
   "cell_type": "markdown",
   "metadata": {},
   "source": [
    "#### 2. Create an array of the integers from 10 to 50"
   ]
  },
  {
   "cell_type": "code",
   "execution_count": 14,
   "metadata": {},
   "outputs": [
    {
     "name": "stdout",
     "output_type": "stream",
     "text": [
      "[10 11 12 13 14 15 16 17 18 19 20 21 22 23 24 25 26 27 28 29 30 31 32 33\n",
      " 34 35 36 37 38 39 40 41 42 43 44 45 46 47 48 49 50]\n"
     ]
    }
   ],
   "source": [
    "array2=np.arange(10,51)\n",
    "\n",
    "print(array2)"
   ]
  },
  {
   "cell_type": "markdown",
   "metadata": {},
   "source": [
    "#### 3. Create a 3x3 matrix with values ranging from 22 to 30"
   ]
  },
  {
   "cell_type": "code",
   "execution_count": 17,
   "metadata": {},
   "outputs": [
    {
     "name": "stdout",
     "output_type": "stream",
     "text": [
      "[[22 23 24]\n",
      " [25 26 27]\n",
      " [28 29 30]]\n"
     ]
    }
   ],
   "source": [
    "array3=np.arange(22,31).reshape(3,3)\n",
    "print(array3)"
   ]
  },
  {
   "cell_type": "markdown",
   "metadata": {},
   "source": [
    "## Indexing\n",
    "Use below Array 'arr' for Questions below \n",
    "\n",
    "Use Indexing to get the answer"
   ]
  },
  {
   "cell_type": "code",
   "execution_count": 25,
   "metadata": {},
   "outputs": [
    {
     "name": "stdout",
     "output_type": "stream",
     "text": [
      "[[26 27 28 29 30]\n",
      " [31 32 33 34 35]\n",
      " [36 37 38 39 40]\n",
      " [41 42 43 44 45]\n",
      " [46 47 48 49 50]]\n",
      "[[37 38 39 40]\n",
      " [42 43 44 45]\n",
      " [47 48 49 50]]\n",
      "[[41 42 43 44 45]\n",
      " [46 47 48 49 50]]\n"
     ]
    }
   ],
   "source": [
    "arr = np.arange(26,51).reshape(5,5)\n",
    "print (arr)\n",
    "print(arr[2:,1:])\n",
    "print(arr[2:][1:])"
   ]
  },
  {
   "cell_type": "markdown",
   "metadata": {
    "collapsed": true
   },
   "source": [
    "#### 4. Use indexing on arr to get below output\n",
    "\n",
    "       [[37, 38, 39, 40],\n",
    "       [42, 43, 44, 45],\n",
    "       [47, 48, 49, 50]]"
   ]
  },
  {
   "cell_type": "code",
   "execution_count": 27,
   "metadata": {},
   "outputs": [
    {
     "data": {
      "text/plain": [
       "50"
      ]
     },
     "execution_count": 27,
     "metadata": {},
     "output_type": "execute_result"
    }
   ],
   "source": [
    "arr[-1,-1]"
   ]
  },
  {
   "cell_type": "markdown",
   "metadata": {
    "collapsed": true
   },
   "source": [
    "#### 5. Use indexing on arr to get below output\n",
    "Output should be 50"
   ]
  },
  {
   "cell_type": "code",
   "execution_count": 30,
   "metadata": {},
   "outputs": [
    {
     "data": {
      "text/plain": [
       "array([27, 32, 37])"
      ]
     },
     "execution_count": 30,
     "metadata": {},
     "output_type": "execute_result"
    }
   ],
   "source": [
    "arr[:3,1]"
   ]
  },
  {
   "cell_type": "markdown",
   "metadata": {
    "collapsed": true
   },
   "source": [
    "#### 6. Use indexing on arr to get below output\n",
    "      [[27],\n",
    "       [32],\n",
    "       [37]]"
   ]
  },
  {
   "cell_type": "code",
   "execution_count": 31,
   "metadata": {},
   "outputs": [
    {
     "data": {
      "text/plain": [
       "array([46, 47, 48, 49, 50])"
      ]
     },
     "execution_count": 31,
     "metadata": {},
     "output_type": "execute_result"
    }
   ],
   "source": [
    "arr[-1]"
   ]
  },
  {
   "cell_type": "markdown",
   "metadata": {
    "collapsed": true
   },
   "source": [
    "#### 7. Use indexing on arr to get below output\n",
    "      [46, 47, 48, 49, 50]"
   ]
  },
  {
   "cell_type": "code",
   "execution_count": 32,
   "metadata": {},
   "outputs": [
    {
     "data": {
      "text/plain": [
       "array([[41, 42, 43, 44, 45],\n",
       "       [46, 47, 48, 49, 50]])"
      ]
     },
     "execution_count": 32,
     "metadata": {},
     "output_type": "execute_result"
    }
   ],
   "source": [
    "arr[-2:]"
   ]
  },
  {
   "cell_type": "markdown",
   "metadata": {
    "collapsed": true
   },
   "source": [
    "#### 8. Use indexing on arr to get below output\n",
    "     [[41, 42, 43, 44, 45],\n",
    "       [46, 47, 48, 49, 50]]"
   ]
  },
  {
   "cell_type": "code",
   "execution_count": null,
   "metadata": {},
   "outputs": [],
   "source": []
  },
  {
   "cell_type": "markdown",
   "metadata": {},
   "source": [
    "### NumPy  Stats Functions\n",
    "\n",
    "Use below given array 'arr'"
   ]
  },
  {
   "cell_type": "code",
   "execution_count": 33,
   "metadata": {},
   "outputs": [
    {
     "data": {
      "text/plain": [
       "array([[10, 11, 12, 13, 14],\n",
       "       [15, 16, 17, 18, 19],\n",
       "       [20, 21, 22, 23, 24],\n",
       "       [25, 26, 27, 28, 29],\n",
       "       [30, 31, 32, 33, 34],\n",
       "       [35, 36, 37, 38, 39]])"
      ]
     },
     "execution_count": 33,
     "metadata": {},
     "output_type": "execute_result"
    }
   ],
   "source": [
    "arr = np.arange(10,40).reshape(6,5)\n",
    "arr"
   ]
  },
  {
   "cell_type": "markdown",
   "metadata": {},
   "source": [
    "#### 9. Find the sum of all the values in given array 'arr'"
   ]
  },
  {
   "cell_type": "code",
   "execution_count": 34,
   "metadata": {},
   "outputs": [
    {
     "data": {
      "text/plain": [
       "735"
      ]
     },
     "execution_count": 34,
     "metadata": {},
     "output_type": "execute_result"
    }
   ],
   "source": [
    "np.sum(arr)"
   ]
  },
  {
   "cell_type": "markdown",
   "metadata": {},
   "source": [
    "#### 10. Find the standard deviation of the values in given array 'arr'"
   ]
  },
  {
   "cell_type": "code",
   "execution_count": 35,
   "metadata": {},
   "outputs": [
    {
     "data": {
      "text/plain": [
       "8.65544144839919"
      ]
     },
     "execution_count": 35,
     "metadata": {},
     "output_type": "execute_result"
    }
   ],
   "source": [
    "np.std(arr)"
   ]
  },
  {
   "cell_type": "markdown",
   "metadata": {},
   "source": [
    "#### 11.  Find the mean of all the values in given array 'arr'"
   ]
  },
  {
   "cell_type": "code",
   "execution_count": 36,
   "metadata": {},
   "outputs": [
    {
     "data": {
      "text/plain": [
       "24.5"
      ]
     },
     "execution_count": 36,
     "metadata": {},
     "output_type": "execute_result"
    }
   ],
   "source": [
    "np.mean(arr)"
   ]
  },
  {
   "cell_type": "markdown",
   "metadata": {},
   "source": [
    "# Section 2: Pandas"
   ]
  },
  {
   "cell_type": "code",
   "execution_count": 37,
   "metadata": {
    "ExecuteTime": {
     "end_time": "2020-03-30T16:20:51.292387Z",
     "start_time": "2020-03-30T16:20:50.942382Z"
    }
   },
   "outputs": [],
   "source": [
    "import numpy as np\n",
    "import pandas as pd"
   ]
  },
  {
   "cell_type": "markdown",
   "metadata": {},
   "source": [
    "### Q1. Display the first 10 entries of the dataset."
   ]
  },
  {
   "cell_type": "code",
   "execution_count": 81,
   "metadata": {
    "ExecuteTime": {
     "end_time": "2020-03-30T16:20:52.236721Z",
     "start_time": "2020-03-30T16:20:52.159927Z"
    }
   },
   "outputs": [
    {
     "name": "stdout",
     "output_type": "stream",
     "text": [
      "             Dist_Taxi  Dist_Market  Dist_Metro  Store_Area  Items_Available  \\\n",
      "Observation                                                                    \n",
      "1               9796.0       5250.0     10703.0      1659.0           1961.0   \n",
      "2               8294.0       8186.0     12694.0      1461.0           1752.0   \n",
      "3              11001.0      14399.0     16991.0      1340.0           1609.0   \n",
      "4               8301.0      11188.0     12289.0      1451.0           1748.0   \n",
      "5              10510.0      12629.0     13921.0      1770.0           2111.0   \n",
      "6               6665.0       5142.0      9972.0      1442.0           1733.0   \n",
      "7              13153.0      11869.0     17811.0      1542.0           1858.0   \n",
      "8               5882.0       9948.0     13315.0      1261.0           1507.0   \n",
      "9               7495.0      11589.0     13370.0      1090.0           1321.0   \n",
      "10              8233.0       7067.0     11400.0      1030.0           1235.0   \n",
      "\n",
      "                  Parking Coupon_Category  Daily_Customer_Count  Store_Sales  \n",
      "Observation                                                                   \n",
      "1                    Open           CAT B                   530        66490  \n",
      "2            Not Provided           CAT B                   210        39820  \n",
      "3            Not Provided           CAT A                   720        54010  \n",
      "4                 Covered           CAT B                   620        53730  \n",
      "5            Not Provided           CAT B                   450        46620  \n",
      "6                    Open           CAT B                   760        45260  \n",
      "7              No Parking           CAT A                  1030        72240  \n",
      "8                    Open           CAT C                  1020        37720  \n",
      "9            Not Provided           CAT B                   680        46310  \n",
      "10                   Open           CAT C                  1130        44150  \n",
      "<class 'pandas.core.frame.DataFrame'>\n",
      "<class '_io.TextIOWrapper'>\n"
     ]
    }
   ],
   "source": [
    "file=pd.read_csv('Stores Sales.csv',index_col=0)\n",
    "print(file.head(10))\n",
    "print(type(file))\n",
    "\n",
    "file_name='Stores Sales.csv'\n",
    "with open(file_name,'r') as f1:\n",
    "    File_lines=f1.readlines()\n",
    "    print(type(f1))\n",
    "\n",
    "# for i in range(len(File_lines)):\n",
    "#     if i>5:\n",
    "#         break\n",
    "#     print(File_lines[i])"
   ]
  },
  {
   "cell_type": "markdown",
   "metadata": {},
   "source": [
    "### Q2. Display the last 5 entries of the dataset."
   ]
  },
  {
   "cell_type": "code",
   "execution_count": 75,
   "metadata": {
    "ExecuteTime": {
     "end_time": "2020-03-30T16:20:52.900419Z",
     "start_time": "2020-03-30T16:20:52.889418Z"
    }
   },
   "outputs": [
    {
     "name": "stdout",
     "output_type": "stream",
     "text": [
      "             Dist_Taxi  Dist_Market  Dist_Metro  Store_Area  Items_Available  \\\n",
      "Observation                                                                    \n",
      "928            12176.0       8518.0     15673.0      1582.0           1910.0   \n",
      "929             7214.0       8717.0     10553.0      1387.0           1663.0   \n",
      "930             7423.0      11708.0     13220.0      1200.0           1436.0   \n",
      "931            15082.0      14700.0     19617.0      1299.0           1560.0   \n",
      "932             9297.0      12537.0     14418.0      1174.0           1429.0   \n",
      "\n",
      "             Parking Coupon_Category  Daily_Customer_Count  Store_Sales  \n",
      "Observation                                                              \n",
      "928          Covered           CAT C                  1080        66390  \n",
      "929             Open           CAT A                   850        82080  \n",
      "930             Open           CAT A                  1060        76440  \n",
      "931             Open           CAT B                   770        96610  \n",
      "932          Covered           CAT C                  1110        54340  \n"
     ]
    }
   ],
   "source": [
    "print(file.tail(5))\n"
   ]
  },
  {
   "cell_type": "markdown",
   "metadata": {},
   "source": [
    "### Q3. How many rows and columns are present in the dataset?"
   ]
  },
  {
   "cell_type": "code",
   "execution_count": 64,
   "metadata": {
    "ExecuteTime": {
     "end_time": "2020-03-30T16:20:53.416980Z",
     "start_time": "2020-03-30T16:20:53.413984Z"
    }
   },
   "outputs": [
    {
     "data": {
      "text/plain": [
       "(932, 9)"
      ]
     },
     "execution_count": 64,
     "metadata": {},
     "output_type": "execute_result"
    }
   ],
   "source": [
    "file.shape"
   ]
  },
  {
   "cell_type": "markdown",
   "metadata": {},
   "source": [
    "### Q4. What are the different data types of the variables in the given dataset?"
   ]
  },
  {
   "cell_type": "code",
   "execution_count": 68,
   "metadata": {
    "ExecuteTime": {
     "end_time": "2020-03-30T16:20:54.021735Z",
     "start_time": "2020-03-30T16:20:53.981843Z"
    }
   },
   "outputs": [
    {
     "name": "stdout",
     "output_type": "stream",
     "text": [
      "<class 'pandas.core.frame.DataFrame'>\n",
      "Int64Index: 932 entries, 1 to 932\n",
      "Data columns (total 9 columns):\n",
      " #   Column                Non-Null Count  Dtype  \n",
      "---  ------                --------------  -----  \n",
      " 0   Dist_Taxi             919 non-null    float64\n",
      " 1   Dist_Market           919 non-null    float64\n",
      " 2   Dist_Metro            931 non-null    float64\n",
      " 3   Store_Area            924 non-null    float64\n",
      " 4   Items_Available       917 non-null    float64\n",
      " 5   Parking               932 non-null    object \n",
      " 6   Coupon_Category       932 non-null    object \n",
      " 7   Daily_Customer_Count  932 non-null    int64  \n",
      " 8   Store_Sales           932 non-null    int64  \n",
      "dtypes: float64(5), int64(2), object(2)\n",
      "memory usage: 72.8+ KB\n"
     ]
    }
   ],
   "source": [
    "# file.dtypes\n",
    "\n",
    "file.info()"
   ]
  },
  {
   "cell_type": "markdown",
   "metadata": {},
   "source": [
    "### Q5. Print all the values of the variable 'Dist_Metro'."
   ]
  },
  {
   "cell_type": "code",
   "execution_count": 79,
   "metadata": {
    "ExecuteTime": {
     "end_time": "2020-03-30T16:20:54.988879Z",
     "start_time": "2020-03-30T16:20:54.983919Z"
    }
   },
   "outputs": [
    {
     "name": "stdout",
     "output_type": "stream",
     "text": [
      "Observation\n",
      "1      10703.0\n",
      "2      12694.0\n",
      "3      16991.0\n",
      "4      12289.0\n",
      "5      13921.0\n",
      "        ...   \n",
      "928    15673.0\n",
      "929    10553.0\n",
      "930    13220.0\n",
      "931    19617.0\n",
      "932    14418.0\n",
      "Name: Dist_Metro, Length: 932, dtype: float64\n"
     ]
    }
   ],
   "source": [
    "print(file.iloc[:,2])"
   ]
  },
  {
   "cell_type": "markdown",
   "metadata": {},
   "source": [
    "### Q6. Drop the variable 'Parking' from the dataset."
   ]
  },
  {
   "cell_type": "code",
   "execution_count": 94,
   "metadata": {
    "ExecuteTime": {
     "end_time": "2020-03-30T16:21:00.703552Z",
     "start_time": "2020-03-30T16:21:00.674630Z"
    }
   },
   "outputs": [],
   "source": [
    "df1=file.drop('Parking',axis=1)"
   ]
  },
  {
   "cell_type": "markdown",
   "metadata": {},
   "source": [
    "### Q7. Print 'True' for the observations of the 'Dist_Taxi' variable whose value is greater than 8229.\n",
    "**Using dataframe from Q6**"
   ]
  },
  {
   "cell_type": "code",
   "execution_count": 96,
   "metadata": {
    "ExecuteTime": {
     "end_time": "2020-03-30T16:21:01.354143Z",
     "start_time": "2020-03-30T16:21:01.349122Z"
    }
   },
   "outputs": [
    {
     "data": {
      "text/html": [
       "<div>\n",
       "<style scoped>\n",
       "    .dataframe tbody tr th:only-of-type {\n",
       "        vertical-align: middle;\n",
       "    }\n",
       "\n",
       "    .dataframe tbody tr th {\n",
       "        vertical-align: top;\n",
       "    }\n",
       "\n",
       "    .dataframe thead th {\n",
       "        text-align: right;\n",
       "    }\n",
       "</style>\n",
       "<table border=\"1\" class=\"dataframe\">\n",
       "  <thead>\n",
       "    <tr style=\"text-align: right;\">\n",
       "      <th></th>\n",
       "      <th>Dist_Taxi</th>\n",
       "      <th>Dist_Market</th>\n",
       "      <th>Dist_Metro</th>\n",
       "      <th>Store_Area</th>\n",
       "      <th>Items_Available</th>\n",
       "      <th>Coupon_Category</th>\n",
       "      <th>Daily_Customer_Count</th>\n",
       "      <th>Store_Sales</th>\n",
       "    </tr>\n",
       "    <tr>\n",
       "      <th>Observation</th>\n",
       "      <th></th>\n",
       "      <th></th>\n",
       "      <th></th>\n",
       "      <th></th>\n",
       "      <th></th>\n",
       "      <th></th>\n",
       "      <th></th>\n",
       "      <th></th>\n",
       "    </tr>\n",
       "  </thead>\n",
       "  <tbody>\n",
       "    <tr>\n",
       "      <th>1</th>\n",
       "      <td>9796.0</td>\n",
       "      <td>5250.0</td>\n",
       "      <td>10703.0</td>\n",
       "      <td>1659.0</td>\n",
       "      <td>1961.0</td>\n",
       "      <td>CAT B</td>\n",
       "      <td>530</td>\n",
       "      <td>66490</td>\n",
       "    </tr>\n",
       "    <tr>\n",
       "      <th>2</th>\n",
       "      <td>8294.0</td>\n",
       "      <td>8186.0</td>\n",
       "      <td>12694.0</td>\n",
       "      <td>1461.0</td>\n",
       "      <td>1752.0</td>\n",
       "      <td>CAT B</td>\n",
       "      <td>210</td>\n",
       "      <td>39820</td>\n",
       "    </tr>\n",
       "    <tr>\n",
       "      <th>3</th>\n",
       "      <td>11001.0</td>\n",
       "      <td>14399.0</td>\n",
       "      <td>16991.0</td>\n",
       "      <td>1340.0</td>\n",
       "      <td>1609.0</td>\n",
       "      <td>CAT A</td>\n",
       "      <td>720</td>\n",
       "      <td>54010</td>\n",
       "    </tr>\n",
       "    <tr>\n",
       "      <th>4</th>\n",
       "      <td>8301.0</td>\n",
       "      <td>11188.0</td>\n",
       "      <td>12289.0</td>\n",
       "      <td>1451.0</td>\n",
       "      <td>1748.0</td>\n",
       "      <td>CAT B</td>\n",
       "      <td>620</td>\n",
       "      <td>53730</td>\n",
       "    </tr>\n",
       "    <tr>\n",
       "      <th>5</th>\n",
       "      <td>10510.0</td>\n",
       "      <td>12629.0</td>\n",
       "      <td>13921.0</td>\n",
       "      <td>1770.0</td>\n",
       "      <td>2111.0</td>\n",
       "      <td>CAT B</td>\n",
       "      <td>450</td>\n",
       "      <td>46620</td>\n",
       "    </tr>\n",
       "    <tr>\n",
       "      <th>...</th>\n",
       "      <td>...</td>\n",
       "      <td>...</td>\n",
       "      <td>...</td>\n",
       "      <td>...</td>\n",
       "      <td>...</td>\n",
       "      <td>...</td>\n",
       "      <td>...</td>\n",
       "      <td>...</td>\n",
       "    </tr>\n",
       "    <tr>\n",
       "      <th>925</th>\n",
       "      <td>9615.0</td>\n",
       "      <td>7904.0</td>\n",
       "      <td>12521.0</td>\n",
       "      <td>1451.0</td>\n",
       "      <td>1734.0</td>\n",
       "      <td>CAT C</td>\n",
       "      <td>670</td>\n",
       "      <td>34880</td>\n",
       "    </tr>\n",
       "    <tr>\n",
       "      <th>927</th>\n",
       "      <td>10915.0</td>\n",
       "      <td>17486.0</td>\n",
       "      <td>15964.0</td>\n",
       "      <td>1549.0</td>\n",
       "      <td>1851.0</td>\n",
       "      <td>CAT C</td>\n",
       "      <td>1220</td>\n",
       "      <td>70620</td>\n",
       "    </tr>\n",
       "    <tr>\n",
       "      <th>928</th>\n",
       "      <td>12176.0</td>\n",
       "      <td>8518.0</td>\n",
       "      <td>15673.0</td>\n",
       "      <td>1582.0</td>\n",
       "      <td>1910.0</td>\n",
       "      <td>CAT C</td>\n",
       "      <td>1080</td>\n",
       "      <td>66390</td>\n",
       "    </tr>\n",
       "    <tr>\n",
       "      <th>931</th>\n",
       "      <td>15082.0</td>\n",
       "      <td>14700.0</td>\n",
       "      <td>19617.0</td>\n",
       "      <td>1299.0</td>\n",
       "      <td>1560.0</td>\n",
       "      <td>CAT B</td>\n",
       "      <td>770</td>\n",
       "      <td>96610</td>\n",
       "    </tr>\n",
       "    <tr>\n",
       "      <th>932</th>\n",
       "      <td>9297.0</td>\n",
       "      <td>12537.0</td>\n",
       "      <td>14418.0</td>\n",
       "      <td>1174.0</td>\n",
       "      <td>1429.0</td>\n",
       "      <td>CAT C</td>\n",
       "      <td>1110</td>\n",
       "      <td>54340</td>\n",
       "    </tr>\n",
       "  </tbody>\n",
       "</table>\n",
       "<p>460 rows × 8 columns</p>\n",
       "</div>"
      ],
      "text/plain": [
       "             Dist_Taxi  Dist_Market  Dist_Metro  Store_Area  Items_Available  \\\n",
       "Observation                                                                    \n",
       "1               9796.0       5250.0     10703.0      1659.0           1961.0   \n",
       "2               8294.0       8186.0     12694.0      1461.0           1752.0   \n",
       "3              11001.0      14399.0     16991.0      1340.0           1609.0   \n",
       "4               8301.0      11188.0     12289.0      1451.0           1748.0   \n",
       "5              10510.0      12629.0     13921.0      1770.0           2111.0   \n",
       "...                ...          ...         ...         ...              ...   \n",
       "925             9615.0       7904.0     12521.0      1451.0           1734.0   \n",
       "927            10915.0      17486.0     15964.0      1549.0           1851.0   \n",
       "928            12176.0       8518.0     15673.0      1582.0           1910.0   \n",
       "931            15082.0      14700.0     19617.0      1299.0           1560.0   \n",
       "932             9297.0      12537.0     14418.0      1174.0           1429.0   \n",
       "\n",
       "            Coupon_Category  Daily_Customer_Count  Store_Sales  \n",
       "Observation                                                     \n",
       "1                     CAT B                   530        66490  \n",
       "2                     CAT B                   210        39820  \n",
       "3                     CAT A                   720        54010  \n",
       "4                     CAT B                   620        53730  \n",
       "5                     CAT B                   450        46620  \n",
       "...                     ...                   ...          ...  \n",
       "925                   CAT C                   670        34880  \n",
       "927                   CAT C                  1220        70620  \n",
       "928                   CAT C                  1080        66390  \n",
       "931                   CAT B                   770        96610  \n",
       "932                   CAT C                  1110        54340  \n",
       "\n",
       "[460 rows x 8 columns]"
      ]
     },
     "execution_count": 96,
     "metadata": {},
     "output_type": "execute_result"
    }
   ],
   "source": [
    "df1[df1['Dist_Taxi'] > 8229]"
   ]
  },
  {
   "cell_type": "markdown",
   "metadata": {},
   "source": [
    "### Q8. Drop the missing values ('na' values) from the dataset."
   ]
  },
  {
   "cell_type": "code",
   "execution_count": 99,
   "metadata": {
    "ExecuteTime": {
     "end_time": "2020-03-30T16:21:04.713224Z",
     "start_time": "2020-03-30T16:21:04.692278Z"
    }
   },
   "outputs": [
    {
     "name": "stdout",
     "output_type": "stream",
     "text": [
      "             Dist_Taxi  Dist_Market  Dist_Metro  Store_Area  Items_Available  \\\n",
      "Observation                                                                    \n",
      "1               9796.0       5250.0     10703.0      1659.0           1961.0   \n",
      "2               8294.0       8186.0     12694.0      1461.0           1752.0   \n",
      "3              11001.0      14399.0     16991.0      1340.0           1609.0   \n",
      "4               8301.0      11188.0     12289.0      1451.0           1748.0   \n",
      "5              10510.0      12629.0     13921.0      1770.0           2111.0   \n",
      "...                ...          ...         ...         ...              ...   \n",
      "928            12176.0       8518.0     15673.0      1582.0           1910.0   \n",
      "929             7214.0       8717.0     10553.0      1387.0           1663.0   \n",
      "930             7423.0      11708.0     13220.0      1200.0           1436.0   \n",
      "931            15082.0      14700.0     19617.0      1299.0           1560.0   \n",
      "932             9297.0      12537.0     14418.0      1174.0           1429.0   \n",
      "\n",
      "            Coupon_Category  Daily_Customer_Count  Store_Sales  \n",
      "Observation                                                     \n",
      "1                     CAT B                   530        66490  \n",
      "2                     CAT B                   210        39820  \n",
      "3                     CAT A                   720        54010  \n",
      "4                     CAT B                   620        53730  \n",
      "5                     CAT B                   450        46620  \n",
      "...                     ...                   ...          ...  \n",
      "928                   CAT C                  1080        66390  \n",
      "929                   CAT A                   850        82080  \n",
      "930                   CAT A                  1060        76440  \n",
      "931                   CAT B                   770        96610  \n",
      "932                   CAT C                  1110        54340  \n",
      "\n",
      "[898 rows x 8 columns]\n"
     ]
    }
   ],
   "source": [
    "df1.dropna(inplace=True)\n",
    "print(df1)"
   ]
  },
  {
   "cell_type": "markdown",
   "metadata": {},
   "source": [
    "### Q9. Group the dataset with respect to the variable 'Dist_Market' using aggregation function min()\n",
    "**Use dataframe originally loaded i.e Q1 dataset**"
   ]
  },
  {
   "cell_type": "code",
   "execution_count": 111,
   "metadata": {
    "ExecuteTime": {
     "end_time": "2020-03-30T16:26:51.494199Z",
     "start_time": "2020-03-30T16:26:50.961228Z"
    }
   },
   "outputs": [
    {
     "data": {
      "text/html": [
       "<div>\n",
       "<style scoped>\n",
       "    .dataframe tbody tr th:only-of-type {\n",
       "        vertical-align: middle;\n",
       "    }\n",
       "\n",
       "    .dataframe tbody tr th {\n",
       "        vertical-align: top;\n",
       "    }\n",
       "\n",
       "    .dataframe thead th {\n",
       "        text-align: right;\n",
       "    }\n",
       "</style>\n",
       "<table border=\"1\" class=\"dataframe\">\n",
       "  <thead>\n",
       "    <tr style=\"text-align: right;\">\n",
       "      <th></th>\n",
       "      <th>Dist_Taxi</th>\n",
       "      <th>Dist_Metro</th>\n",
       "      <th>Store_Area</th>\n",
       "      <th>Items_Available</th>\n",
       "      <th>Coupon_Category</th>\n",
       "      <th>Daily_Customer_Count</th>\n",
       "      <th>Store_Sales</th>\n",
       "    </tr>\n",
       "    <tr>\n",
       "      <th>Dist_Market</th>\n",
       "      <th></th>\n",
       "      <th></th>\n",
       "      <th></th>\n",
       "      <th></th>\n",
       "      <th></th>\n",
       "      <th></th>\n",
       "      <th></th>\n",
       "    </tr>\n",
       "  </thead>\n",
       "  <tbody>\n",
       "    <tr>\n",
       "      <th>1666.0</th>\n",
       "      <td>146.0</td>\n",
       "      <td>3227.0</td>\n",
       "      <td>1072.0</td>\n",
       "      <td>1296.0</td>\n",
       "      <td>CAT C</td>\n",
       "      <td>900</td>\n",
       "      <td>47590</td>\n",
       "    </tr>\n",
       "    <tr>\n",
       "      <th>4402.0</th>\n",
       "      <td>4049.0</td>\n",
       "      <td>8614.0</td>\n",
       "      <td>1948.0</td>\n",
       "      <td>2374.0</td>\n",
       "      <td>CAT A</td>\n",
       "      <td>930</td>\n",
       "      <td>89540</td>\n",
       "    </tr>\n",
       "    <tr>\n",
       "      <th>4574.0</th>\n",
       "      <td>5097.0</td>\n",
       "      <td>9365.0</td>\n",
       "      <td>1449.0</td>\n",
       "      <td>1733.0</td>\n",
       "      <td>CAT C</td>\n",
       "      <td>320</td>\n",
       "      <td>60060</td>\n",
       "    </tr>\n",
       "    <tr>\n",
       "      <th>4644.0</th>\n",
       "      <td>6486.0</td>\n",
       "      <td>9312.0</td>\n",
       "      <td>1330.0</td>\n",
       "      <td>1606.0</td>\n",
       "      <td>CAT C</td>\n",
       "      <td>590</td>\n",
       "      <td>38510</td>\n",
       "    </tr>\n",
       "    <tr>\n",
       "      <th>4950.0</th>\n",
       "      <td>1648.0</td>\n",
       "      <td>6583.0</td>\n",
       "      <td>932.0</td>\n",
       "      <td>1138.0</td>\n",
       "      <td>CAT B</td>\n",
       "      <td>820</td>\n",
       "      <td>89760</td>\n",
       "    </tr>\n",
       "    <tr>\n",
       "      <th>...</th>\n",
       "      <td>...</td>\n",
       "      <td>...</td>\n",
       "      <td>...</td>\n",
       "      <td>...</td>\n",
       "      <td>...</td>\n",
       "      <td>...</td>\n",
       "      <td>...</td>\n",
       "    </tr>\n",
       "    <tr>\n",
       "      <th>17541.0</th>\n",
       "      <td>12794.0</td>\n",
       "      <td>20046.0</td>\n",
       "      <td>1440.0</td>\n",
       "      <td>1733.0</td>\n",
       "      <td>CAT A</td>\n",
       "      <td>1120</td>\n",
       "      <td>65310</td>\n",
       "    </tr>\n",
       "    <tr>\n",
       "      <th>17552.0</th>\n",
       "      <td>11986.0</td>\n",
       "      <td>19014.0</td>\n",
       "      <td>1638.0</td>\n",
       "      <td>1952.0</td>\n",
       "      <td>CAT A</td>\n",
       "      <td>690</td>\n",
       "      <td>81840</td>\n",
       "    </tr>\n",
       "    <tr>\n",
       "      <th>17958.0</th>\n",
       "      <td>11304.0</td>\n",
       "      <td>19046.0</td>\n",
       "      <td>1648.0</td>\n",
       "      <td>1959.0</td>\n",
       "      <td>CAT A</td>\n",
       "      <td>370</td>\n",
       "      <td>77080</td>\n",
       "    </tr>\n",
       "    <tr>\n",
       "      <th>18281.0</th>\n",
       "      <td>9308.0</td>\n",
       "      <td>18532.0</td>\n",
       "      <td>1771.0</td>\n",
       "      <td>2147.0</td>\n",
       "      <td>CAT C</td>\n",
       "      <td>430</td>\n",
       "      <td>62710</td>\n",
       "    </tr>\n",
       "    <tr>\n",
       "      <th>20945.0</th>\n",
       "      <td>20662.0</td>\n",
       "      <td>23294.0</td>\n",
       "      <td>24300.0</td>\n",
       "      <td>12730.0</td>\n",
       "      <td>CAT B</td>\n",
       "      <td>1130</td>\n",
       "      <td>1500000</td>\n",
       "    </tr>\n",
       "  </tbody>\n",
       "</table>\n",
       "<p>849 rows × 7 columns</p>\n",
       "</div>"
      ],
      "text/plain": [
       "             Dist_Taxi  Dist_Metro  Store_Area  Items_Available  \\\n",
       "Dist_Market                                                       \n",
       "1666.0           146.0      3227.0      1072.0           1296.0   \n",
       "4402.0          4049.0      8614.0      1948.0           2374.0   \n",
       "4574.0          5097.0      9365.0      1449.0           1733.0   \n",
       "4644.0          6486.0      9312.0      1330.0           1606.0   \n",
       "4950.0          1648.0      6583.0       932.0           1138.0   \n",
       "...                ...         ...         ...              ...   \n",
       "17541.0        12794.0     20046.0      1440.0           1733.0   \n",
       "17552.0        11986.0     19014.0      1638.0           1952.0   \n",
       "17958.0        11304.0     19046.0      1648.0           1959.0   \n",
       "18281.0         9308.0     18532.0      1771.0           2147.0   \n",
       "20945.0        20662.0     23294.0     24300.0          12730.0   \n",
       "\n",
       "            Coupon_Category  Daily_Customer_Count  Store_Sales  \n",
       "Dist_Market                                                     \n",
       "1666.0                CAT C                   900        47590  \n",
       "4402.0                CAT A                   930        89540  \n",
       "4574.0                CAT C                   320        60060  \n",
       "4644.0                CAT C                   590        38510  \n",
       "4950.0                CAT B                   820        89760  \n",
       "...                     ...                   ...          ...  \n",
       "17541.0               CAT A                  1120        65310  \n",
       "17552.0               CAT A                   690        81840  \n",
       "17958.0               CAT A                   370        77080  \n",
       "18281.0               CAT C                   430        62710  \n",
       "20945.0               CAT B                  1130      1500000  \n",
       "\n",
       "[849 rows x 7 columns]"
      ]
     },
     "execution_count": 111,
     "metadata": {},
     "output_type": "execute_result"
    }
   ],
   "source": [
    "df1[df1['Dist_Market']==4402].groupby('Dist_Market')['Coupon_Category'].count()\n",
    "\n",
    "df1.groupby('Dist_Market').min()"
   ]
  },
  {
   "cell_type": "markdown",
   "metadata": {},
   "source": [
    "### Q10. Export the Q6 dataframe without the 'Parking' column into a csv file."
   ]
  },
  {
   "cell_type": "code",
   "execution_count": 108,
   "metadata": {
    "ExecuteTime": {
     "end_time": "2020-03-30T16:21:07.370704Z",
     "start_time": "2020-03-30T16:21:07.158232Z"
    }
   },
   "outputs": [],
   "source": [
    "df1.to_csv('wk2Pandas.csv',index=True)"
   ]
  }
 ],
 "metadata": {
  "kernelspec": {
   "display_name": "Python 3",
   "language": "python",
   "name": "python3"
  },
  "language_info": {
   "codemirror_mode": {
    "name": "ipython",
    "version": 3
   },
   "file_extension": ".py",
   "mimetype": "text/x-python",
   "name": "python",
   "nbconvert_exporter": "python",
   "pygments_lexer": "ipython3",
   "version": "3.7.6"
  },
  "toc": {
   "base_numbering": 1,
   "nav_menu": {},
   "number_sections": true,
   "sideBar": true,
   "skip_h1_title": false,
   "title_cell": "Table of Contents",
   "title_sidebar": "Contents",
   "toc_cell": false,
   "toc_position": {},
   "toc_section_display": true,
   "toc_window_display": false
  },
  "varInspector": {
   "cols": {
    "lenName": 16,
    "lenType": 16,
    "lenVar": 40
   },
   "kernels_config": {
    "python": {
     "delete_cmd_postfix": "",
     "delete_cmd_prefix": "del ",
     "library": "var_list.py",
     "varRefreshCmd": "print(var_dic_list())"
    },
    "r": {
     "delete_cmd_postfix": ") ",
     "delete_cmd_prefix": "rm(",
     "library": "var_list.r",
     "varRefreshCmd": "cat(var_dic_list()) "
    }
   },
   "types_to_exclude": [
    "module",
    "function",
    "builtin_function_or_method",
    "instance",
    "_Feature"
   ],
   "window_display": false
  }
 },
 "nbformat": 4,
 "nbformat_minor": 1
}
