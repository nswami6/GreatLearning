{
 "cells": [
  {
   "cell_type": "code",
   "execution_count": 1,
   "metadata": {},
   "outputs": [
    {
     "name": "stderr",
     "output_type": "stream",
     "text": [
      "In C:\\Users\\Administrator\\anaconda3\\lib\\site-packages\\matplotlib\\mpl-data\\stylelib\\_classic_test.mplstyle: \n",
      "The text.latex.preview rcparam was deprecated in Matplotlib 3.3 and will be removed two minor releases later.\n",
      "In C:\\Users\\Administrator\\anaconda3\\lib\\site-packages\\matplotlib\\mpl-data\\stylelib\\_classic_test.mplstyle: \n",
      "The mathtext.fallback_to_cm rcparam was deprecated in Matplotlib 3.3 and will be removed two minor releases later.\n",
      "In C:\\Users\\Administrator\\anaconda3\\lib\\site-packages\\matplotlib\\mpl-data\\stylelib\\_classic_test.mplstyle: Support for setting the 'mathtext.fallback_to_cm' rcParam is deprecated since 3.3 and will be removed two minor releases later; use 'mathtext.fallback : 'cm' instead.\n",
      "In C:\\Users\\Administrator\\anaconda3\\lib\\site-packages\\matplotlib\\mpl-data\\stylelib\\_classic_test.mplstyle: \n",
      "The validate_bool_maybe_none function was deprecated in Matplotlib 3.3 and will be removed two minor releases later.\n",
      "In C:\\Users\\Administrator\\anaconda3\\lib\\site-packages\\matplotlib\\mpl-data\\stylelib\\_classic_test.mplstyle: \n",
      "The savefig.jpeg_quality rcparam was deprecated in Matplotlib 3.3 and will be removed two minor releases later.\n",
      "In C:\\Users\\Administrator\\anaconda3\\lib\\site-packages\\matplotlib\\mpl-data\\stylelib\\_classic_test.mplstyle: \n",
      "The keymap.all_axes rcparam was deprecated in Matplotlib 3.3 and will be removed two minor releases later.\n",
      "In C:\\Users\\Administrator\\anaconda3\\lib\\site-packages\\matplotlib\\mpl-data\\stylelib\\_classic_test.mplstyle: \n",
      "The animation.avconv_path rcparam was deprecated in Matplotlib 3.3 and will be removed two minor releases later.\n",
      "In C:\\Users\\Administrator\\anaconda3\\lib\\site-packages\\matplotlib\\mpl-data\\stylelib\\_classic_test.mplstyle: \n",
      "The animation.avconv_args rcparam was deprecated in Matplotlib 3.3 and will be removed two minor releases later.\n"
     ]
    }
   ],
   "source": [
    "import numpy as np\n",
    "import pandas as pd\n",
    "import matplotlib.pyplot as plt\n",
    "import seaborn as sns\n",
    "from statsmodels.formula.api import ols      # For n-way ANOVA\n",
    "from statsmodels.stats.anova import _get_covariance,anova_lm # For n-way ANOVA\n",
    "%matplotlib inline"
   ]
  },
  {
   "cell_type": "code",
   "execution_count": 2,
   "metadata": {},
   "outputs": [
    {
     "name": "stdout",
     "output_type": "stream",
     "text": [
      "<class 'pandas.core.frame.DataFrame'>\n",
      "RangeIndex: 36 entries, 0 to 35\n",
      "Data columns (total 4 columns):\n",
      " #   Column     Non-Null Count  Dtype  \n",
      "---  ------     --------------  -----  \n",
      " 0   A          36 non-null     int64  \n",
      " 1   B          36 non-null     int64  \n",
      " 2   Volunteer  36 non-null     int64  \n",
      " 3   Relief     36 non-null     float64\n",
      "dtypes: float64(1), int64(3)\n",
      "memory usage: 1.2 KB\n"
     ]
    }
   ],
   "source": [
    "df=pd.read_csv('Fever.csv')\n",
    "df.info()"
   ]
  },
  {
   "cell_type": "code",
   "execution_count": 3,
   "metadata": {},
   "outputs": [
    {
     "data": {
      "text/html": [
       "<div>\n",
       "<style scoped>\n",
       "    .dataframe tbody tr th:only-of-type {\n",
       "        vertical-align: middle;\n",
       "    }\n",
       "\n",
       "    .dataframe tbody tr th {\n",
       "        vertical-align: top;\n",
       "    }\n",
       "\n",
       "    .dataframe thead th {\n",
       "        text-align: right;\n",
       "    }\n",
       "</style>\n",
       "<table border=\"1\" class=\"dataframe\">\n",
       "  <thead>\n",
       "    <tr style=\"text-align: right;\">\n",
       "      <th></th>\n",
       "      <th>A</th>\n",
       "      <th>B</th>\n",
       "      <th>Volunteer</th>\n",
       "      <th>Relief</th>\n",
       "    </tr>\n",
       "  </thead>\n",
       "  <tbody>\n",
       "    <tr>\n",
       "      <th>count</th>\n",
       "      <td>36.000000</td>\n",
       "      <td>36.000000</td>\n",
       "      <td>36.000000</td>\n",
       "      <td>36.000000</td>\n",
       "    </tr>\n",
       "    <tr>\n",
       "      <th>mean</th>\n",
       "      <td>2.000000</td>\n",
       "      <td>2.000000</td>\n",
       "      <td>2.500000</td>\n",
       "      <td>7.183333</td>\n",
       "    </tr>\n",
       "    <tr>\n",
       "      <th>std</th>\n",
       "      <td>0.828079</td>\n",
       "      <td>0.828079</td>\n",
       "      <td>1.133893</td>\n",
       "      <td>3.272090</td>\n",
       "    </tr>\n",
       "    <tr>\n",
       "      <th>min</th>\n",
       "      <td>1.000000</td>\n",
       "      <td>1.000000</td>\n",
       "      <td>1.000000</td>\n",
       "      <td>2.300000</td>\n",
       "    </tr>\n",
       "    <tr>\n",
       "      <th>25%</th>\n",
       "      <td>1.000000</td>\n",
       "      <td>1.000000</td>\n",
       "      <td>1.750000</td>\n",
       "      <td>4.675000</td>\n",
       "    </tr>\n",
       "    <tr>\n",
       "      <th>50%</th>\n",
       "      <td>2.000000</td>\n",
       "      <td>2.000000</td>\n",
       "      <td>2.500000</td>\n",
       "      <td>6.000000</td>\n",
       "    </tr>\n",
       "    <tr>\n",
       "      <th>75%</th>\n",
       "      <td>3.000000</td>\n",
       "      <td>3.000000</td>\n",
       "      <td>3.250000</td>\n",
       "      <td>9.325000</td>\n",
       "    </tr>\n",
       "    <tr>\n",
       "      <th>max</th>\n",
       "      <td>3.000000</td>\n",
       "      <td>3.000000</td>\n",
       "      <td>4.000000</td>\n",
       "      <td>13.500000</td>\n",
       "    </tr>\n",
       "  </tbody>\n",
       "</table>\n",
       "</div>"
      ],
      "text/plain": [
       "               A          B  Volunteer     Relief\n",
       "count  36.000000  36.000000  36.000000  36.000000\n",
       "mean    2.000000   2.000000   2.500000   7.183333\n",
       "std     0.828079   0.828079   1.133893   3.272090\n",
       "min     1.000000   1.000000   1.000000   2.300000\n",
       "25%     1.000000   1.000000   1.750000   4.675000\n",
       "50%     2.000000   2.000000   2.500000   6.000000\n",
       "75%     3.000000   3.000000   3.250000   9.325000\n",
       "max     3.000000   3.000000   4.000000  13.500000"
      ]
     },
     "execution_count": 3,
     "metadata": {},
     "output_type": "execute_result"
    }
   ],
   "source": [
    "# Preliminary analysis\n",
    "df.describe()"
   ]
  },
  {
   "cell_type": "code",
   "execution_count": 37,
   "metadata": {},
   "outputs": [
    {
     "data": {
      "text/html": [
       "<div>\n",
       "<style scoped>\n",
       "    .dataframe tbody tr th:only-of-type {\n",
       "        vertical-align: middle;\n",
       "    }\n",
       "\n",
       "    .dataframe tbody tr th {\n",
       "        vertical-align: top;\n",
       "    }\n",
       "\n",
       "    .dataframe thead th {\n",
       "        text-align: right;\n",
       "    }\n",
       "</style>\n",
       "<table border=\"1\" class=\"dataframe\">\n",
       "  <thead>\n",
       "    <tr style=\"text-align: right;\">\n",
       "      <th></th>\n",
       "      <th>A</th>\n",
       "      <th>B</th>\n",
       "      <th>Volunteer</th>\n",
       "      <th>Relief</th>\n",
       "    </tr>\n",
       "  </thead>\n",
       "  <tbody>\n",
       "    <tr>\n",
       "      <th>0</th>\n",
       "      <td>1</td>\n",
       "      <td>1</td>\n",
       "      <td>1</td>\n",
       "      <td>2.4</td>\n",
       "    </tr>\n",
       "    <tr>\n",
       "      <th>1</th>\n",
       "      <td>1</td>\n",
       "      <td>1</td>\n",
       "      <td>2</td>\n",
       "      <td>2.7</td>\n",
       "    </tr>\n",
       "    <tr>\n",
       "      <th>2</th>\n",
       "      <td>1</td>\n",
       "      <td>1</td>\n",
       "      <td>3</td>\n",
       "      <td>2.3</td>\n",
       "    </tr>\n",
       "    <tr>\n",
       "      <th>3</th>\n",
       "      <td>1</td>\n",
       "      <td>1</td>\n",
       "      <td>4</td>\n",
       "      <td>2.5</td>\n",
       "    </tr>\n",
       "    <tr>\n",
       "      <th>4</th>\n",
       "      <td>1</td>\n",
       "      <td>2</td>\n",
       "      <td>1</td>\n",
       "      <td>4.6</td>\n",
       "    </tr>\n",
       "  </tbody>\n",
       "</table>\n",
       "</div>"
      ],
      "text/plain": [
       "   A  B  Volunteer  Relief\n",
       "0  1  1          1     2.4\n",
       "1  1  1          2     2.7\n",
       "2  1  1          3     2.3\n",
       "3  1  1          4     2.5\n",
       "4  1  2          1     4.6"
      ]
     },
     "execution_count": 37,
     "metadata": {},
     "output_type": "execute_result"
    }
   ],
   "source": [
    "# Preliminary analysis\n",
    "df.head(5)"
   ]
  },
  {
   "cell_type": "code",
   "execution_count": 39,
   "metadata": {},
   "outputs": [
    {
     "data": {
      "text/plain": [
       "A            0\n",
       "B            0\n",
       "Volunteer    0\n",
       "Relief       0\n",
       "dtype: int64"
      ]
     },
     "execution_count": 39,
     "metadata": {},
     "output_type": "execute_result"
    }
   ],
   "source": [
    "# Preliminary analysis\n",
    "# Checking for any missing values.\n",
    "# No missing values noticed\n",
    "df.isnull().sum()"
   ]
  },
  {
   "cell_type": "code",
   "execution_count": 20,
   "metadata": {},
   "outputs": [
    {
     "data": {
      "text/plain": [
       "A    3\n",
       "B    3\n",
       "dtype: int64"
      ]
     },
     "execution_count": 20,
     "metadata": {},
     "output_type": "execute_result"
    }
   ],
   "source": [
    "# Preliminary analysis\n",
    "df[['A','B']].nunique()\n",
    "# The results suggests that there are 3 levels across each factors i.e A and B ingredients."
   ]
  },
  {
   "cell_type": "code",
   "execution_count": 24,
   "metadata": {},
   "outputs": [
    {
     "name": "stdout",
     "output_type": "stream",
     "text": [
      "Value counts for A\n",
      " 3    12\n",
      "2    12\n",
      "1    12\n",
      "Name: A, dtype: int64\n",
      "\n",
      "\n",
      "Value counts for B\n",
      " 3    12\n",
      "2    12\n",
      "1    12\n",
      "Name: B, dtype: int64\n"
     ]
    }
   ],
   "source": [
    "# Preliminary analysis\n",
    "print('Value counts for A\\n',df['A'].value_counts())\n",
    "print('\\n\\nValue counts for B\\n',df['B'].value_counts())\n",
    "\n",
    "# The results suggests that among 36 treatments there are 12 observations for each of the 3 levels across both factors."
   ]
  },
  {
   "cell_type": "code",
   "execution_count": 35,
   "metadata": {},
   "outputs": [
    {
     "name": "stdout",
     "output_type": "stream",
     "text": [
      "     Volunteer\n",
      "A B           \n",
      "1 1          4\n",
      "  2          4\n",
      "  3          4\n",
      "2 1          4\n",
      "  2          4\n",
      "  3          4\n",
      "3 1          4\n",
      "  2          4\n",
      "  3          4\n",
      "\n",
      "\n",
      "Cross tab between Ingredient A and B depicting treatment level arithmetic means along with marginal totals as below\n",
      "-------------------------------------------------------------------------------------------------------------------\n"
     ]
    },
    {
     "data": {
      "text/html": [
       "<div>\n",
       "<style scoped>\n",
       "    .dataframe tbody tr th:only-of-type {\n",
       "        vertical-align: middle;\n",
       "    }\n",
       "\n",
       "    .dataframe tbody tr th {\n",
       "        vertical-align: top;\n",
       "    }\n",
       "\n",
       "    .dataframe thead th {\n",
       "        text-align: right;\n",
       "    }\n",
       "</style>\n",
       "<table border=\"1\" class=\"dataframe\">\n",
       "  <thead>\n",
       "    <tr style=\"text-align: right;\">\n",
       "      <th>B</th>\n",
       "      <th>1</th>\n",
       "      <th>2</th>\n",
       "      <th>3</th>\n",
       "      <th>All</th>\n",
       "    </tr>\n",
       "    <tr>\n",
       "      <th>A</th>\n",
       "      <th></th>\n",
       "      <th></th>\n",
       "      <th></th>\n",
       "      <th></th>\n",
       "    </tr>\n",
       "  </thead>\n",
       "  <tbody>\n",
       "    <tr>\n",
       "      <th>1</th>\n",
       "      <td>2.475000</td>\n",
       "      <td>4.600000</td>\n",
       "      <td>4.575000</td>\n",
       "      <td>3.883333</td>\n",
       "    </tr>\n",
       "    <tr>\n",
       "      <th>2</th>\n",
       "      <td>5.450000</td>\n",
       "      <td>8.925000</td>\n",
       "      <td>9.125000</td>\n",
       "      <td>7.833333</td>\n",
       "    </tr>\n",
       "    <tr>\n",
       "      <th>3</th>\n",
       "      <td>5.975000</td>\n",
       "      <td>10.275000</td>\n",
       "      <td>13.250000</td>\n",
       "      <td>9.833333</td>\n",
       "    </tr>\n",
       "    <tr>\n",
       "      <th>All</th>\n",
       "      <td>4.633333</td>\n",
       "      <td>7.933333</td>\n",
       "      <td>8.983333</td>\n",
       "      <td>7.183333</td>\n",
       "    </tr>\n",
       "  </tbody>\n",
       "</table>\n",
       "</div>"
      ],
      "text/plain": [
       "B           1          2          3       All\n",
       "A                                            \n",
       "1    2.475000   4.600000   4.575000  3.883333\n",
       "2    5.450000   8.925000   9.125000  7.833333\n",
       "3    5.975000  10.275000  13.250000  9.833333\n",
       "All  4.633333   7.933333   8.983333  7.183333"
      ]
     },
     "execution_count": 35,
     "metadata": {},
     "output_type": "execute_result"
    }
   ],
   "source": [
    "# Preliminary analysis\n",
    "# Following crosstab gives preview of arithmetic mean of relief at the following levels\n",
    "# 1. Ingredient level (i.e marginal totals->'All') corresponding to the ingredients horizontally (for A) and vertically (for B)\n",
    "# 2. Treatment level in each cell at the cross section of A and B ingredients \n",
    "# 3. Grand margin at the intersection of marginal total 'All'for both the ingredients\n",
    "# 4. The result also suggests that there are 9 treatment blocks with each block combining both factors at one of their \n",
    "# treatment levels. i.e 4 volunteer for each treatment * 9 different treatments = 36 treatments/observations\n",
    "\n",
    "print(df[['A','B','Volunteer']].groupby(by=['A','B']).count())\n",
    "\n",
    "print('\\n\\nCross tab between Ingredient A and B depicting treatment level arithmetic means along with marginal totals as below')\n",
    "print('-------------------------------------------------------------------------------------------------------------------')\n",
    "pd.crosstab(df['A'],df['B'],values=df['Relief'],aggfunc='mean',margins=True)"
   ]
  },
  {
   "cell_type": "code",
   "execution_count": 36,
   "metadata": {},
   "outputs": [
    {
     "data": {
      "text/plain": [
       "<AxesSubplot:xlabel='A', ylabel='Relief'>"
      ]
     },
     "execution_count": 36,
     "metadata": {},
     "output_type": "execute_result"
    },
    {
     "data": {
      "image/png": "[encoded data removed]",
      "text/plain": [
       "<Figure size 432x288 with 1 Axes>"
      ]
     },
     "metadata": {
      "needs_background": "light"
     },
     "output_type": "display_data"
    }
   ],
   "source": [
    "# Preliminary analysis\n",
    "sns.boxplot(x=\"A\", y=\"Relief\", data=df)"
   ]
  },
  {
   "cell_type": "code",
   "execution_count": 45,
   "metadata": {},
   "outputs": [
    {
     "data": {
      "text/plain": [
       "<AxesSubplot:xlabel='B', ylabel='Relief'>"
      ]
     },
     "execution_count": 45,
     "metadata": {},
     "output_type": "execute_result"
    },
    {
     "data": {
      "image/png": "[encoded data removed]",
      "text/plain": [
       "<Figure size 432x288 with 1 Axes>"
      ]
     },
     "metadata": {
      "needs_background": "light"
     },
     "output_type": "display_data"
    }
   ],
   "source": [
    "# Preliminary analysis\n",
    "sns.boxplot(x=\"B\", y=\"Relief\", data=df)"
   ]
  },
  {
   "cell_type": "code",
   "execution_count": 67,
   "metadata": {},
   "outputs": [
    {
     "data": {
      "image/png": "[encoded data removed]",
      "text/plain": [
       "<Figure size 720x360 with 1 Axes>"
      ]
     },
     "metadata": {
      "needs_background": "light"
     },
     "output_type": "display_data"
    },
    {
     "data": {
      "image/png": "[encoded data removed]",
      "text/plain": [
       "<Figure size 720x360 with 1 Axes>"
      ]
     },
     "metadata": {
      "needs_background": "light"
     },
     "output_type": "display_data"
    }
   ],
   "source": [
    "# Preliminary analysis\n",
    "plt.figure(figsize=(10,5))\n",
    "sns.boxplot(x=\"A\", y=\"Relief\", data=df,hue='B')\n",
    "plt.show()\n",
    "plt.figure(figsize=(10,5))\n",
    "sns.boxplot(x=\"B\", y=\"Relief\", data=df,hue='A')\n",
    "plt.show()"
   ]
  },
  {
   "cell_type": "code",
   "execution_count": 81,
   "metadata": {},
   "outputs": [
    {
     "data": {
      "text/plain": [
       "<AxesSubplot:xlabel='A'>"
      ]
     },
     "execution_count": 81,
     "metadata": {},
     "output_type": "execute_result"
    },
    {
     "data": {
      "image/png": "[encoded data removed]",
      "text/plain": [
       "<Figure size 432x288 with 1 Axes>"
      ]
     },
     "metadata": {
      "needs_background": "light"
     },
     "output_type": "display_data"
    }
   ],
   "source": [
    "# Preliminary analysis\n",
    "# The below plot of means across each combination of ingredient A and B across each ofthe 3 levels shows a clear distinguished\n",
    "# pattern when it comes to level 3 which deviates from the trend of remaining two levels such as 1 and 2. i.e Relief seems to \n",
    "# be showing increased mean for the treatment with ingredient level 3 for both A and B. We shall test this aspect through\n",
    "# interaction effect using two way ANOVA\n",
    "pd.crosstab(df['A'],df['B'],values=df['Relief'],aggfunc='mean',margins=False).plot()"
   ]
  },
  {
   "cell_type": "markdown",
   "metadata": {},
   "source": [
    "#1.1 Part A\n",
    "Hypothesis for one way Anova on A ingredient is as below\n",
    "𝐻0  : The means of 'Relief' variable with respect to each of the treatment levels for A ingredient is equal.\n",
    "\n",
    "𝐻1  : At least one of the means of 'Relief' variable with respect to each of the treatment levels for A ingredient is unequal."
   ]
  },
  {
   "cell_type": "markdown",
   "metadata": {},
   "source": [
    "#1.1 Part B\n",
    "Hypothesis for one way Anova on B ingredient is as below\n",
    "𝐻0  : The means of 'Relief' variable with respect to each of the treatment levels for B ingredient is equal.\n",
    "\n",
    "𝐻1  : At least one of the means of 'Relief' variable with respect to each of the treatment levels for B ingredient is unequal."
   ]
  },
  {
   "cell_type": "code",
   "execution_count": 65,
   "metadata": {},
   "outputs": [
    {
     "data": {
      "text/html": [
       "<div>\n",
       "<style scoped>\n",
       "    .dataframe tbody tr th:only-of-type {\n",
       "        vertical-align: middle;\n",
       "    }\n",
       "\n",
       "    .dataframe tbody tr th {\n",
       "        vertical-align: top;\n",
       "    }\n",
       "\n",
       "    .dataframe thead th {\n",
       "        text-align: right;\n",
       "    }\n",
       "</style>\n",
       "<table border=\"1\" class=\"dataframe\">\n",
       "  <thead>\n",
       "    <tr style=\"text-align: right;\">\n",
       "      <th></th>\n",
       "      <th>df</th>\n",
       "      <th>sum_sq</th>\n",
       "      <th>mean_sq</th>\n",
       "      <th>F</th>\n",
       "      <th>PR(&gt;F)</th>\n",
       "    </tr>\n",
       "  </thead>\n",
       "  <tbody>\n",
       "    <tr>\n",
       "      <th>C(A)</th>\n",
       "      <td>2.0</td>\n",
       "      <td>220.02</td>\n",
       "      <td>110.010000</td>\n",
       "      <td>23.465387</td>\n",
       "      <td>4.578242e-07</td>\n",
       "    </tr>\n",
       "    <tr>\n",
       "      <th>Residual</th>\n",
       "      <td>33.0</td>\n",
       "      <td>154.71</td>\n",
       "      <td>4.688182</td>\n",
       "      <td>NaN</td>\n",
       "      <td>NaN</td>\n",
       "    </tr>\n",
       "  </tbody>\n",
       "</table>\n",
       "</div>"
      ],
      "text/plain": [
       "            df  sum_sq     mean_sq          F        PR(>F)\n",
       "C(A)       2.0  220.02  110.010000  23.465387  4.578242e-07\n",
       "Residual  33.0  154.71    4.688182        NaN           NaN"
      ]
     },
     "execution_count": 65,
     "metadata": {},
     "output_type": "execute_result"
    }
   ],
   "source": [
    "#1.2\n",
    "model1=ols('Relief~C(A)',data=df).fit()\n",
    "aov_table1=anova_lm(model1)\n",
    "aov_table1"
   ]
  },
  {
   "cell_type": "code",
   "execution_count": null,
   "metadata": {},
   "outputs": [],
   "source": [
    "#1.2\n",
    "Since the p value is less than the significance level (0.05), we can reject the null hupothesis and conclude that at least one \n",
    "of the means of 'Relief' variable with respect to each of the treatment levels for A ingredient is unequal"
   ]
  },
  {
   "cell_type": "code",
   "execution_count": 66,
   "metadata": {},
   "outputs": [
    {
     "data": {
      "text/html": [
       "<div>\n",
       "<style scoped>\n",
       "    .dataframe tbody tr th:only-of-type {\n",
       "        vertical-align: middle;\n",
       "    }\n",
       "\n",
       "    .dataframe tbody tr th {\n",
       "        vertical-align: top;\n",
       "    }\n",
       "\n",
       "    .dataframe thead th {\n",
       "        text-align: right;\n",
       "    }\n",
       "</style>\n",
       "<table border=\"1\" class=\"dataframe\">\n",
       "  <thead>\n",
       "    <tr style=\"text-align: right;\">\n",
       "      <th></th>\n",
       "      <th>df</th>\n",
       "      <th>sum_sq</th>\n",
       "      <th>mean_sq</th>\n",
       "      <th>F</th>\n",
       "      <th>PR(&gt;F)</th>\n",
       "    </tr>\n",
       "  </thead>\n",
       "  <tbody>\n",
       "    <tr>\n",
       "      <th>C(B)</th>\n",
       "      <td>2.0</td>\n",
       "      <td>123.66</td>\n",
       "      <td>61.830000</td>\n",
       "      <td>8.126777</td>\n",
       "      <td>0.00135</td>\n",
       "    </tr>\n",
       "    <tr>\n",
       "      <th>Residual</th>\n",
       "      <td>33.0</td>\n",
       "      <td>251.07</td>\n",
       "      <td>7.608182</td>\n",
       "      <td>NaN</td>\n",
       "      <td>NaN</td>\n",
       "    </tr>\n",
       "  </tbody>\n",
       "</table>\n",
       "</div>"
      ],
      "text/plain": [
       "            df  sum_sq    mean_sq         F   PR(>F)\n",
       "C(B)       2.0  123.66  61.830000  8.126777  0.00135\n",
       "Residual  33.0  251.07   7.608182       NaN      NaN"
      ]
     },
     "execution_count": 66,
     "metadata": {},
     "output_type": "execute_result"
    }
   ],
   "source": [
    "#1.3\n",
    "model2=ols('Relief~C(B)',data=df).fit()\n",
    "aov_table2=anova_lm(model2)\n",
    "aov_table2"
   ]
  },
  {
   "cell_type": "code",
   "execution_count": null,
   "metadata": {},
   "outputs": [],
   "source": [
    "#1.3\n",
    "Since the p value is less than the significance level (0.05), we can reject the null hupothesis and conclude that at least one \n",
    "of the means of 'Relief' variable with respect to each of the treatment levels for B ingredient is unequal"
   ]
  },
  {
   "cell_type": "markdown",
   "metadata": {},
   "source": [
    "#1.5\n",
    "Hypothesis on 2 way ANOVA based on two factors (ingredients A and B) along with the interaction between these two factors/variables.\n",
    "𝐻0  : The means of 'Relief' variable with respect to each of the ingredient levels across A and B ingredients are equal.\n",
    "𝐻1  : At least one of the means of 'Relief' variable with respect to each of the ingredient levels across A and B ingredients\n",
    "      is unequal."
   ]
  },
  {
   "cell_type": "code",
   "execution_count": 64,
   "metadata": {},
   "outputs": [
    {
     "data": {
      "text/html": [
       "<div>\n",
       "<style scoped>\n",
       "    .dataframe tbody tr th:only-of-type {\n",
       "        vertical-align: middle;\n",
       "    }\n",
       "\n",
       "    .dataframe tbody tr th {\n",
       "        vertical-align: top;\n",
       "    }\n",
       "\n",
       "    .dataframe thead th {\n",
       "        text-align: right;\n",
       "    }\n",
       "</style>\n",
       "<table border=\"1\" class=\"dataframe\">\n",
       "  <thead>\n",
       "    <tr style=\"text-align: right;\">\n",
       "      <th></th>\n",
       "      <th>df</th>\n",
       "      <th>sum_sq</th>\n",
       "      <th>mean_sq</th>\n",
       "      <th>F</th>\n",
       "      <th>PR(&gt;F)</th>\n",
       "    </tr>\n",
       "  </thead>\n",
       "  <tbody>\n",
       "    <tr>\n",
       "      <th>C(A)</th>\n",
       "      <td>2.0</td>\n",
       "      <td>220.020</td>\n",
       "      <td>110.010000</td>\n",
       "      <td>1827.858462</td>\n",
       "      <td>1.514043e-29</td>\n",
       "    </tr>\n",
       "    <tr>\n",
       "      <th>C(B)</th>\n",
       "      <td>2.0</td>\n",
       "      <td>123.660</td>\n",
       "      <td>61.830000</td>\n",
       "      <td>1027.329231</td>\n",
       "      <td>3.348751e-26</td>\n",
       "    </tr>\n",
       "    <tr>\n",
       "      <th>C(A):C(B)</th>\n",
       "      <td>4.0</td>\n",
       "      <td>29.425</td>\n",
       "      <td>7.356250</td>\n",
       "      <td>122.226923</td>\n",
       "      <td>6.972083e-17</td>\n",
       "    </tr>\n",
       "    <tr>\n",
       "      <th>Residual</th>\n",
       "      <td>27.0</td>\n",
       "      <td>1.625</td>\n",
       "      <td>0.060185</td>\n",
       "      <td>NaN</td>\n",
       "      <td>NaN</td>\n",
       "    </tr>\n",
       "  </tbody>\n",
       "</table>\n",
       "</div>"
      ],
      "text/plain": [
       "             df   sum_sq     mean_sq            F        PR(>F)\n",
       "C(A)        2.0  220.020  110.010000  1827.858462  1.514043e-29\n",
       "C(B)        2.0  123.660   61.830000  1027.329231  3.348751e-26\n",
       "C(A):C(B)   4.0   29.425    7.356250   122.226923  6.972083e-17\n",
       "Residual   27.0    1.625    0.060185          NaN           NaN"
      ]
     },
     "execution_count": 64,
     "metadata": {},
     "output_type": "execute_result"
    }
   ],
   "source": [
    "#1.5\n",
    "#Interaction Effect:\n",
    "model3=ols('Relief~C(A)+C(B)+C(A):C(B)',data=df).fit()\n",
    "aov_table3=anova_lm(model3)\n",
    "aov_table3"
   ]
  },
  {
   "cell_type": "code",
   "execution_count": null,
   "metadata": {},
   "outputs": [],
   "source": [
    "#1.5\n",
    "1.Since the p value in both of the above scenarios are less than  𝛼  (0.05), we can say that we reject the null hypothesis ( 𝐻0 ).\n",
    "2.Meaning at least one of the means of 'Relief' variable with respect to each of the ingredient levels across A and B ingredients\n",
    "      is unequal."
   ]
  },
  {
   "cell_type": "code",
   "execution_count": 61,
   "metadata": {},
   "outputs": [
    {
     "data": {
      "image/png": "[encoded data removed]",
      "text/plain": [
       "<Figure size 432x288 with 1 Axes>"
      ]
     },
     "metadata": {
      "needs_background": "light"
     },
     "output_type": "display_data"
    },
    {
     "data": {
      "image/png": "[encoded data removed]",
      "text/plain": [
       "<Figure size 432x288 with 1 Axes>"
      ]
     },
     "metadata": {
      "needs_background": "light"
     },
     "output_type": "display_data"
    }
   ],
   "source": [
    "#1.4\n",
    "# Below depicts the interaction between factors A and B towards relief\n",
    "sns.pointplot(x = 'A', y = 'Relief', hue='B',data=df,ci=95)\n",
    "plt.show()\n",
    "sns.pointplot(x = 'B', y = 'Relief', hue='A',data=df,ci=95)\n",
    "plt.show()"
   ]
  },
  {
   "cell_type": "markdown",
   "metadata": {},
   "source": [
    "#1.4\n",
    "Based on the interaction plot above there seems to be some interaction effect between A and B on the dependent variable relief as\n",
    "we can see the lines are not parallel between A2 and A3 within the range of B2 and B3.\n",
    "That is A3 and B3 seems to be have increased effect on the release going by the plot above."
   ]
  }
 ],
 "metadata": {
  "kernelspec": {
   "display_name": "Python 3",
   "language": "python",
   "name": "python3"
  },
  "language_info": {
   "codemirror_mode": {
    "name": "ipython",
    "version": 3
   },
   "file_extension": ".py",
   "mimetype": "text/x-python",
   "name": "python",
   "nbconvert_exporter": "python",
   "pygments_lexer": "ipython3",
   "version": "3.7.6"
  }
 },
 "nbformat": 4,
 "nbformat_minor": 4
}
