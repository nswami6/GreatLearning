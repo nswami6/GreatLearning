{
 "cells": [
  {
   "cell_type": "markdown",
   "metadata": {
    "colab_type": "text",
    "id": "0zAbYvv-WCve"
   },
   "source": [
    "# Problem Statement\n",
    "\n",
    "Principal Component Analysis"
   ]
  },
  {
   "cell_type": "code",
   "execution_count": 2,
   "metadata": {
    "colab": {},
    "colab_type": "code",
    "id": "1waXlt6iWCvh"
   },
   "outputs": [],
   "source": [
    "#Import all the necessary modules\n",
    "#Import all the necessary modules\n",
    "import pandas as pd\n",
    "import numpy as np\n",
    "import os\n",
    "import seaborn as sns\n",
    "import matplotlib.pyplot as plt\n",
    "%matplotlib inline"
   ]
  },
  {
   "cell_type": "markdown",
   "metadata": {
    "colab_type": "text",
    "id": "6FZ90t1vWCvq"
   },
   "source": [
    "# Q1. Load the Data file into Python DataFrame and view top 10 rows"
   ]
  },
  {
   "cell_type": "code",
   "execution_count": 3,
   "metadata": {
    "colab": {},
    "colab_type": "code",
    "id": "fyryut_kWCvs",
    "outputId": "7d5e10ae-0c7f-4ee9-d801-0da2ac854cc2"
   },
   "outputs": [
    {
     "data": {
      "text/html": [
       "<div>\n",
       "<style scoped>\n",
       "    .dataframe tbody tr th:only-of-type {\n",
       "        vertical-align: middle;\n",
       "    }\n",
       "\n",
       "    .dataframe tbody tr th {\n",
       "        vertical-align: top;\n",
       "    }\n",
       "\n",
       "    .dataframe thead th {\n",
       "        text-align: right;\n",
       "    }\n",
       "</style>\n",
       "<table border=\"1\" class=\"dataframe\">\n",
       "  <thead>\n",
       "    <tr style=\"text-align: right;\">\n",
       "      <th></th>\n",
       "      <th>ID</th>\n",
       "      <th>ClumpThickness</th>\n",
       "      <th>Cell Size</th>\n",
       "      <th>Cell Shape</th>\n",
       "      <th>Marginal Adhesion</th>\n",
       "      <th>Single Epithelial Cell Size</th>\n",
       "      <th>Bare Nuclei</th>\n",
       "      <th>Normal Nucleoli</th>\n",
       "      <th>Bland Chromatin</th>\n",
       "      <th>Mitoses</th>\n",
       "      <th>Class</th>\n",
       "    </tr>\n",
       "  </thead>\n",
       "  <tbody>\n",
       "    <tr>\n",
       "      <th>0</th>\n",
       "      <td>1000025</td>\n",
       "      <td>5</td>\n",
       "      <td>1</td>\n",
       "      <td>1</td>\n",
       "      <td>1</td>\n",
       "      <td>2</td>\n",
       "      <td>1</td>\n",
       "      <td>3</td>\n",
       "      <td>1</td>\n",
       "      <td>1</td>\n",
       "      <td>2</td>\n",
       "    </tr>\n",
       "    <tr>\n",
       "      <th>1</th>\n",
       "      <td>1002945</td>\n",
       "      <td>5</td>\n",
       "      <td>4</td>\n",
       "      <td>4</td>\n",
       "      <td>5</td>\n",
       "      <td>7</td>\n",
       "      <td>10</td>\n",
       "      <td>3</td>\n",
       "      <td>2</td>\n",
       "      <td>1</td>\n",
       "      <td>2</td>\n",
       "    </tr>\n",
       "    <tr>\n",
       "      <th>2</th>\n",
       "      <td>1015425</td>\n",
       "      <td>3</td>\n",
       "      <td>1</td>\n",
       "      <td>1</td>\n",
       "      <td>1</td>\n",
       "      <td>2</td>\n",
       "      <td>2</td>\n",
       "      <td>3</td>\n",
       "      <td>1</td>\n",
       "      <td>1</td>\n",
       "      <td>2</td>\n",
       "    </tr>\n",
       "    <tr>\n",
       "      <th>3</th>\n",
       "      <td>1016277</td>\n",
       "      <td>6</td>\n",
       "      <td>8</td>\n",
       "      <td>8</td>\n",
       "      <td>1</td>\n",
       "      <td>3</td>\n",
       "      <td>4</td>\n",
       "      <td>3</td>\n",
       "      <td>7</td>\n",
       "      <td>1</td>\n",
       "      <td>2</td>\n",
       "    </tr>\n",
       "    <tr>\n",
       "      <th>4</th>\n",
       "      <td>1017023</td>\n",
       "      <td>4</td>\n",
       "      <td>1</td>\n",
       "      <td>1</td>\n",
       "      <td>3</td>\n",
       "      <td>2</td>\n",
       "      <td>1</td>\n",
       "      <td>3</td>\n",
       "      <td>1</td>\n",
       "      <td>1</td>\n",
       "      <td>2</td>\n",
       "    </tr>\n",
       "    <tr>\n",
       "      <th>5</th>\n",
       "      <td>1017122</td>\n",
       "      <td>8</td>\n",
       "      <td>10</td>\n",
       "      <td>10</td>\n",
       "      <td>8</td>\n",
       "      <td>7</td>\n",
       "      <td>10</td>\n",
       "      <td>9</td>\n",
       "      <td>7</td>\n",
       "      <td>1</td>\n",
       "      <td>4</td>\n",
       "    </tr>\n",
       "    <tr>\n",
       "      <th>6</th>\n",
       "      <td>1018099</td>\n",
       "      <td>1</td>\n",
       "      <td>1</td>\n",
       "      <td>1</td>\n",
       "      <td>1</td>\n",
       "      <td>2</td>\n",
       "      <td>10</td>\n",
       "      <td>3</td>\n",
       "      <td>1</td>\n",
       "      <td>1</td>\n",
       "      <td>2</td>\n",
       "    </tr>\n",
       "    <tr>\n",
       "      <th>7</th>\n",
       "      <td>1018561</td>\n",
       "      <td>2</td>\n",
       "      <td>1</td>\n",
       "      <td>2</td>\n",
       "      <td>1</td>\n",
       "      <td>2</td>\n",
       "      <td>1</td>\n",
       "      <td>3</td>\n",
       "      <td>1</td>\n",
       "      <td>1</td>\n",
       "      <td>2</td>\n",
       "    </tr>\n",
       "    <tr>\n",
       "      <th>8</th>\n",
       "      <td>1033078</td>\n",
       "      <td>2</td>\n",
       "      <td>1</td>\n",
       "      <td>1</td>\n",
       "      <td>1</td>\n",
       "      <td>2</td>\n",
       "      <td>1</td>\n",
       "      <td>1</td>\n",
       "      <td>1</td>\n",
       "      <td>5</td>\n",
       "      <td>2</td>\n",
       "    </tr>\n",
       "    <tr>\n",
       "      <th>9</th>\n",
       "      <td>1033078</td>\n",
       "      <td>4</td>\n",
       "      <td>2</td>\n",
       "      <td>1</td>\n",
       "      <td>1</td>\n",
       "      <td>2</td>\n",
       "      <td>1</td>\n",
       "      <td>2</td>\n",
       "      <td>1</td>\n",
       "      <td>1</td>\n",
       "      <td>2</td>\n",
       "    </tr>\n",
       "  </tbody>\n",
       "</table>\n",
       "</div>"
      ],
      "text/plain": [
       "        ID  ClumpThickness  Cell Size  Cell Shape  Marginal Adhesion  \\\n",
       "0  1000025               5          1           1                  1   \n",
       "1  1002945               5          4           4                  5   \n",
       "2  1015425               3          1           1                  1   \n",
       "3  1016277               6          8           8                  1   \n",
       "4  1017023               4          1           1                  3   \n",
       "5  1017122               8         10          10                  8   \n",
       "6  1018099               1          1           1                  1   \n",
       "7  1018561               2          1           2                  1   \n",
       "8  1033078               2          1           1                  1   \n",
       "9  1033078               4          2           1                  1   \n",
       "\n",
       "   Single Epithelial Cell Size Bare Nuclei  Normal Nucleoli  Bland Chromatin  \\\n",
       "0                            2           1                3                1   \n",
       "1                            7          10                3                2   \n",
       "2                            2           2                3                1   \n",
       "3                            3           4                3                7   \n",
       "4                            2           1                3                1   \n",
       "5                            7          10                9                7   \n",
       "6                            2          10                3                1   \n",
       "7                            2           1                3                1   \n",
       "8                            2           1                1                1   \n",
       "9                            2           1                2                1   \n",
       "\n",
       "   Mitoses  Class  \n",
       "0        1      2  \n",
       "1        1      2  \n",
       "2        1      2  \n",
       "3        1      2  \n",
       "4        1      2  \n",
       "5        1      4  \n",
       "6        1      2  \n",
       "7        1      2  \n",
       "8        5      2  \n",
       "9        1      2  "
      ]
     },
     "execution_count": 3,
     "metadata": {},
     "output_type": "execute_result"
    }
   ],
   "source": [
    "#os.chdir('D:\\Data')\n",
    "\n",
    "data_df = pd.read_csv(\"Cancer.csv\")\n",
    "data_df.head(10)"
   ]
  },
  {
   "cell_type": "code",
   "execution_count": 0,
   "metadata": {
    "colab": {},
    "colab_type": "code",
    "id": "xusO2ruNWCv4"
   },
   "outputs": [],
   "source": [
    "  # Id columns is to identify rows hence can be skipped in analysis\n",
    "  # All columns have numerical values\n",
    "  # Class would be the target variable. Should be removed when PCA is done"
   ]
  },
  {
   "cell_type": "markdown",
   "metadata": {
    "colab_type": "text",
    "id": "KYTFwE0iWCv_"
   },
   "source": [
    "# Q2 Print the datatypes of each column and the shape of the dataset. Perform descriptive analysis "
   ]
  },
  {
   "cell_type": "code",
   "execution_count": 0,
   "metadata": {
    "colab": {},
    "colab_type": "code",
    "id": "H4JhEGBdWCwB",
    "outputId": "02dc6467-e101-4583-faee-366415ddf66b"
   },
   "outputs": [
    {
     "data": {
      "text/plain": [
       "(698, 11)"
      ]
     },
     "execution_count": 4,
     "metadata": {
      "tags": []
     },
     "output_type": "execute_result"
    }
   ],
   "source": [
    "data_df.shape"
   ]
  },
  {
   "cell_type": "code",
   "execution_count": 4,
   "metadata": {
    "colab": {},
    "colab_type": "code",
    "id": "AmjzUR8cWCwG",
    "outputId": "f12d01d0-ee77-45c7-8388-93a08bbf0a9f"
   },
   "outputs": [
    {
     "data": {
      "text/plain": [
       "ID                              int64\n",
       "ClumpThickness                  int64\n",
       "Cell Size                       int64\n",
       "Cell Shape                      int64\n",
       "Marginal Adhesion               int64\n",
       "Single Epithelial Cell Size     int64\n",
       "Bare Nuclei                    object\n",
       "Normal Nucleoli                 int64\n",
       "Bland Chromatin                 int64\n",
       "Mitoses                         int64\n",
       "Class                           int64\n",
       "dtype: object"
      ]
     },
     "execution_count": 4,
     "metadata": {},
     "output_type": "execute_result"
    }
   ],
   "source": [
    "data_df.dtypes"
   ]
  },
  {
   "cell_type": "code",
   "execution_count": 0,
   "metadata": {
    "colab": {},
    "colab_type": "code",
    "id": "IX_iW1LMWCwN",
    "outputId": "62c2d168-d482-4c53-eafb-4306d2d50204"
   },
   "outputs": [
    {
     "data": {
      "text/html": [
       "<div>\n",
       "<style scoped>\n",
       "    .dataframe tbody tr th:only-of-type {\n",
       "        vertical-align: middle;\n",
       "    }\n",
       "\n",
       "    .dataframe tbody tr th {\n",
       "        vertical-align: top;\n",
       "    }\n",
       "\n",
       "    .dataframe thead th {\n",
       "        text-align: right;\n",
       "    }\n",
       "</style>\n",
       "<table border=\"1\" class=\"dataframe\">\n",
       "  <thead>\n",
       "    <tr style=\"text-align: right;\">\n",
       "      <th></th>\n",
       "      <th>1000025</th>\n",
       "      <th>5</th>\n",
       "      <th>1</th>\n",
       "      <th>1.1</th>\n",
       "      <th>1.2</th>\n",
       "      <th>2</th>\n",
       "      <th>3</th>\n",
       "      <th>1.4</th>\n",
       "      <th>1.5</th>\n",
       "      <th>2.1</th>\n",
       "    </tr>\n",
       "  </thead>\n",
       "  <tbody>\n",
       "    <tr>\n",
       "      <th>count</th>\n",
       "      <td>6.980000e+02</td>\n",
       "      <td>698.000000</td>\n",
       "      <td>698.000000</td>\n",
       "      <td>698.000000</td>\n",
       "      <td>698.000000</td>\n",
       "      <td>698.000000</td>\n",
       "      <td>698.000000</td>\n",
       "      <td>698.000000</td>\n",
       "      <td>698.000000</td>\n",
       "      <td>698.000000</td>\n",
       "    </tr>\n",
       "    <tr>\n",
       "      <th>mean</th>\n",
       "      <td>1.071807e+06</td>\n",
       "      <td>4.416905</td>\n",
       "      <td>3.137536</td>\n",
       "      <td>3.210602</td>\n",
       "      <td>2.809456</td>\n",
       "      <td>3.217765</td>\n",
       "      <td>3.438395</td>\n",
       "      <td>2.869628</td>\n",
       "      <td>1.590258</td>\n",
       "      <td>2.690544</td>\n",
       "    </tr>\n",
       "    <tr>\n",
       "      <th>std</th>\n",
       "      <td>6.175323e+05</td>\n",
       "      <td>2.817673</td>\n",
       "      <td>3.052575</td>\n",
       "      <td>2.972867</td>\n",
       "      <td>2.856606</td>\n",
       "      <td>2.215408</td>\n",
       "      <td>2.440056</td>\n",
       "      <td>3.055004</td>\n",
       "      <td>1.716162</td>\n",
       "      <td>0.951596</td>\n",
       "    </tr>\n",
       "    <tr>\n",
       "      <th>min</th>\n",
       "      <td>6.163400e+04</td>\n",
       "      <td>1.000000</td>\n",
       "      <td>1.000000</td>\n",
       "      <td>1.000000</td>\n",
       "      <td>1.000000</td>\n",
       "      <td>1.000000</td>\n",
       "      <td>1.000000</td>\n",
       "      <td>1.000000</td>\n",
       "      <td>1.000000</td>\n",
       "      <td>2.000000</td>\n",
       "    </tr>\n",
       "    <tr>\n",
       "      <th>25%</th>\n",
       "      <td>8.702582e+05</td>\n",
       "      <td>2.000000</td>\n",
       "      <td>1.000000</td>\n",
       "      <td>1.000000</td>\n",
       "      <td>1.000000</td>\n",
       "      <td>2.000000</td>\n",
       "      <td>2.000000</td>\n",
       "      <td>1.000000</td>\n",
       "      <td>1.000000</td>\n",
       "      <td>2.000000</td>\n",
       "    </tr>\n",
       "    <tr>\n",
       "      <th>50%</th>\n",
       "      <td>1.171710e+06</td>\n",
       "      <td>4.000000</td>\n",
       "      <td>1.000000</td>\n",
       "      <td>1.000000</td>\n",
       "      <td>1.000000</td>\n",
       "      <td>2.000000</td>\n",
       "      <td>3.000000</td>\n",
       "      <td>1.000000</td>\n",
       "      <td>1.000000</td>\n",
       "      <td>2.000000</td>\n",
       "    </tr>\n",
       "    <tr>\n",
       "      <th>75%</th>\n",
       "      <td>1.238354e+06</td>\n",
       "      <td>6.000000</td>\n",
       "      <td>5.000000</td>\n",
       "      <td>5.000000</td>\n",
       "      <td>4.000000</td>\n",
       "      <td>4.000000</td>\n",
       "      <td>5.000000</td>\n",
       "      <td>4.000000</td>\n",
       "      <td>1.000000</td>\n",
       "      <td>4.000000</td>\n",
       "    </tr>\n",
       "    <tr>\n",
       "      <th>max</th>\n",
       "      <td>1.345435e+07</td>\n",
       "      <td>10.000000</td>\n",
       "      <td>10.000000</td>\n",
       "      <td>10.000000</td>\n",
       "      <td>10.000000</td>\n",
       "      <td>10.000000</td>\n",
       "      <td>10.000000</td>\n",
       "      <td>10.000000</td>\n",
       "      <td>10.000000</td>\n",
       "      <td>4.000000</td>\n",
       "    </tr>\n",
       "  </tbody>\n",
       "</table>\n",
       "</div>"
      ],
      "text/plain": [
       "            1000025           5           1         1.1         1.2  \\\n",
       "count  6.980000e+02  698.000000  698.000000  698.000000  698.000000   \n",
       "mean   1.071807e+06    4.416905    3.137536    3.210602    2.809456   \n",
       "std    6.175323e+05    2.817673    3.052575    2.972867    2.856606   \n",
       "min    6.163400e+04    1.000000    1.000000    1.000000    1.000000   \n",
       "25%    8.702582e+05    2.000000    1.000000    1.000000    1.000000   \n",
       "50%    1.171710e+06    4.000000    1.000000    1.000000    1.000000   \n",
       "75%    1.238354e+06    6.000000    5.000000    5.000000    4.000000   \n",
       "max    1.345435e+07   10.000000   10.000000   10.000000   10.000000   \n",
       "\n",
       "                2           3         1.4         1.5         2.1  \n",
       "count  698.000000  698.000000  698.000000  698.000000  698.000000  \n",
       "mean     3.217765    3.438395    2.869628    1.590258    2.690544  \n",
       "std      2.215408    2.440056    3.055004    1.716162    0.951596  \n",
       "min      1.000000    1.000000    1.000000    1.000000    2.000000  \n",
       "25%      2.000000    2.000000    1.000000    1.000000    2.000000  \n",
       "50%      2.000000    3.000000    1.000000    1.000000    2.000000  \n",
       "75%      4.000000    5.000000    4.000000    1.000000    4.000000  \n",
       "max     10.000000   10.000000   10.000000   10.000000    4.000000  "
      ]
     },
     "execution_count": 6,
     "metadata": {
      "tags": []
     },
     "output_type": "execute_result"
    }
   ],
   "source": [
    "# Bare nuclei is taken as object type even though it has numerical values.\n",
    "data_df.describe()"
   ]
  },
  {
   "cell_type": "markdown",
   "metadata": {
    "colab_type": "text",
    "id": "ecghJZJIWCwW"
   },
   "source": [
    "# Q3 Check for missing value check, incorrect data, duplicate data and perform imputation with mean, median, mode as necessary.\n"
   ]
  },
  {
   "cell_type": "code",
   "execution_count": 3,
   "metadata": {
    "colab": {},
    "colab_type": "code",
    "id": "Zhja1YDGWCwZ",
    "outputId": "8235058d-bcc9-4698-a2dc-c4d05ce24358"
   },
   "outputs": [
    {
     "data": {
      "text/plain": [
       "array(['1', '10', '2', '4', '3', '9', '7', '?', '5', '8', '6'],\n",
       "      dtype=object)"
      ]
     },
     "execution_count": 3,
     "metadata": {},
     "output_type": "execute_result"
    }
   ],
   "source": [
    "data_df['Bare Nuclei'].unique()"
   ]
  },
  {
   "cell_type": "code",
   "execution_count": 0,
   "metadata": {
    "colab": {},
    "colab_type": "code",
    "id": "RvNj3bNDWCwi",
    "outputId": "02425b8c-c835-414b-d06b-e8c05caeb802"
   },
   "outputs": [
    {
     "data": {
      "text/plain": [
       "ID                             0\n",
       "ClumpThickness                 0\n",
       "Cell Size                      0\n",
       "Cell Shape                     0\n",
       "Marginal Adhesion              0\n",
       "Single Epithelial Cell Size    0\n",
       "Bare Nuclei                    0\n",
       "Normal Nucleoli                0\n",
       "Bland Chromatin                0\n",
       "Mitoses                        0\n",
       "Class                          0\n",
       "dtype: int64"
      ]
     },
     "execution_count": 92,
     "metadata": {
      "tags": []
     },
     "output_type": "execute_result"
    }
   ],
   "source": [
    "# We could see \"?\" values in column, this should be removed from data set\n",
    "\n",
    "# Check for missing value in any other column\n",
    "data_df.isna().sum()"
   ]
  },
  {
   "cell_type": "code",
   "execution_count": 0,
   "metadata": {
    "colab": {},
    "colab_type": "code",
    "id": "p4kqsHPwWCwq",
    "outputId": "39e63d02-10b1-43b3-f718-1fb8675bd35f"
   },
   "outputs": [
    {
     "data": {
      "text/html": [
       "<div>\n",
       "<style scoped>\n",
       "    .dataframe tbody tr th:only-of-type {\n",
       "        vertical-align: middle;\n",
       "    }\n",
       "\n",
       "    .dataframe tbody tr th {\n",
       "        vertical-align: top;\n",
       "    }\n",
       "\n",
       "    .dataframe thead th {\n",
       "        text-align: right;\n",
       "    }\n",
       "</style>\n",
       "<table border=\"1\" class=\"dataframe\">\n",
       "  <thead>\n",
       "    <tr style=\"text-align: right;\">\n",
       "      <th></th>\n",
       "      <th>ID</th>\n",
       "      <th>ClumpThickness</th>\n",
       "      <th>Cell Size</th>\n",
       "      <th>Cell Shape</th>\n",
       "      <th>Marginal Adhesion</th>\n",
       "      <th>Single Epithelial Cell Size</th>\n",
       "      <th>Bare Nuclei</th>\n",
       "      <th>Normal Nucleoli</th>\n",
       "      <th>Bland Chromatin</th>\n",
       "      <th>Mitoses</th>\n",
       "      <th>Class</th>\n",
       "    </tr>\n",
       "  </thead>\n",
       "  <tbody>\n",
       "    <tr>\n",
       "      <th>23</th>\n",
       "      <td>1057013</td>\n",
       "      <td>8</td>\n",
       "      <td>4</td>\n",
       "      <td>5</td>\n",
       "      <td>1</td>\n",
       "      <td>2</td>\n",
       "      <td>?</td>\n",
       "      <td>7</td>\n",
       "      <td>3</td>\n",
       "      <td>1</td>\n",
       "      <td>4</td>\n",
       "    </tr>\n",
       "    <tr>\n",
       "      <th>40</th>\n",
       "      <td>1096800</td>\n",
       "      <td>6</td>\n",
       "      <td>6</td>\n",
       "      <td>6</td>\n",
       "      <td>9</td>\n",
       "      <td>6</td>\n",
       "      <td>?</td>\n",
       "      <td>7</td>\n",
       "      <td>8</td>\n",
       "      <td>1</td>\n",
       "      <td>2</td>\n",
       "    </tr>\n",
       "    <tr>\n",
       "      <th>139</th>\n",
       "      <td>1183246</td>\n",
       "      <td>1</td>\n",
       "      <td>1</td>\n",
       "      <td>1</td>\n",
       "      <td>1</td>\n",
       "      <td>1</td>\n",
       "      <td>?</td>\n",
       "      <td>2</td>\n",
       "      <td>1</td>\n",
       "      <td>1</td>\n",
       "      <td>2</td>\n",
       "    </tr>\n",
       "    <tr>\n",
       "      <th>145</th>\n",
       "      <td>1184840</td>\n",
       "      <td>1</td>\n",
       "      <td>1</td>\n",
       "      <td>3</td>\n",
       "      <td>1</td>\n",
       "      <td>2</td>\n",
       "      <td>?</td>\n",
       "      <td>2</td>\n",
       "      <td>1</td>\n",
       "      <td>1</td>\n",
       "      <td>2</td>\n",
       "    </tr>\n",
       "    <tr>\n",
       "      <th>158</th>\n",
       "      <td>1193683</td>\n",
       "      <td>1</td>\n",
       "      <td>1</td>\n",
       "      <td>2</td>\n",
       "      <td>1</td>\n",
       "      <td>3</td>\n",
       "      <td>?</td>\n",
       "      <td>1</td>\n",
       "      <td>1</td>\n",
       "      <td>1</td>\n",
       "      <td>2</td>\n",
       "    </tr>\n",
       "    <tr>\n",
       "      <th>164</th>\n",
       "      <td>1197510</td>\n",
       "      <td>5</td>\n",
       "      <td>1</td>\n",
       "      <td>1</td>\n",
       "      <td>1</td>\n",
       "      <td>2</td>\n",
       "      <td>?</td>\n",
       "      <td>3</td>\n",
       "      <td>1</td>\n",
       "      <td>1</td>\n",
       "      <td>2</td>\n",
       "    </tr>\n",
       "    <tr>\n",
       "      <th>235</th>\n",
       "      <td>1241232</td>\n",
       "      <td>3</td>\n",
       "      <td>1</td>\n",
       "      <td>4</td>\n",
       "      <td>1</td>\n",
       "      <td>2</td>\n",
       "      <td>?</td>\n",
       "      <td>3</td>\n",
       "      <td>1</td>\n",
       "      <td>1</td>\n",
       "      <td>2</td>\n",
       "    </tr>\n",
       "    <tr>\n",
       "      <th>249</th>\n",
       "      <td>169356</td>\n",
       "      <td>3</td>\n",
       "      <td>1</td>\n",
       "      <td>1</td>\n",
       "      <td>1</td>\n",
       "      <td>2</td>\n",
       "      <td>?</td>\n",
       "      <td>3</td>\n",
       "      <td>1</td>\n",
       "      <td>1</td>\n",
       "      <td>2</td>\n",
       "    </tr>\n",
       "    <tr>\n",
       "      <th>275</th>\n",
       "      <td>432809</td>\n",
       "      <td>3</td>\n",
       "      <td>1</td>\n",
       "      <td>3</td>\n",
       "      <td>1</td>\n",
       "      <td>2</td>\n",
       "      <td>?</td>\n",
       "      <td>2</td>\n",
       "      <td>1</td>\n",
       "      <td>1</td>\n",
       "      <td>2</td>\n",
       "    </tr>\n",
       "    <tr>\n",
       "      <th>292</th>\n",
       "      <td>563649</td>\n",
       "      <td>8</td>\n",
       "      <td>8</td>\n",
       "      <td>8</td>\n",
       "      <td>1</td>\n",
       "      <td>2</td>\n",
       "      <td>?</td>\n",
       "      <td>6</td>\n",
       "      <td>10</td>\n",
       "      <td>1</td>\n",
       "      <td>4</td>\n",
       "    </tr>\n",
       "    <tr>\n",
       "      <th>294</th>\n",
       "      <td>606140</td>\n",
       "      <td>1</td>\n",
       "      <td>1</td>\n",
       "      <td>1</td>\n",
       "      <td>1</td>\n",
       "      <td>2</td>\n",
       "      <td>?</td>\n",
       "      <td>2</td>\n",
       "      <td>1</td>\n",
       "      <td>1</td>\n",
       "      <td>2</td>\n",
       "    </tr>\n",
       "    <tr>\n",
       "      <th>297</th>\n",
       "      <td>61634</td>\n",
       "      <td>5</td>\n",
       "      <td>4</td>\n",
       "      <td>3</td>\n",
       "      <td>1</td>\n",
       "      <td>2</td>\n",
       "      <td>?</td>\n",
       "      <td>2</td>\n",
       "      <td>3</td>\n",
       "      <td>1</td>\n",
       "      <td>2</td>\n",
       "    </tr>\n",
       "    <tr>\n",
       "      <th>315</th>\n",
       "      <td>704168</td>\n",
       "      <td>4</td>\n",
       "      <td>6</td>\n",
       "      <td>5</td>\n",
       "      <td>6</td>\n",
       "      <td>7</td>\n",
       "      <td>?</td>\n",
       "      <td>4</td>\n",
       "      <td>9</td>\n",
       "      <td>1</td>\n",
       "      <td>2</td>\n",
       "    </tr>\n",
       "    <tr>\n",
       "      <th>321</th>\n",
       "      <td>733639</td>\n",
       "      <td>3</td>\n",
       "      <td>1</td>\n",
       "      <td>1</td>\n",
       "      <td>1</td>\n",
       "      <td>2</td>\n",
       "      <td>?</td>\n",
       "      <td>3</td>\n",
       "      <td>1</td>\n",
       "      <td>1</td>\n",
       "      <td>2</td>\n",
       "    </tr>\n",
       "    <tr>\n",
       "      <th>411</th>\n",
       "      <td>1238464</td>\n",
       "      <td>1</td>\n",
       "      <td>1</td>\n",
       "      <td>1</td>\n",
       "      <td>1</td>\n",
       "      <td>1</td>\n",
       "      <td>?</td>\n",
       "      <td>2</td>\n",
       "      <td>1</td>\n",
       "      <td>1</td>\n",
       "      <td>2</td>\n",
       "    </tr>\n",
       "    <tr>\n",
       "      <th>617</th>\n",
       "      <td>1057067</td>\n",
       "      <td>1</td>\n",
       "      <td>1</td>\n",
       "      <td>1</td>\n",
       "      <td>1</td>\n",
       "      <td>1</td>\n",
       "      <td>?</td>\n",
       "      <td>1</td>\n",
       "      <td>1</td>\n",
       "      <td>1</td>\n",
       "      <td>2</td>\n",
       "    </tr>\n",
       "  </tbody>\n",
       "</table>\n",
       "</div>"
      ],
      "text/plain": [
       "          ID  ClumpThickness  Cell Size  Cell Shape  Marginal Adhesion  \\\n",
       "23   1057013               8          4           5                  1   \n",
       "40   1096800               6          6           6                  9   \n",
       "139  1183246               1          1           1                  1   \n",
       "145  1184840               1          1           3                  1   \n",
       "158  1193683               1          1           2                  1   \n",
       "164  1197510               5          1           1                  1   \n",
       "235  1241232               3          1           4                  1   \n",
       "249   169356               3          1           1                  1   \n",
       "275   432809               3          1           3                  1   \n",
       "292   563649               8          8           8                  1   \n",
       "294   606140               1          1           1                  1   \n",
       "297    61634               5          4           3                  1   \n",
       "315   704168               4          6           5                  6   \n",
       "321   733639               3          1           1                  1   \n",
       "411  1238464               1          1           1                  1   \n",
       "617  1057067               1          1           1                  1   \n",
       "\n",
       "     Single Epithelial Cell Size Bare Nuclei  Normal Nucleoli  \\\n",
       "23                             2           ?                7   \n",
       "40                             6           ?                7   \n",
       "139                            1           ?                2   \n",
       "145                            2           ?                2   \n",
       "158                            3           ?                1   \n",
       "164                            2           ?                3   \n",
       "235                            2           ?                3   \n",
       "249                            2           ?                3   \n",
       "275                            2           ?                2   \n",
       "292                            2           ?                6   \n",
       "294                            2           ?                2   \n",
       "297                            2           ?                2   \n",
       "315                            7           ?                4   \n",
       "321                            2           ?                3   \n",
       "411                            1           ?                2   \n",
       "617                            1           ?                1   \n",
       "\n",
       "     Bland Chromatin  Mitoses  Class  \n",
       "23                 3        1      4  \n",
       "40                 8        1      2  \n",
       "139                1        1      2  \n",
       "145                1        1      2  \n",
       "158                1        1      2  \n",
       "164                1        1      2  \n",
       "235                1        1      2  \n",
       "249                1        1      2  \n",
       "275                1        1      2  \n",
       "292               10        1      4  \n",
       "294                1        1      2  \n",
       "297                3        1      2  \n",
       "315                9        1      2  \n",
       "321                1        1      2  \n",
       "411                1        1      2  \n",
       "617                1        1      2  "
      ]
     },
     "execution_count": 93,
     "metadata": {
      "tags": []
     },
     "output_type": "execute_result"
    }
   ],
   "source": [
    "# No missing values found. So let us try to remove ? from bare nuclei column\n",
    "\n",
    "# Get count of rows having ?\n",
    "data_df[data_df['Bare Nuclei']==\"?\"]\n"
   ]
  },
  {
   "cell_type": "code",
   "execution_count": 0,
   "metadata": {
    "colab": {},
    "colab_type": "code",
    "id": "6jLlRU9tWCwx",
    "outputId": "5333ebb7-84f2-4cde-ea1c-9955acff453f"
   },
   "outputs": [
    {
     "data": {
      "text/plain": [
       "ID                             16\n",
       "ClumpThickness                 16\n",
       "Cell Size                      16\n",
       "Cell Shape                     16\n",
       "Marginal Adhesion              16\n",
       "Single Epithelial Cell Size    16\n",
       "Bare Nuclei                    16\n",
       "Normal Nucleoli                16\n",
       "Bland Chromatin                16\n",
       "Mitoses                        16\n",
       "Class                          16\n",
       "dtype: int64"
      ]
     },
     "execution_count": 94,
     "metadata": {
      "tags": []
     },
     "output_type": "execute_result"
    }
   ],
   "source": [
    "data_df[data_df['Bare Nuclei']==\"?\"].count()"
   ]
  },
  {
   "cell_type": "code",
   "execution_count": 0,
   "metadata": {
    "colab": {},
    "colab_type": "code",
    "id": "jAmWPaXpWCw3"
   },
   "outputs": [],
   "source": [
    "# 16 values are corrupted. We can either delete them as it forms roughly 2% of data.\n",
    "# Here we would like to impute it with suitable values"
   ]
  },
  {
   "cell_type": "code",
   "execution_count": 0,
   "metadata": {
    "colab": {},
    "colab_type": "code",
    "id": "s7Pt4t56WCw8",
    "outputId": "e5dcf2a8-346a-414e-9d64-26fe64e7fae7"
   },
   "outputs": [
    {
     "data": {
      "text/plain": [
       "1     402\n",
       "10    132\n",
       "5      30\n",
       "2      30\n",
       "3      28\n",
       "8      21\n",
       "4      19\n",
       "?      16\n",
       "9       9\n",
       "7       8\n",
       "6       4\n",
       "Name: Bare Nuclei, dtype: int64"
      ]
     },
     "execution_count": 96,
     "metadata": {
      "tags": []
     },
     "output_type": "execute_result"
    }
   ],
   "source": [
    "data_df['Bare Nuclei'].value_counts()"
   ]
  },
  {
   "cell_type": "code",
   "execution_count": 0,
   "metadata": {
    "colab": {},
    "colab_type": "code",
    "id": "gK9i5TVxWCxG",
    "outputId": "583605e6-744a-47ba-87bb-17e38f17e1ec"
   },
   "outputs": [
    {
     "data": {
      "text/plain": [
       "1     418\n",
       "10    132\n",
       "5      30\n",
       "2      30\n",
       "3      28\n",
       "8      21\n",
       "4      19\n",
       "9       9\n",
       "7       8\n",
       "6       4\n",
       "Name: Bare Nuclei, dtype: int64"
      ]
     },
     "execution_count": 97,
     "metadata": {
      "tags": []
     },
     "output_type": "execute_result"
    }
   ],
   "source": [
    "# We would impute by using mode (we can also look for advane imputation such as knn imputation in fancyimpute package)\n",
    "data_df['Bare Nuclei'].replace(\"?\",'1', inplace=True)\n",
    "data_df['Bare Nuclei'].value_counts()"
   ]
  },
  {
   "cell_type": "code",
   "execution_count": 0,
   "metadata": {
    "colab": {},
    "colab_type": "code",
    "id": "jMx9xH6OWCxN"
   },
   "outputs": [],
   "source": [
    "data_df['Bare Nuclei'] = data_df['Bare Nuclei'].astype('int64')"
   ]
  },
  {
   "cell_type": "code",
   "execution_count": 6,
   "metadata": {
    "colab": {},
    "colab_type": "code",
    "id": "bRkcPsSoWCxU",
    "outputId": "80bcda10-0254-4957-caf2-1cf71e5726ff"
   },
   "outputs": [
    {
     "name": "stdout",
     "output_type": "stream",
     "text": [
      "Number of duplicate rows = 8\n"
     ]
    },
    {
     "data": {
      "text/html": [
       "<div>\n",
       "<style scoped>\n",
       "    .dataframe tbody tr th:only-of-type {\n",
       "        vertical-align: middle;\n",
       "    }\n",
       "\n",
       "    .dataframe tbody tr th {\n",
       "        vertical-align: top;\n",
       "    }\n",
       "\n",
       "    .dataframe thead th {\n",
       "        text-align: right;\n",
       "    }\n",
       "</style>\n",
       "<table border=\"1\" class=\"dataframe\">\n",
       "  <thead>\n",
       "    <tr style=\"text-align: right;\">\n",
       "      <th></th>\n",
       "      <th>ID</th>\n",
       "      <th>ClumpThickness</th>\n",
       "      <th>Cell Size</th>\n",
       "      <th>Cell Shape</th>\n",
       "      <th>Marginal Adhesion</th>\n",
       "      <th>Single Epithelial Cell Size</th>\n",
       "      <th>Bare Nuclei</th>\n",
       "      <th>Normal Nucleoli</th>\n",
       "      <th>Bland Chromatin</th>\n",
       "      <th>Mitoses</th>\n",
       "      <th>Class</th>\n",
       "    </tr>\n",
       "  </thead>\n",
       "  <tbody>\n",
       "    <tr>\n",
       "      <th>208</th>\n",
       "      <td>1218860</td>\n",
       "      <td>1</td>\n",
       "      <td>1</td>\n",
       "      <td>1</td>\n",
       "      <td>1</td>\n",
       "      <td>1</td>\n",
       "      <td>1</td>\n",
       "      <td>3</td>\n",
       "      <td>1</td>\n",
       "      <td>1</td>\n",
       "      <td>2</td>\n",
       "    </tr>\n",
       "    <tr>\n",
       "      <th>253</th>\n",
       "      <td>1100524</td>\n",
       "      <td>6</td>\n",
       "      <td>10</td>\n",
       "      <td>10</td>\n",
       "      <td>2</td>\n",
       "      <td>8</td>\n",
       "      <td>10</td>\n",
       "      <td>7</td>\n",
       "      <td>3</td>\n",
       "      <td>3</td>\n",
       "      <td>4</td>\n",
       "    </tr>\n",
       "    <tr>\n",
       "      <th>254</th>\n",
       "      <td>1116116</td>\n",
       "      <td>9</td>\n",
       "      <td>10</td>\n",
       "      <td>10</td>\n",
       "      <td>1</td>\n",
       "      <td>10</td>\n",
       "      <td>8</td>\n",
       "      <td>3</td>\n",
       "      <td>3</td>\n",
       "      <td>1</td>\n",
       "      <td>4</td>\n",
       "    </tr>\n",
       "    <tr>\n",
       "      <th>258</th>\n",
       "      <td>1198641</td>\n",
       "      <td>3</td>\n",
       "      <td>1</td>\n",
       "      <td>1</td>\n",
       "      <td>1</td>\n",
       "      <td>2</td>\n",
       "      <td>1</td>\n",
       "      <td>3</td>\n",
       "      <td>1</td>\n",
       "      <td>1</td>\n",
       "      <td>2</td>\n",
       "    </tr>\n",
       "    <tr>\n",
       "      <th>272</th>\n",
       "      <td>320675</td>\n",
       "      <td>3</td>\n",
       "      <td>3</td>\n",
       "      <td>5</td>\n",
       "      <td>2</td>\n",
       "      <td>3</td>\n",
       "      <td>10</td>\n",
       "      <td>7</td>\n",
       "      <td>1</td>\n",
       "      <td>1</td>\n",
       "      <td>4</td>\n",
       "    </tr>\n",
       "    <tr>\n",
       "      <th>338</th>\n",
       "      <td>704097</td>\n",
       "      <td>1</td>\n",
       "      <td>1</td>\n",
       "      <td>1</td>\n",
       "      <td>1</td>\n",
       "      <td>1</td>\n",
       "      <td>1</td>\n",
       "      <td>2</td>\n",
       "      <td>1</td>\n",
       "      <td>1</td>\n",
       "      <td>2</td>\n",
       "    </tr>\n",
       "    <tr>\n",
       "      <th>561</th>\n",
       "      <td>1321942</td>\n",
       "      <td>5</td>\n",
       "      <td>1</td>\n",
       "      <td>1</td>\n",
       "      <td>1</td>\n",
       "      <td>2</td>\n",
       "      <td>1</td>\n",
       "      <td>3</td>\n",
       "      <td>1</td>\n",
       "      <td>1</td>\n",
       "      <td>2</td>\n",
       "    </tr>\n",
       "    <tr>\n",
       "      <th>684</th>\n",
       "      <td>466906</td>\n",
       "      <td>1</td>\n",
       "      <td>1</td>\n",
       "      <td>1</td>\n",
       "      <td>1</td>\n",
       "      <td>2</td>\n",
       "      <td>1</td>\n",
       "      <td>1</td>\n",
       "      <td>1</td>\n",
       "      <td>1</td>\n",
       "      <td>2</td>\n",
       "    </tr>\n",
       "  </tbody>\n",
       "</table>\n",
       "</div>"
      ],
      "text/plain": [
       "          ID  ClumpThickness  Cell Size  Cell Shape  Marginal Adhesion  \\\n",
       "208  1218860               1          1           1                  1   \n",
       "253  1100524               6         10          10                  2   \n",
       "254  1116116               9         10          10                  1   \n",
       "258  1198641               3          1           1                  1   \n",
       "272   320675               3          3           5                  2   \n",
       "338   704097               1          1           1                  1   \n",
       "561  1321942               5          1           1                  1   \n",
       "684   466906               1          1           1                  1   \n",
       "\n",
       "     Single Epithelial Cell Size Bare Nuclei  Normal Nucleoli  \\\n",
       "208                            1           1                3   \n",
       "253                            8          10                7   \n",
       "254                           10           8                3   \n",
       "258                            2           1                3   \n",
       "272                            3          10                7   \n",
       "338                            1           1                2   \n",
       "561                            2           1                3   \n",
       "684                            2           1                1   \n",
       "\n",
       "     Bland Chromatin  Mitoses  Class  \n",
       "208                1        1      2  \n",
       "253                3        3      4  \n",
       "254                3        1      4  \n",
       "258                1        1      2  \n",
       "272                1        1      4  \n",
       "338                1        1      2  \n",
       "561                1        1      2  \n",
       "684                1        1      2  "
      ]
     },
     "execution_count": 6,
     "metadata": {},
     "output_type": "execute_result"
    }
   ],
   "source": [
    "# Check for duplicate data\n",
    "\n",
    "dups = data_df.duplicated()\n",
    "print('Number of duplicate rows = %d' % (dups.sum()))\n",
    "\n",
    "data_df[dups]\n",
    "\n",
    "# To check for duplicates by column\n",
    "#pd.concat(g for _, g in data_df.groupby(\"ID\") if len(g) > 1).count()\n"
   ]
  },
  {
   "cell_type": "code",
   "execution_count": 0,
   "metadata": {
    "colab": {},
    "colab_type": "code",
    "id": "myuPc1jYWCxk",
    "outputId": "bee21126-a84c-4814-9299-2d9310d64b60"
   },
   "outputs": [
    {
     "name": "stdout",
     "output_type": "stream",
     "text": [
      "Number of rows before discarding duplicates = 690\n",
      "Number of rows after discarding duplicates = 690\n"
     ]
    }
   ],
   "source": [
    "# Remove duplicate rows\n",
    "\n",
    "print('Number of rows before discarding duplicates = %d' % (data_df.shape[0]))\n",
    "data_df.drop_duplicates(subset = None, keep = 'first', inplace=True)\n",
    "print('Number of rows after discarding duplicates = %d' % (data_df.shape[0]))"
   ]
  },
  {
   "cell_type": "markdown",
   "metadata": {
    "colab_type": "text",
    "id": "YAu8NvGaWCxr"
   },
   "source": [
    "# Q4. Perform bi variate analysis including correlation, pairplots and state the inferences. \n"
   ]
  },
  {
   "cell_type": "code",
   "execution_count": 0,
   "metadata": {
    "colab": {},
    "colab_type": "code",
    "id": "o6i0e6MaWCxu",
    "outputId": "1b7fad48-0b2d-4997-a19d-3161e670436d"
   },
   "outputs": [
    {
     "data": {
      "text/html": [
       "<div>\n",
       "<style scoped>\n",
       "    .dataframe tbody tr th:only-of-type {\n",
       "        vertical-align: middle;\n",
       "    }\n",
       "\n",
       "    .dataframe tbody tr th {\n",
       "        vertical-align: top;\n",
       "    }\n",
       "\n",
       "    .dataframe thead th {\n",
       "        text-align: right;\n",
       "    }\n",
       "</style>\n",
       "<table border=\"1\" class=\"dataframe\">\n",
       "  <thead>\n",
       "    <tr style=\"text-align: right;\">\n",
       "      <th></th>\n",
       "      <th>ID</th>\n",
       "      <th>ClumpThickness</th>\n",
       "      <th>Cell Size</th>\n",
       "      <th>Cell Shape</th>\n",
       "      <th>Marginal Adhesion</th>\n",
       "      <th>Single Epithelial Cell Size</th>\n",
       "      <th>Bare Nuclei</th>\n",
       "      <th>Normal Nucleoli</th>\n",
       "      <th>Bland Chromatin</th>\n",
       "      <th>Mitoses</th>\n",
       "      <th>Class</th>\n",
       "    </tr>\n",
       "  </thead>\n",
       "  <tbody>\n",
       "    <tr>\n",
       "      <th>ID</th>\n",
       "      <td>1.000000</td>\n",
       "      <td>-0.059592</td>\n",
       "      <td>-0.043856</td>\n",
       "      <td>-0.042803</td>\n",
       "      <td>-0.066771</td>\n",
       "      <td>-0.048102</td>\n",
       "      <td>-0.091832</td>\n",
       "      <td>-0.059802</td>\n",
       "      <td>-0.054517</td>\n",
       "      <td>-0.036286</td>\n",
       "      <td>-0.080084</td>\n",
       "    </tr>\n",
       "    <tr>\n",
       "      <th>ClumpThickness</th>\n",
       "      <td>-0.059592</td>\n",
       "      <td>1.000000</td>\n",
       "      <td>0.643173</td>\n",
       "      <td>0.653589</td>\n",
       "      <td>0.487715</td>\n",
       "      <td>0.517253</td>\n",
       "      <td>0.590648</td>\n",
       "      <td>0.561063</td>\n",
       "      <td>0.535507</td>\n",
       "      <td>0.350196</td>\n",
       "      <td>0.716812</td>\n",
       "    </tr>\n",
       "    <tr>\n",
       "      <th>Cell Size</th>\n",
       "      <td>-0.043856</td>\n",
       "      <td>0.643173</td>\n",
       "      <td>1.000000</td>\n",
       "      <td>0.905349</td>\n",
       "      <td>0.712933</td>\n",
       "      <td>0.746982</td>\n",
       "      <td>0.684571</td>\n",
       "      <td>0.759632</td>\n",
       "      <td>0.727073</td>\n",
       "      <td>0.459918</td>\n",
       "      <td>0.817586</td>\n",
       "    </tr>\n",
       "    <tr>\n",
       "      <th>Cell Shape</th>\n",
       "      <td>-0.042803</td>\n",
       "      <td>0.653589</td>\n",
       "      <td>0.905349</td>\n",
       "      <td>1.000000</td>\n",
       "      <td>0.690782</td>\n",
       "      <td>0.714243</td>\n",
       "      <td>0.704165</td>\n",
       "      <td>0.738576</td>\n",
       "      <td>0.724519</td>\n",
       "      <td>0.440435</td>\n",
       "      <td>0.817551</td>\n",
       "    </tr>\n",
       "    <tr>\n",
       "      <th>Marginal Adhesion</th>\n",
       "      <td>-0.066771</td>\n",
       "      <td>0.487715</td>\n",
       "      <td>0.712933</td>\n",
       "      <td>0.690782</td>\n",
       "      <td>1.000000</td>\n",
       "      <td>0.608281</td>\n",
       "      <td>0.672512</td>\n",
       "      <td>0.669860</td>\n",
       "      <td>0.602228</td>\n",
       "      <td>0.417008</td>\n",
       "      <td>0.701175</td>\n",
       "    </tr>\n",
       "    <tr>\n",
       "      <th>Single Epithelial Cell Size</th>\n",
       "      <td>-0.048102</td>\n",
       "      <td>0.517253</td>\n",
       "      <td>0.746982</td>\n",
       "      <td>0.714243</td>\n",
       "      <td>0.608281</td>\n",
       "      <td>1.000000</td>\n",
       "      <td>0.580487</td>\n",
       "      <td>0.620526</td>\n",
       "      <td>0.633880</td>\n",
       "      <td>0.482517</td>\n",
       "      <td>0.681063</td>\n",
       "    </tr>\n",
       "    <tr>\n",
       "      <th>Bare Nuclei</th>\n",
       "      <td>-0.091832</td>\n",
       "      <td>0.590648</td>\n",
       "      <td>0.684571</td>\n",
       "      <td>0.704165</td>\n",
       "      <td>0.672512</td>\n",
       "      <td>0.580487</td>\n",
       "      <td>1.000000</td>\n",
       "      <td>0.672754</td>\n",
       "      <td>0.578161</td>\n",
       "      <td>0.342823</td>\n",
       "      <td>0.816655</td>\n",
       "    </tr>\n",
       "    <tr>\n",
       "      <th>Normal Nucleoli</th>\n",
       "      <td>-0.059802</td>\n",
       "      <td>0.561063</td>\n",
       "      <td>0.759632</td>\n",
       "      <td>0.738576</td>\n",
       "      <td>0.669860</td>\n",
       "      <td>0.620526</td>\n",
       "      <td>0.672754</td>\n",
       "      <td>1.000000</td>\n",
       "      <td>0.669099</td>\n",
       "      <td>0.343769</td>\n",
       "      <td>0.756736</td>\n",
       "    </tr>\n",
       "    <tr>\n",
       "      <th>Bland Chromatin</th>\n",
       "      <td>-0.054517</td>\n",
       "      <td>0.535507</td>\n",
       "      <td>0.727073</td>\n",
       "      <td>0.724519</td>\n",
       "      <td>0.602228</td>\n",
       "      <td>0.633880</td>\n",
       "      <td>0.578161</td>\n",
       "      <td>0.669099</td>\n",
       "      <td>1.000000</td>\n",
       "      <td>0.427490</td>\n",
       "      <td>0.715363</td>\n",
       "    </tr>\n",
       "    <tr>\n",
       "      <th>Mitoses</th>\n",
       "      <td>-0.036286</td>\n",
       "      <td>0.350196</td>\n",
       "      <td>0.459918</td>\n",
       "      <td>0.440435</td>\n",
       "      <td>0.417008</td>\n",
       "      <td>0.482517</td>\n",
       "      <td>0.342823</td>\n",
       "      <td>0.343769</td>\n",
       "      <td>0.427490</td>\n",
       "      <td>1.000000</td>\n",
       "      <td>0.423947</td>\n",
       "    </tr>\n",
       "    <tr>\n",
       "      <th>Class</th>\n",
       "      <td>-0.080084</td>\n",
       "      <td>0.716812</td>\n",
       "      <td>0.817586</td>\n",
       "      <td>0.817551</td>\n",
       "      <td>0.701175</td>\n",
       "      <td>0.681063</td>\n",
       "      <td>0.816655</td>\n",
       "      <td>0.756736</td>\n",
       "      <td>0.715363</td>\n",
       "      <td>0.423947</td>\n",
       "      <td>1.000000</td>\n",
       "    </tr>\n",
       "  </tbody>\n",
       "</table>\n",
       "</div>"
      ],
      "text/plain": [
       "                                   ID  ClumpThickness  Cell Size  Cell Shape  \\\n",
       "ID                           1.000000       -0.059592  -0.043856   -0.042803   \n",
       "ClumpThickness              -0.059592        1.000000   0.643173    0.653589   \n",
       "Cell Size                   -0.043856        0.643173   1.000000    0.905349   \n",
       "Cell Shape                  -0.042803        0.653589   0.905349    1.000000   \n",
       "Marginal Adhesion           -0.066771        0.487715   0.712933    0.690782   \n",
       "Single Epithelial Cell Size -0.048102        0.517253   0.746982    0.714243   \n",
       "Bare Nuclei                 -0.091832        0.590648   0.684571    0.704165   \n",
       "Normal Nucleoli             -0.059802        0.561063   0.759632    0.738576   \n",
       "Bland Chromatin             -0.054517        0.535507   0.727073    0.724519   \n",
       "Mitoses                     -0.036286        0.350196   0.459918    0.440435   \n",
       "Class                       -0.080084        0.716812   0.817586    0.817551   \n",
       "\n",
       "                             Marginal Adhesion  Single Epithelial Cell Size  \\\n",
       "ID                                   -0.066771                    -0.048102   \n",
       "ClumpThickness                        0.487715                     0.517253   \n",
       "Cell Size                             0.712933                     0.746982   \n",
       "Cell Shape                            0.690782                     0.714243   \n",
       "Marginal Adhesion                     1.000000                     0.608281   \n",
       "Single Epithelial Cell Size           0.608281                     1.000000   \n",
       "Bare Nuclei                           0.672512                     0.580487   \n",
       "Normal Nucleoli                       0.669860                     0.620526   \n",
       "Bland Chromatin                       0.602228                     0.633880   \n",
       "Mitoses                               0.417008                     0.482517   \n",
       "Class                                 0.701175                     0.681063   \n",
       "\n",
       "                             Bare Nuclei  Normal Nucleoli  Bland Chromatin  \\\n",
       "ID                             -0.091832        -0.059802        -0.054517   \n",
       "ClumpThickness                  0.590648         0.561063         0.535507   \n",
       "Cell Size                       0.684571         0.759632         0.727073   \n",
       "Cell Shape                      0.704165         0.738576         0.724519   \n",
       "Marginal Adhesion               0.672512         0.669860         0.602228   \n",
       "Single Epithelial Cell Size     0.580487         0.620526         0.633880   \n",
       "Bare Nuclei                     1.000000         0.672754         0.578161   \n",
       "Normal Nucleoli                 0.672754         1.000000         0.669099   \n",
       "Bland Chromatin                 0.578161         0.669099         1.000000   \n",
       "Mitoses                         0.342823         0.343769         0.427490   \n",
       "Class                           0.816655         0.756736         0.715363   \n",
       "\n",
       "                              Mitoses     Class  \n",
       "ID                          -0.036286 -0.080084  \n",
       "ClumpThickness               0.350196  0.716812  \n",
       "Cell Size                    0.459918  0.817586  \n",
       "Cell Shape                   0.440435  0.817551  \n",
       "Marginal Adhesion            0.417008  0.701175  \n",
       "Single Epithelial Cell Size  0.482517  0.681063  \n",
       "Bare Nuclei                  0.342823  0.816655  \n",
       "Normal Nucleoli              0.343769  0.756736  \n",
       "Bland Chromatin              0.427490  0.715363  \n",
       "Mitoses                      1.000000  0.423947  \n",
       "Class                        0.423947  1.000000  "
      ]
     },
     "execution_count": 102,
     "metadata": {
      "tags": []
     },
     "output_type": "execute_result"
    }
   ],
   "source": [
    "# Check for correlation of variable\n",
    "data_df.corr(method='pearson')"
   ]
  },
  {
   "cell_type": "code",
   "execution_count": 0,
   "metadata": {
    "colab": {},
    "colab_type": "code",
    "id": "ysZh50iDWCxz"
   },
   "outputs": [],
   "source": [
    "# Cell size shows high significance with cell shape,marginal adhesion, single epithelial cell size,bare nuclei, normal nucleoli \n",
    "# and bland chromatin\n",
    "# Target variable shows high correlation with most of these variables"
   ]
  },
  {
   "cell_type": "code",
   "execution_count": 0,
   "metadata": {
    "colab": {},
    "colab_type": "code",
    "id": "ZLJ0AhqjWCx2",
    "outputId": "95a4cea0-9c13-4249-e574-f63ad223472f"
   },
   "outputs": [
    {
     "data": {
      "text/plain": [
       "<seaborn.axisgrid.PairGrid at 0xff272deeb8>"
      ]
     },
     "execution_count": 104,
     "metadata": {
      "tags": []
     },
     "output_type": "execute_result"
    },
    {
     "data": {
      "image/png": "[encoded data removed]",
      "text/plain": [
       "<Figure size 1980x1980 with 132 Axes>"
      ]
     },
     "metadata": {
      "tags": []
     },
     "output_type": "display_data"
    }
   ],
   "source": [
    "#Let us check for pair plots\n",
    "sns.pairplot(data_df,diag_kind='kde')"
   ]
  },
  {
   "cell_type": "code",
   "execution_count": 0,
   "metadata": {
    "colab": {},
    "colab_type": "code",
    "id": "OTh11akvWCx8"
   },
   "outputs": [],
   "source": [
    "# Relationship between variables shows come correlation. \n",
    "# Distribution of variables shows most of the values are concentrated on lower side, though range remains same for all that is \n",
    "# Between 1 to 10"
   ]
  },
  {
   "cell_type": "markdown",
   "metadata": {
    "colab_type": "text",
    "id": "9hxe7D9BWCx-"
   },
   "source": [
    "# Q5 Remove any unwanted columns or outliers, standardize variables in pre-processing step"
   ]
  },
  {
   "cell_type": "code",
   "execution_count": 0,
   "metadata": {
    "colab": {},
    "colab_type": "code",
    "id": "oU9HYO_CWCx_",
    "outputId": "2cc0517f-2dcb-487d-8554-f9c52c75a0a9"
   },
   "outputs": [
    {
     "data": {
      "text/plain": [
       "<matplotlib.axes._subplots.AxesSubplot at 0xff2d161780>"
      ]
     },
     "execution_count": 108,
     "metadata": {
      "tags": []
     },
     "output_type": "execute_result"
    },
    {
     "data": {
      "image/png": "[encoded data removed]",
      "text/plain": [
       "<Figure size 1440x216 with 1 Axes>"
      ]
     },
     "metadata": {
      "tags": []
     },
     "output_type": "display_data"
    }
   ],
   "source": [
    "data_df.boxplot(figsize=(20,3))"
   ]
  },
  {
   "cell_type": "code",
   "execution_count": 0,
   "metadata": {
    "colab": {},
    "colab_type": "code",
    "id": "Xj4dX-8QWCyC",
    "outputId": "e77cf478-0c01-4944-8fb7-95b109f822ab"
   },
   "outputs": [
    {
     "data": {
      "text/html": [
       "<div>\n",
       "<style scoped>\n",
       "    .dataframe tbody tr th:only-of-type {\n",
       "        vertical-align: middle;\n",
       "    }\n",
       "\n",
       "    .dataframe tbody tr th {\n",
       "        vertical-align: top;\n",
       "    }\n",
       "\n",
       "    .dataframe thead th {\n",
       "        text-align: right;\n",
       "    }\n",
       "</style>\n",
       "<table border=\"1\" class=\"dataframe\">\n",
       "  <thead>\n",
       "    <tr style=\"text-align: right;\">\n",
       "      <th>Class</th>\n",
       "      <th>2</th>\n",
       "      <th>4</th>\n",
       "    </tr>\n",
       "    <tr>\n",
       "      <th>Marginal Adhesion</th>\n",
       "      <th></th>\n",
       "      <th></th>\n",
       "    </tr>\n",
       "  </thead>\n",
       "  <tbody>\n",
       "    <tr>\n",
       "      <th>1</th>\n",
       "      <td>369</td>\n",
       "      <td>31</td>\n",
       "    </tr>\n",
       "    <tr>\n",
       "      <th>2</th>\n",
       "      <td>37</td>\n",
       "      <td>19</td>\n",
       "    </tr>\n",
       "    <tr>\n",
       "      <th>3</th>\n",
       "      <td>31</td>\n",
       "      <td>27</td>\n",
       "    </tr>\n",
       "    <tr>\n",
       "      <th>4</th>\n",
       "      <td>5</td>\n",
       "      <td>28</td>\n",
       "    </tr>\n",
       "    <tr>\n",
       "      <th>5</th>\n",
       "      <td>4</td>\n",
       "      <td>19</td>\n",
       "    </tr>\n",
       "    <tr>\n",
       "      <th>6</th>\n",
       "      <td>4</td>\n",
       "      <td>18</td>\n",
       "    </tr>\n",
       "    <tr>\n",
       "      <th>7</th>\n",
       "      <td>0</td>\n",
       "      <td>13</td>\n",
       "    </tr>\n",
       "    <tr>\n",
       "      <th>8</th>\n",
       "      <td>0</td>\n",
       "      <td>25</td>\n",
       "    </tr>\n",
       "    <tr>\n",
       "      <th>9</th>\n",
       "      <td>1</td>\n",
       "      <td>4</td>\n",
       "    </tr>\n",
       "    <tr>\n",
       "      <th>10</th>\n",
       "      <td>1</td>\n",
       "      <td>54</td>\n",
       "    </tr>\n",
       "  </tbody>\n",
       "</table>\n",
       "</div>"
      ],
      "text/plain": [
       "Class                2   4\n",
       "Marginal Adhesion         \n",
       "1                  369  31\n",
       "2                   37  19\n",
       "3                   31  27\n",
       "4                    5  28\n",
       "5                    4  19\n",
       "6                    4  18\n",
       "7                    0  13\n",
       "8                    0  25\n",
       "9                    1   4\n",
       "10                   1  54"
      ]
     },
     "execution_count": 110,
     "metadata": {
      "tags": []
     },
     "output_type": "execute_result"
    }
   ],
   "source": [
    "# We could see few outliers here. Possible mode of imputation:\n",
    "# Remove the outliers by taking anything above 3 sd from mean\n",
    "# Take logarithmic transformation, it would reduce the variation\n",
    "# Group few levels\n",
    "\n",
    "pd.crosstab(data_df['Marginal Adhesion'], data_df['Class'])"
   ]
  },
  {
   "cell_type": "code",
   "execution_count": 0,
   "metadata": {
    "colab": {},
    "colab_type": "code",
    "id": "_d3DGM0WWCyJ",
    "outputId": "6ea61f95-56ff-425d-a3cc-6a19ce93a715"
   },
   "outputs": [
    {
     "data": {
      "text/plain": [
       "1    400\n",
       "4    176\n",
       "3     58\n",
       "2     56\n",
       "Name: Marginal Adhesion, dtype: int64"
      ]
     },
     "execution_count": 116,
     "metadata": {
      "tags": []
     },
     "output_type": "execute_result"
    }
   ],
   "source": [
    "# We could see from 4 point onward we have similar pattern, and also few points. We can club the levels together\n",
    "data_df['Marginal Adhesion'] = np.where(data_df['Marginal Adhesion'] >4, 4, data_df['Marginal Adhesion'])\n",
    "data_df['Marginal Adhesion'].value_counts()\n"
   ]
  },
  {
   "cell_type": "code",
   "execution_count": 0,
   "metadata": {
    "colab": {},
    "colab_type": "code",
    "id": "QTlB4vYkWCyP",
    "outputId": "107c6197-4b41-46ba-a646-e973926d4ef5"
   },
   "outputs": [
    {
     "data": {
      "text/html": [
       "<div>\n",
       "<style scoped>\n",
       "    .dataframe tbody tr th:only-of-type {\n",
       "        vertical-align: middle;\n",
       "    }\n",
       "\n",
       "    .dataframe tbody tr th {\n",
       "        vertical-align: top;\n",
       "    }\n",
       "\n",
       "    .dataframe thead th {\n",
       "        text-align: right;\n",
       "    }\n",
       "</style>\n",
       "<table border=\"1\" class=\"dataframe\">\n",
       "  <thead>\n",
       "    <tr style=\"text-align: right;\">\n",
       "      <th>Class</th>\n",
       "      <th>2</th>\n",
       "      <th>4</th>\n",
       "    </tr>\n",
       "    <tr>\n",
       "      <th>Single Epithelial Cell Size</th>\n",
       "      <th></th>\n",
       "      <th></th>\n",
       "    </tr>\n",
       "  </thead>\n",
       "  <tbody>\n",
       "    <tr>\n",
       "      <th>1</th>\n",
       "      <td>44</td>\n",
       "      <td>1</td>\n",
       "    </tr>\n",
       "    <tr>\n",
       "      <th>2</th>\n",
       "      <td>359</td>\n",
       "      <td>23</td>\n",
       "    </tr>\n",
       "    <tr>\n",
       "      <th>3</th>\n",
       "      <td>29</td>\n",
       "      <td>42</td>\n",
       "    </tr>\n",
       "    <tr>\n",
       "      <th>4</th>\n",
       "      <td>7</td>\n",
       "      <td>41</td>\n",
       "    </tr>\n",
       "    <tr>\n",
       "      <th>5</th>\n",
       "      <td>5</td>\n",
       "      <td>34</td>\n",
       "    </tr>\n",
       "    <tr>\n",
       "      <th>6</th>\n",
       "      <td>2</td>\n",
       "      <td>39</td>\n",
       "    </tr>\n",
       "    <tr>\n",
       "      <th>7</th>\n",
       "      <td>3</td>\n",
       "      <td>9</td>\n",
       "    </tr>\n",
       "    <tr>\n",
       "      <th>8</th>\n",
       "      <td>2</td>\n",
       "      <td>18</td>\n",
       "    </tr>\n",
       "    <tr>\n",
       "      <th>9</th>\n",
       "      <td>0</td>\n",
       "      <td>2</td>\n",
       "    </tr>\n",
       "    <tr>\n",
       "      <th>10</th>\n",
       "      <td>1</td>\n",
       "      <td>29</td>\n",
       "    </tr>\n",
       "  </tbody>\n",
       "</table>\n",
       "</div>"
      ],
      "text/plain": [
       "Class                          2   4\n",
       "Single Epithelial Cell Size         \n",
       "1                             44   1\n",
       "2                            359  23\n",
       "3                             29  42\n",
       "4                              7  41\n",
       "5                              5  34\n",
       "6                              2  39\n",
       "7                              3   9\n",
       "8                              2  18\n",
       "9                              0   2\n",
       "10                             1  29"
      ]
     },
     "execution_count": 119,
     "metadata": {
      "tags": []
     },
     "output_type": "execute_result"
    }
   ],
   "source": [
    "pd.crosstab(data_df['Single Epithelial Cell Size'], data_df['Class'])"
   ]
  },
  {
   "cell_type": "code",
   "execution_count": 0,
   "metadata": {
    "colab": {},
    "colab_type": "code",
    "id": "qRyk59I7WCyY"
   },
   "outputs": [],
   "source": [
    "# Here we could see group 4 and above could be clubbed\n",
    "# We could see similar patterns fro group 1 and 2, but we are not clubbing as they have sufficient number of data points\n",
    "# For PCA demonstration we can leave them as it is, but if we go for modelling we should club and check for accuracy\n",
    "data_df['Single Epithelial Cell Size'] = np.where(data_df['Single Epithelial Cell Size'] >3, 3, data_df['Single Epithelial Cell Size'])\n"
   ]
  },
  {
   "cell_type": "code",
   "execution_count": 0,
   "metadata": {
    "colab": {},
    "colab_type": "code",
    "id": "obQepTjuWCyg",
    "outputId": "1f4f889d-616b-450c-ce4e-dd88e07be1bf"
   },
   "outputs": [
    {
     "data": {
      "text/html": [
       "<div>\n",
       "<style scoped>\n",
       "    .dataframe tbody tr th:only-of-type {\n",
       "        vertical-align: middle;\n",
       "    }\n",
       "\n",
       "    .dataframe tbody tr th {\n",
       "        vertical-align: top;\n",
       "    }\n",
       "\n",
       "    .dataframe thead th {\n",
       "        text-align: right;\n",
       "    }\n",
       "</style>\n",
       "<table border=\"1\" class=\"dataframe\">\n",
       "  <thead>\n",
       "    <tr style=\"text-align: right;\">\n",
       "      <th>Class</th>\n",
       "      <th>2</th>\n",
       "      <th>4</th>\n",
       "    </tr>\n",
       "    <tr>\n",
       "      <th>Normal Nucleoli</th>\n",
       "      <th></th>\n",
       "      <th></th>\n",
       "    </tr>\n",
       "  </thead>\n",
       "  <tbody>\n",
       "    <tr>\n",
       "      <th>1</th>\n",
       "      <td>149</td>\n",
       "      <td>2</td>\n",
       "    </tr>\n",
       "    <tr>\n",
       "      <th>2</th>\n",
       "      <td>158</td>\n",
       "      <td>7</td>\n",
       "    </tr>\n",
       "    <tr>\n",
       "      <th>3</th>\n",
       "      <td>125</td>\n",
       "      <td>35</td>\n",
       "    </tr>\n",
       "    <tr>\n",
       "      <th>4</th>\n",
       "      <td>8</td>\n",
       "      <td>32</td>\n",
       "    </tr>\n",
       "    <tr>\n",
       "      <th>5</th>\n",
       "      <td>4</td>\n",
       "      <td>30</td>\n",
       "    </tr>\n",
       "    <tr>\n",
       "      <th>6</th>\n",
       "      <td>1</td>\n",
       "      <td>9</td>\n",
       "    </tr>\n",
       "    <tr>\n",
       "      <th>7</th>\n",
       "      <td>7</td>\n",
       "      <td>64</td>\n",
       "    </tr>\n",
       "    <tr>\n",
       "      <th>8</th>\n",
       "      <td>0</td>\n",
       "      <td>28</td>\n",
       "    </tr>\n",
       "    <tr>\n",
       "      <th>9</th>\n",
       "      <td>0</td>\n",
       "      <td>11</td>\n",
       "    </tr>\n",
       "    <tr>\n",
       "      <th>10</th>\n",
       "      <td>0</td>\n",
       "      <td>20</td>\n",
       "    </tr>\n",
       "  </tbody>\n",
       "</table>\n",
       "</div>"
      ],
      "text/plain": [
       "Class              2   4\n",
       "Normal Nucleoli         \n",
       "1                149   2\n",
       "2                158   7\n",
       "3                125  35\n",
       "4                  8  32\n",
       "5                  4  30\n",
       "6                  1   9\n",
       "7                  7  64\n",
       "8                  0  28\n",
       "9                  0  11\n",
       "10                 0  20"
      ]
     },
     "execution_count": 121,
     "metadata": {
      "tags": []
     },
     "output_type": "execute_result"
    }
   ],
   "source": [
    "pd.crosstab(data_df['Normal Nucleoli'], data_df['Class'])"
   ]
  },
  {
   "cell_type": "code",
   "execution_count": 0,
   "metadata": {
    "colab": {},
    "colab_type": "code",
    "id": "IMSZlLgNWCym"
   },
   "outputs": [],
   "source": [
    "# Clubbing levels 4 and above together\n",
    "data_df['Normal Nucleoli'] = np.where(data_df['Normal Nucleoli'] >4, 4, data_df['Normal Nucleoli'])\n"
   ]
  },
  {
   "cell_type": "code",
   "execution_count": 0,
   "metadata": {
    "colab": {},
    "colab_type": "code",
    "id": "B2q3bdVqWCys",
    "outputId": "8bd9bc9e-3357-463c-e20a-d02f825f7041"
   },
   "outputs": [
    {
     "data": {
      "text/html": [
       "<div>\n",
       "<style scoped>\n",
       "    .dataframe tbody tr th:only-of-type {\n",
       "        vertical-align: middle;\n",
       "    }\n",
       "\n",
       "    .dataframe tbody tr th {\n",
       "        vertical-align: top;\n",
       "    }\n",
       "\n",
       "    .dataframe thead th {\n",
       "        text-align: right;\n",
       "    }\n",
       "</style>\n",
       "<table border=\"1\" class=\"dataframe\">\n",
       "  <thead>\n",
       "    <tr style=\"text-align: right;\">\n",
       "      <th>Class</th>\n",
       "      <th>2</th>\n",
       "      <th>4</th>\n",
       "    </tr>\n",
       "    <tr>\n",
       "      <th>Bland Chromatin</th>\n",
       "      <th></th>\n",
       "      <th></th>\n",
       "    </tr>\n",
       "  </thead>\n",
       "  <tbody>\n",
       "    <tr>\n",
       "      <th>1</th>\n",
       "      <td>396</td>\n",
       "      <td>40</td>\n",
       "    </tr>\n",
       "    <tr>\n",
       "      <th>2</th>\n",
       "      <td>30</td>\n",
       "      <td>6</td>\n",
       "    </tr>\n",
       "    <tr>\n",
       "      <th>3</th>\n",
       "      <td>12</td>\n",
       "      <td>30</td>\n",
       "    </tr>\n",
       "    <tr>\n",
       "      <th>4</th>\n",
       "      <td>1</td>\n",
       "      <td>17</td>\n",
       "    </tr>\n",
       "    <tr>\n",
       "      <th>5</th>\n",
       "      <td>2</td>\n",
       "      <td>17</td>\n",
       "    </tr>\n",
       "    <tr>\n",
       "      <th>6</th>\n",
       "      <td>4</td>\n",
       "      <td>18</td>\n",
       "    </tr>\n",
       "    <tr>\n",
       "      <th>7</th>\n",
       "      <td>2</td>\n",
       "      <td>14</td>\n",
       "    </tr>\n",
       "    <tr>\n",
       "      <th>8</th>\n",
       "      <td>4</td>\n",
       "      <td>20</td>\n",
       "    </tr>\n",
       "    <tr>\n",
       "      <th>9</th>\n",
       "      <td>1</td>\n",
       "      <td>15</td>\n",
       "    </tr>\n",
       "    <tr>\n",
       "      <th>10</th>\n",
       "      <td>0</td>\n",
       "      <td>61</td>\n",
       "    </tr>\n",
       "  </tbody>\n",
       "</table>\n",
       "</div>"
      ],
      "text/plain": [
       "Class              2   4\n",
       "Bland Chromatin         \n",
       "1                396  40\n",
       "2                 30   6\n",
       "3                 12  30\n",
       "4                  1  17\n",
       "5                  2  17\n",
       "6                  4  18\n",
       "7                  2  14\n",
       "8                  4  20\n",
       "9                  1  15\n",
       "10                 0  61"
      ]
     },
     "execution_count": 123,
     "metadata": {
      "tags": []
     },
     "output_type": "execute_result"
    }
   ],
   "source": [
    "pd.crosstab(data_df['Bland Chromatin'], data_df['Class'])\n"
   ]
  },
  {
   "cell_type": "code",
   "execution_count": 0,
   "metadata": {
    "colab": {},
    "colab_type": "code",
    "id": "np9aGcsCWCyy"
   },
   "outputs": [],
   "source": [
    "data_df['Bland Chromatin'] = np.where(data_df['Bland Chromatin'] >4, 4, data_df['Bland Chromatin'])\n"
   ]
  },
  {
   "cell_type": "code",
   "execution_count": 0,
   "metadata": {
    "colab": {},
    "colab_type": "code",
    "id": "QaAakoAkWCy2",
    "outputId": "f429f8e0-0268-4ed5-97ee-278d57d3b968"
   },
   "outputs": [
    {
     "data": {
      "text/html": [
       "<div>\n",
       "<style scoped>\n",
       "    .dataframe tbody tr th:only-of-type {\n",
       "        vertical-align: middle;\n",
       "    }\n",
       "\n",
       "    .dataframe tbody tr th {\n",
       "        vertical-align: top;\n",
       "    }\n",
       "\n",
       "    .dataframe thead th {\n",
       "        text-align: right;\n",
       "    }\n",
       "</style>\n",
       "<table border=\"1\" class=\"dataframe\">\n",
       "  <thead>\n",
       "    <tr style=\"text-align: right;\">\n",
       "      <th>Class</th>\n",
       "      <th>2</th>\n",
       "      <th>4</th>\n",
       "    </tr>\n",
       "    <tr>\n",
       "      <th>Mitoses</th>\n",
       "      <th></th>\n",
       "      <th></th>\n",
       "    </tr>\n",
       "  </thead>\n",
       "  <tbody>\n",
       "    <tr>\n",
       "      <th>1</th>\n",
       "      <td>439</td>\n",
       "      <td>132</td>\n",
       "    </tr>\n",
       "    <tr>\n",
       "      <th>2</th>\n",
       "      <td>8</td>\n",
       "      <td>27</td>\n",
       "    </tr>\n",
       "    <tr>\n",
       "      <th>3</th>\n",
       "      <td>2</td>\n",
       "      <td>30</td>\n",
       "    </tr>\n",
       "    <tr>\n",
       "      <th>4</th>\n",
       "      <td>0</td>\n",
       "      <td>12</td>\n",
       "    </tr>\n",
       "    <tr>\n",
       "      <th>5</th>\n",
       "      <td>1</td>\n",
       "      <td>5</td>\n",
       "    </tr>\n",
       "    <tr>\n",
       "      <th>6</th>\n",
       "      <td>0</td>\n",
       "      <td>3</td>\n",
       "    </tr>\n",
       "    <tr>\n",
       "      <th>7</th>\n",
       "      <td>1</td>\n",
       "      <td>8</td>\n",
       "    </tr>\n",
       "    <tr>\n",
       "      <th>8</th>\n",
       "      <td>1</td>\n",
       "      <td>7</td>\n",
       "    </tr>\n",
       "    <tr>\n",
       "      <th>10</th>\n",
       "      <td>0</td>\n",
       "      <td>14</td>\n",
       "    </tr>\n",
       "  </tbody>\n",
       "</table>\n",
       "</div>"
      ],
      "text/plain": [
       "Class      2    4\n",
       "Mitoses          \n",
       "1        439  132\n",
       "2          8   27\n",
       "3          2   30\n",
       "4          0   12\n",
       "5          1    5\n",
       "6          0    3\n",
       "7          1    8\n",
       "8          1    7\n",
       "10         0   14"
      ]
     },
     "execution_count": 125,
     "metadata": {
      "tags": []
     },
     "output_type": "execute_result"
    }
   ],
   "source": [
    "pd.crosstab(data_df['Mitoses'], data_df['Class'])\n"
   ]
  },
  {
   "cell_type": "code",
   "execution_count": 0,
   "metadata": {
    "colab": {},
    "colab_type": "code",
    "id": "fol3NiTsWCy6"
   },
   "outputs": [],
   "source": [
    "data_df['Mitoses'] = np.where(data_df['Mitoses'] >3, 3, data_df['Mitoses'])\n",
    "\n",
    "# We can group levels on top bracket as well.\n",
    "# Also this analysis should be performed for other variables as well\n",
    "# This creates greater effect on classification/regression algorithms. We are skipping here but should be explored further based\n",
    "# on business requirement"
   ]
  },
  {
   "cell_type": "code",
   "execution_count": 0,
   "metadata": {
    "colab": {},
    "colab_type": "code",
    "id": "WOvl7fcUWCy8",
    "outputId": "dff4ab8d-c253-4fe0-c4cf-30f5035129f1"
   },
   "outputs": [
    {
     "data": {
      "text/html": [
       "<div>\n",
       "<style scoped>\n",
       "    .dataframe tbody tr th:only-of-type {\n",
       "        vertical-align: middle;\n",
       "    }\n",
       "\n",
       "    .dataframe tbody tr th {\n",
       "        vertical-align: top;\n",
       "    }\n",
       "\n",
       "    .dataframe thead th {\n",
       "        text-align: right;\n",
       "    }\n",
       "</style>\n",
       "<table border=\"1\" class=\"dataframe\">\n",
       "  <thead>\n",
       "    <tr style=\"text-align: right;\">\n",
       "      <th></th>\n",
       "      <th>ClumpThickness</th>\n",
       "      <th>Cell Size</th>\n",
       "      <th>Cell Shape</th>\n",
       "      <th>Marginal Adhesion</th>\n",
       "      <th>Single Epithelial Cell Size</th>\n",
       "      <th>Bare Nuclei</th>\n",
       "      <th>Normal Nucleoli</th>\n",
       "      <th>Bland Chromatin</th>\n",
       "      <th>Mitoses</th>\n",
       "    </tr>\n",
       "  </thead>\n",
       "  <tbody>\n",
       "    <tr>\n",
       "      <th>0</th>\n",
       "      <td>5</td>\n",
       "      <td>1</td>\n",
       "      <td>1</td>\n",
       "      <td>1</td>\n",
       "      <td>2</td>\n",
       "      <td>1</td>\n",
       "      <td>3</td>\n",
       "      <td>1</td>\n",
       "      <td>1</td>\n",
       "    </tr>\n",
       "    <tr>\n",
       "      <th>1</th>\n",
       "      <td>5</td>\n",
       "      <td>4</td>\n",
       "      <td>4</td>\n",
       "      <td>4</td>\n",
       "      <td>3</td>\n",
       "      <td>10</td>\n",
       "      <td>3</td>\n",
       "      <td>2</td>\n",
       "      <td>1</td>\n",
       "    </tr>\n",
       "    <tr>\n",
       "      <th>2</th>\n",
       "      <td>3</td>\n",
       "      <td>1</td>\n",
       "      <td>1</td>\n",
       "      <td>1</td>\n",
       "      <td>2</td>\n",
       "      <td>2</td>\n",
       "      <td>3</td>\n",
       "      <td>1</td>\n",
       "      <td>1</td>\n",
       "    </tr>\n",
       "    <tr>\n",
       "      <th>3</th>\n",
       "      <td>6</td>\n",
       "      <td>8</td>\n",
       "      <td>8</td>\n",
       "      <td>1</td>\n",
       "      <td>3</td>\n",
       "      <td>4</td>\n",
       "      <td>3</td>\n",
       "      <td>4</td>\n",
       "      <td>1</td>\n",
       "    </tr>\n",
       "    <tr>\n",
       "      <th>4</th>\n",
       "      <td>4</td>\n",
       "      <td>1</td>\n",
       "      <td>1</td>\n",
       "      <td>3</td>\n",
       "      <td>2</td>\n",
       "      <td>1</td>\n",
       "      <td>3</td>\n",
       "      <td>1</td>\n",
       "      <td>1</td>\n",
       "    </tr>\n",
       "  </tbody>\n",
       "</table>\n",
       "</div>"
      ],
      "text/plain": [
       "   ClumpThickness  Cell Size  Cell Shape  Marginal Adhesion  \\\n",
       "0               5          1           1                  1   \n",
       "1               5          4           4                  4   \n",
       "2               3          1           1                  1   \n",
       "3               6          8           8                  1   \n",
       "4               4          1           1                  3   \n",
       "\n",
       "   Single Epithelial Cell Size  Bare Nuclei  Normal Nucleoli  Bland Chromatin  \\\n",
       "0                            2            1                3                1   \n",
       "1                            3           10                3                2   \n",
       "2                            2            2                3                1   \n",
       "3                            3            4                3                4   \n",
       "4                            2            1                3                1   \n",
       "\n",
       "   Mitoses  \n",
       "0        1  \n",
       "1        1  \n",
       "2        1  \n",
       "3        1  \n",
       "4        1  "
      ]
     },
     "execution_count": 128,
     "metadata": {
      "tags": []
     },
     "output_type": "execute_result"
    }
   ],
   "source": [
    "# Drop id and class variables\n",
    "data_new = data_df.drop(['ID','Class'], axis =1)\n",
    "\n",
    "data_new.head()"
   ]
  },
  {
   "cell_type": "code",
   "execution_count": 0,
   "metadata": {
    "colab": {},
    "colab_type": "code",
    "id": "Rscwg0OBWCzE",
    "outputId": "6ba8635e-e8f4-4e3b-b5bd-f42f4fdff970"
   },
   "outputs": [
    {
     "data": {
      "text/html": [
       "<div>\n",
       "<style scoped>\n",
       "    .dataframe tbody tr th:only-of-type {\n",
       "        vertical-align: middle;\n",
       "    }\n",
       "\n",
       "    .dataframe tbody tr th {\n",
       "        vertical-align: top;\n",
       "    }\n",
       "\n",
       "    .dataframe thead th {\n",
       "        text-align: right;\n",
       "    }\n",
       "</style>\n",
       "<table border=\"1\" class=\"dataframe\">\n",
       "  <thead>\n",
       "    <tr style=\"text-align: right;\">\n",
       "      <th></th>\n",
       "      <th>ClumpThickness</th>\n",
       "      <th>Cell Size</th>\n",
       "      <th>Cell Shape</th>\n",
       "      <th>Marginal Adhesion</th>\n",
       "      <th>Single Epithelial Cell Size</th>\n",
       "      <th>Bare Nuclei</th>\n",
       "      <th>Normal Nucleoli</th>\n",
       "      <th>Bland Chromatin</th>\n",
       "      <th>Mitoses</th>\n",
       "    </tr>\n",
       "  </thead>\n",
       "  <tbody>\n",
       "    <tr>\n",
       "      <th>0</th>\n",
       "      <td>0.202823</td>\n",
       "      <td>-0.701698</td>\n",
       "      <td>-0.745040</td>\n",
       "      <td>-0.781803</td>\n",
       "      <td>-0.536685</td>\n",
       "      <td>-0.686858</td>\n",
       "      <td>0.322808</td>\n",
       "      <td>-0.718310</td>\n",
       "      <td>-0.438024</td>\n",
       "    </tr>\n",
       "    <tr>\n",
       "      <th>1</th>\n",
       "      <td>0.202823</td>\n",
       "      <td>0.285065</td>\n",
       "      <td>0.268920</td>\n",
       "      <td>1.530101</td>\n",
       "      <td>1.161998</td>\n",
       "      <td>1.803153</td>\n",
       "      <td>0.322808</td>\n",
       "      <td>0.046557</td>\n",
       "      <td>-0.438024</td>\n",
       "    </tr>\n",
       "    <tr>\n",
       "      <th>2</th>\n",
       "      <td>-0.507572</td>\n",
       "      <td>-0.701698</td>\n",
       "      <td>-0.745040</td>\n",
       "      <td>-0.781803</td>\n",
       "      <td>-0.536685</td>\n",
       "      <td>-0.410190</td>\n",
       "      <td>0.322808</td>\n",
       "      <td>-0.718310</td>\n",
       "      <td>-0.438024</td>\n",
       "    </tr>\n",
       "    <tr>\n",
       "      <th>3</th>\n",
       "      <td>0.558020</td>\n",
       "      <td>1.600748</td>\n",
       "      <td>1.620866</td>\n",
       "      <td>-0.781803</td>\n",
       "      <td>1.161998</td>\n",
       "      <td>0.143146</td>\n",
       "      <td>0.322808</td>\n",
       "      <td>1.576291</td>\n",
       "      <td>-0.438024</td>\n",
       "    </tr>\n",
       "    <tr>\n",
       "      <th>4</th>\n",
       "      <td>-0.152375</td>\n",
       "      <td>-0.701698</td>\n",
       "      <td>-0.745040</td>\n",
       "      <td>0.759466</td>\n",
       "      <td>-0.536685</td>\n",
       "      <td>-0.686858</td>\n",
       "      <td>0.322808</td>\n",
       "      <td>-0.718310</td>\n",
       "      <td>-0.438024</td>\n",
       "    </tr>\n",
       "  </tbody>\n",
       "</table>\n",
       "</div>"
      ],
      "text/plain": [
       "   ClumpThickness  Cell Size  Cell Shape  Marginal Adhesion  \\\n",
       "0        0.202823  -0.701698   -0.745040          -0.781803   \n",
       "1        0.202823   0.285065    0.268920           1.530101   \n",
       "2       -0.507572  -0.701698   -0.745040          -0.781803   \n",
       "3        0.558020   1.600748    1.620866          -0.781803   \n",
       "4       -0.152375  -0.701698   -0.745040           0.759466   \n",
       "\n",
       "   Single Epithelial Cell Size  Bare Nuclei  Normal Nucleoli  Bland Chromatin  \\\n",
       "0                    -0.536685    -0.686858         0.322808        -0.718310   \n",
       "1                     1.161998     1.803153         0.322808         0.046557   \n",
       "2                    -0.536685    -0.410190         0.322808        -0.718310   \n",
       "3                     1.161998     0.143146         0.322808         1.576291   \n",
       "4                    -0.536685    -0.686858         0.322808        -0.718310   \n",
       "\n",
       "    Mitoses  \n",
       "0 -0.438024  \n",
       "1 -0.438024  \n",
       "2 -0.438024  \n",
       "3 -0.438024  \n",
       "4 -0.438024  "
      ]
     },
     "execution_count": 129,
     "metadata": {
      "tags": []
     },
     "output_type": "execute_result"
    }
   ],
   "source": [
    "# All variables are on same scale, hence we can omit scaling.\n",
    "# But to standardize the process we will do it here\n",
    "\n",
    "from scipy.stats import zscore\n",
    "data_new=data_new.apply(zscore)\n",
    "data_new.head()"
   ]
  },
  {
   "cell_type": "code",
   "execution_count": 0,
   "metadata": {
    "colab": {},
    "colab_type": "code",
    "id": "RaktX1Y2WCzU",
    "outputId": "6b56c673-ecc8-4c75-f8c3-62b8b8a2eb5b"
   },
   "outputs": [
    {
     "data": {
      "text/plain": [
       "<matplotlib.axes._subplots.AxesSubplot at 0xff30057668>"
      ]
     },
     "execution_count": 130,
     "metadata": {
      "tags": []
     },
     "output_type": "execute_result"
    },
    {
     "data": {
      "image/png": "[encoded data removed]",
      "text/plain": [
       "<Figure size 1440x216 with 1 Axes>"
      ]
     },
     "metadata": {
      "tags": []
     },
     "output_type": "display_data"
    }
   ],
   "source": [
    "data_new.boxplot(figsize=(20,3))"
   ]
  },
  {
   "cell_type": "code",
   "execution_count": 0,
   "metadata": {
    "colab": {},
    "colab_type": "code",
    "id": "ViVkMsQTWCza"
   },
   "outputs": [],
   "source": [
    "# We could see most of the outliers are now removed."
   ]
  },
  {
   "cell_type": "markdown",
   "metadata": {
    "colab_type": "text",
    "id": "lmMHMAtkWCzm"
   },
   "source": [
    "# Q6 Create a covariance matrix for identifying Principal components"
   ]
  },
  {
   "cell_type": "code",
   "execution_count": 0,
   "metadata": {
    "colab": {},
    "colab_type": "code",
    "id": "FKmOZQObWCzn",
    "outputId": "a530bfe0-e643-4390-f349-3e0f912f55a6"
   },
   "outputs": [
    {
     "name": "stdout",
     "output_type": "stream",
     "text": [
      "Covariance Matrix \n",
      "%s [[1.00145138 0.64410677 0.65453792 0.55329897 0.56876059 0.59150555\n",
      "  0.54669109 0.57214901 0.42745595]\n",
      " [0.64410677 1.00145138 0.9066632  0.72204998 0.69491481 0.68556472\n",
      "  0.66940328 0.72684553 0.51098944]\n",
      " [0.65453792 0.9066632  1.00145138 0.7042574  0.68116899 0.70518656\n",
      "  0.65890363 0.71910723 0.48167882]\n",
      " [0.55329897 0.72204998 0.7042574  1.00145138 0.63617971 0.69693138\n",
      "  0.60427482 0.65326018 0.42473633]\n",
      " [0.56876059 0.69491481 0.68116899 0.63617971 1.00145138 0.6348984\n",
      "  0.57938679 0.66617045 0.42529666]\n",
      " [0.59150555 0.68556472 0.70518656 0.69693138 0.6348984  1.00145138\n",
      "  0.64237847 0.64168219 0.45258904]\n",
      " [0.54669109 0.66940328 0.65890363 0.60427482 0.57938679 0.64237847\n",
      "  1.00145138 0.65441737 0.37940435]\n",
      " [0.57214901 0.72684553 0.71910723 0.65326018 0.66617045 0.64168219\n",
      "  0.65441737 1.00145138 0.49312095]\n",
      " [0.42745595 0.51098944 0.48167882 0.42473633 0.42529666 0.45258904\n",
      "  0.37940435 0.49312095 1.00145138]]\n"
     ]
    }
   ],
   "source": [
    "# PCA\n",
    "# Step 1 - Create covariance matrix\n",
    "\n",
    "cov_matrix = np.cov(data_new.T)\n",
    "print('Covariance Matrix \\n%s', cov_matrix)\n"
   ]
  },
  {
   "cell_type": "markdown",
   "metadata": {
    "colab_type": "text",
    "id": "vbZ-YcsdWCzz"
   },
   "source": [
    "# Q7 Identify eigen values and eigen vector"
   ]
  },
  {
   "cell_type": "code",
   "execution_count": 0,
   "metadata": {
    "colab": {},
    "colab_type": "code",
    "id": "rR8wyjqsWCz0",
    "outputId": "dd485546-ea94-4932-9953-d0f2b4b23043"
   },
   "outputs": [
    {
     "name": "stdout",
     "output_type": "stream",
     "text": [
      "Eigen Vectors \n",
      "%s [[ 0.3114354   0.01568016  0.02047029  0.90541669  0.07476755 -0.20399848\n",
      "   0.10539206 -0.14051697 -0.06712406]\n",
      " [ 0.37194432 -0.03811526  0.7164469   0.01327345  0.0124912   0.21915718\n",
      "  -0.16821058  0.49169294  0.16878882]\n",
      " [ 0.36954798 -0.07658035 -0.68846816  0.06493104 -0.12536091  0.25767414\n",
      "  -0.16140193  0.50385521  0.13165607]\n",
      " [ 0.33901535 -0.15284936 -0.05474049 -0.2499106   0.50978592 -0.44868011\n",
      "  -0.25095696  0.09542832 -0.5128083 ]\n",
      " [ 0.33213311 -0.10331615 -0.02823789 -0.07803192  0.19514245  0.30069671\n",
      "  -0.47696574 -0.63409222  0.33772571]\n",
      " [ 0.3414089  -0.10333249  0.07794801 -0.10158408 -0.58656918  0.2695813\n",
      "   0.09087582 -0.24162259 -0.61072888]\n",
      " [ 0.32338417 -0.24134232 -0.03010916 -0.18734513  0.33818548  0.18091422\n",
      "   0.78876393 -0.08730706  0.15588898]\n",
      " [ 0.34571185  0.00531696  0.00642328 -0.21995643 -0.45632921 -0.66445249\n",
      "   0.06545056 -0.07679928  0.41487057]\n",
      " [ 0.24940299  0.94310533 -0.03845512 -0.11612816  0.11792794  0.07297459\n",
      "   0.09685397 -0.03925976 -0.05684738]]\n",
      "\n",
      " Eigen Values \n",
      "%s [5.94976514 0.68946786 0.09158605 0.4827925  0.28309588 0.30547105\n",
      " 0.42919995 0.38035011 0.40133385]\n"
     ]
    }
   ],
   "source": [
    "# Step 2- Get eigen values and eigen vector\n",
    "eig_vals, eig_vecs = np.linalg.eig(cov_matrix)\n",
    "print('Eigen Vectors \\n%s', eig_vecs)\n",
    "print('\\n Eigen Values \\n%s', eig_vals)"
   ]
  },
  {
   "cell_type": "markdown",
   "metadata": {
    "colab_type": "text",
    "id": "-2KqQg2KWCz7"
   },
   "source": [
    "# Q8 Find variance and cumulative variance by each eigen vector"
   ]
  },
  {
   "cell_type": "code",
   "execution_count": 0,
   "metadata": {
    "colab": {},
    "colab_type": "code",
    "id": "Nl0ZVyQJWCz9",
    "outputId": "486b55ec-9182-4f1a-c05c-f38438df578b"
   },
   "outputs": [
    {
     "name": "stdout",
     "output_type": "stream",
     "text": [
      "Cumulative Variance Explained [ 66.01269211  73.6623436   79.01893031  83.78090726  88.23370958\n",
      "  92.45369715  95.84290092  98.98385202 100.        ]\n"
     ]
    }
   ],
   "source": [
    "tot = sum(eig_vals)\n",
    "var_exp = [( i /tot ) * 100 for i in sorted(eig_vals, reverse=True)]\n",
    "cum_var_exp = np.cumsum(var_exp)\n",
    "print(\"Cumulative Variance Explained\", cum_var_exp)"
   ]
  },
  {
   "cell_type": "code",
   "execution_count": 0,
   "metadata": {
    "colab": {},
    "colab_type": "code",
    "id": "5vc-1c3PWC0C",
    "outputId": "f10a4489-4157-41d6-98ec-fde59c6e0189"
   },
   "outputs": [
    {
     "data": {
      "text/plain": [
       "[<matplotlib.lines.Line2D at 0xff30174a20>]"
      ]
     },
     "execution_count": 135,
     "metadata": {
      "tags": []
     },
     "output_type": "execute_result"
    },
    {
     "data": {
      "image/png": "[encoded data removed]",
      "text/plain": [
       "<Figure size 432x288 with 1 Axes>"
      ]
     },
     "metadata": {
      "tags": []
     },
     "output_type": "display_data"
    }
   ],
   "source": [
    "plt.plot(var_exp)"
   ]
  },
  {
   "cell_type": "code",
   "execution_count": 0,
   "metadata": {
    "colab": {},
    "colab_type": "code",
    "id": "KLZ-Kff1WC0L"
   },
   "outputs": [],
   "source": [
    "# Visually we can observe that their is steep drop in variance explained with increase in number of PC's.\n",
    "# We will proceed with 7 components here. But depending on requirement 90% variation or 5 components will also do good"
   ]
  },
  {
   "cell_type": "code",
   "execution_count": 0,
   "metadata": {
    "colab": {},
    "colab_type": "code",
    "id": "ejsnbUFCWC0Z",
    "outputId": "24258be1-5c82-4f9c-88a3-adae5033381b"
   },
   "outputs": [
    {
     "data": {
      "image/png": "[encoded data removed]",
      "text/plain": [
       "<Figure size 720x360 with 1 Axes>"
      ]
     },
     "metadata": {
      "tags": []
     },
     "output_type": "display_data"
    }
   ],
   "source": [
    "# Ploting \n",
    "plt.figure(figsize=(10 , 5))\n",
    "plt.bar(range(1, eig_vals.size + 1), var_exp, alpha = 0.5, align = 'center', label = 'Individual explained variance')\n",
    "plt.step(range(1, eig_vals.size + 1), cum_var_exp, where='mid', label = 'Cumulative explained variance')\n",
    "plt.ylabel('Explained Variance Ratio')\n",
    "plt.xlabel('Principal Components')\n",
    "plt.legend(loc = 'best')\n",
    "plt.tight_layout()\n",
    "plt.show()"
   ]
  },
  {
   "cell_type": "markdown",
   "metadata": {
    "colab_type": "text",
    "id": "x8YxQPNGWC0e"
   },
   "source": [
    "# Q9 Use PCA command from sklearn and find Principal Components. Transform data to components formed"
   ]
  },
  {
   "cell_type": "code",
   "execution_count": 0,
   "metadata": {
    "colab": {},
    "colab_type": "code",
    "id": "a78Y7hiHWC0g",
    "outputId": "151c4896-90f6-4420-c9f3-60b50d652ed0"
   },
   "outputs": [
    {
     "data": {
      "text/plain": [
       "array([[-1.4041299 ,  1.80009293, -1.53091511, ...,  3.54596616,\n",
       "         2.67544579,  3.01970712],\n",
       "       [-0.16192711, -1.05929394, -0.20165499, ...,  0.22790085,\n",
       "        -1.19958527, -1.2799403 ],\n",
       "       [-0.5813698 ,  0.47119879,  0.08993856, ...,  0.59831147,\n",
       "         1.06422556,  1.04843898],\n",
       "       ...,\n",
       "       [ 0.18622185, -1.32900516,  0.06493736, ...,  1.53630976,\n",
       "         0.79160414,  0.71163103],\n",
       "       [ 0.27307077,  0.79388265,  0.24009745, ..., -1.33986905,\n",
       "        -0.45028227, -0.72402557],\n",
       "       [ 0.12081955,  0.23487236,  0.3403235 , ...,  0.26509061,\n",
       "        -0.53481417, -0.28604892]])"
      ]
     },
     "execution_count": 144,
     "metadata": {
      "tags": []
     },
     "output_type": "execute_result"
    }
   ],
   "source": [
    "# Using scikit learn PCA here. It does all the above steps and maps data to PCA dimensions in one shot\n",
    "from sklearn.decomposition import PCA\n",
    "\n",
    "# NOTE - we are generating only 7 PCA dimensions (dimensionality reduction from 9 to 7)\n",
    "\n",
    "pca = PCA(n_components=7)\n",
    "data_reduced = pca.fit_transform(data_new)\n",
    "data_reduced.transpose()"
   ]
  },
  {
   "cell_type": "code",
   "execution_count": 0,
   "metadata": {
    "colab": {},
    "colab_type": "code",
    "id": "S5TBeBk6WC0n",
    "outputId": "1ed1b677-bb9f-4b1e-ba87-bd5a30fc5ca5"
   },
   "outputs": [
    {
     "data": {
      "text/plain": [
       "array([[ 0.3114354 ,  0.37194432,  0.36954798,  0.33901535,  0.33213311,\n",
       "         0.3414089 ,  0.32338417,  0.34571185,  0.24940299],\n",
       "       [ 0.01568016, -0.03811526, -0.07658035, -0.15284936, -0.10331615,\n",
       "        -0.10333249, -0.24134232,  0.00531696,  0.94310533],\n",
       "       [-0.90541669, -0.01327345, -0.06493104,  0.2499106 ,  0.07803192,\n",
       "         0.10158408,  0.18734513,  0.21995643,  0.11612816],\n",
       "       [ 0.10539206, -0.16821058, -0.16140193, -0.25095696, -0.47696574,\n",
       "         0.09087582,  0.78876393,  0.06545056,  0.09685397],\n",
       "       [-0.06712406,  0.16878882,  0.13165607, -0.5128083 ,  0.33772571,\n",
       "        -0.61072888,  0.15588898,  0.41487057, -0.05684738],\n",
       "       [ 0.14051697, -0.49169294, -0.50385521, -0.09542832,  0.63409222,\n",
       "         0.24162259,  0.08730706,  0.07679928,  0.03925976],\n",
       "       [-0.20399848,  0.21915718,  0.25767414, -0.44868011,  0.30069671,\n",
       "         0.2695813 ,  0.18091422, -0.66445249,  0.07297459]])"
      ]
     },
     "execution_count": 145,
     "metadata": {
      "tags": []
     },
     "output_type": "execute_result"
    }
   ],
   "source": [
    "pca.components_"
   ]
  },
  {
   "cell_type": "markdown",
   "metadata": {
    "colab_type": "text",
    "id": "8L-IGI0QWC0t"
   },
   "source": [
    "# Q10 Find correlation between components and features"
   ]
  },
  {
   "cell_type": "code",
   "execution_count": 0,
   "metadata": {
    "colab": {},
    "colab_type": "code",
    "id": "tChN7OmSWC0u",
    "outputId": "ad4920a8-c376-4523-8eb3-d46338790408"
   },
   "outputs": [
    {
     "data": {
      "text/html": [
       "<div>\n",
       "<style scoped>\n",
       "    .dataframe tbody tr th:only-of-type {\n",
       "        vertical-align: middle;\n",
       "    }\n",
       "\n",
       "    .dataframe tbody tr th {\n",
       "        vertical-align: top;\n",
       "    }\n",
       "\n",
       "    .dataframe thead th {\n",
       "        text-align: right;\n",
       "    }\n",
       "</style>\n",
       "<table border=\"1\" class=\"dataframe\">\n",
       "  <thead>\n",
       "    <tr style=\"text-align: right;\">\n",
       "      <th></th>\n",
       "      <th>ClumpThickness</th>\n",
       "      <th>Cell Size</th>\n",
       "      <th>Cell Shape</th>\n",
       "      <th>Marginal Adhesion</th>\n",
       "      <th>Single Epithelial Cell Size</th>\n",
       "      <th>Bare Nuclei</th>\n",
       "      <th>Normal Nucleoli</th>\n",
       "      <th>Bland Chromatin</th>\n",
       "      <th>Mitoses</th>\n",
       "    </tr>\n",
       "  </thead>\n",
       "  <tbody>\n",
       "    <tr>\n",
       "      <th>0</th>\n",
       "      <td>0.311435</td>\n",
       "      <td>0.371944</td>\n",
       "      <td>0.369548</td>\n",
       "      <td>0.339015</td>\n",
       "      <td>0.332133</td>\n",
       "      <td>0.341409</td>\n",
       "      <td>0.323384</td>\n",
       "      <td>0.345712</td>\n",
       "      <td>0.249403</td>\n",
       "    </tr>\n",
       "    <tr>\n",
       "      <th>1</th>\n",
       "      <td>0.015680</td>\n",
       "      <td>-0.038115</td>\n",
       "      <td>-0.076580</td>\n",
       "      <td>-0.152849</td>\n",
       "      <td>-0.103316</td>\n",
       "      <td>-0.103332</td>\n",
       "      <td>-0.241342</td>\n",
       "      <td>0.005317</td>\n",
       "      <td>0.943105</td>\n",
       "    </tr>\n",
       "    <tr>\n",
       "      <th>2</th>\n",
       "      <td>-0.905417</td>\n",
       "      <td>-0.013273</td>\n",
       "      <td>-0.064931</td>\n",
       "      <td>0.249911</td>\n",
       "      <td>0.078032</td>\n",
       "      <td>0.101584</td>\n",
       "      <td>0.187345</td>\n",
       "      <td>0.219956</td>\n",
       "      <td>0.116128</td>\n",
       "    </tr>\n",
       "    <tr>\n",
       "      <th>3</th>\n",
       "      <td>0.105392</td>\n",
       "      <td>-0.168211</td>\n",
       "      <td>-0.161402</td>\n",
       "      <td>-0.250957</td>\n",
       "      <td>-0.476966</td>\n",
       "      <td>0.090876</td>\n",
       "      <td>0.788764</td>\n",
       "      <td>0.065451</td>\n",
       "      <td>0.096854</td>\n",
       "    </tr>\n",
       "    <tr>\n",
       "      <th>4</th>\n",
       "      <td>-0.067124</td>\n",
       "      <td>0.168789</td>\n",
       "      <td>0.131656</td>\n",
       "      <td>-0.512808</td>\n",
       "      <td>0.337726</td>\n",
       "      <td>-0.610729</td>\n",
       "      <td>0.155889</td>\n",
       "      <td>0.414871</td>\n",
       "      <td>-0.056847</td>\n",
       "    </tr>\n",
       "  </tbody>\n",
       "</table>\n",
       "</div>"
      ],
      "text/plain": [
       "   ClumpThickness  Cell Size  Cell Shape  Marginal Adhesion  \\\n",
       "0        0.311435   0.371944    0.369548           0.339015   \n",
       "1        0.015680  -0.038115   -0.076580          -0.152849   \n",
       "2       -0.905417  -0.013273   -0.064931           0.249911   \n",
       "3        0.105392  -0.168211   -0.161402          -0.250957   \n",
       "4       -0.067124   0.168789    0.131656          -0.512808   \n",
       "\n",
       "   Single Epithelial Cell Size  Bare Nuclei  Normal Nucleoli  Bland Chromatin  \\\n",
       "0                     0.332133     0.341409         0.323384         0.345712   \n",
       "1                    -0.103316    -0.103332        -0.241342         0.005317   \n",
       "2                     0.078032     0.101584         0.187345         0.219956   \n",
       "3                    -0.476966     0.090876         0.788764         0.065451   \n",
       "4                     0.337726    -0.610729         0.155889         0.414871   \n",
       "\n",
       "    Mitoses  \n",
       "0  0.249403  \n",
       "1  0.943105  \n",
       "2  0.116128  \n",
       "3  0.096854  \n",
       "4 -0.056847  "
      ]
     },
     "execution_count": 150,
     "metadata": {
      "tags": []
     },
     "output_type": "execute_result"
    }
   ],
   "source": [
    "df_comp = pd.DataFrame(pca.components_,columns=list(data_new))\n",
    "df_comp.head()"
   ]
  },
  {
   "cell_type": "code",
   "execution_count": 0,
   "metadata": {
    "colab": {},
    "colab_type": "code",
    "id": "OiTqC_otWC07",
    "outputId": "cec8814a-61e3-4fe5-cd6a-549c4a2774a5"
   },
   "outputs": [
    {
     "data": {
      "text/plain": [
       "<matplotlib.axes._subplots.AxesSubplot at 0xff312bcf60>"
      ]
     },
     "execution_count": 147,
     "metadata": {
      "tags": []
     },
     "output_type": "execute_result"
    },
    {
     "data": {
      "image/png": "[encoded data removed]",
      "text/plain": [
       "<Figure size 864x432 with 2 Axes>"
      ]
     },
     "metadata": {
      "tags": []
     },
     "output_type": "display_data"
    }
   ],
   "source": [
    "plt.figure(figsize=(12,6))\n",
    "sns.heatmap(df_comp,cmap='plasma',)"
   ]
  },
  {
   "cell_type": "code",
   "execution_count": 0,
   "metadata": {
    "colab": {},
    "colab_type": "code",
    "id": "UAegGdsFWC1D"
   },
   "outputs": [],
   "source": [
    "# This heatmap and the color bar basically represent the correlation between the various feature \n",
    "# and the principal component itself\n",
    "# Component 5 looks more related to size and shape - We can label it as physical property\n",
    "# PC1 could be labeeled with Mitoses\n",
    "# Depending on relations ship, we could go ahead and label relationship with features"
   ]
  },
  {
   "cell_type": "code",
   "execution_count": 0,
   "metadata": {
    "colab": {},
    "colab_type": "code",
    "id": "bXUp9TCDWC1G"
   },
   "outputs": [],
   "source": []
  }
 ],
 "metadata": {
  "colab": {
   "name": "PCA_Cancer_Data_solution.ipynb",
   "provenance": []
  },
  "kernelspec": {
   "display_name": "Python 3",
   "language": "python",
   "name": "python3"
  },
  "language_info": {
   "codemirror_mode": {
    "name": "ipython",
    "version": 3
   },
   "file_extension": ".py",
   "mimetype": "text/x-python",
   "name": "python",
   "nbconvert_exporter": "python",
   "pygments_lexer": "ipython3",
   "version": "3.7.6"
  }
 },
 "nbformat": 4,
 "nbformat_minor": 1
}
