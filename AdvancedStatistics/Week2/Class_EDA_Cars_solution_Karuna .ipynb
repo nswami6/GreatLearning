{
 "cells": [
  {
   "cell_type": "markdown",
   "metadata": {},
   "source": [
    "# EDA Car Data Set\n",
    "\n",
    "We will explore the Car Data set and perform the exploratory data analysis on the dataset. The major topics to be covered are below:\n",
    "\n",
    "- Removing duplicates \n",
    "- Missing value treatment  \n",
    "- Outlier Treatment\n",
    "- Normalizing and Scaling( Numerical Variables)\n",
    "- Encoding Categorical variables( Dummy Variables)\n",
    "- Bivariate Analysis"
   ]
  },
  {
   "cell_type": "markdown",
   "metadata": {},
   "source": [
    "As a first step, we will import all the necessary libraries that we think we will requiring to perform the EDA."
   ]
  },
  {
   "cell_type": "markdown",
   "metadata": {},
   "source": [
    "# Importing Libraries"
   ]
  },
  {
   "cell_type": "code",
   "execution_count": 25,
   "metadata": {},
   "outputs": [],
   "source": [
    "import os\n",
    "import pandas as pd\n",
    "import numpy as np\n",
    "import matplotlib.pyplot as plt\n",
    "import seaborn as sns\n",
    "%matplotlib inline"
   ]
  },
  {
   "cell_type": "markdown",
   "metadata": {},
   "source": [
    "# Loading the data set\n",
    "\n",
    "We will  be loading the EDA cars excel file using pandas. For this we will be using read_excel file."
   ]
  },
  {
   "cell_type": "code",
   "execution_count": 95,
   "metadata": {},
   "outputs": [
    {
     "data": {
      "text/plain": [
       "'C:\\\\Users\\\\Karuna\\\\Documents\\\\Mentor GL Python Jan 2020\\\\Advance Statistics\\\\Week 2 - EDA'"
      ]
     },
     "execution_count": 95,
     "metadata": {},
     "output_type": "execute_result"
    }
   ],
   "source": [
    "os.getcwd()"
   ]
  },
  {
   "cell_type": "code",
   "execution_count": null,
   "metadata": {},
   "outputs": [],
   "source": []
  },
  {
   "cell_type": "code",
   "execution_count": 73,
   "metadata": {},
   "outputs": [],
   "source": [
    "df=pd.read_excel('EDA Cars.xlsx')"
   ]
  },
  {
   "cell_type": "markdown",
   "metadata": {},
   "source": [
    "# Basic Data Exploration \n",
    "\n",
    "In this step, we will perform the below operations to check what the data set comprises of. We will check the below things:\n",
    "\n",
    "- head of the dataset\n",
    "- shape of the dataset\n",
    "- info of the dataset\n",
    "- summary of the dataset"
   ]
  },
  {
   "cell_type": "code",
   "execution_count": 28,
   "metadata": {},
   "outputs": [
    {
     "data": {
      "text/html": [
       "<div>\n",
       "<style scoped>\n",
       "    .dataframe tbody tr th:only-of-type {\n",
       "        vertical-align: middle;\n",
       "    }\n",
       "\n",
       "    .dataframe tbody tr th {\n",
       "        vertical-align: top;\n",
       "    }\n",
       "\n",
       "    .dataframe thead th {\n",
       "        text-align: right;\n",
       "    }\n",
       "</style>\n",
       "<table border=\"1\" class=\"dataframe\">\n",
       "  <thead>\n",
       "    <tr style=\"text-align: right;\">\n",
       "      <th></th>\n",
       "      <th>count</th>\n",
       "      <th>mean</th>\n",
       "      <th>std</th>\n",
       "      <th>min</th>\n",
       "      <th>25%</th>\n",
       "      <th>50%</th>\n",
       "      <th>75%</th>\n",
       "      <th>max</th>\n",
       "    </tr>\n",
       "  </thead>\n",
       "  <tbody>\n",
       "    <tr>\n",
       "      <th>INDEX</th>\n",
       "      <td>303.0</td>\n",
       "      <td>139.640264</td>\n",
       "      <td>85.178422</td>\n",
       "      <td>1.0</td>\n",
       "      <td>62.5</td>\n",
       "      <td>138.0</td>\n",
       "      <td>213.5</td>\n",
       "      <td>289.0</td>\n",
       "    </tr>\n",
       "    <tr>\n",
       "      <th>CAR AGE</th>\n",
       "      <td>283.0</td>\n",
       "      <td>6.265018</td>\n",
       "      <td>5.111218</td>\n",
       "      <td>1.0</td>\n",
       "      <td>1.0</td>\n",
       "      <td>6.0</td>\n",
       "      <td>10.0</td>\n",
       "      <td>20.0</td>\n",
       "    </tr>\n",
       "    <tr>\n",
       "      <th>POSTEL CODE</th>\n",
       "      <td>300.0</td>\n",
       "      <td>50712.196667</td>\n",
       "      <td>24141.029290</td>\n",
       "      <td>11435.0</td>\n",
       "      <td>42420.0</td>\n",
       "      <td>47150.0</td>\n",
       "      <td>61701.0</td>\n",
       "      <td>90049.0</td>\n",
       "    </tr>\n",
       "  </tbody>\n",
       "</table>\n",
       "</div>"
      ],
      "text/plain": [
       "             count          mean           std      min      25%      50%  \\\n",
       "INDEX        303.0    139.640264     85.178422      1.0     62.5    138.0   \n",
       "CAR AGE      283.0      6.265018      5.111218      1.0      1.0      6.0   \n",
       "POSTEL CODE  300.0  50712.196667  24141.029290  11435.0  42420.0  47150.0   \n",
       "\n",
       "                 75%      max  \n",
       "INDEX          213.5    289.0  \n",
       "CAR AGE         10.0     20.0  \n",
       "POSTEL CODE  61701.0  90049.0  "
      ]
     },
     "execution_count": 28,
     "metadata": {},
     "output_type": "execute_result"
    }
   ],
   "source": [
    "df.describe().T"
   ]
  },
  {
   "cell_type": "code",
   "execution_count": 74,
   "metadata": {},
   "outputs": [
    {
     "data": {
      "text/html": [
       "<div>\n",
       "<style scoped>\n",
       "    .dataframe tbody tr th:only-of-type {\n",
       "        vertical-align: middle;\n",
       "    }\n",
       "\n",
       "    .dataframe tbody tr th {\n",
       "        vertical-align: top;\n",
       "    }\n",
       "\n",
       "    .dataframe thead th {\n",
       "        text-align: right;\n",
       "    }\n",
       "</style>\n",
       "<table border=\"1\" class=\"dataframe\">\n",
       "  <thead>\n",
       "    <tr style=\"text-align: right;\">\n",
       "      <th></th>\n",
       "      <th>INDEX</th>\n",
       "      <th>INCOME</th>\n",
       "      <th>MARITAL STATUS</th>\n",
       "      <th>SEX</th>\n",
       "      <th>EDUCATION</th>\n",
       "      <th>JOB</th>\n",
       "      <th>TRAVEL TIME</th>\n",
       "      <th>USE</th>\n",
       "      <th>MILES CLOCKED</th>\n",
       "      <th>CAR TYPE</th>\n",
       "      <th>CAR AGE</th>\n",
       "      <th>CITY</th>\n",
       "      <th>POSTEL CODE</th>\n",
       "    </tr>\n",
       "  </thead>\n",
       "  <tbody>\n",
       "    <tr>\n",
       "      <th>0</th>\n",
       "      <td>1</td>\n",
       "      <td>125301</td>\n",
       "      <td>z_No</td>\n",
       "      <td>z_F</td>\n",
       "      <td>Bachelors</td>\n",
       "      <td>z_Blue Collar</td>\n",
       "      <td>45.703</td>\n",
       "      <td>Commercial</td>\n",
       "      <td>17430</td>\n",
       "      <td>Sports Car</td>\n",
       "      <td>7.0</td>\n",
       "      <td>Texas</td>\n",
       "      <td>42420.0</td>\n",
       "    </tr>\n",
       "    <tr>\n",
       "      <th>1</th>\n",
       "      <td>2</td>\n",
       "      <td>50815.4</td>\n",
       "      <td>z_No</td>\n",
       "      <td>M</td>\n",
       "      <td>z_High School</td>\n",
       "      <td>22</td>\n",
       "      <td>20.5916</td>\n",
       "      <td>Private</td>\n",
       "      <td>18930</td>\n",
       "      <td>Minivan</td>\n",
       "      <td>1.0</td>\n",
       "      <td>Texas</td>\n",
       "      <td>42420.0</td>\n",
       "    </tr>\n",
       "  </tbody>\n",
       "</table>\n",
       "</div>"
      ],
      "text/plain": [
       "   INDEX   INCOME MARITAL STATUS  SEX      EDUCATION            JOB  \\\n",
       "0      1   125301           z_No  z_F      Bachelors  z_Blue Collar   \n",
       "1      2  50815.4           z_No    M  z_High School             22   \n",
       "\n",
       "  TRAVEL TIME         USE MILES CLOCKED    CAR TYPE  CAR AGE   CITY  \\\n",
       "0      45.703  Commercial         17430  Sports Car      7.0  Texas   \n",
       "1     20.5916     Private         18930     Minivan      1.0  Texas   \n",
       "\n",
       "   POSTEL CODE  \n",
       "0      42420.0  \n",
       "1      42420.0  "
      ]
     },
     "execution_count": 74,
     "metadata": {},
     "output_type": "execute_result"
    }
   ],
   "source": [
    "df.head(2)"
   ]
  },
  {
   "cell_type": "markdown",
   "metadata": {},
   "source": [
    "head  function will tell you the top records in the data set. By default python shows you only top 5 records."
   ]
  },
  {
   "cell_type": "code",
   "execution_count": 170,
   "metadata": {},
   "outputs": [],
   "source": [
    "cut_labels_3=['New','Moderate','Old']\n",
    "cut_bins=[0,5,15,20]\n",
    "df['CAR AGE BIN']=pd.cut(df['CAR AGE'],bins=cut_bins,labels=cut_labels_3)"
   ]
  },
  {
   "cell_type": "code",
   "execution_count": 30,
   "metadata": {},
   "outputs": [
    {
     "data": {
      "text/plain": [
       "(303, 13)"
      ]
     },
     "execution_count": 30,
     "metadata": {},
     "output_type": "execute_result"
    }
   ],
   "source": [
    "df.shape"
   ]
  },
  {
   "cell_type": "markdown",
   "metadata": {},
   "source": [
    "Shape attribute tells us number of observations and variables we have in the data set. It is used to check the dimension of data. The cars data set has 303 observations and 13 variables in the data set."
   ]
  },
  {
   "cell_type": "code",
   "execution_count": 31,
   "metadata": {},
   "outputs": [
    {
     "name": "stdout",
     "output_type": "stream",
     "text": [
      "<class 'pandas.core.frame.DataFrame'>\n",
      "RangeIndex: 303 entries, 0 to 302\n",
      "Data columns (total 13 columns):\n",
      "INDEX             303 non-null int64\n",
      "INCOME            262 non-null object\n",
      "MARITAL STATUS    290 non-null object\n",
      "SEX               297 non-null object\n",
      "EDUCATION         273 non-null object\n",
      "JOB               267 non-null object\n",
      "TRAVEL TIME       265 non-null object\n",
      "USE               250 non-null object\n",
      "MILES CLOCKED     292 non-null object\n",
      "CAR TYPE          293 non-null object\n",
      "CAR AGE           283 non-null float64\n",
      "CITY              298 non-null object\n",
      "POSTEL CODE       300 non-null float64\n",
      "dtypes: float64(2), int64(1), object(10)\n",
      "memory usage: 30.9+ KB\n"
     ]
    }
   ],
   "source": [
    "df.info()"
   ]
  },
  {
   "cell_type": "markdown",
   "metadata": {},
   "source": [
    "info() is used to check the Information about the data and the datatypes of each respective attributes."
   ]
  },
  {
   "cell_type": "markdown",
   "metadata": {},
   "source": [
    "Looking at the data in the head function and in info, we know that the variable Income and travel time are of float data type instead of object. So we will convert it into float. "
   ]
  },
  {
   "cell_type": "code",
   "execution_count": 32,
   "metadata": {},
   "outputs": [
    {
     "data": {
      "text/plain": [
       "<bound method Series.unique of 0              25\n",
       "64013.81632    15\n",
       "91221.1218      2\n",
       "@@              2\n",
       "22181.48424     1\n",
       "20147.84803     1\n",
       "11953.74961     1\n",
       "189554.8586     1\n",
       "27823.22137     1\n",
       "69290.2134      1\n",
       "32936.11043     1\n",
       "159399.0167     1\n",
       "2214.069804     1\n",
       "45733.92634     1\n",
       "111268.3117     1\n",
       "44705.21281     1\n",
       "28853.09312     1\n",
       "158.223551      1\n",
       "51869.71691     1\n",
       "32956.01082     1\n",
       "136343.7947     1\n",
       "75431.95723     1\n",
       "38035.58347     1\n",
       "60049.83017     1\n",
       "87415.72407     1\n",
       "21533.60807     1\n",
       "7302.3125       1\n",
       "52107.94909     1\n",
       "49848.95817     1\n",
       "5252.670336     1\n",
       "               ..\n",
       "64766.06512     1\n",
       "35096.80269     1\n",
       "66367.40477     1\n",
       "9536.124182     1\n",
       "31176.83129     1\n",
       "63952.17766     1\n",
       "204667.5897     1\n",
       "84345.18012     1\n",
       "10616.87423     1\n",
       "47991.45003     1\n",
       "125301.2425     1\n",
       "59762.84945     1\n",
       "14705.35906     1\n",
       "26087.5841      1\n",
       "81766.51691     1\n",
       "94565.86351     1\n",
       "40094.81041     1\n",
       "16227.42875     1\n",
       "58504.00815     1\n",
       "51544.43316     1\n",
       "96599.45597     1\n",
       "14166.18683     1\n",
       "20821.8463      1\n",
       "29523.52225     1\n",
       "7504.658115     1\n",
       "46927.74799     1\n",
       "63889.85805     1\n",
       "82761.8404      1\n",
       "34210.31233     1\n",
       "248.614532      1\n",
       "Name: INCOME, Length: 222, dtype: int64>"
      ]
     },
     "execution_count": 32,
     "metadata": {},
     "output_type": "execute_result"
    }
   ],
   "source": [
    "df['INCOME'].value_counts().unique"
   ]
  },
  {
   "cell_type": "code",
   "execution_count": 33,
   "metadata": {},
   "outputs": [],
   "source": [
    "df['INCOME']=df['INCOME'].replace(to_replace='@@',value=np.nan)\n",
    "df['INCOME']=df['INCOME'].astype(float)"
   ]
  },
  {
   "cell_type": "code",
   "execution_count": 34,
   "metadata": {},
   "outputs": [],
   "source": [
    "df['TRAVEL TIME']=df['TRAVEL TIME'].replace(to_replace='*****',value=np.nan)\n",
    "df['TRAVEL TIME']=df['TRAVEL TIME'].astype(float)"
   ]
  },
  {
   "cell_type": "code",
   "execution_count": 35,
   "metadata": {},
   "outputs": [],
   "source": [
    "df['MILES CLOCKED']=df['MILES CLOCKED'].replace(to_replace='*****',value=np.nan)\n",
    "df['MILES CLOCKED']=df['MILES CLOCKED'].replace(to_replace='Na',value=np.nan)\n",
    "df['MILES CLOCKED']=df['MILES CLOCKED'].astype(float)"
   ]
  },
  {
   "cell_type": "code",
   "execution_count": 154,
   "metadata": {},
   "outputs": [],
   "source": [
    "df.replace(to_replace='*****',value=np.nan,inplace=True)"
   ]
  },
  {
   "cell_type": "code",
   "execution_count": 17,
   "metadata": {},
   "outputs": [],
   "source": []
  },
  {
   "cell_type": "code",
   "execution_count": 36,
   "metadata": {},
   "outputs": [
    {
     "name": "stdout",
     "output_type": "stream",
     "text": [
      "<class 'pandas.core.frame.DataFrame'>\n",
      "RangeIndex: 303 entries, 0 to 302\n",
      "Data columns (total 13 columns):\n",
      "INDEX             303 non-null int64\n",
      "INCOME            260 non-null float64\n",
      "MARITAL STATUS    290 non-null object\n",
      "SEX               297 non-null object\n",
      "EDUCATION         273 non-null object\n",
      "JOB               267 non-null object\n",
      "TRAVEL TIME       262 non-null float64\n",
      "USE               250 non-null object\n",
      "MILES CLOCKED     278 non-null float64\n",
      "CAR TYPE          293 non-null object\n",
      "CAR AGE           283 non-null float64\n",
      "CITY              298 non-null object\n",
      "POSTEL CODE       300 non-null float64\n",
      "dtypes: float64(5), int64(1), object(7)\n",
      "memory usage: 30.9+ KB\n"
     ]
    }
   ],
   "source": [
    "df.info()"
   ]
  },
  {
   "cell_type": "code",
   "execution_count": 37,
   "metadata": {},
   "outputs": [
    {
     "data": {
      "text/html": [
       "<div>\n",
       "<style scoped>\n",
       "    .dataframe tbody tr th:only-of-type {\n",
       "        vertical-align: middle;\n",
       "    }\n",
       "\n",
       "    .dataframe tbody tr th {\n",
       "        vertical-align: top;\n",
       "    }\n",
       "\n",
       "    .dataframe thead th {\n",
       "        text-align: right;\n",
       "    }\n",
       "</style>\n",
       "<table border=\"1\" class=\"dataframe\">\n",
       "  <thead>\n",
       "    <tr style=\"text-align: right;\">\n",
       "      <th></th>\n",
       "      <th>INDEX</th>\n",
       "      <th>INCOME</th>\n",
       "      <th>TRAVEL TIME</th>\n",
       "      <th>MILES CLOCKED</th>\n",
       "      <th>CAR AGE</th>\n",
       "      <th>POSTEL CODE</th>\n",
       "    </tr>\n",
       "  </thead>\n",
       "  <tbody>\n",
       "    <tr>\n",
       "      <th>count</th>\n",
       "      <td>303.000000</td>\n",
       "      <td>260.000000</td>\n",
       "      <td>262.000000</td>\n",
       "      <td>278.000000</td>\n",
       "      <td>283.000000</td>\n",
       "      <td>300.000000</td>\n",
       "    </tr>\n",
       "    <tr>\n",
       "      <th>mean</th>\n",
       "      <td>139.640264</td>\n",
       "      <td>50025.162170</td>\n",
       "      <td>34.282098</td>\n",
       "      <td>13591.978417</td>\n",
       "      <td>6.265018</td>\n",
       "      <td>50712.196667</td>\n",
       "    </tr>\n",
       "    <tr>\n",
       "      <th>std</th>\n",
       "      <td>85.178422</td>\n",
       "      <td>41186.807914</td>\n",
       "      <td>14.910178</td>\n",
       "      <td>7167.328655</td>\n",
       "      <td>5.111218</td>\n",
       "      <td>24141.029290</td>\n",
       "    </tr>\n",
       "    <tr>\n",
       "      <th>min</th>\n",
       "      <td>1.000000</td>\n",
       "      <td>0.000000</td>\n",
       "      <td>5.000000</td>\n",
       "      <td>1500.000000</td>\n",
       "      <td>1.000000</td>\n",
       "      <td>11435.000000</td>\n",
       "    </tr>\n",
       "    <tr>\n",
       "      <th>25%</th>\n",
       "      <td>62.500000</td>\n",
       "      <td>20452.885022</td>\n",
       "      <td>24.449874</td>\n",
       "      <td>7900.000000</td>\n",
       "      <td>1.000000</td>\n",
       "      <td>42420.000000</td>\n",
       "    </tr>\n",
       "    <tr>\n",
       "      <th>50%</th>\n",
       "      <td>138.000000</td>\n",
       "      <td>44571.590870</td>\n",
       "      <td>33.564757</td>\n",
       "      <td>12065.000000</td>\n",
       "      <td>6.000000</td>\n",
       "      <td>47150.000000</td>\n",
       "    </tr>\n",
       "    <tr>\n",
       "      <th>75%</th>\n",
       "      <td>213.500000</td>\n",
       "      <td>66485.761387</td>\n",
       "      <td>43.907339</td>\n",
       "      <td>18240.000000</td>\n",
       "      <td>10.000000</td>\n",
       "      <td>61701.000000</td>\n",
       "    </tr>\n",
       "    <tr>\n",
       "      <th>max</th>\n",
       "      <td>289.000000</td>\n",
       "      <td>204667.589700</td>\n",
       "      <td>83.617643</td>\n",
       "      <td>38000.000000</td>\n",
       "      <td>20.000000</td>\n",
       "      <td>90049.000000</td>\n",
       "    </tr>\n",
       "  </tbody>\n",
       "</table>\n",
       "</div>"
      ],
      "text/plain": [
       "            INDEX         INCOME  TRAVEL TIME  MILES CLOCKED     CAR AGE  \\\n",
       "count  303.000000     260.000000   262.000000     278.000000  283.000000   \n",
       "mean   139.640264   50025.162170    34.282098   13591.978417    6.265018   \n",
       "std     85.178422   41186.807914    14.910178    7167.328655    5.111218   \n",
       "min      1.000000       0.000000     5.000000    1500.000000    1.000000   \n",
       "25%     62.500000   20452.885022    24.449874    7900.000000    1.000000   \n",
       "50%    138.000000   44571.590870    33.564757   12065.000000    6.000000   \n",
       "75%    213.500000   66485.761387    43.907339   18240.000000   10.000000   \n",
       "max    289.000000  204667.589700    83.617643   38000.000000   20.000000   \n",
       "\n",
       "        POSTEL CODE  \n",
       "count    300.000000  \n",
       "mean   50712.196667  \n",
       "std    24141.029290  \n",
       "min    11435.000000  \n",
       "25%    42420.000000  \n",
       "50%    47150.000000  \n",
       "75%    61701.000000  \n",
       "max    90049.000000  "
      ]
     },
     "execution_count": 37,
     "metadata": {},
     "output_type": "execute_result"
    }
   ],
   "source": [
    "df.describe()"
   ]
  },
  {
   "cell_type": "markdown",
   "metadata": {},
   "source": [
    "The describe method will help to see how data has been spread for the numerical values. We can clearly see the minimum value, mean values, different percentile values and maximum values."
   ]
  },
  {
   "cell_type": "markdown",
   "metadata": {},
   "source": [
    "# Check for Duplicate records"
   ]
  },
  {
   "cell_type": "code",
   "execution_count": 38,
   "metadata": {},
   "outputs": [
    {
     "name": "stdout",
     "output_type": "stream",
     "text": [
      "14\n"
     ]
    }
   ],
   "source": [
    "# Check for duplicate data\n",
    "dups=df.duplicated()\n",
    "print(dups.sum())\n"
   ]
  },
  {
   "cell_type": "markdown",
   "metadata": {},
   "source": [
    "Since we have 14 duplicate records in the data, we will remove this from the data set so that we get only distinct records."
   ]
  },
  {
   "cell_type": "code",
   "execution_count": 39,
   "metadata": {},
   "outputs": [
    {
     "data": {
      "text/html": [
       "<div>\n",
       "<style scoped>\n",
       "    .dataframe tbody tr th:only-of-type {\n",
       "        vertical-align: middle;\n",
       "    }\n",
       "\n",
       "    .dataframe tbody tr th {\n",
       "        vertical-align: top;\n",
       "    }\n",
       "\n",
       "    .dataframe thead th {\n",
       "        text-align: right;\n",
       "    }\n",
       "</style>\n",
       "<table border=\"1\" class=\"dataframe\">\n",
       "  <thead>\n",
       "    <tr style=\"text-align: right;\">\n",
       "      <th></th>\n",
       "      <th>INDEX</th>\n",
       "      <th>INCOME</th>\n",
       "      <th>MARITAL STATUS</th>\n",
       "      <th>SEX</th>\n",
       "      <th>EDUCATION</th>\n",
       "      <th>JOB</th>\n",
       "      <th>TRAVEL TIME</th>\n",
       "      <th>USE</th>\n",
       "      <th>MILES CLOCKED</th>\n",
       "      <th>CAR TYPE</th>\n",
       "      <th>CAR AGE</th>\n",
       "      <th>CITY</th>\n",
       "      <th>POSTEL CODE</th>\n",
       "    </tr>\n",
       "  </thead>\n",
       "  <tbody>\n",
       "    <tr>\n",
       "      <th>69</th>\n",
       "      <td>29</td>\n",
       "      <td>64013.81632</td>\n",
       "      <td>Yes</td>\n",
       "      <td>M</td>\n",
       "      <td>&lt;High School</td>\n",
       "      <td>z_Blue Collar</td>\n",
       "      <td>32.717234</td>\n",
       "      <td>Commercial</td>\n",
       "      <td>7900.0</td>\n",
       "      <td>Pickup</td>\n",
       "      <td>5.0</td>\n",
       "      <td>Los Angeles</td>\n",
       "      <td>90049.0</td>\n",
       "    </tr>\n",
       "    <tr>\n",
       "      <th>70</th>\n",
       "      <td>29</td>\n",
       "      <td>64013.81632</td>\n",
       "      <td>Yes</td>\n",
       "      <td>M</td>\n",
       "      <td>&lt;High School</td>\n",
       "      <td>z_Blue Collar</td>\n",
       "      <td>32.717234</td>\n",
       "      <td>Commercial</td>\n",
       "      <td>7900.0</td>\n",
       "      <td>Pickup</td>\n",
       "      <td>5.0</td>\n",
       "      <td>Los Angeles</td>\n",
       "      <td>90049.0</td>\n",
       "    </tr>\n",
       "    <tr>\n",
       "      <th>71</th>\n",
       "      <td>29</td>\n",
       "      <td>64013.81632</td>\n",
       "      <td>Yes</td>\n",
       "      <td>M</td>\n",
       "      <td>&lt;High School</td>\n",
       "      <td>z_Blue Collar</td>\n",
       "      <td>32.717234</td>\n",
       "      <td>Commercial</td>\n",
       "      <td>7900.0</td>\n",
       "      <td>Pickup</td>\n",
       "      <td>5.0</td>\n",
       "      <td>Los Angeles</td>\n",
       "      <td>90049.0</td>\n",
       "    </tr>\n",
       "    <tr>\n",
       "      <th>72</th>\n",
       "      <td>29</td>\n",
       "      <td>64013.81632</td>\n",
       "      <td>Yes</td>\n",
       "      <td>M</td>\n",
       "      <td>&lt;High School</td>\n",
       "      <td>z_Blue Collar</td>\n",
       "      <td>32.717234</td>\n",
       "      <td>Commercial</td>\n",
       "      <td>7900.0</td>\n",
       "      <td>Pickup</td>\n",
       "      <td>5.0</td>\n",
       "      <td>Los Angeles</td>\n",
       "      <td>90049.0</td>\n",
       "    </tr>\n",
       "    <tr>\n",
       "      <th>73</th>\n",
       "      <td>29</td>\n",
       "      <td>64013.81632</td>\n",
       "      <td>Yes</td>\n",
       "      <td>M</td>\n",
       "      <td>&lt;High School</td>\n",
       "      <td>z_Blue Collar</td>\n",
       "      <td>32.717234</td>\n",
       "      <td>Commercial</td>\n",
       "      <td>7900.0</td>\n",
       "      <td>Pickup</td>\n",
       "      <td>5.0</td>\n",
       "      <td>Los Angeles</td>\n",
       "      <td>90049.0</td>\n",
       "    </tr>\n",
       "    <tr>\n",
       "      <th>74</th>\n",
       "      <td>29</td>\n",
       "      <td>64013.81632</td>\n",
       "      <td>Yes</td>\n",
       "      <td>M</td>\n",
       "      <td>&lt;High School</td>\n",
       "      <td>z_Blue Collar</td>\n",
       "      <td>32.717234</td>\n",
       "      <td>Commercial</td>\n",
       "      <td>7900.0</td>\n",
       "      <td>Pickup</td>\n",
       "      <td>5.0</td>\n",
       "      <td>Los Angeles</td>\n",
       "      <td>90049.0</td>\n",
       "    </tr>\n",
       "    <tr>\n",
       "      <th>75</th>\n",
       "      <td>29</td>\n",
       "      <td>64013.81632</td>\n",
       "      <td>Yes</td>\n",
       "      <td>M</td>\n",
       "      <td>&lt;High School</td>\n",
       "      <td>z_Blue Collar</td>\n",
       "      <td>32.717234</td>\n",
       "      <td>Commercial</td>\n",
       "      <td>7900.0</td>\n",
       "      <td>Pickup</td>\n",
       "      <td>5.0</td>\n",
       "      <td>Los Angeles</td>\n",
       "      <td>90049.0</td>\n",
       "    </tr>\n",
       "    <tr>\n",
       "      <th>76</th>\n",
       "      <td>29</td>\n",
       "      <td>64013.81632</td>\n",
       "      <td>Yes</td>\n",
       "      <td>M</td>\n",
       "      <td>&lt;High School</td>\n",
       "      <td>z_Blue Collar</td>\n",
       "      <td>32.717234</td>\n",
       "      <td>Commercial</td>\n",
       "      <td>7900.0</td>\n",
       "      <td>Pickup</td>\n",
       "      <td>5.0</td>\n",
       "      <td>Los Angeles</td>\n",
       "      <td>90049.0</td>\n",
       "    </tr>\n",
       "    <tr>\n",
       "      <th>77</th>\n",
       "      <td>29</td>\n",
       "      <td>64013.81632</td>\n",
       "      <td>Yes</td>\n",
       "      <td>M</td>\n",
       "      <td>&lt;High School</td>\n",
       "      <td>z_Blue Collar</td>\n",
       "      <td>32.717234</td>\n",
       "      <td>Commercial</td>\n",
       "      <td>7900.0</td>\n",
       "      <td>Pickup</td>\n",
       "      <td>5.0</td>\n",
       "      <td>Los Angeles</td>\n",
       "      <td>90049.0</td>\n",
       "    </tr>\n",
       "    <tr>\n",
       "      <th>78</th>\n",
       "      <td>29</td>\n",
       "      <td>64013.81632</td>\n",
       "      <td>Yes</td>\n",
       "      <td>M</td>\n",
       "      <td>&lt;High School</td>\n",
       "      <td>z_Blue Collar</td>\n",
       "      <td>32.717234</td>\n",
       "      <td>Commercial</td>\n",
       "      <td>7900.0</td>\n",
       "      <td>Pickup</td>\n",
       "      <td>5.0</td>\n",
       "      <td>Los Angeles</td>\n",
       "      <td>90049.0</td>\n",
       "    </tr>\n",
       "    <tr>\n",
       "      <th>79</th>\n",
       "      <td>29</td>\n",
       "      <td>64013.81632</td>\n",
       "      <td>Yes</td>\n",
       "      <td>M</td>\n",
       "      <td>&lt;High School</td>\n",
       "      <td>z_Blue Collar</td>\n",
       "      <td>32.717234</td>\n",
       "      <td>Commercial</td>\n",
       "      <td>7900.0</td>\n",
       "      <td>Pickup</td>\n",
       "      <td>5.0</td>\n",
       "      <td>Los Angeles</td>\n",
       "      <td>90049.0</td>\n",
       "    </tr>\n",
       "    <tr>\n",
       "      <th>80</th>\n",
       "      <td>29</td>\n",
       "      <td>64013.81632</td>\n",
       "      <td>Yes</td>\n",
       "      <td>M</td>\n",
       "      <td>&lt;High School</td>\n",
       "      <td>z_Blue Collar</td>\n",
       "      <td>32.717234</td>\n",
       "      <td>Commercial</td>\n",
       "      <td>7900.0</td>\n",
       "      <td>Pickup</td>\n",
       "      <td>5.0</td>\n",
       "      <td>Los Angeles</td>\n",
       "      <td>90049.0</td>\n",
       "    </tr>\n",
       "    <tr>\n",
       "      <th>81</th>\n",
       "      <td>29</td>\n",
       "      <td>64013.81632</td>\n",
       "      <td>Yes</td>\n",
       "      <td>M</td>\n",
       "      <td>&lt;High School</td>\n",
       "      <td>z_Blue Collar</td>\n",
       "      <td>32.717234</td>\n",
       "      <td>Commercial</td>\n",
       "      <td>7900.0</td>\n",
       "      <td>Pickup</td>\n",
       "      <td>5.0</td>\n",
       "      <td>Los Angeles</td>\n",
       "      <td>90049.0</td>\n",
       "    </tr>\n",
       "    <tr>\n",
       "      <th>82</th>\n",
       "      <td>29</td>\n",
       "      <td>64013.81632</td>\n",
       "      <td>Yes</td>\n",
       "      <td>M</td>\n",
       "      <td>&lt;High School</td>\n",
       "      <td>z_Blue Collar</td>\n",
       "      <td>32.717234</td>\n",
       "      <td>Commercial</td>\n",
       "      <td>7900.0</td>\n",
       "      <td>Pickup</td>\n",
       "      <td>5.0</td>\n",
       "      <td>Los Angeles</td>\n",
       "      <td>90049.0</td>\n",
       "    </tr>\n",
       "  </tbody>\n",
       "</table>\n",
       "</div>"
      ],
      "text/plain": [
       "    INDEX       INCOME MARITAL STATUS SEX     EDUCATION            JOB  \\\n",
       "69     29  64013.81632            Yes   M  <High School  z_Blue Collar   \n",
       "70     29  64013.81632            Yes   M  <High School  z_Blue Collar   \n",
       "71     29  64013.81632            Yes   M  <High School  z_Blue Collar   \n",
       "72     29  64013.81632            Yes   M  <High School  z_Blue Collar   \n",
       "73     29  64013.81632            Yes   M  <High School  z_Blue Collar   \n",
       "74     29  64013.81632            Yes   M  <High School  z_Blue Collar   \n",
       "75     29  64013.81632            Yes   M  <High School  z_Blue Collar   \n",
       "76     29  64013.81632            Yes   M  <High School  z_Blue Collar   \n",
       "77     29  64013.81632            Yes   M  <High School  z_Blue Collar   \n",
       "78     29  64013.81632            Yes   M  <High School  z_Blue Collar   \n",
       "79     29  64013.81632            Yes   M  <High School  z_Blue Collar   \n",
       "80     29  64013.81632            Yes   M  <High School  z_Blue Collar   \n",
       "81     29  64013.81632            Yes   M  <High School  z_Blue Collar   \n",
       "82     29  64013.81632            Yes   M  <High School  z_Blue Collar   \n",
       "\n",
       "    TRAVEL TIME         USE  MILES CLOCKED CAR TYPE  CAR AGE         CITY  \\\n",
       "69    32.717234  Commercial         7900.0   Pickup      5.0  Los Angeles   \n",
       "70    32.717234  Commercial         7900.0   Pickup      5.0  Los Angeles   \n",
       "71    32.717234  Commercial         7900.0   Pickup      5.0  Los Angeles   \n",
       "72    32.717234  Commercial         7900.0   Pickup      5.0  Los Angeles   \n",
       "73    32.717234  Commercial         7900.0   Pickup      5.0  Los Angeles   \n",
       "74    32.717234  Commercial         7900.0   Pickup      5.0  Los Angeles   \n",
       "75    32.717234  Commercial         7900.0   Pickup      5.0  Los Angeles   \n",
       "76    32.717234  Commercial         7900.0   Pickup      5.0  Los Angeles   \n",
       "77    32.717234  Commercial         7900.0   Pickup      5.0  Los Angeles   \n",
       "78    32.717234  Commercial         7900.0   Pickup      5.0  Los Angeles   \n",
       "79    32.717234  Commercial         7900.0   Pickup      5.0  Los Angeles   \n",
       "80    32.717234  Commercial         7900.0   Pickup      5.0  Los Angeles   \n",
       "81    32.717234  Commercial         7900.0   Pickup      5.0  Los Angeles   \n",
       "82    32.717234  Commercial         7900.0   Pickup      5.0  Los Angeles   \n",
       "\n",
       "    POSTEL CODE  \n",
       "69      90049.0  \n",
       "70      90049.0  \n",
       "71      90049.0  \n",
       "72      90049.0  \n",
       "73      90049.0  \n",
       "74      90049.0  \n",
       "75      90049.0  \n",
       "76      90049.0  \n",
       "77      90049.0  \n",
       "78      90049.0  \n",
       "79      90049.0  \n",
       "80      90049.0  \n",
       "81      90049.0  \n",
       "82      90049.0  "
      ]
     },
     "execution_count": 39,
     "metadata": {},
     "output_type": "execute_result"
    }
   ],
   "source": [
    "df[dups]"
   ]
  },
  {
   "cell_type": "code",
   "execution_count": 75,
   "metadata": {},
   "outputs": [],
   "source": [
    "df.drop_duplicates(inplace=True)"
   ]
  },
  {
   "cell_type": "markdown",
   "metadata": {},
   "source": [
    "Post removing the duplicate, we will check whether the duplicates has been removed from the data set or not."
   ]
  },
  {
   "cell_type": "code",
   "execution_count": 42,
   "metadata": {},
   "outputs": [
    {
     "name": "stdout",
     "output_type": "stream",
     "text": [
      "Number of duplicate rows = 0\n"
     ]
    }
   ],
   "source": [
    "# Check for duplicate data\n",
    "\n",
    "dups = df.duplicated()\n",
    "print('Number of duplicate rows = %d' % (dups.sum()))\n",
    "#print(dups.sum())\n",
    "#df[dups]"
   ]
  },
  {
   "cell_type": "markdown",
   "metadata": {},
   "source": [
    "Now, we can  clearly see that there are no duplicate records in the data set. We can also quickly confirm the number of records by using the shape attribute as those 14 records should be removed from the original data. Initially it had 303 records now it should have 289"
   ]
  },
  {
   "cell_type": "code",
   "execution_count": 43,
   "metadata": {},
   "outputs": [
    {
     "data": {
      "text/plain": [
       "(289, 13)"
      ]
     },
     "execution_count": 43,
     "metadata": {},
     "output_type": "execute_result"
    }
   ],
   "source": [
    "df.shape"
   ]
  },
  {
   "cell_type": "markdown",
   "metadata": {},
   "source": [
    "# Check for missing value"
   ]
  },
  {
   "cell_type": "code",
   "execution_count": 44,
   "metadata": {},
   "outputs": [
    {
     "data": {
      "text/plain": [
       "INDEX              0\n",
       "INCOME            43\n",
       "MARITAL STATUS    13\n",
       "SEX                6\n",
       "EDUCATION         30\n",
       "JOB               36\n",
       "TRAVEL TIME       41\n",
       "USE               53\n",
       "MILES CLOCKED     25\n",
       "CAR TYPE          10\n",
       "CAR AGE           20\n",
       "CITY               5\n",
       "POSTEL CODE        3\n",
       "dtype: int64"
      ]
     },
     "execution_count": 44,
     "metadata": {},
     "output_type": "execute_result"
    }
   ],
   "source": [
    "# Check for missing value in any column\n",
    "df.isnull().sum()"
   ]
  },
  {
   "cell_type": "markdown",
   "metadata": {},
   "source": [
    "We can see that we have various missing values in respective columns. There are various ways of treating your missing values in the data set. And which technique to use when is actually dependent on the type of data you are dealing with.\n",
    "\n",
    "- Drop the missing values : In this case we drop the missing values from those variables. In case there are very few missing values you can drop those values.\n",
    "\n",
    "- Impute with mean value : For numerical column, you can replace the missing values with mean values. Before replacing with mean value, it is advisable to check that the variable shouldn't have extreme values .i.e. outliers.\n",
    "\n",
    "- Impute with median value : For numerical column, you can also replace the missing values with median values. In case you have extreme values such as outliers it is advisable to use median approach.\n",
    "\n",
    "- Impute with mode value : For categorical column, you can replace the missing values with mode values i.e the frequent ones.\n",
    "\n",
    "In this exercise, we will replace the numerical columns with meadian values and for categorical columns we will drop the missing values."
   ]
  },
  {
   "cell_type": "code",
   "execution_count": 45,
   "metadata": {},
   "outputs": [],
   "source": [
    "median1=df[\"INCOME\"].median()\n",
    "median2=df[\"TRAVEL TIME\"].median()\n",
    "median3=df[\"MILES CLOCKED\"].median()\n",
    "median4=df[\"CAR AGE\"].median()\n",
    "median5=df[\"POSTEL CODE\"].median()\n",
    "\n",
    "df[\"INCOME\"].replace(np.nan,median1,inplace=True)\n",
    "df[\"TRAVEL TIME\"].replace(np.nan,median2,inplace=True)\n",
    "df[\"MILES CLOCKED\"].replace(np.nan,median3,inplace=True)\n",
    "df[\"CAR AGE\"].replace(np.nan,median4,inplace=True)\n",
    "df[\"POSTEL CODE\"].replace(np.nan,median5,inplace=True)\n",
    "\n"
   ]
  },
  {
   "cell_type": "code",
   "execution_count": 47,
   "metadata": {},
   "outputs": [],
   "source": [
    "df['SEX']=df['SEX'].fillna(df['SEX'].mode)"
   ]
  },
  {
   "cell_type": "code",
   "execution_count": 76,
   "metadata": {},
   "outputs": [],
   "source": [
    "df.dropna(inplace=True)"
   ]
  },
  {
   "cell_type": "code",
   "execution_count": 77,
   "metadata": {},
   "outputs": [
    {
     "data": {
      "text/plain": [
       "INDEX             0\n",
       "INCOME            0\n",
       "MARITAL STATUS    0\n",
       "SEX               0\n",
       "EDUCATION         0\n",
       "JOB               0\n",
       "TRAVEL TIME       0\n",
       "USE               0\n",
       "MILES CLOCKED     0\n",
       "CAR TYPE          0\n",
       "CAR AGE           0\n",
       "CITY              0\n",
       "POSTEL CODE       0\n",
       "dtype: int64"
      ]
     },
     "execution_count": 77,
     "metadata": {},
     "output_type": "execute_result"
    }
   ],
   "source": [
    "df.isnull().sum()"
   ]
  },
  {
   "cell_type": "markdown",
   "metadata": {},
   "source": [
    "As a cross check, post dropping the missing values we will see whether those has been removed from the actual data set."
   ]
  },
  {
   "cell_type": "code",
   "execution_count": 26,
   "metadata": {},
   "outputs": [
    {
     "data": {
      "text/plain": [
       "INDEX             0\n",
       "INCOME            0\n",
       "MARITAL STATUS    0\n",
       "SEX               0\n",
       "EDUCATION         0\n",
       "JOB               0\n",
       "TRAVEL TIME       0\n",
       "USE               0\n",
       "MILES CLOCKED     0\n",
       "CAR TYPE          0\n",
       "CAR AGE           0\n",
       "CITY              0\n",
       "POSTEL CODE       0\n",
       "dtype: int64"
      ]
     },
     "execution_count": 26,
     "metadata": {},
     "output_type": "execute_result"
    }
   ],
   "source": [
    "# Check for missing value in any column\n",
    "df.isnull().sum()"
   ]
  },
  {
   "cell_type": "markdown",
   "metadata": {},
   "source": [
    "# Outlier Treatment\n",
    "\n",
    "To check for outliers, we will be plotting the box plots."
   ]
  },
  {
   "cell_type": "code",
   "execution_count": 50,
   "metadata": {},
   "outputs": [
    {
     "data": {
      "text/plain": [
       "<matplotlib.axes._subplots.AxesSubplot at 0x18f50b1c978>"
      ]
     },
     "execution_count": 50,
     "metadata": {},
     "output_type": "execute_result"
    },
    {
     "data": {
      "image/png": "[encoded data removed]",
      "text/plain": [
       "<Figure size 432x288 with 1 Axes>"
      ]
     },
     "metadata": {
      "needs_background": "light"
     },
     "output_type": "display_data"
    }
   ],
   "source": [
    "df.boxplot(column=['INCOME'])"
   ]
  },
  {
   "cell_type": "code",
   "execution_count": 51,
   "metadata": {
    "scrolled": true
   },
   "outputs": [
    {
     "data": {
      "text/plain": [
       "<matplotlib.axes._subplots.AxesSubplot at 0x18f50be3080>"
      ]
     },
     "execution_count": 51,
     "metadata": {},
     "output_type": "execute_result"
    },
    {
     "data": {
      "image/png": "[encoded data removed]",
      "text/plain": [
       "<Figure size 432x288 with 1 Axes>"
      ]
     },
     "metadata": {
      "needs_background": "light"
     },
     "output_type": "display_data"
    }
   ],
   "source": [
    "df.boxplot(column=['TRAVEL TIME'])"
   ]
  },
  {
   "cell_type": "code",
   "execution_count": 52,
   "metadata": {},
   "outputs": [
    {
     "data": {
      "text/plain": [
       "<matplotlib.axes._subplots.AxesSubplot at 0x18f50cb2390>"
      ]
     },
     "execution_count": 52,
     "metadata": {},
     "output_type": "execute_result"
    },
    {
     "data": {
      "image/png": "[encoded data removed]",
      "text/plain": [
       "<Figure size 432x288 with 1 Axes>"
      ]
     },
     "metadata": {
      "needs_background": "light"
     },
     "output_type": "display_data"
    }
   ],
   "source": [
    "df.boxplot(column=['CAR AGE'])"
   ]
  },
  {
   "cell_type": "code",
   "execution_count": 53,
   "metadata": {},
   "outputs": [
    {
     "data": {
      "text/plain": [
       "<matplotlib.axes._subplots.AxesSubplot at 0x18f51f64f28>"
      ]
     },
     "execution_count": 53,
     "metadata": {},
     "output_type": "execute_result"
    },
    {
     "data": {
      "image/png": "[encoded data removed]",
      "text/plain": [
       "<Figure size 432x288 with 1 Axes>"
      ]
     },
     "metadata": {
      "needs_background": "light"
     },
     "output_type": "display_data"
    }
   ],
   "source": [
    "df.boxplot(column=['MILES CLOCKED'])"
   ]
  },
  {
   "cell_type": "code",
   "execution_count": 54,
   "metadata": {},
   "outputs": [
    {
     "data": {
      "text/plain": [
       "<matplotlib.axes._subplots.AxesSubplot at 0x18f51fca710>"
      ]
     },
     "execution_count": 54,
     "metadata": {},
     "output_type": "execute_result"
    },
    {
     "data": {
      "image/png": "[encoded data removed]",
      "text/plain": [
       "<Figure size 432x288 with 1 Axes>"
      ]
     },
     "metadata": {
      "needs_background": "light"
     },
     "output_type": "display_data"
    }
   ],
   "source": [
    "df.boxplot(column=['POSTEL CODE'])"
   ]
  },
  {
   "cell_type": "markdown",
   "metadata": {},
   "source": [
    "Looking at the box plot, it seems that the three variables INCOME, MILES CLOCKED and TRAVEL TIME have outlier present in the variables.\n",
    "\n",
    "These outliers value needs to be teated and there are several ways of treating them:\n",
    "    \n",
    "- Drop the outlier value\n",
    "- Replace the outlier value using the IQR \n",
    "\n"
   ]
  },
  {
   "cell_type": "markdown",
   "metadata": {},
   "source": [
    "Created a user definded function for finding the lower and upper range for a variable so that outlier can be treated."
   ]
  },
  {
   "cell_type": "code",
   "execution_count": 56,
   "metadata": {},
   "outputs": [],
   "source": [
    "def remove_outlier(col):\n",
    "    sorted(col)\n",
    "    Q1,Q3=np.percentile(col,[25,75])\n",
    "    IQR=Q3-Q1\n",
    "    lower_range=Q1-(1.5*IQR)\n",
    "    upper_range=Q3+(1.5*IQR)\n",
    "    return lower_range, upper_range\n",
    "    "
   ]
  },
  {
   "cell_type": "code",
   "execution_count": null,
   "metadata": {},
   "outputs": [],
   "source": []
  },
  {
   "cell_type": "code",
   "execution_count": 57,
   "metadata": {},
   "outputs": [],
   "source": [
    "lrincome,urincome=remove_outlier(df['INCOME'])\n",
    "df['INCOME']=np.where(df['INCOME']>urincome,urincome,df['INCOME'])\n",
    "#df['INCOME']=np.where(df['INCOME']<lrincome,lrincome,df['INCOME'])\n",
    "\n",
    "\n",
    "#lrincome,urincome=remove_outlier(df['INCOME'])\n",
    "#df['INCOME']=np.where(df['INCOME']<lrincome,lrincome,df['INCOME'])\n",
    "\n",
    "lrtravel,urtravel=remove_outlier(df['TRAVEL TIME'])\n",
    "df['TRAVEL TIME']=np.where(df['TRAVEL TIME']>urtravel,urtravel,df['TRAVEL TIME'])\n",
    "\n",
    "lrmiles,urmiles=remove_outlier(df['MILES CLOCKED'])\n",
    "df['MILES CLOCKED']=np.where(df['MILES CLOCKED']>urmiles,urmiles,df['MILES CLOCKED'])"
   ]
  },
  {
   "cell_type": "code",
   "execution_count": 58,
   "metadata": {},
   "outputs": [
    {
     "data": {
      "text/plain": [
       "<matplotlib.axes._subplots.AxesSubplot at 0x18f520320b8>"
      ]
     },
     "execution_count": 58,
     "metadata": {},
     "output_type": "execute_result"
    },
    {
     "data": {
      "image/png": "[encoded data removed]",
      "text/plain": [
       "<Figure size 432x288 with 1 Axes>"
      ]
     },
     "metadata": {
      "needs_background": "light"
     },
     "output_type": "display_data"
    }
   ],
   "source": [
    "df.boxplot(column=['INCOME'])"
   ]
  },
  {
   "cell_type": "code",
   "execution_count": 59,
   "metadata": {},
   "outputs": [
    {
     "data": {
      "text/plain": [
       "<matplotlib.axes._subplots.AxesSubplot at 0x18f51fd1da0>"
      ]
     },
     "execution_count": 59,
     "metadata": {},
     "output_type": "execute_result"
    },
    {
     "data": {
      "image/png": "[encoded data removed]",
      "text/plain": [
       "<Figure size 432x288 with 1 Axes>"
      ]
     },
     "metadata": {
      "needs_background": "light"
     },
     "output_type": "display_data"
    }
   ],
   "source": [
    "df.boxplot(column=['TRAVEL TIME'])"
   ]
  },
  {
   "cell_type": "code",
   "execution_count": 60,
   "metadata": {},
   "outputs": [
    {
     "data": {
      "text/plain": [
       "<matplotlib.axes._subplots.AxesSubplot at 0x18f520d70f0>"
      ]
     },
     "execution_count": 60,
     "metadata": {},
     "output_type": "execute_result"
    },
    {
     "data": {
      "image/png": "[encoded data removed]",
      "text/plain": [
       "<Figure size 432x288 with 1 Axes>"
      ]
     },
     "metadata": {
      "needs_background": "light"
     },
     "output_type": "display_data"
    }
   ],
   "source": [
    "df.boxplot(column=['MILES CLOCKED'])"
   ]
  },
  {
   "cell_type": "markdown",
   "metadata": {},
   "source": [
    "If you look at the box plots above,post treating the outlier there are no outliers in all these columns. "
   ]
  },
  {
   "cell_type": "markdown",
   "metadata": {},
   "source": [
    "# Bivariate Analysis"
   ]
  },
  {
   "cell_type": "code",
   "execution_count": 61,
   "metadata": {},
   "outputs": [
    {
     "data": {
      "text/plain": [
       "<seaborn.axisgrid.PairGrid at 0x18f52117240>"
      ]
     },
     "execution_count": 61,
     "metadata": {},
     "output_type": "execute_result"
    },
    {
     "data": {
      "image/png": "[encoded data removed]",
      "text/plain": [
       "<Figure size 1080x1080 with 42 Axes>"
      ]
     },
     "metadata": {
      "needs_background": "light"
     },
     "output_type": "display_data"
    }
   ],
   "source": [
    "sns.pairplot(df)\n"
   ]
  },
  {
   "cell_type": "markdown",
   "metadata": {},
   "source": [
    "In the above plot scatter diagrams are plotted for all the numerical columns in the dataset. A scatter plot is a visual representation of the degree of correlation between any two columns. The pair plot function in seaborn makes it very easy to generate joint scatter plots for all the columns in the data."
   ]
  },
  {
   "cell_type": "code",
   "execution_count": 62,
   "metadata": {},
   "outputs": [
    {
     "data": {
      "text/html": [
       "<div>\n",
       "<style scoped>\n",
       "    .dataframe tbody tr th:only-of-type {\n",
       "        vertical-align: middle;\n",
       "    }\n",
       "\n",
       "    .dataframe tbody tr th {\n",
       "        vertical-align: top;\n",
       "    }\n",
       "\n",
       "    .dataframe thead th {\n",
       "        text-align: right;\n",
       "    }\n",
       "</style>\n",
       "<table border=\"1\" class=\"dataframe\">\n",
       "  <thead>\n",
       "    <tr style=\"text-align: right;\">\n",
       "      <th></th>\n",
       "      <th>INDEX</th>\n",
       "      <th>INCOME</th>\n",
       "      <th>TRAVEL TIME</th>\n",
       "      <th>MILES CLOCKED</th>\n",
       "      <th>CAR AGE</th>\n",
       "      <th>POSTEL CODE</th>\n",
       "    </tr>\n",
       "  </thead>\n",
       "  <tbody>\n",
       "    <tr>\n",
       "      <th>INDEX</th>\n",
       "      <td>1.000000</td>\n",
       "      <td>0.040701</td>\n",
       "      <td>-0.004427</td>\n",
       "      <td>0.098888</td>\n",
       "      <td>0.039129</td>\n",
       "      <td>-0.250119</td>\n",
       "    </tr>\n",
       "    <tr>\n",
       "      <th>INCOME</th>\n",
       "      <td>0.040701</td>\n",
       "      <td>1.000000</td>\n",
       "      <td>0.044948</td>\n",
       "      <td>0.391364</td>\n",
       "      <td>0.122051</td>\n",
       "      <td>0.104123</td>\n",
       "    </tr>\n",
       "    <tr>\n",
       "      <th>TRAVEL TIME</th>\n",
       "      <td>-0.004427</td>\n",
       "      <td>0.044948</td>\n",
       "      <td>1.000000</td>\n",
       "      <td>-0.023523</td>\n",
       "      <td>0.208940</td>\n",
       "      <td>0.013295</td>\n",
       "    </tr>\n",
       "    <tr>\n",
       "      <th>MILES CLOCKED</th>\n",
       "      <td>0.098888</td>\n",
       "      <td>0.391364</td>\n",
       "      <td>-0.023523</td>\n",
       "      <td>1.000000</td>\n",
       "      <td>0.133536</td>\n",
       "      <td>-0.056881</td>\n",
       "    </tr>\n",
       "    <tr>\n",
       "      <th>CAR AGE</th>\n",
       "      <td>0.039129</td>\n",
       "      <td>0.122051</td>\n",
       "      <td>0.208940</td>\n",
       "      <td>0.133536</td>\n",
       "      <td>1.000000</td>\n",
       "      <td>-0.093339</td>\n",
       "    </tr>\n",
       "    <tr>\n",
       "      <th>POSTEL CODE</th>\n",
       "      <td>-0.250119</td>\n",
       "      <td>0.104123</td>\n",
       "      <td>0.013295</td>\n",
       "      <td>-0.056881</td>\n",
       "      <td>-0.093339</td>\n",
       "      <td>1.000000</td>\n",
       "    </tr>\n",
       "  </tbody>\n",
       "</table>\n",
       "</div>"
      ],
      "text/plain": [
       "                  INDEX    INCOME  TRAVEL TIME  MILES CLOCKED   CAR AGE  \\\n",
       "INDEX          1.000000  0.040701    -0.004427       0.098888  0.039129   \n",
       "INCOME         0.040701  1.000000     0.044948       0.391364  0.122051   \n",
       "TRAVEL TIME   -0.004427  0.044948     1.000000      -0.023523  0.208940   \n",
       "MILES CLOCKED  0.098888  0.391364    -0.023523       1.000000  0.133536   \n",
       "CAR AGE        0.039129  0.122051     0.208940       0.133536  1.000000   \n",
       "POSTEL CODE   -0.250119  0.104123     0.013295      -0.056881 -0.093339   \n",
       "\n",
       "               POSTEL CODE  \n",
       "INDEX            -0.250119  \n",
       "INCOME            0.104123  \n",
       "TRAVEL TIME       0.013295  \n",
       "MILES CLOCKED    -0.056881  \n",
       "CAR AGE          -0.093339  \n",
       "POSTEL CODE       1.000000  "
      ]
     },
     "execution_count": 62,
     "metadata": {},
     "output_type": "execute_result"
    }
   ],
   "source": [
    "df.corr()"
   ]
  },
  {
   "cell_type": "code",
   "execution_count": 63,
   "metadata": {},
   "outputs": [
    {
     "data": {
      "text/plain": [
       "<matplotlib.axes._subplots.AxesSubplot at 0x18f52efeb00>"
      ]
     },
     "execution_count": 63,
     "metadata": {},
     "output_type": "execute_result"
    },
    {
     "data": {
      "image/png": "[encoded data removed]",
      "text/plain": [
       "<Figure size 432x288 with 2 Axes>"
      ]
     },
     "metadata": {
      "needs_background": "light"
     },
     "output_type": "display_data"
    }
   ],
   "source": [
    "sns.heatmap(df.corr(), annot=True)  # plot the correlation coefficients as a heatmap"
   ]
  },
  {
   "cell_type": "markdown",
   "metadata": {},
   "source": [
    "# Normalizing and Scaling"
   ]
  },
  {
   "cell_type": "markdown",
   "metadata": {},
   "source": [
    "Often the variables of the data set are of different scales i.e. one variable is in millions and other in only 100. For e.g. in our data set Income is having values in thousands and age in just two digits. Since the data in these varaibles are of different scales, it is tough to compare these variables. \n",
    "\n",
    "Feature scaling (also known as data normalization) is the method used to standardize the range of features of data. Since, the range of values of data may vary widely, it becomes a necessary step in data preprocessing while using machine learning algorithms.\n",
    "\n",
    "In this method, we convert variables with different scales of measurements into a single scale.\n",
    "\n",
    "StandardScaler normalizes the data using the formula (x-mean)/standard deviation.\n",
    "\n",
    "We will be doing this only for the numerical variables."
   ]
  },
  {
   "cell_type": "code",
   "execution_count": 64,
   "metadata": {},
   "outputs": [
    {
     "data": {
      "text/html": [
       "<div>\n",
       "<style scoped>\n",
       "    .dataframe tbody tr th:only-of-type {\n",
       "        vertical-align: middle;\n",
       "    }\n",
       "\n",
       "    .dataframe tbody tr th {\n",
       "        vertical-align: top;\n",
       "    }\n",
       "\n",
       "    .dataframe thead th {\n",
       "        text-align: right;\n",
       "    }\n",
       "</style>\n",
       "<table border=\"1\" class=\"dataframe\">\n",
       "  <thead>\n",
       "    <tr style=\"text-align: right;\">\n",
       "      <th></th>\n",
       "      <th>INDEX</th>\n",
       "      <th>INCOME</th>\n",
       "      <th>MARITAL STATUS</th>\n",
       "      <th>SEX</th>\n",
       "      <th>EDUCATION</th>\n",
       "      <th>JOB</th>\n",
       "      <th>TRAVEL TIME</th>\n",
       "      <th>USE</th>\n",
       "      <th>MILES CLOCKED</th>\n",
       "      <th>CAR TYPE</th>\n",
       "      <th>CAR AGE</th>\n",
       "      <th>CITY</th>\n",
       "      <th>POSTEL CODE</th>\n",
       "    </tr>\n",
       "  </thead>\n",
       "  <tbody>\n",
       "    <tr>\n",
       "      <th>0</th>\n",
       "      <td>1</td>\n",
       "      <td>114302.78695</td>\n",
       "      <td>z_No</td>\n",
       "      <td>z_F</td>\n",
       "      <td>Bachelors</td>\n",
       "      <td>z_Blue Collar</td>\n",
       "      <td>45.703013</td>\n",
       "      <td>Commercial</td>\n",
       "      <td>17430.0</td>\n",
       "      <td>Sports Car</td>\n",
       "      <td>7.0</td>\n",
       "      <td>Texas</td>\n",
       "      <td>42420.0</td>\n",
       "    </tr>\n",
       "    <tr>\n",
       "      <th>1</th>\n",
       "      <td>2</td>\n",
       "      <td>50815.44531</td>\n",
       "      <td>z_No</td>\n",
       "      <td>M</td>\n",
       "      <td>z_High School</td>\n",
       "      <td>22</td>\n",
       "      <td>20.591628</td>\n",
       "      <td>Private</td>\n",
       "      <td>18930.0</td>\n",
       "      <td>Minivan</td>\n",
       "      <td>1.0</td>\n",
       "      <td>Texas</td>\n",
       "      <td>42420.0</td>\n",
       "    </tr>\n",
       "    <tr>\n",
       "      <th>12</th>\n",
       "      <td>13</td>\n",
       "      <td>16352.02931</td>\n",
       "      <td>Yes</td>\n",
       "      <td>z_F</td>\n",
       "      <td>*****</td>\n",
       "      <td>Home Maker</td>\n",
       "      <td>34.426446</td>\n",
       "      <td>Private</td>\n",
       "      <td>10520.0</td>\n",
       "      <td>z_SUV</td>\n",
       "      <td>1.0</td>\n",
       "      <td>Texas</td>\n",
       "      <td>42420.0</td>\n",
       "    </tr>\n",
       "    <tr>\n",
       "      <th>13</th>\n",
       "      <td>14</td>\n",
       "      <td>63952.17766</td>\n",
       "      <td>Yes</td>\n",
       "      <td>z_F</td>\n",
       "      <td>Masters</td>\n",
       "      <td>Lawyer</td>\n",
       "      <td>49.576895</td>\n",
       "      <td>Private</td>\n",
       "      <td>31667.5</td>\n",
       "      <td>Van</td>\n",
       "      <td>13.0</td>\n",
       "      <td>Texas</td>\n",
       "      <td>42420.0</td>\n",
       "    </tr>\n",
       "    <tr>\n",
       "      <th>14</th>\n",
       "      <td>15</td>\n",
       "      <td>24059.72157</td>\n",
       "      <td>z_No</td>\n",
       "      <td>M</td>\n",
       "      <td>Bachelors</td>\n",
       "      <td>Clerical</td>\n",
       "      <td>24.430198</td>\n",
       "      <td>Private</td>\n",
       "      <td>14220.0</td>\n",
       "      <td>Minivan</td>\n",
       "      <td>10.0</td>\n",
       "      <td>Texas</td>\n",
       "      <td>42420.0</td>\n",
       "    </tr>\n",
       "  </tbody>\n",
       "</table>\n",
       "</div>"
      ],
      "text/plain": [
       "    INDEX        INCOME MARITAL STATUS  SEX      EDUCATION            JOB  \\\n",
       "0       1  114302.78695           z_No  z_F      Bachelors  z_Blue Collar   \n",
       "1       2   50815.44531           z_No    M  z_High School             22   \n",
       "12     13   16352.02931            Yes  z_F          *****     Home Maker   \n",
       "13     14   63952.17766            Yes  z_F        Masters         Lawyer   \n",
       "14     15   24059.72157           z_No    M      Bachelors       Clerical   \n",
       "\n",
       "    TRAVEL TIME         USE  MILES CLOCKED    CAR TYPE  CAR AGE   CITY  \\\n",
       "0     45.703013  Commercial        17430.0  Sports Car      7.0  Texas   \n",
       "1     20.591628     Private        18930.0     Minivan      1.0  Texas   \n",
       "12    34.426446     Private        10520.0       z_SUV      1.0  Texas   \n",
       "13    49.576895     Private        31667.5         Van     13.0  Texas   \n",
       "14    24.430198     Private        14220.0     Minivan     10.0  Texas   \n",
       "\n",
       "    POSTEL CODE  \n",
       "0       42420.0  \n",
       "1       42420.0  \n",
       "12      42420.0  \n",
       "13      42420.0  \n",
       "14      42420.0  "
      ]
     },
     "execution_count": 64,
     "metadata": {},
     "output_type": "execute_result"
    }
   ],
   "source": [
    "df.head()"
   ]
  },
  {
   "cell_type": "code",
   "execution_count": 66,
   "metadata": {},
   "outputs": [
    {
     "data": {
      "text/plain": [
       "StandardScaler(copy=True, with_mean=True, with_std=True)"
      ]
     },
     "execution_count": 66,
     "metadata": {},
     "output_type": "execute_result"
    }
   ],
   "source": [
    "#Scales the data. Essentially returns the z-scores of every attribute\n",
    "from sklearn.preprocessing import StandardScaler\n",
    "std_scale=StandardScaler()\n",
    "std_scale\n"
   ]
  },
  {
   "cell_type": "code",
   "execution_count": 70,
   "metadata": {},
   "outputs": [],
   "source": [
    "df['INCOME']=std_scale.fit_transform(df[['INCOME']])\n",
    "df['TRAVEL TIME']=std_scale.fit_transform(df[['TRAVEL TIME']])\n",
    "df['CAR AGE']=std_scale.fit_transform(df[['CAR AGE']])\n",
    "df['POSTEL CODE']=std_scale.fit_transform(df[['POSTEL CODE']])\n",
    "df['MILES CLOCKED']=std_scale.fit_transform(df[['MILES CLOCKED']])"
   ]
  },
  {
   "cell_type": "code",
   "execution_count": 68,
   "metadata": {},
   "outputs": [
    {
     "data": {
      "text/html": [
       "<div>\n",
       "<style scoped>\n",
       "    .dataframe tbody tr th:only-of-type {\n",
       "        vertical-align: middle;\n",
       "    }\n",
       "\n",
       "    .dataframe tbody tr th {\n",
       "        vertical-align: top;\n",
       "    }\n",
       "\n",
       "    .dataframe thead th {\n",
       "        text-align: right;\n",
       "    }\n",
       "</style>\n",
       "<table border=\"1\" class=\"dataframe\">\n",
       "  <thead>\n",
       "    <tr style=\"text-align: right;\">\n",
       "      <th></th>\n",
       "      <th>INDEX</th>\n",
       "      <th>INCOME</th>\n",
       "      <th>MARITAL STATUS</th>\n",
       "      <th>SEX</th>\n",
       "      <th>EDUCATION</th>\n",
       "      <th>JOB</th>\n",
       "      <th>TRAVEL TIME</th>\n",
       "      <th>USE</th>\n",
       "      <th>MILES CLOCKED</th>\n",
       "      <th>CAR TYPE</th>\n",
       "      <th>CAR AGE</th>\n",
       "      <th>CITY</th>\n",
       "      <th>POSTEL CODE</th>\n",
       "    </tr>\n",
       "  </thead>\n",
       "  <tbody>\n",
       "    <tr>\n",
       "      <th>0</th>\n",
       "      <td>1</td>\n",
       "      <td>2.488067</td>\n",
       "      <td>z_No</td>\n",
       "      <td>z_F</td>\n",
       "      <td>Bachelors</td>\n",
       "      <td>z_Blue Collar</td>\n",
       "      <td>0.821159</td>\n",
       "      <td>Commercial</td>\n",
       "      <td>0.625235</td>\n",
       "      <td>Sports Car</td>\n",
       "      <td>0.260041</td>\n",
       "      <td>Texas</td>\n",
       "      <td>-0.280748</td>\n",
       "    </tr>\n",
       "    <tr>\n",
       "      <th>1</th>\n",
       "      <td>2</td>\n",
       "      <td>0.331848</td>\n",
       "      <td>z_No</td>\n",
       "      <td>M</td>\n",
       "      <td>z_High School</td>\n",
       "      <td>22</td>\n",
       "      <td>-1.017996</td>\n",
       "      <td>Private</td>\n",
       "      <td>0.852872</td>\n",
       "      <td>Minivan</td>\n",
       "      <td>-1.015162</td>\n",
       "      <td>Texas</td>\n",
       "      <td>-0.280748</td>\n",
       "    </tr>\n",
       "    <tr>\n",
       "      <th>12</th>\n",
       "      <td>13</td>\n",
       "      <td>-0.838632</td>\n",
       "      <td>Yes</td>\n",
       "      <td>z_F</td>\n",
       "      <td>*****</td>\n",
       "      <td>Home Maker</td>\n",
       "      <td>-0.004735</td>\n",
       "      <td>Private</td>\n",
       "      <td>-0.423418</td>\n",
       "      <td>z_SUV</td>\n",
       "      <td>-1.015162</td>\n",
       "      <td>Texas</td>\n",
       "      <td>-0.280748</td>\n",
       "    </tr>\n",
       "    <tr>\n",
       "      <th>13</th>\n",
       "      <td>14</td>\n",
       "      <td>0.778011</td>\n",
       "      <td>Yes</td>\n",
       "      <td>z_F</td>\n",
       "      <td>Masters</td>\n",
       "      <td>Lawyer</td>\n",
       "      <td>1.104882</td>\n",
       "      <td>Private</td>\n",
       "      <td>2.785898</td>\n",
       "      <td>Van</td>\n",
       "      <td>1.535245</td>\n",
       "      <td>Texas</td>\n",
       "      <td>-0.280748</td>\n",
       "    </tr>\n",
       "    <tr>\n",
       "      <th>14</th>\n",
       "      <td>15</td>\n",
       "      <td>-0.576856</td>\n",
       "      <td>z_No</td>\n",
       "      <td>M</td>\n",
       "      <td>Bachelors</td>\n",
       "      <td>Clerical</td>\n",
       "      <td>-0.736860</td>\n",
       "      <td>Private</td>\n",
       "      <td>0.138089</td>\n",
       "      <td>Minivan</td>\n",
       "      <td>0.897643</td>\n",
       "      <td>Texas</td>\n",
       "      <td>-0.280748</td>\n",
       "    </tr>\n",
       "  </tbody>\n",
       "</table>\n",
       "</div>"
      ],
      "text/plain": [
       "    INDEX    INCOME MARITAL STATUS  SEX      EDUCATION            JOB  \\\n",
       "0       1  2.488067           z_No  z_F      Bachelors  z_Blue Collar   \n",
       "1       2  0.331848           z_No    M  z_High School             22   \n",
       "12     13 -0.838632            Yes  z_F          *****     Home Maker   \n",
       "13     14  0.778011            Yes  z_F        Masters         Lawyer   \n",
       "14     15 -0.576856           z_No    M      Bachelors       Clerical   \n",
       "\n",
       "    TRAVEL TIME         USE  MILES CLOCKED    CAR TYPE   CAR AGE   CITY  \\\n",
       "0      0.821159  Commercial       0.625235  Sports Car  0.260041  Texas   \n",
       "1     -1.017996     Private       0.852872     Minivan -1.015162  Texas   \n",
       "12    -0.004735     Private      -0.423418       z_SUV -1.015162  Texas   \n",
       "13     1.104882     Private       2.785898         Van  1.535245  Texas   \n",
       "14    -0.736860     Private       0.138089     Minivan  0.897643  Texas   \n",
       "\n",
       "    POSTEL CODE  \n",
       "0     -0.280748  \n",
       "1     -0.280748  \n",
       "12    -0.280748  \n",
       "13    -0.280748  \n",
       "14    -0.280748  "
      ]
     },
     "execution_count": 68,
     "metadata": {},
     "output_type": "execute_result"
    }
   ],
   "source": [
    "df.head()"
   ]
  },
  {
   "cell_type": "markdown",
   "metadata": {},
   "source": [
    "If you look at the variables INCOME, TRAVEL TIME, CAR AGE and POSTEL CODE all has been normalized and scaled in one scale now. "
   ]
  },
  {
   "cell_type": "markdown",
   "metadata": {},
   "source": [
    "# ENCODING\n",
    "\n",
    "One-Hot-Encoding is used to create dummy variables to replace the categories in a categorical variable into features of each category and represent it using 1 or 0 based on the presence or absence of the categorical value in the record.\n",
    "\n",
    "This is required to do since the machine learning algorithms only works on the numerica data. That is why there is a need to convert the categorical column into numerical one.\n",
    "\n",
    "get_dummies is the method which creates dummy variable for each categorical variable."
   ]
  },
  {
   "cell_type": "code",
   "execution_count": 71,
   "metadata": {},
   "outputs": [
    {
     "data": {
      "text/html": [
       "<div>\n",
       "<style scoped>\n",
       "    .dataframe tbody tr th:only-of-type {\n",
       "        vertical-align: middle;\n",
       "    }\n",
       "\n",
       "    .dataframe tbody tr th {\n",
       "        vertical-align: top;\n",
       "    }\n",
       "\n",
       "    .dataframe thead th {\n",
       "        text-align: right;\n",
       "    }\n",
       "</style>\n",
       "<table border=\"1\" class=\"dataframe\">\n",
       "  <thead>\n",
       "    <tr style=\"text-align: right;\">\n",
       "      <th></th>\n",
       "      <th>MAR_*****</th>\n",
       "      <th>MAR_No</th>\n",
       "      <th>MAR_Yes</th>\n",
       "      <th>MAR_z_No</th>\n",
       "      <th>EDU_*****</th>\n",
       "      <th>EDU_&lt;High School</th>\n",
       "      <th>EDU_Bachelors</th>\n",
       "      <th>EDU_Masters</th>\n",
       "      <th>EDU_PhD</th>\n",
       "      <th>EDU_z_High School</th>\n",
       "    </tr>\n",
       "  </thead>\n",
       "  <tbody>\n",
       "    <tr>\n",
       "      <th>0</th>\n",
       "      <td>0</td>\n",
       "      <td>0</td>\n",
       "      <td>0</td>\n",
       "      <td>1</td>\n",
       "      <td>0</td>\n",
       "      <td>0</td>\n",
       "      <td>1</td>\n",
       "      <td>0</td>\n",
       "      <td>0</td>\n",
       "      <td>0</td>\n",
       "    </tr>\n",
       "    <tr>\n",
       "      <th>1</th>\n",
       "      <td>0</td>\n",
       "      <td>0</td>\n",
       "      <td>0</td>\n",
       "      <td>1</td>\n",
       "      <td>0</td>\n",
       "      <td>0</td>\n",
       "      <td>0</td>\n",
       "      <td>0</td>\n",
       "      <td>0</td>\n",
       "      <td>1</td>\n",
       "    </tr>\n",
       "    <tr>\n",
       "      <th>12</th>\n",
       "      <td>0</td>\n",
       "      <td>0</td>\n",
       "      <td>1</td>\n",
       "      <td>0</td>\n",
       "      <td>1</td>\n",
       "      <td>0</td>\n",
       "      <td>0</td>\n",
       "      <td>0</td>\n",
       "      <td>0</td>\n",
       "      <td>0</td>\n",
       "    </tr>\n",
       "    <tr>\n",
       "      <th>13</th>\n",
       "      <td>0</td>\n",
       "      <td>0</td>\n",
       "      <td>1</td>\n",
       "      <td>0</td>\n",
       "      <td>0</td>\n",
       "      <td>0</td>\n",
       "      <td>0</td>\n",
       "      <td>1</td>\n",
       "      <td>0</td>\n",
       "      <td>0</td>\n",
       "    </tr>\n",
       "    <tr>\n",
       "      <th>14</th>\n",
       "      <td>0</td>\n",
       "      <td>0</td>\n",
       "      <td>0</td>\n",
       "      <td>1</td>\n",
       "      <td>0</td>\n",
       "      <td>0</td>\n",
       "      <td>1</td>\n",
       "      <td>0</td>\n",
       "      <td>0</td>\n",
       "      <td>0</td>\n",
       "    </tr>\n",
       "  </tbody>\n",
       "</table>\n",
       "</div>"
      ],
      "text/plain": [
       "    MAR_*****  MAR_No  MAR_Yes  MAR_z_No  EDU_*****  EDU_<High School  \\\n",
       "0           0       0        0         1          0                 0   \n",
       "1           0       0        0         1          0                 0   \n",
       "12          0       0        1         0          1                 0   \n",
       "13          0       0        1         0          0                 0   \n",
       "14          0       0        0         1          0                 0   \n",
       "\n",
       "    EDU_Bachelors  EDU_Masters  EDU_PhD  EDU_z_High School  \n",
       "0               1            0        0                  0  \n",
       "1               0            0        0                  1  \n",
       "12              0            0        0                  0  \n",
       "13              0            1        0                  0  \n",
       "14              1            0        0                  0  "
      ]
     },
     "execution_count": 71,
     "metadata": {},
     "output_type": "execute_result"
    }
   ],
   "source": [
    "dummies=pd.get_dummies(df[[\"MARITAL STATUS\",\"EDUCATION\"]],columns=['MARITAL STATUS','EDUCATION'],prefix=['MAR','EDU']).head()\n",
    "dummies.head()"
   ]
  },
  {
   "cell_type": "code",
   "execution_count": 72,
   "metadata": {},
   "outputs": [
    {
     "data": {
      "text/html": [
       "<div>\n",
       "<style scoped>\n",
       "    .dataframe tbody tr th:only-of-type {\n",
       "        vertical-align: middle;\n",
       "    }\n",
       "\n",
       "    .dataframe tbody tr th {\n",
       "        vertical-align: top;\n",
       "    }\n",
       "\n",
       "    .dataframe thead th {\n",
       "        text-align: right;\n",
       "    }\n",
       "</style>\n",
       "<table border=\"1\" class=\"dataframe\">\n",
       "  <thead>\n",
       "    <tr style=\"text-align: right;\">\n",
       "      <th></th>\n",
       "      <th>INDEX</th>\n",
       "      <th>INCOME</th>\n",
       "      <th>MARITAL STATUS</th>\n",
       "      <th>SEX</th>\n",
       "      <th>EDUCATION</th>\n",
       "      <th>JOB</th>\n",
       "      <th>TRAVEL TIME</th>\n",
       "      <th>USE</th>\n",
       "      <th>MILES CLOCKED</th>\n",
       "      <th>CAR TYPE</th>\n",
       "      <th>CAR AGE</th>\n",
       "      <th>CITY</th>\n",
       "      <th>POSTEL CODE</th>\n",
       "    </tr>\n",
       "  </thead>\n",
       "  <tbody>\n",
       "    <tr>\n",
       "      <th>0</th>\n",
       "      <td>1</td>\n",
       "      <td>2.488067</td>\n",
       "      <td>z_No</td>\n",
       "      <td>z_F</td>\n",
       "      <td>Bachelors</td>\n",
       "      <td>z_Blue Collar</td>\n",
       "      <td>0.821159</td>\n",
       "      <td>Commercial</td>\n",
       "      <td>0.625235</td>\n",
       "      <td>Sports Car</td>\n",
       "      <td>0.260041</td>\n",
       "      <td>Texas</td>\n",
       "      <td>-0.280748</td>\n",
       "    </tr>\n",
       "    <tr>\n",
       "      <th>1</th>\n",
       "      <td>2</td>\n",
       "      <td>0.331848</td>\n",
       "      <td>z_No</td>\n",
       "      <td>M</td>\n",
       "      <td>z_High School</td>\n",
       "      <td>22</td>\n",
       "      <td>-1.017996</td>\n",
       "      <td>Private</td>\n",
       "      <td>0.852872</td>\n",
       "      <td>Minivan</td>\n",
       "      <td>-1.015162</td>\n",
       "      <td>Texas</td>\n",
       "      <td>-0.280748</td>\n",
       "    </tr>\n",
       "  </tbody>\n",
       "</table>\n",
       "</div>"
      ],
      "text/plain": [
       "   INDEX    INCOME MARITAL STATUS  SEX      EDUCATION            JOB  \\\n",
       "0      1  2.488067           z_No  z_F      Bachelors  z_Blue Collar   \n",
       "1      2  0.331848           z_No    M  z_High School             22   \n",
       "\n",
       "   TRAVEL TIME         USE  MILES CLOCKED    CAR TYPE   CAR AGE   CITY  \\\n",
       "0     0.821159  Commercial       0.625235  Sports Car  0.260041  Texas   \n",
       "1    -1.017996     Private       0.852872     Minivan -1.015162  Texas   \n",
       "\n",
       "   POSTEL CODE  \n",
       "0    -0.280748  \n",
       "1    -0.280748  "
      ]
     },
     "execution_count": 72,
     "metadata": {},
     "output_type": "execute_result"
    }
   ],
   "source": [
    "df.head(2)"
   ]
  },
  {
   "cell_type": "code",
   "execution_count": 181,
   "metadata": {},
   "outputs": [],
   "source": [
    "columns=['MARITAL STATUS','EDUCATION']\n",
    "df=pd.concat([df,dummies],axis=1)\n",
    "df.drop(columns,axis=1,inplace=True)"
   ]
  },
  {
   "cell_type": "code",
   "execution_count": 182,
   "metadata": {},
   "outputs": [
    {
     "data": {
      "text/html": [
       "<div>\n",
       "<style scoped>\n",
       "    .dataframe tbody tr th:only-of-type {\n",
       "        vertical-align: middle;\n",
       "    }\n",
       "\n",
       "    .dataframe tbody tr th {\n",
       "        vertical-align: top;\n",
       "    }\n",
       "\n",
       "    .dataframe thead th {\n",
       "        text-align: right;\n",
       "    }\n",
       "</style>\n",
       "<table border=\"1\" class=\"dataframe\">\n",
       "  <thead>\n",
       "    <tr style=\"text-align: right;\">\n",
       "      <th></th>\n",
       "      <th>INDEX</th>\n",
       "      <th>INCOME</th>\n",
       "      <th>SEX</th>\n",
       "      <th>JOB</th>\n",
       "      <th>TRAVEL TIME</th>\n",
       "      <th>USE</th>\n",
       "      <th>MILES CLOCKED</th>\n",
       "      <th>CAR TYPE</th>\n",
       "      <th>CAR AGE</th>\n",
       "      <th>CITY</th>\n",
       "      <th>POSTEL CODE</th>\n",
       "      <th>CAR AGE BIN</th>\n",
       "      <th>MAR_No</th>\n",
       "      <th>MAR_Yes</th>\n",
       "      <th>MAR_z_No</th>\n",
       "      <th>EDU_&lt;High School</th>\n",
       "      <th>EDU_Bachelors</th>\n",
       "      <th>EDU_Masters</th>\n",
       "      <th>EDU_PhD</th>\n",
       "      <th>EDU_z_High School</th>\n",
       "    </tr>\n",
       "  </thead>\n",
       "  <tbody>\n",
       "    <tr>\n",
       "      <td>0</td>\n",
       "      <td>1</td>\n",
       "      <td>2.465267</td>\n",
       "      <td>z_F</td>\n",
       "      <td>z_Blue Collar</td>\n",
       "      <td>0.821009</td>\n",
       "      <td>Commercial</td>\n",
       "      <td>0.613079</td>\n",
       "      <td>Sports Car</td>\n",
       "      <td>0.259331</td>\n",
       "      <td>Texas</td>\n",
       "      <td>-0.278955</td>\n",
       "      <td>Moderate</td>\n",
       "      <td>0.0</td>\n",
       "      <td>0.0</td>\n",
       "      <td>1.0</td>\n",
       "      <td>0.0</td>\n",
       "      <td>1.0</td>\n",
       "      <td>0.0</td>\n",
       "      <td>0.0</td>\n",
       "      <td>0.0</td>\n",
       "    </tr>\n",
       "    <tr>\n",
       "      <td>1</td>\n",
       "      <td>2</td>\n",
       "      <td>0.298095</td>\n",
       "      <td>M</td>\n",
       "      <td>22</td>\n",
       "      <td>-1.036389</td>\n",
       "      <td>Private</td>\n",
       "      <td>0.837218</td>\n",
       "      <td>Minivan</td>\n",
       "      <td>-1.038759</td>\n",
       "      <td>Texas</td>\n",
       "      <td>-0.278955</td>\n",
       "      <td>New</td>\n",
       "      <td>0.0</td>\n",
       "      <td>0.0</td>\n",
       "      <td>1.0</td>\n",
       "      <td>0.0</td>\n",
       "      <td>0.0</td>\n",
       "      <td>0.0</td>\n",
       "      <td>0.0</td>\n",
       "      <td>1.0</td>\n",
       "    </tr>\n",
       "    <tr>\n",
       "      <td>13</td>\n",
       "      <td>14</td>\n",
       "      <td>0.730363</td>\n",
       "      <td>z_F</td>\n",
       "      <td>Lawyer</td>\n",
       "      <td>1.107546</td>\n",
       "      <td>Private</td>\n",
       "      <td>2.638922</td>\n",
       "      <td>Van</td>\n",
       "      <td>1.557422</td>\n",
       "      <td>Texas</td>\n",
       "      <td>-0.278955</td>\n",
       "      <td>Moderate</td>\n",
       "      <td>0.0</td>\n",
       "      <td>1.0</td>\n",
       "      <td>0.0</td>\n",
       "      <td>0.0</td>\n",
       "      <td>0.0</td>\n",
       "      <td>1.0</td>\n",
       "      <td>0.0</td>\n",
       "      <td>0.0</td>\n",
       "    </tr>\n",
       "    <tr>\n",
       "      <td>14</td>\n",
       "      <td>15</td>\n",
       "      <td>-0.582311</td>\n",
       "      <td>M</td>\n",
       "      <td>Clerical</td>\n",
       "      <td>-0.752464</td>\n",
       "      <td>Private</td>\n",
       "      <td>0.133422</td>\n",
       "      <td>Minivan</td>\n",
       "      <td>0.908377</td>\n",
       "      <td>Texas</td>\n",
       "      <td>-0.278955</td>\n",
       "      <td>Moderate</td>\n",
       "      <td>0.0</td>\n",
       "      <td>0.0</td>\n",
       "      <td>1.0</td>\n",
       "      <td>0.0</td>\n",
       "      <td>1.0</td>\n",
       "      <td>0.0</td>\n",
       "      <td>0.0</td>\n",
       "      <td>0.0</td>\n",
       "    </tr>\n",
       "    <tr>\n",
       "      <td>15</td>\n",
       "      <td>16</td>\n",
       "      <td>-0.688855</td>\n",
       "      <td>z_F</td>\n",
       "      <td>Home Maker</td>\n",
       "      <td>0.836150</td>\n",
       "      <td>Private</td>\n",
       "      <td>-0.963365</td>\n",
       "      <td>z_SUV</td>\n",
       "      <td>-1.038759</td>\n",
       "      <td>Texas</td>\n",
       "      <td>-0.278955</td>\n",
       "      <td>New</td>\n",
       "      <td>0.0</td>\n",
       "      <td>1.0</td>\n",
       "      <td>0.0</td>\n",
       "      <td>0.0</td>\n",
       "      <td>0.0</td>\n",
       "      <td>0.0</td>\n",
       "      <td>0.0</td>\n",
       "      <td>1.0</td>\n",
       "    </tr>\n",
       "  </tbody>\n",
       "</table>\n",
       "</div>"
      ],
      "text/plain": [
       "    INDEX    INCOME  SEX            JOB  TRAVEL TIME         USE  \\\n",
       "0       1  2.465267  z_F  z_Blue Collar     0.821009  Commercial   \n",
       "1       2  0.298095    M             22    -1.036389     Private   \n",
       "13     14  0.730363  z_F         Lawyer     1.107546     Private   \n",
       "14     15 -0.582311    M       Clerical    -0.752464     Private   \n",
       "15     16 -0.688855  z_F     Home Maker     0.836150     Private   \n",
       "\n",
       "    MILES CLOCKED    CAR TYPE   CAR AGE   CITY  POSTEL CODE CAR AGE BIN  \\\n",
       "0        0.613079  Sports Car  0.259331  Texas    -0.278955    Moderate   \n",
       "1        0.837218     Minivan -1.038759  Texas    -0.278955         New   \n",
       "13       2.638922         Van  1.557422  Texas    -0.278955    Moderate   \n",
       "14       0.133422     Minivan  0.908377  Texas    -0.278955    Moderate   \n",
       "15      -0.963365       z_SUV -1.038759  Texas    -0.278955         New   \n",
       "\n",
       "    MAR_No  MAR_Yes  MAR_z_No  EDU_<High School  EDU_Bachelors  EDU_Masters  \\\n",
       "0      0.0      0.0       1.0               0.0            1.0          0.0   \n",
       "1      0.0      0.0       1.0               0.0            0.0          0.0   \n",
       "13     0.0      1.0       0.0               0.0            0.0          1.0   \n",
       "14     0.0      0.0       1.0               0.0            1.0          0.0   \n",
       "15     0.0      1.0       0.0               0.0            0.0          0.0   \n",
       "\n",
       "    EDU_PhD  EDU_z_High School  \n",
       "0       0.0                0.0  \n",
       "1       0.0                1.0  \n",
       "13      0.0                0.0  \n",
       "14      0.0                0.0  \n",
       "15      0.0                1.0  "
      ]
     },
     "execution_count": 182,
     "metadata": {},
     "output_type": "execute_result"
    }
   ],
   "source": [
    "df.head()"
   ]
  },
  {
   "cell_type": "markdown",
   "metadata": {},
   "source": [
    "In the data set above married_No, married yes and all such columns are the dummy variables which we have just created."
   ]
  },
  {
   "cell_type": "code",
   "execution_count": 78,
   "metadata": {},
   "outputs": [
    {
     "data": {
      "text/html": [
       "<div>\n",
       "<style scoped>\n",
       "    .dataframe tbody tr th:only-of-type {\n",
       "        vertical-align: middle;\n",
       "    }\n",
       "\n",
       "    .dataframe tbody tr th {\n",
       "        vertical-align: top;\n",
       "    }\n",
       "\n",
       "    .dataframe thead th {\n",
       "        text-align: right;\n",
       "    }\n",
       "</style>\n",
       "<table border=\"1\" class=\"dataframe\">\n",
       "  <thead>\n",
       "    <tr style=\"text-align: right;\">\n",
       "      <th></th>\n",
       "      <th>INDEX</th>\n",
       "      <th>INCOME</th>\n",
       "      <th>MARITAL STATUS</th>\n",
       "      <th>SEX</th>\n",
       "      <th>EDUCATION</th>\n",
       "      <th>JOB</th>\n",
       "      <th>TRAVEL TIME</th>\n",
       "      <th>USE</th>\n",
       "      <th>MILES CLOCKED</th>\n",
       "      <th>CAR TYPE</th>\n",
       "      <th>CAR AGE</th>\n",
       "      <th>CITY</th>\n",
       "      <th>POSTEL CODE</th>\n",
       "    </tr>\n",
       "  </thead>\n",
       "  <tbody>\n",
       "    <tr>\n",
       "      <th>0</th>\n",
       "      <td>1</td>\n",
       "      <td>125301</td>\n",
       "      <td>z_No</td>\n",
       "      <td>z_F</td>\n",
       "      <td>Bachelors</td>\n",
       "      <td>z_Blue Collar</td>\n",
       "      <td>45.703</td>\n",
       "      <td>Commercial</td>\n",
       "      <td>17430</td>\n",
       "      <td>Sports Car</td>\n",
       "      <td>7.0</td>\n",
       "      <td>Texas</td>\n",
       "      <td>42420.0</td>\n",
       "    </tr>\n",
       "    <tr>\n",
       "      <th>1</th>\n",
       "      <td>2</td>\n",
       "      <td>50815.4</td>\n",
       "      <td>z_No</td>\n",
       "      <td>M</td>\n",
       "      <td>z_High School</td>\n",
       "      <td>22</td>\n",
       "      <td>20.5916</td>\n",
       "      <td>Private</td>\n",
       "      <td>18930</td>\n",
       "      <td>Minivan</td>\n",
       "      <td>1.0</td>\n",
       "      <td>Texas</td>\n",
       "      <td>42420.0</td>\n",
       "    </tr>\n",
       "  </tbody>\n",
       "</table>\n",
       "</div>"
      ],
      "text/plain": [
       "   INDEX   INCOME MARITAL STATUS  SEX      EDUCATION            JOB  \\\n",
       "0      1   125301           z_No  z_F      Bachelors  z_Blue Collar   \n",
       "1      2  50815.4           z_No    M  z_High School             22   \n",
       "\n",
       "  TRAVEL TIME         USE MILES CLOCKED    CAR TYPE  CAR AGE   CITY  \\\n",
       "0      45.703  Commercial         17430  Sports Car      7.0  Texas   \n",
       "1     20.5916     Private         18930     Minivan      1.0  Texas   \n",
       "\n",
       "   POSTEL CODE  \n",
       "0      42420.0  \n",
       "1      42420.0  "
      ]
     },
     "execution_count": 78,
     "metadata": {},
     "output_type": "execute_result"
    }
   ],
   "source": [
    "df.head(2)"
   ]
  },
  {
   "cell_type": "code",
   "execution_count": 79,
   "metadata": {},
   "outputs": [],
   "source": [
    "cut_labels_3=['New','Moderate','Old']\n",
    "cut_bins=[0,5,10,20]\n",
    "df['CAR AGE BIN']=pd.cut(df['CAR AGE'],bins=cut_bins,labels=cut_labels_3)"
   ]
  },
  {
   "cell_type": "code",
   "execution_count": 80,
   "metadata": {},
   "outputs": [
    {
     "data": {
      "text/html": [
       "<div>\n",
       "<style scoped>\n",
       "    .dataframe tbody tr th:only-of-type {\n",
       "        vertical-align: middle;\n",
       "    }\n",
       "\n",
       "    .dataframe tbody tr th {\n",
       "        vertical-align: top;\n",
       "    }\n",
       "\n",
       "    .dataframe thead th {\n",
       "        text-align: right;\n",
       "    }\n",
       "</style>\n",
       "<table border=\"1\" class=\"dataframe\">\n",
       "  <thead>\n",
       "    <tr style=\"text-align: right;\">\n",
       "      <th></th>\n",
       "      <th>INDEX</th>\n",
       "      <th>INCOME</th>\n",
       "      <th>MARITAL STATUS</th>\n",
       "      <th>SEX</th>\n",
       "      <th>EDUCATION</th>\n",
       "      <th>JOB</th>\n",
       "      <th>TRAVEL TIME</th>\n",
       "      <th>USE</th>\n",
       "      <th>MILES CLOCKED</th>\n",
       "      <th>CAR TYPE</th>\n",
       "      <th>CAR AGE</th>\n",
       "      <th>CITY</th>\n",
       "      <th>POSTEL CODE</th>\n",
       "      <th>CAR AGE BIN</th>\n",
       "    </tr>\n",
       "  </thead>\n",
       "  <tbody>\n",
       "    <tr>\n",
       "      <th>0</th>\n",
       "      <td>1</td>\n",
       "      <td>125301</td>\n",
       "      <td>z_No</td>\n",
       "      <td>z_F</td>\n",
       "      <td>Bachelors</td>\n",
       "      <td>z_Blue Collar</td>\n",
       "      <td>45.703</td>\n",
       "      <td>Commercial</td>\n",
       "      <td>17430</td>\n",
       "      <td>Sports Car</td>\n",
       "      <td>7.0</td>\n",
       "      <td>Texas</td>\n",
       "      <td>42420.0</td>\n",
       "      <td>Moderate</td>\n",
       "    </tr>\n",
       "    <tr>\n",
       "      <th>1</th>\n",
       "      <td>2</td>\n",
       "      <td>50815.4</td>\n",
       "      <td>z_No</td>\n",
       "      <td>M</td>\n",
       "      <td>z_High School</td>\n",
       "      <td>22</td>\n",
       "      <td>20.5916</td>\n",
       "      <td>Private</td>\n",
       "      <td>18930</td>\n",
       "      <td>Minivan</td>\n",
       "      <td>1.0</td>\n",
       "      <td>Texas</td>\n",
       "      <td>42420.0</td>\n",
       "      <td>New</td>\n",
       "    </tr>\n",
       "    <tr>\n",
       "      <th>12</th>\n",
       "      <td>13</td>\n",
       "      <td>16352</td>\n",
       "      <td>Yes</td>\n",
       "      <td>z_F</td>\n",
       "      <td>*****</td>\n",
       "      <td>Home Maker</td>\n",
       "      <td>*****</td>\n",
       "      <td>Private</td>\n",
       "      <td>10520</td>\n",
       "      <td>z_SUV</td>\n",
       "      <td>1.0</td>\n",
       "      <td>Texas</td>\n",
       "      <td>42420.0</td>\n",
       "      <td>New</td>\n",
       "    </tr>\n",
       "    <tr>\n",
       "      <th>13</th>\n",
       "      <td>14</td>\n",
       "      <td>63952.2</td>\n",
       "      <td>Yes</td>\n",
       "      <td>z_F</td>\n",
       "      <td>Masters</td>\n",
       "      <td>Lawyer</td>\n",
       "      <td>49.5769</td>\n",
       "      <td>Private</td>\n",
       "      <td>32340</td>\n",
       "      <td>Van</td>\n",
       "      <td>13.0</td>\n",
       "      <td>Texas</td>\n",
       "      <td>42420.0</td>\n",
       "      <td>Old</td>\n",
       "    </tr>\n",
       "    <tr>\n",
       "      <th>14</th>\n",
       "      <td>15</td>\n",
       "      <td>24059.7</td>\n",
       "      <td>z_No</td>\n",
       "      <td>M</td>\n",
       "      <td>Bachelors</td>\n",
       "      <td>Clerical</td>\n",
       "      <td>24.4302</td>\n",
       "      <td>Private</td>\n",
       "      <td>14220</td>\n",
       "      <td>Minivan</td>\n",
       "      <td>10.0</td>\n",
       "      <td>Texas</td>\n",
       "      <td>42420.0</td>\n",
       "      <td>Moderate</td>\n",
       "    </tr>\n",
       "  </tbody>\n",
       "</table>\n",
       "</div>"
      ],
      "text/plain": [
       "    INDEX   INCOME MARITAL STATUS  SEX      EDUCATION            JOB  \\\n",
       "0       1   125301           z_No  z_F      Bachelors  z_Blue Collar   \n",
       "1       2  50815.4           z_No    M  z_High School             22   \n",
       "12     13    16352            Yes  z_F          *****     Home Maker   \n",
       "13     14  63952.2            Yes  z_F        Masters         Lawyer   \n",
       "14     15  24059.7           z_No    M      Bachelors       Clerical   \n",
       "\n",
       "   TRAVEL TIME         USE MILES CLOCKED    CAR TYPE  CAR AGE   CITY  \\\n",
       "0       45.703  Commercial         17430  Sports Car      7.0  Texas   \n",
       "1      20.5916     Private         18930     Minivan      1.0  Texas   \n",
       "12       *****     Private         10520       z_SUV      1.0  Texas   \n",
       "13     49.5769     Private         32340         Van     13.0  Texas   \n",
       "14     24.4302     Private         14220     Minivan     10.0  Texas   \n",
       "\n",
       "    POSTEL CODE CAR AGE BIN  \n",
       "0       42420.0    Moderate  \n",
       "1       42420.0         New  \n",
       "12      42420.0         New  \n",
       "13      42420.0         Old  \n",
       "14      42420.0    Moderate  "
      ]
     },
     "execution_count": 80,
     "metadata": {},
     "output_type": "execute_result"
    }
   ],
   "source": [
    "df.head()"
   ]
  },
  {
   "cell_type": "code",
   "execution_count": 81,
   "metadata": {},
   "outputs": [],
   "source": [
    "df.to_csv(r'C:\\Users\\Karuna\\export_data2.csv',index=False,header=True)"
   ]
  },
  {
   "cell_type": "code",
   "execution_count": null,
   "metadata": {},
   "outputs": [],
   "source": []
  }
 ],
 "metadata": {
  "kernelspec": {
   "display_name": "Python 3",
   "language": "python",
   "name": "python3"
  },
  "language_info": {
   "codemirror_mode": {
    "name": "ipython",
    "version": 3
   },
   "file_extension": ".py",
   "mimetype": "text/x-python",
   "name": "python",
   "nbconvert_exporter": "python",
   "pygments_lexer": "ipython3",
   "version": "3.7.6"
  }
 },
 "nbformat": 4,
 "nbformat_minor": 2
}
