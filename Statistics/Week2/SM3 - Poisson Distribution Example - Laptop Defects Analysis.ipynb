{
 "cells": [
  {
   "cell_type": "markdown",
   "metadata": {},
   "source": [
    "## Problem Statement - Poisson Distribution\n",
    "\n",
    "A Laptop Assembly unit is permorning a Defects Analysis, to understand the number of defects that could happen for a given defective laptop. It is noted from past quality & audit data that 12 defects are noticed on an average for a defective Laptop, calculate\n",
    "\n",
    "  - Probability that a defective laptop has exactly 5 defects\n",
    "  - Probability that a defective laptop has less than 5 defects\n",
    "\n",
    "Work out using Python"
   ]
  },
  {
   "cell_type": "code",
   "execution_count": 2,
   "metadata": {},
   "outputs": [],
   "source": [
    "import numpy as np\n",
    "import scipy.stats as stats\n",
    "import matplotlib.pyplot as plt"
   ]
  },
  {
   "cell_type": "code",
   "execution_count": 3,
   "metadata": {},
   "outputs": [],
   "source": [
    "rate=12"
   ]
  },
  {
   "cell_type": "code",
   "execution_count": 4,
   "metadata": {},
   "outputs": [],
   "source": [
    "n=np.arange(0,100)"
   ]
  },
  {
   "cell_type": "code",
   "execution_count": 5,
   "metadata": {},
   "outputs": [],
   "source": [
    "poisson = stats.poisson.pmf(n,rate)"
   ]
  },
  {
   "cell_type": "code",
   "execution_count": 6,
   "metadata": {},
   "outputs": [
    {
     "data": {
      "text/plain": [
       "array([6.14421235e-06, 7.37305482e-05, 4.42383289e-04, 1.76953316e-03,\n",
       "       5.30859947e-03, 1.27406387e-02, 2.54812775e-02, 4.36821900e-02,\n",
       "       6.55232849e-02, 8.73643799e-02, 1.04837256e-01, 1.14367916e-01,\n",
       "       1.14367916e-01, 1.05570384e-01, 9.04889002e-02, 7.23911201e-02,\n",
       "       5.42933401e-02, 3.83247107e-02, 2.55498071e-02, 1.61367203e-02,\n",
       "       9.68203217e-03, 5.53258981e-03, 3.01777626e-03, 1.57449196e-03,\n",
       "       7.87245981e-04, 3.77878071e-04, 1.74405263e-04, 7.75134504e-05,\n",
       "       3.32200502e-05, 1.37462277e-05, 5.49849106e-06, 2.12844815e-06,\n",
       "       7.98168058e-07, 2.90242930e-07, 1.02438681e-07, 3.51218336e-08,\n",
       "       1.17072779e-08, 3.79695498e-09, 1.19903841e-09, 3.68934897e-10,\n",
       "       1.10680469e-10, 3.23942836e-11, 9.25550961e-12, 2.58293291e-12,\n",
       "       7.04436249e-13, 1.87849666e-13, 4.90042608e-14, 1.25117262e-14,\n",
       "       3.12793154e-15, 7.66024051e-16, 1.83845772e-16, 4.32578288e-17,\n",
       "       9.98257587e-18, 2.26020586e-18, 5.02267968e-19, 1.09585738e-19,\n",
       "       2.34826582e-20, 4.94371753e-21, 1.02283811e-21, 2.08034870e-22,\n",
       "       4.16069739e-23, 8.18497848e-24, 1.58418938e-24, 3.01750359e-25,\n",
       "       5.65781922e-26, 1.04452047e-26, 1.89912813e-27, 3.40142352e-28,\n",
       "       6.00251209e-29, 1.04391515e-29, 1.78956882e-30, 3.02462336e-31,\n",
       "       5.04103893e-32, 8.28663934e-33, 1.34377935e-33, 2.15004697e-34,\n",
       "       3.39481100e-35, 5.29061454e-36, 8.13940699e-37, 1.23636562e-37,\n",
       "       1.85454843e-38, 2.74747915e-39, 4.02070120e-40, 5.81306197e-41,\n",
       "       8.30437425e-42, 1.17238225e-42, 1.63588220e-43, 2.25638925e-44,\n",
       "       3.07689443e-45, 4.14862170e-46, 5.53149560e-47, 7.29427991e-48,\n",
       "       9.51427815e-49, 1.22764879e-49, 1.56721123e-50, 1.97963523e-51,\n",
       "       2.47454404e-52, 3.06129160e-53, 3.74852032e-54, 4.54366100e-55])"
      ]
     },
     "execution_count": 6,
     "metadata": {},
     "output_type": "execute_result"
    }
   ],
   "source": [
    "poisson"
   ]
  },
  {
   "cell_type": "code",
   "execution_count": 7,
   "metadata": {},
   "outputs": [
    {
     "data": {
      "text/plain": [
       "0.012740638735861376"
      ]
     },
     "execution_count": 7,
     "metadata": {},
     "output_type": "execute_result"
    }
   ],
   "source": [
    "poisson[5]"
   ]
  },
  {
   "cell_type": "code",
   "execution_count": 10,
   "metadata": {},
   "outputs": [
    {
     "data": {
      "text/plain": [
       "0.007600390681067"
      ]
     },
     "execution_count": 10,
     "metadata": {},
     "output_type": "execute_result"
    }
   ],
   "source": [
    "poisson[0] + poisson[1] + poisson[2] + poisson[3] + poisson[4]\n",
    "# sum(poisson[0:5])"
   ]
  },
  {
   "cell_type": "code",
   "execution_count": 48,
   "metadata": {},
   "outputs": [
    {
     "data": {
      "image/png": "[encoded data removed]",
      "text/plain": [
       "<Figure size 432x288 with 1 Axes>"
      ]
     },
     "metadata": {
      "needs_background": "light"
     },
     "output_type": "display_data"
    }
   ],
   "source": [
    "plt.plot(n,poisson, 'o-')\n",
    "plt.show()"
   ]
  },
  {
   "cell_type": "code",
   "execution_count": null,
   "metadata": {
    "collapsed": true
   },
   "outputs": [],
   "source": []
  }
 ],
 "metadata": {
  "kernelspec": {
   "display_name": "Python 3",
   "language": "python",
   "name": "python3"
  },
  "language_info": {
   "codemirror_mode": {
    "name": "ipython",
    "version": 3
   },
   "file_extension": ".py",
   "mimetype": "text/x-python",
   "name": "python",
   "nbconvert_exporter": "python",
   "pygments_lexer": "ipython3",
   "version": "3.7.6"
  },
  "toc": {
   "base_numbering": 1,
   "nav_menu": {},
   "number_sections": true,
   "sideBar": true,
   "skip_h1_title": false,
   "title_cell": "Table of Contents",
   "title_sidebar": "Contents",
   "toc_cell": false,
   "toc_position": {},
   "toc_section_display": true,
   "toc_window_display": false
  },
  "varInspector": {
   "cols": {
    "lenName": 16,
    "lenType": 16,
    "lenVar": 40
   },
   "kernels_config": {
    "python": {
     "delete_cmd_postfix": "",
     "delete_cmd_prefix": "del ",
     "library": "var_list.py",
     "varRefreshCmd": "print(var_dic_list())"
    },
    "r": {
     "delete_cmd_postfix": ") ",
     "delete_cmd_prefix": "rm(",
     "library": "var_list.r",
     "varRefreshCmd": "cat(var_dic_list()) "
    }
   },
   "types_to_exclude": [
    "module",
    "function",
    "builtin_function_or_method",
    "instance",
    "_Feature"
   ],
   "window_display": false
  }
 },
 "nbformat": 4,
 "nbformat_minor": 2
}
