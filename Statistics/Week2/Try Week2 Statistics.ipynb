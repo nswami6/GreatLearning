{
 "cells": [
  {
   "cell_type": "code",
   "execution_count": 6,
   "metadata": {},
   "outputs": [],
   "source": [
    "import numpy as np\n",
    "import scipy.stats as stats\n",
    "import matplotlib.pyplot as plt"
   ]
  },
  {
   "cell_type": "code",
   "execution_count": 19,
   "metadata": {},
   "outputs": [],
   "source": [
    "p=0.75"
   ]
  },
  {
   "cell_type": "code",
   "execution_count": 18,
   "metadata": {},
   "outputs": [],
   "source": [
    "k=np.arange(0,8)\n",
    "n=7"
   ]
  },
  {
   "cell_type": "code",
   "execution_count": 20,
   "metadata": {},
   "outputs": [
    {
     "name": "stdout",
     "output_type": "stream",
     "text": [
      "[6.10351563e-05 1.28173828e-03 1.15356445e-02 5.76782227e-02\n",
      " 1.73034668e-01 3.11462402e-01 3.11462402e-01 1.33483887e-01]\n"
     ]
    },
    {
     "data": {
      "text/plain": [
       "0.07055664062500004"
      ]
     },
     "execution_count": 20,
     "metadata": {},
     "output_type": "execute_result"
    }
   ],
   "source": [
    "binomial = stats.binom.pmf(k,n,p)\n",
    "\n",
    "print(binomial)\n",
    "binomial[0]+binomial[1]+binomial[2]+binomial[3]"
   ]
  },
  {
   "cell_type": "code",
   "execution_count": 16,
   "metadata": {},
   "outputs": [
    {
     "name": "stdout",
     "output_type": "stream",
     "text": [
      "[3.51995628e-01 3.83995231e-01 1.91997615e-01 5.81810955e-02\n",
      " 1.19006786e-02 1.73100780e-03 1.83591736e-04 1.43058496e-05\n",
      " 8.12832363e-07 3.28417117e-08 8.95683045e-10 1.48046784e-11\n",
      " 1.12156655e-13]\n"
     ]
    },
    {
     "data": {
      "text/plain": [
       "0.986169569394978"
      ]
     },
     "execution_count": 16,
     "metadata": {},
     "output_type": "execute_result"
    }
   ],
   "source": [
    "p=1/12\n",
    "n=12\n",
    "k=np.arange(0,13)\n",
    "binomial = stats.binom.pmf(k,n,p)\n",
    "print(binomial)\n",
    "binomial[0]+binomial[1]+binomial[2]+binomial[3]"
   ]
  }
 ],
 "metadata": {
  "kernelspec": {
   "display_name": "Python 3",
   "language": "python",
   "name": "python3"
  },
  "language_info": {
   "codemirror_mode": {
    "name": "ipython",
    "version": 3
   },
   "file_extension": ".py",
   "mimetype": "text/x-python",
   "name": "python",
   "nbconvert_exporter": "python",
   "pygments_lexer": "ipython3",
   "version": "3.7.6"
  }
 },
 "nbformat": 4,
 "nbformat_minor": 4
}
