{
 "cells": [
  {
   "cell_type": "markdown",
   "metadata": {},
   "source": [
    "## One sample testing"
   ]
  },
  {
   "cell_type": "markdown",
   "metadata": {},
   "source": [
    "In one sample test, we compare the population parameter such as mean of a single sample of data collected from a single population. \n",
    "\n",
    "\n",
    "### Very rarely we know the variance of the population. \n",
    "\n",
    "A common strategy to assess hypothesis is to conduct a t test. A t test can tell whether two groups have the same mean. \n",
    "A t test can be estimated for:\n",
    "* 1) One sample t test\n",
    "* 2) Two sample t test (including paired t test)\n",
    "\n",
    "We assume that the samples are randomly selected, independent and come from a normally distributed population with unknown but equal variances."
   ]
  },
  {
   "cell_type": "markdown",
   "metadata": {},
   "source": [
    "# Example 1: T-test (sigma of the population is unknown)"
   ]
  },
  {
   "cell_type": "markdown",
   "metadata": {},
   "source": [
    "Experian Marketing Services reported that the typical American spends a mean of 144 minutes (2.4 hours) per day accessing the Internet via a mobile device. (Source: The 2014 Digital Marketer, available at ex.pn/IkXJjfX.) In order to test the validity of this statement, you select a sample of 30 friends and family. The results for the time spent per day accessing the Internet via mobile device (in minutes) are stored in InternetMobileTime \n",
    "\n",
    "a. Is there evidence that the population mean time spent per day accessing the Internet via mobile device is different from 144 minutes? Use the p-value approach and a level of significance of 0.05. \n",
    "\n",
    "b. What assumption about the population distribution is needed in order to conduct the t test in (a)? \n",
    "Problem 9.35 from the Textbook adapted for Classroom Discussion(Chapter 9-page 314) \n"
   ]
  },
  {
   "cell_type": "code",
   "execution_count": 1,
   "metadata": {
    "ExecuteTime": {
     "end_time": "2020-05-12T08:39:10.385004Z",
     "start_time": "2020-05-12T08:39:07.270284Z"
    }
   },
   "outputs": [],
   "source": [
    "import numpy as np\n",
    "import pandas as pd\n",
    "import math\n",
    "from scipy import stats\n",
    "from scipy.stats import   ttest_1samp"
   ]
  },
  {
   "cell_type": "code",
   "execution_count": 2,
   "metadata": {
    "ExecuteTime": {
     "end_time": "2020-05-12T08:39:10.606474Z",
     "start_time": "2020-05-12T08:39:10.476659Z"
    }
   },
   "outputs": [
    {
     "data": {
      "text/html": [
       "<div>\n",
       "<style scoped>\n",
       "    .dataframe tbody tr th:only-of-type {\n",
       "        vertical-align: middle;\n",
       "    }\n",
       "\n",
       "    .dataframe tbody tr th {\n",
       "        vertical-align: top;\n",
       "    }\n",
       "\n",
       "    .dataframe thead th {\n",
       "        text-align: right;\n",
       "    }\n",
       "</style>\n",
       "<table border=\"1\" class=\"dataframe\">\n",
       "  <thead>\n",
       "    <tr style=\"text-align: right;\">\n",
       "      <th></th>\n",
       "      <th>Minutes</th>\n",
       "    </tr>\n",
       "  </thead>\n",
       "  <tbody>\n",
       "    <tr>\n",
       "      <th>0</th>\n",
       "      <td>72</td>\n",
       "    </tr>\n",
       "    <tr>\n",
       "      <th>1</th>\n",
       "      <td>144</td>\n",
       "    </tr>\n",
       "    <tr>\n",
       "      <th>2</th>\n",
       "      <td>48</td>\n",
       "    </tr>\n",
       "    <tr>\n",
       "      <th>3</th>\n",
       "      <td>72</td>\n",
       "    </tr>\n",
       "    <tr>\n",
       "      <th>4</th>\n",
       "      <td>36</td>\n",
       "    </tr>\n",
       "  </tbody>\n",
       "</table>\n",
       "</div>"
      ],
      "text/plain": [
       "   Minutes\n",
       "0       72\n",
       "1      144\n",
       "2       48\n",
       "3       72\n",
       "4       36"
      ]
     },
     "execution_count": 2,
     "metadata": {},
     "output_type": "execute_result"
    }
   ],
   "source": [
    "mydata = pd.read_csv('InternetMobileTime.csv')\n",
    "mydata.head()"
   ]
  },
  {
   "cell_type": "markdown",
   "metadata": {},
   "source": [
    "### Step 1: Define null and alternative hypotheses"
   ]
  },
  {
   "cell_type": "markdown",
   "metadata": {},
   "source": [
    "In testing the average minutes spent on the internet.\n",
    "\n",
    "#### Null hypothesis states that mean  internet usage time, $\\mu$ is equals to 144.\n",
    "#### Alternative hypothesis states that the mean mean  internet usage time, $\\mu$ is unequal to 144.\n",
    "\n",
    "* $H_0$: $\\mu$ = 144\n",
    "* $H_A$: $\\mu$ $\\neq$ 144"
   ]
  },
  {
   "cell_type": "markdown",
   "metadata": {},
   "source": [
    "### Step 2: Decide the significance level"
   ]
  },
  {
   "cell_type": "markdown",
   "metadata": {},
   "source": [
    "Here we select $\\alpha$ = 0.05."
   ]
  },
  {
   "cell_type": "code",
   "execution_count": 3,
   "metadata": {
    "ExecuteTime": {
     "end_time": "2020-05-12T08:39:11.495916Z",
     "start_time": "2020-05-12T08:39:11.488554Z"
    }
   },
   "outputs": [
    {
     "name": "stdout",
     "output_type": "stream",
     "text": [
      "The sample size for this problem is 30\n"
     ]
    }
   ],
   "source": [
    "print(\"The sample size for this problem is\",len(mydata))"
   ]
  },
  {
   "cell_type": "markdown",
   "metadata": {},
   "source": [
    "### Step 3: Identify the test statistic"
   ]
  },
  {
   "cell_type": "markdown",
   "metadata": {},
   "source": [
    "We do not know the population standard deviation and n = 30. So we use the t distribution and the $t_{STAT}$ test statistic."
   ]
  },
  {
   "cell_type": "markdown",
   "metadata": {},
   "source": [
    "### Step 4: Calculate the p - value and test statistic"
   ]
  },
  {
   "cell_type": "markdown",
   "metadata": {},
   "source": [
    "**scipy.stats.ttest_1samp calculates the t test for the mean of one sample given the sample observations and  the expected value in the null hypothesis. This function returns t statistic and the two-tailed p value.**"
   ]
  },
  {
   "cell_type": "code",
   "execution_count": 4,
   "metadata": {
    "ExecuteTime": {
     "end_time": "2020-05-12T08:39:14.193366Z",
     "start_time": "2020-05-12T08:39:14.185193Z"
    }
   },
   "outputs": [
    {
     "name": "stdout",
     "output_type": "stream",
     "text": [
      "One sample t test \n",
      "t statistic: [1.22467437] p value: [0.23055327] \n"
     ]
    }
   ],
   "source": [
    "# one sample t-test\n",
    "# null hypothesis: expected value = 144\n",
    "t_statistic, p_value = ttest_1samp(mydata, 144)\n",
    "print('One sample t test \\nt statistic: {0} p value: {1} '.format(t_statistic, p_value))"
   ]
  },
  {
   "cell_type": "markdown",
   "metadata": {},
   "source": [
    "### Let us calculate at the value of the test statistic manually"
   ]
  },
  {
   "cell_type": "markdown",
   "metadata": {},
   "source": [
    "Here, we see that the values of test statistic and the p-value is same as that we calculated from the function of the Scipy library."
   ]
  },
  {
   "cell_type": "markdown",
   "metadata": {},
   "source": [
    "### Step 5 Decide to reject or accept null hypothesis"
   ]
  },
  {
   "cell_type": "code",
   "execution_count": 5,
   "metadata": {
    "ExecuteTime": {
     "end_time": "2020-03-27T11:10:29.927035Z",
     "start_time": "2020-03-27T11:10:29.921051Z"
    }
   },
   "outputs": [
    {
     "name": "stdout",
     "output_type": "stream",
     "text": [
      "Level of significance: 0.05\n",
      "We have no evidence to reject the null hypothesis since p value > Level of significance\n",
      "Our one-sample t-test p-value= [0.23055327]\n"
     ]
    }
   ],
   "source": [
    "\n",
    "# p_value < 0.05 => alternative hypothesis:\n",
    "\n",
    "alpha_value = 0.05 # Level of significance\n",
    "print('Level of significance: %.2f' %alpha_value)\n",
    "if p_value < alpha_value: \n",
    "    print('We have evidence to reject the null hypothesis since p value < Level of significance')\n",
    "else:\n",
    "    print('We have no evidence to reject the null hypothesis since p value > Level of significance') \n",
    "\n",
    "print (\"Our one-sample t-test p-value=\", p_value)"
   ]
  },
  {
   "cell_type": "markdown",
   "metadata": {},
   "source": [
    "In this example, p value is 0.23055327 and it is greater than 5% level of significance\n",
    "\n",
    "So the statistical decision is failing to reject the null hypothesis at 5% level of significance.\n",
    "\n",
    "### So at 95% confidence level, there is  sufficient evidence  to prove that mean time spent on the internet is equal to  144 minutes. "
   ]
  }
 ],
 "metadata": {
  "kernelspec": {
   "display_name": "Python 3",
   "language": "python",
   "name": "python3"
  },
  "language_info": {
   "codemirror_mode": {
    "name": "ipython",
    "version": 3
   },
   "file_extension": ".py",
   "mimetype": "text/x-python",
   "name": "python",
   "nbconvert_exporter": "python",
   "pygments_lexer": "ipython3",
   "version": "3.7.4"
  },
  "toc": {
   "base_numbering": 1,
   "nav_menu": {},
   "number_sections": true,
   "sideBar": true,
   "skip_h1_title": false,
   "title_cell": "Table of Contents",
   "title_sidebar": "Contents",
   "toc_cell": false,
   "toc_position": {},
   "toc_section_display": true,
   "toc_window_display": false
  },
  "varInspector": {
   "cols": {
    "lenName": 16,
    "lenType": 16,
    "lenVar": 40
   },
   "kernels_config": {
    "python": {
     "delete_cmd_postfix": "",
     "delete_cmd_prefix": "del ",
     "library": "var_list.py",
     "varRefreshCmd": "print(var_dic_list())"
    },
    "r": {
     "delete_cmd_postfix": ") ",
     "delete_cmd_prefix": "rm(",
     "library": "var_list.r",
     "varRefreshCmd": "cat(var_dic_list()) "
    }
   },
   "types_to_exclude": [
    "module",
    "function",
    "builtin_function_or_method",
    "instance",
    "_Feature"
   ],
   "window_display": false
  }
 },
 "nbformat": 4,
 "nbformat_minor": 2
}
