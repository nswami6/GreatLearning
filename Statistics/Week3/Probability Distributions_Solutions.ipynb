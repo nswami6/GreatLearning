{
 "cells": [
  {
   "cell_type": "markdown",
   "metadata": {},
   "source": [
    "# Load the necessary libraries."
   ]
  },
  {
   "cell_type": "code",
   "execution_count": 1,
   "metadata": {},
   "outputs": [],
   "source": [
    "import scipy.stats as stats # Many functions for probability distributions in python are in scipy.stats\n",
    "import numpy as np\n",
    "import pandas as pd\n",
    "import matplotlib.pyplot as plt\n",
    "import os"
   ]
  },
  {
   "cell_type": "markdown",
   "metadata": {},
   "source": [
    "## Problem Statement 1: \n",
    "### Investment Advisors agree that near retirees, defined as people aged 55 to 65, should have balanced portfolios. Most advisors suggest that the near –retirees have no more than 50% of their investments in stocks. However, during the huge decline in the stock market in 2008, 22% of near retirees had 90% or more of their investments in stocks. \n",
    "### Suppose you have a random sample of 10 people who have labeled as near retirees in 2008. "
   ]
  },
  {
   "cell_type": "markdown",
   "metadata": {},
   "source": [
    "## Question: Define the random variable and the corresponding probability distribution that this random variable follows."
   ]
  },
  {
   "cell_type": "markdown",
   "metadata": {},
   "source": [
    "Let X (near retirees) be a random variable which follows Binomial Distribution with the parameters n = 10 and p = 0.22.\n",
    "\n",
    "X ~ binomial (n=10,p=0.22)"
   ]
  },
  {
   "cell_type": "markdown",
   "metadata": {},
   "source": [
    "## Question 1.1: What is the probability that during 2008 zero near retirees had 90% or more of their investments in stocks?\n"
   ]
  },
  {
   "cell_type": "markdown",
   "metadata": {},
   "source": [
    "We have to find the probability of zero near retirees who have had 90% or more of their investment in stocks during 2008."
   ]
  },
  {
   "cell_type": "code",
   "execution_count": 15,
   "metadata": {},
   "outputs": [
    {
     "name": "stdout",
     "output_type": "stream",
     "text": [
      "The total number of trials is 10 and the probability of success at each trial is 0.22 .\n"
     ]
    }
   ],
   "source": [
    "n,p = 10,0.22\n",
    "print('The total number of trials is',n,'and the probability of success at each trial is',p,'.')"
   ]
  },
  {
   "cell_type": "code",
   "execution_count": 17,
   "metadata": {},
   "outputs": [
    {
     "name": "stdout",
     "output_type": "stream",
     "text": [
      "The value of the random for which we are calculating the probability is 0 .\n"
     ]
    }
   ],
   "source": [
    "k = 0\n",
    "print('The value of the random for which we are calculating the probability is',k,'.')"
   ]
  },
  {
   "cell_type": "code",
   "execution_count": 18,
   "metadata": {},
   "outputs": [
    {
     "name": "stdout",
     "output_type": "stream",
     "text": [
      "Probability that during 2008, Zero had 90% or more of their investments in stocks is 0.083357758312362 .\n"
     ]
    }
   ],
   "source": [
    "print('Probability that during 2008, Zero had 90% or more of their investments in stocks is',stats.binom.pmf(k,n,p),'.')"
   ]
  },
  {
   "cell_type": "markdown",
   "metadata": {},
   "source": [
    "## Question 1.2: What is the probability that during 2008 exactly one near retiree had 90% or more of his investments in stocks?"
   ]
  },
  {
   "cell_type": "markdown",
   "metadata": {},
   "source": [
    "For this particular question, we need to find P(X=1)."
   ]
  },
  {
   "cell_type": "code",
   "execution_count": 19,
   "metadata": {},
   "outputs": [],
   "source": [
    "k_2 = 1"
   ]
  },
  {
   "cell_type": "code",
   "execution_count": 20,
   "metadata": {},
   "outputs": [
    {
     "name": "stdout",
     "output_type": "stream",
     "text": [
      " Probability that during 2008, exactly one had 90% or more of his investments in stocks is \", 0.23511162600922644 .\n"
     ]
    }
   ],
   "source": [
    "print(' Probability that during 2008, exactly one had 90% or more of his investments in stocks is \",'\n",
    "      ,stats.binom.pmf(k_2,n,p),'.')"
   ]
  },
  {
   "cell_type": "markdown",
   "metadata": {},
   "source": [
    "## Question 1.3: What is the probability that during 2008 two or fewer near retirees had 90% or more of their investment in stocks?"
   ]
  },
  {
   "cell_type": "code",
   "execution_count": 85,
   "metadata": {},
   "outputs": [
    {
     "name": "stdout",
     "output_type": "stream",
     "text": [
      "Method 1: We are going to sum the probability values of X=0,X=1 and X=2\n",
      "Probability that during 2008 two or fewer near retirees had 90% or more of their investment in stocks is 0.6168802942563754\n"
     ]
    }
   ],
   "source": [
    "print('Method 1: We are going to sum the probability values of X=0,X=1 and X=2')\n",
    "\n",
    "print('Probability that during 2008 two or fewer near retirees had 90% or more of their investment in stocks is',\n",
    "      stats.binom.pmf(0,n,p) + stats.binom.pmf(1,n,p) + stats.binom.pmf(2,n,p))"
   ]
  },
  {
   "cell_type": "code",
   "execution_count": 84,
   "metadata": {},
   "outputs": [
    {
     "name": "stdout",
     "output_type": "stream",
     "text": [
      "Method 2: We are going to find the cumulative probabilties upto X=2.\n",
      "Probability that during 2008 two or fewer near retirees had 90% or more of their investment in stocks is 0.6168802942563754\n"
     ]
    }
   ],
   "source": [
    "print('Method 2: We are going to find the cumulative probabilties upto X=2.')\n",
    "\n",
    " \n",
    "print('Probability that during 2008 two or fewer near retirees had 90% or more of their investment in stocks is',\n",
    "      stats.binom.cdf(2,n,p))"
   ]
  },
  {
   "cell_type": "markdown",
   "metadata": {},
   "source": [
    "## Question 1.4: What is the probability that during 2008 three or more near retirees had 90% or more of their investments in stocks?"
   ]
  },
  {
   "cell_type": "code",
   "execution_count": 83,
   "metadata": {},
   "outputs": [
    {
     "name": "stdout",
     "output_type": "stream",
     "text": [
      "The probability that during 2008 three or more near retirees had 90% or more of their investments in stocks is 0.38311970574362464\n"
     ]
    }
   ],
   "source": [
    "print('The probability that during 2008 three or more near retirees had 90% or more of their investments in stocks is',\n",
    "      1 - (stats.binom.pmf(0,n,p) + stats.binom.pmf(1,n,p) + stats.binom.pmf(2,n,p)))"
   ]
  },
  {
   "cell_type": "markdown",
   "metadata": {},
   "source": [
    "## Problem Statement 2: \n",
    "## Assume that number of network errors experienced in a day on a local area network (LAN) is distributed as a Poisson random variable. The mean number of network errors experienced in a day is 2.4. "
   ]
  },
  {
   "cell_type": "markdown",
   "metadata": {},
   "source": [
    "## Question: Define the random variable and the corresponding probability distribution that this random variable follows."
   ]
  },
  {
   "cell_type": "markdown",
   "metadata": {},
   "source": [
    "Let X (network errors) be a random variable which follows Poisson Distribution with the parameter $\\lambda$ = 2.4.\n",
    "\n",
    "X ~ poisson ($\\lambda$ = 2.4)"
   ]
  },
  {
   "cell_type": "markdown",
   "metadata": {},
   "source": [
    "## Question 2.1: What is the probability that in any given day zero network errors will occur?"
   ]
  },
  {
   "cell_type": "code",
   "execution_count": 48,
   "metadata": {},
   "outputs": [
    {
     "name": "stdout",
     "output_type": "stream",
     "text": [
      "The probability that in any given day zero network errors will occur is 0.09071795328941251\n"
     ]
    }
   ],
   "source": [
    "print('The probability that in any given day zero network errors will occur is',stats.poisson.pmf(0,2.4))"
   ]
  },
  {
   "cell_type": "markdown",
   "metadata": {},
   "source": [
    "## Question 2.2: What is the probability that in any given day exactly one network error will occur?"
   ]
  },
  {
   "cell_type": "code",
   "execution_count": 49,
   "metadata": {},
   "outputs": [
    {
     "name": "stdout",
     "output_type": "stream",
     "text": [
      "The probability that in any given day exactly one network error will occur is 0.21772308789459\n"
     ]
    }
   ],
   "source": [
    "print('The probability that in any given day exactly one network error will occur is',stats.poisson.pmf(1,2.4))"
   ]
  },
  {
   "cell_type": "markdown",
   "metadata": {},
   "source": [
    "## Question 2.3: What is the probability that in any given day two or more network errors will occur?"
   ]
  },
  {
   "cell_type": "code",
   "execution_count": 82,
   "metadata": {},
   "outputs": [
    {
     "name": "stdout",
     "output_type": "stream",
     "text": [
      "Method 1: By using the Cumulative Distribution Function (CDF):\n",
      "The probability that in any given day two or more network errors will occur is 0.6915589588159976\n"
     ]
    }
   ],
   "source": [
    "print(\"Method 1: By using the Cumulative Distribution Function (CDF):\")\n",
    "\n",
    "print('The probability that in any given day two or more network errors will occur is',1 - stats.poisson.cdf(1,2.4))"
   ]
  },
  {
   "cell_type": "code",
   "execution_count": 81,
   "metadata": {},
   "outputs": [
    {
     "name": "stdout",
     "output_type": "stream",
     "text": [
      "Method 2: By using the Probability Mass Function (PMF):\n",
      "The probability that in any given day two or more network errors will occur is 0.6915589588159975\n"
     ]
    }
   ],
   "source": [
    "print(\"Method 2: By using the Probability Mass Function (PMF):\")\n",
    "\n",
    "print('The probability that in any given day two or more network errors will occur is',\n",
    "      1 - (stats.poisson.pmf(0,2.4)+stats.poisson.pmf(1,2.4)))\n"
   ]
  },
  {
   "cell_type": "markdown",
   "metadata": {},
   "source": [
    "## Question 2.4: What is the probability that in any given day fewer than three network errors will occur?"
   ]
  },
  {
   "cell_type": "code",
   "execution_count": 80,
   "metadata": {},
   "outputs": [
    {
     "name": "stdout",
     "output_type": "stream",
     "text": [
      "Method 1: By using the Probability Mass Function (PMF):\n",
      "The probability that in any given day fewer than three network errors will occur is 0.5697087466575105\n"
     ]
    }
   ],
   "source": [
    "print(\"Method 1: By using the Probability Mass Function (PMF):\")\n",
    "\n",
    "print('The probability that in any given day fewer than three network errors will occur is',\n",
    "      stats.poisson.pmf(0,2.4)+stats.poisson.pmf(1,2.4)+stats.poisson.pmf(2,2.4))"
   ]
  },
  {
   "cell_type": "code",
   "execution_count": 79,
   "metadata": {},
   "outputs": [
    {
     "name": "stdout",
     "output_type": "stream",
     "text": [
      "Method 2: By using the Cumulative Distribution Function (CDF):\n",
      "The probability that in any given day fewer than three network errors will occur is 0.5697087466575106\n"
     ]
    }
   ],
   "source": [
    "print(\"Method 2: By using the Cumulative Distribution Function (CDF):\")\n",
    "\n",
    "print('The probability that in any given day fewer than three network errors will occur is',stats.poisson.cdf(2,2.4))"
   ]
  },
  {
   "cell_type": "markdown",
   "metadata": {},
   "source": [
    "## Problem Statement 3:\n",
    "## The quality control manager of Marilyn’s cookies is inspecting a batch of chocolate–chip cookies that has been just baked. If the production process is in control the mean number of chocolate chips per cookie is 6.0."
   ]
  },
  {
   "cell_type": "markdown",
   "metadata": {},
   "source": [
    "## Question: Define the random variable and the corresponding probability distribution that this random variable follows."
   ]
  },
  {
   "cell_type": "markdown",
   "metadata": {},
   "source": [
    "Let X (chocolate chips) be a random variable which follows Poisson Distribution with the parameter $\\lambda$ = 6.\n",
    "\n",
    "X ~ poisson ($\\lambda$ = 6)"
   ]
  },
  {
   "cell_type": "markdown",
   "metadata": {},
   "source": [
    "## Question 3.1:What is the probability that in any particular cookie being inspected fewer than 5 chocolate chips will be found?"
   ]
  },
  {
   "cell_type": "code",
   "execution_count": 78,
   "metadata": {},
   "outputs": [
    {
     "name": "stdout",
     "output_type": "stream",
     "text": [
      "Method 1: By using the Probability Mass Function (PMF):\n",
      "The probability that in any particular cookie being inspected fewer than 5 chips part will be found is 0.2850565003166312\n"
     ]
    }
   ],
   "source": [
    "print(\"Method 1: By using the Probability Mass Function (PMF):\")\n",
    "\n",
    "print('The probability that in any particular cookie being inspected fewer than 5 chips part will be found is',\n",
    "      stats.poisson.pmf(0,6)+stats.poisson.pmf(1,6)+stats.poisson.pmf(2,6)+stats.poisson.pmf(3,6)+\n",
    "     stats.poisson.pmf(4,6))"
   ]
  },
  {
   "cell_type": "code",
   "execution_count": 77,
   "metadata": {},
   "outputs": [
    {
     "name": "stdout",
     "output_type": "stream",
     "text": [
      "Method 2: By using the Cumulative Distribution Function (CDF):\n",
      "The probability that in any particular cookie being inspected fewer than 5 chips part will be found is 0.2850565003166312\n"
     ]
    }
   ],
   "source": [
    "print(\"Method 2: By using the Cumulative Distribution Function (CDF):\")\n",
    "\n",
    "print('The probability that in any particular cookie being inspected fewer than 5 chips part will be found is',\n",
    "      stats.poisson.cdf(4,6))"
   ]
  },
  {
   "cell_type": "markdown",
   "metadata": {},
   "source": [
    "## Question 3.2: What is the probability that in any particular cookie being inspected exactly five chocolate chips will be found?"
   ]
  },
  {
   "cell_type": "code",
   "execution_count": 76,
   "metadata": {},
   "outputs": [
    {
     "name": "stdout",
     "output_type": "stream",
     "text": [
      "The probability that in any particular cookie being inspected exactly five chips parts will be found is 0.16062314104797995\n"
     ]
    }
   ],
   "source": [
    "print('The probability that in any particular cookie being inspected exactly five chips parts will be found is',\n",
    "      stats.poisson.pmf(5,6))"
   ]
  },
  {
   "cell_type": "markdown",
   "metadata": {},
   "source": [
    "## Question 3.3: What is the probability that in any particular cookie being inspected five or more chocolate chips will be found?"
   ]
  },
  {
   "cell_type": "code",
   "execution_count": 73,
   "metadata": {},
   "outputs": [
    {
     "name": "stdout",
     "output_type": "stream",
     "text": [
      "The probability that in any particular cookie being inspected five or more chocolate chips will be found is 0.7149434996833688\n"
     ]
    }
   ],
   "source": [
    "print('The probability that in any particular cookie being inspected five or more chocolate chips will be found is',\n",
    "      1 - stats.poisson.cdf(4,6))"
   ]
  },
  {
   "cell_type": "markdown",
   "metadata": {},
   "source": [
    "## Question 3.4: What is the probability that in any particular cookie being inspected either four or five chips part will be found?"
   ]
  },
  {
   "cell_type": "code",
   "execution_count": 75,
   "metadata": {},
   "outputs": [
    {
     "name": "stdout",
     "output_type": "stream",
     "text": [
      "The probability that in any particular cookie being inspected either four or five chips part will be found is 0.29447575858796327\n"
     ]
    }
   ],
   "source": [
    "print('The probability that in any particular cookie being inspected either four or five chips part will be found is',\n",
    "      stats.poisson.pmf(4,6)+stats.poisson.pmf(5,6))"
   ]
  },
  {
   "cell_type": "markdown",
   "metadata": {},
   "source": [
    "## Problem Statement 4:\n",
    "## In a recent year, about two thirds of US households purchased ground coffee. Consider the annual ground coffee expenditures for households  purchasing ground coffee assuming that these expenditures are approximately distributed as a normal random variable with a mean of  ${\\$}$ 65.16 and a Standard Deviation of ${\\$}$ 10.00. "
   ]
  },
  {
   "cell_type": "markdown",
   "metadata": {},
   "source": [
    "## Question: Define the random variable and the corresponding probability distribution that this random variable follows."
   ]
  },
  {
   "cell_type": "markdown",
   "metadata": {},
   "source": [
    "Let X (spending of a household) be a random variable which follows Normal Distribution with the parameter $\\mu$ = 65.16 and $\\sigma$ = 10.\n",
    "\n",
    "X ~ Normal ($\\mu$ = 65.16 , $\\sigma$ = 10)"
   ]
  },
  {
   "cell_type": "markdown",
   "metadata": {},
   "source": [
    "## Question 4.1: Find the probability that a household spent less than ${\\$}$35.00."
   ]
  },
  {
   "cell_type": "code",
   "execution_count": 87,
   "metadata": {},
   "outputs": [
    {
     "name": "stdout",
     "output_type": "stream",
     "text": [
      "The probability that that a household spent less than $35.00 is 0.0012806662997021233\n"
     ]
    }
   ],
   "source": [
    "print('The probability that that a household spent less than $35.00 is',\n",
    "      stats.norm.cdf(35,65.16,10))"
   ]
  },
  {
   "cell_type": "markdown",
   "metadata": {},
   "source": [
    "## Question 4.2: Find the probability that a household spent more than ${\\$}$60.00."
   ]
  },
  {
   "cell_type": "code",
   "execution_count": 89,
   "metadata": {},
   "outputs": [
    {
     "name": "stdout",
     "output_type": "stream",
     "text": [
      "The probability that that a household spent more than $60.00 is 0.6970727953905248\n"
     ]
    }
   ],
   "source": [
    "print('The probability that that a household spent more than $60.00 is',\n",
    "        1 - stats.norm.cdf(60,65.16,10))"
   ]
  },
  {
   "cell_type": "markdown",
   "metadata": {},
   "source": [
    "## Question 4.3: What is the probability that the households spent between ${\\$}$40.00 and ${\\$}$50.00?"
   ]
  },
  {
   "cell_type": "code",
   "execution_count": 102,
   "metadata": {},
   "outputs": [
    {
     "name": "stdout",
     "output_type": "stream",
     "text": [
      "The probability that that the households spent between $40.00 and $50.00 is 0.05882491706235944\n"
     ]
    }
   ],
   "source": [
    "print('The probability that that the households spent between $40.00 and $50.00 is',\n",
    "        stats.norm.cdf(50,65.16,10) - stats.norm.cdf(40,65.16,10))"
   ]
  },
  {
   "cell_type": "markdown",
   "metadata": {},
   "source": [
    "## Question 4.4: 99% of the households spent less than what amount?"
   ]
  },
  {
   "cell_type": "code",
   "execution_count": 101,
   "metadata": {},
   "outputs": [
    {
     "name": "stdout",
     "output_type": "stream",
     "text": [
      "99% of the households spent less than $ 88.4234787404084\n"
     ]
    }
   ],
   "source": [
    "print('99% of the households spent less than','$',\n",
    "        stats.norm.ppf(0.99,65.16,10))"
   ]
  },
  {
   "cell_type": "markdown",
   "metadata": {},
   "source": [
    "PPF stands for Percent point function (inverse of cdf — percentiles). We use this particular function when we know the probability value for a certain value of X and we want to find the value of the random variable X."
   ]
  }
 ],
 "metadata": {
  "kernelspec": {
   "display_name": "Python 3",
   "language": "python",
   "name": "python3"
  },
  "language_info": {
   "codemirror_mode": {
    "name": "ipython",
    "version": 3
   },
   "file_extension": ".py",
   "mimetype": "text/x-python",
   "name": "python",
   "nbconvert_exporter": "python",
   "pygments_lexer": "ipython3",
   "version": "3.7.4"
  }
 },
 "nbformat": 4,
 "nbformat_minor": 2
}
