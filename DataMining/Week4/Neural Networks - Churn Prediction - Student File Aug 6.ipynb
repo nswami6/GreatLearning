{
 "cells": [
  {
   "cell_type": "markdown",
   "metadata": {
    "colab_type": "text",
    "id": "Uf8iovBPq2kP"
   },
   "source": [
    "# Problem Statement\n",
    "Customer churn and engagement has become one of the top issues for most banks. It costs significantly more to acquire new customers than retain existing. It is of utmost important for a bank to retain its customers.  \n",
    " \n",
    "We have a data from a MeBank (Name changed) which has a data of 7124 customers. In this data-set we have a dependent variable “Exited” and various independent variables.  \n",
    "  \n",
    "Based on the data, build a model to predict when the customer will exit the bank. Split the data into Train and Test dataset (70:30), build the model on Train data-set and test the model on Test-dataset. Secondly provide recommendations to the bank so that they can retain the customers who are on the verge of exiting.\n"
   ]
  },
  {
   "cell_type": "markdown",
   "metadata": {
    "colab_type": "text",
    "id": "AmK_TuqEq2kX"
   },
   "source": [
    "# Data Dictionary\n",
    "<b>CustomerID</b> - Bank ID of the Customer  \n",
    "<b>Surname</b> - Customer’s Surname  \n",
    "<b>CreditScore</b> - Current Credit score of the customer  \n",
    "<b>Geography</b> - Current country of the customer  \n",
    "<b>Gender</b> - Customer’s Gender  \n",
    "<b>Age</b> - Customer’s Age  \n",
    "<b>Tenure</b> - Customer’s duration association with bank in years  \n",
    "<b>Balance</b> - Current balance in the bank account.  \n",
    "<b>Num of Dependents</b> - Number of dependents  \n",
    "<b>Has Crcard</b> - 1 denotes customer has a credit card and 0 denotes customer does not have a credit card  \n",
    "<b>Is Active Member</b> - 1 denotes customer is an active member and 0 denotes customer is not an active member  \n",
    "<b>Estimated Salary</b> - Customer’s approx. salary  \n",
    "<b>Exited</b> - 1 denotes customer has exited the bank and 0 denotes otherwise  "
   ]
  },
  {
   "cell_type": "markdown",
   "metadata": {
    "colab_type": "text",
    "id": "UcIZ3Fq5q2kZ"
   },
   "source": [
    "### Load library and import data"
   ]
  },
  {
   "cell_type": "code",
   "execution_count": 0,
   "metadata": {
    "colab": {},
    "colab_type": "code",
    "id": "l3Wbx7PNq2kc"
   },
   "outputs": [],
   "source": [
    "import pandas as pd\n",
    "import numpy as np\n",
    "import matplotlib.pyplot as plt\n",
    "from sklearn.neural_network import MLPClassifier"
   ]
  },
  {
   "cell_type": "code",
   "execution_count": 0,
   "metadata": {
    "colab": {},
    "colab_type": "code",
    "id": "jxCTMKPYq2kl"
   },
   "outputs": [],
   "source": [
    "churn=pd.read_csv(\"Churn_Modelling.csv\")"
   ]
  },
  {
   "cell_type": "markdown",
   "metadata": {
    "colab_type": "text",
    "id": "qsSmrH8yq2kt"
   },
   "source": [
    "### Inspect the data"
   ]
  },
  {
   "cell_type": "code",
   "execution_count": 0,
   "metadata": {
    "colab": {},
    "colab_type": "code",
    "id": "7DK98CNzq2kv"
   },
   "outputs": [],
   "source": [
    "churn.head()"
   ]
  },
  {
   "cell_type": "code",
   "execution_count": 0,
   "metadata": {
    "colab": {},
    "colab_type": "code",
    "id": "-B5POQozq2k2"
   },
   "outputs": [],
   "source": [
    "churn.info()"
   ]
  },
  {
   "cell_type": "markdown",
   "metadata": {
    "colab_type": "text",
    "id": "Qw8FDbD1q2k9"
   },
   "source": [
    "Age and Balance variable has numeric data but data type is object. It appears some special character is present in this variable.  \n",
    "Also there are missing values for some variables."
   ]
  },
  {
   "cell_type": "markdown",
   "metadata": {
    "colab_type": "text",
    "id": "GZWUNmRLq2k_"
   },
   "source": [
    "# EDA"
   ]
  },
  {
   "cell_type": "markdown",
   "metadata": {
    "colab_type": "text",
    "id": "8i4BCt01q2lD"
   },
   "source": [
    "### Removing unwanted variables"
   ]
  },
  {
   "cell_type": "code",
   "execution_count": 0,
   "metadata": {
    "colab": {},
    "colab_type": "code",
    "id": "jIcbjjkuq2lH"
   },
   "outputs": [],
   "source": [
    "# remove the variables and check the data for the 10 rows \n",
    "\n",
    "\n",
    "\n",
    "churn.head(10)"
   ]
  },
  {
   "cell_type": "markdown",
   "metadata": {
    "colab_type": "text",
    "id": "E-plW5TAq2lN"
   },
   "source": [
    "Checking dimensions after removing unwanted variables,"
   ]
  },
  {
   "cell_type": "markdown",
   "metadata": {
    "colab_type": "text",
    "id": "1bOX0VGrq2lP"
   },
   "source": [
    "### Summary"
   ]
  },
  {
   "cell_type": "code",
   "execution_count": 0,
   "metadata": {
    "colab": {},
    "colab_type": "code",
    "id": "CSUW40qrq2lR"
   },
   "outputs": [],
   "source": [
    "churn.describe(include=\"all\")"
   ]
  },
  {
   "cell_type": "code",
   "execution_count": 0,
   "metadata": {
    "colab": {},
    "colab_type": "code",
    "id": "ayTWHHhsq2lZ"
   },
   "outputs": [],
   "source": [
    "churn.shape"
   ]
  },
  {
   "cell_type": "markdown",
   "metadata": {
    "colab_type": "text",
    "id": "xSlZ5rInq2le"
   },
   "source": [
    "### Proportion of observations in Target classes"
   ]
  },
  {
   "cell_type": "code",
   "execution_count": 0,
   "metadata": {
    "colab": {},
    "colab_type": "code",
    "id": "PR0fHp18q2lf"
   },
   "outputs": [],
   "source": [
    "# Get the proportions\n",
    "\n",
    "\n"
   ]
  },
  {
   "cell_type": "markdown",
   "metadata": {
    "colab_type": "text",
    "id": "Pqigx2vOq2lj"
   },
   "source": [
    "### Checking for Missing values"
   ]
  },
  {
   "cell_type": "code",
   "execution_count": 0,
   "metadata": {
    "colab": {},
    "colab_type": "code",
    "id": "rIes3Badq2ll"
   },
   "outputs": [],
   "source": [
    "# Are there any missing values ?\n",
    "\n",
    "\n",
    "\n"
   ]
  },
  {
   "cell_type": "markdown",
   "metadata": {
    "colab_type": "text",
    "id": "l-YF6mzVq2lp"
   },
   "source": [
    "There are some missing values"
   ]
  },
  {
   "cell_type": "markdown",
   "metadata": {
    "colab_type": "text",
    "id": "rCMHF0dMq2lq"
   },
   "source": [
    "### Checking for inconsistencies in Balance and Age variable"
   ]
  },
  {
   "cell_type": "code",
   "execution_count": 0,
   "metadata": {
    "colab": {},
    "colab_type": "code",
    "id": "xXrJKymIq2lr"
   },
   "outputs": [],
   "source": [
    "churn.Balance.sort_values()"
   ]
  },
  {
   "cell_type": "markdown",
   "metadata": {
    "colab_type": "text",
    "id": "2oflpaS7q2lv"
   },
   "source": [
    "There are 3 cases where '?' is present, and 3 cases where missing values are present for Balance variable.  \n",
    "Summary also proves the count of missing variables.  \n",
    "To confirm on the count of ?  , running value_counts()"
   ]
  },
  {
   "cell_type": "code",
   "execution_count": 0,
   "metadata": {
    "colab": {},
    "colab_type": "code",
    "id": "wRkXiVfCq2lw"
   },
   "outputs": [],
   "source": [
    "churn.Balance.value_counts()"
   ]
  },
  {
   "cell_type": "code",
   "execution_count": null,
   "metadata": {},
   "outputs": [],
   "source": [
    "churn[churn.Balance==\"?\"]"
   ]
  },
  {
   "cell_type": "markdown",
   "metadata": {
    "colab_type": "text",
    "id": "fWudJNL9q2l5"
   },
   "source": [
    "This confirms there are 3 cases having ?"
   ]
  },
  {
   "cell_type": "code",
   "execution_count": 0,
   "metadata": {
    "colab": {},
    "colab_type": "code",
    "id": "jIpaeiQVq2l7"
   },
   "outputs": [],
   "source": [
    "churn.Age.value_counts().sort_values()"
   ]
  },
  {
   "cell_type": "markdown",
   "metadata": {
    "colab_type": "text",
    "id": "p9EjRFr2q2l_"
   },
   "source": [
    "There is 1 case where ? is present"
   ]
  },
  {
   "cell_type": "markdown",
   "metadata": {
    "colab_type": "text",
    "id": "fhsA1mSQq2mA"
   },
   "source": [
    "### Replacing ? as Nan in Age and Balance variable"
   ]
  },
  {
   "cell_type": "code",
   "execution_count": 0,
   "metadata": {
    "colab": {},
    "colab_type": "code",
    "id": "pZmu5M_vq2mB"
   },
   "outputs": [],
   "source": [
    "\n",
    "\n",
    "\n"
   ]
  },
  {
   "cell_type": "markdown",
   "metadata": {
    "colab_type": "text",
    "id": "v547uE6eq2mF"
   },
   "source": [
    "Verifying count of missing values for Age and Balance variable below:"
   ]
  },
  {
   "cell_type": "code",
   "execution_count": 0,
   "metadata": {
    "colab": {},
    "colab_type": "code",
    "id": "--VRkZQAq2mH"
   },
   "outputs": [],
   "source": [
    "churn.Balance.isnull().sum()"
   ]
  },
  {
   "cell_type": "code",
   "execution_count": 0,
   "metadata": {
    "colab": {},
    "colab_type": "code",
    "id": "XhSk_BJ3q2mN"
   },
   "outputs": [],
   "source": [
    "churn.Age.isnull().sum()"
   ]
  },
  {
   "cell_type": "markdown",
   "metadata": {
    "colab_type": "text",
    "id": "OaA6JSdKq2mS"
   },
   "source": [
    "### Imputing missing values"
   ]
  },
  {
   "cell_type": "code",
   "execution_count": null,
   "metadata": {},
   "outputs": [],
   "source": [
    "sns.boxplot(churn['Credit Score'])"
   ]
  },
  {
   "cell_type": "markdown",
   "metadata": {},
   "source": [
    "As Outliers are present in the \"Credit Score\", so we impute the null values by median"
   ]
  },
  {
   "cell_type": "code",
   "execution_count": null,
   "metadata": {},
   "outputs": [],
   "source": [
    "sns.boxplot(churn['Tenure'])"
   ]
  },
  {
   "cell_type": "code",
   "execution_count": null,
   "metadata": {},
   "outputs": [],
   "source": [
    "sns.boxplot(churn['Estimated Salary'])"
   ]
  },
  {
   "cell_type": "markdown",
   "metadata": {
    "colab_type": "text",
    "id": "r_7pQYzFq2mT"
   },
   "source": [
    "Substituting the mean value for all other numeric variables"
   ]
  },
  {
   "cell_type": "code",
   "execution_count": 0,
   "metadata": {
    "colab": {},
    "colab_type": "code",
    "id": "Ry0GiDSpq2mU"
   },
   "outputs": [],
   "source": [
    "for column in churn[['Credit Score', 'Tenure', 'Estimated Salary']]:\n",
    "    mean = churn[column].mean()\n",
    "    churn[column] = churn[column].fillna(mean)"
   ]
  },
  {
   "cell_type": "code",
   "execution_count": 0,
   "metadata": {
    "colab": {},
    "colab_type": "code",
    "id": "U5b05IILq2ma"
   },
   "outputs": [],
   "source": [
    "churn.isnull().sum()"
   ]
  },
  {
   "cell_type": "markdown",
   "metadata": {
    "colab_type": "text",
    "id": "kZINjSDMq2me"
   },
   "source": [
    "### Converting Object data type into Categorical"
   ]
  },
  {
   "cell_type": "code",
   "execution_count": 0,
   "metadata": {
    "colab": {},
    "colab_type": "code",
    "id": "NGPdJWHTq2mf"
   },
   "outputs": [],
   "source": [
    "for column in churn[['Geography','Gender','Has CrCard','Is Active Member']]:\n",
    "    if churn[column].dtype == 'object':\n",
    "        churn[column] = pd.Categorical(churn[column]).codes "
   ]
  },
  {
   "cell_type": "code",
   "execution_count": 0,
   "metadata": {
    "colab": {},
    "colab_type": "code",
    "id": "nc4kvfQCq2mi"
   },
   "outputs": [],
   "source": [
    "churn.head()"
   ]
  },
  {
   "cell_type": "code",
   "execution_count": 0,
   "metadata": {
    "colab": {},
    "colab_type": "code",
    "id": "ZJxDW_RJq2mn"
   },
   "outputs": [],
   "source": [
    "churn.info()"
   ]
  },
  {
   "cell_type": "markdown",
   "metadata": {
    "colab_type": "text",
    "id": "9HiuwOohq2ms"
   },
   "source": [
    "### Substituting the mode value for all categorical variables"
   ]
  },
  {
   "cell_type": "code",
   "execution_count": 0,
   "metadata": {
    "colab": {},
    "colab_type": "code",
    "id": "KDr24t_nq2mt"
   },
   "outputs": [],
   "source": [
    "for column in churn[['Geography','Gender','Has CrCard','Is Active Member']]:\n",
    "    mode = churn[column].mode()\n",
    "    churn[column] = churn[column].fillna(mode[0])"
   ]
  },
  {
   "cell_type": "code",
   "execution_count": 0,
   "metadata": {
    "colab": {},
    "colab_type": "code",
    "id": "dikxXpXPq2mw"
   },
   "outputs": [],
   "source": [
    "churn.isnull().sum()"
   ]
  },
  {
   "cell_type": "markdown",
   "metadata": {
    "colab_type": "text",
    "id": "NzHzYbQ0q2m0"
   },
   "source": [
    "Age and Balance are still not addressed. Getting the modal value"
   ]
  },
  {
   "cell_type": "code",
   "execution_count": 0,
   "metadata": {
    "colab": {},
    "colab_type": "code",
    "id": "FzzqfNDpq2m1"
   },
   "outputs": [],
   "source": [
    "churn['Balance'].mode()"
   ]
  },
  {
   "cell_type": "code",
   "execution_count": 0,
   "metadata": {
    "colab": {},
    "colab_type": "code",
    "id": "nBRThHtwq2m6"
   },
   "outputs": [],
   "source": [
    "churn['Age'].mode()"
   ]
  },
  {
   "cell_type": "markdown",
   "metadata": {
    "colab_type": "text",
    "id": "EjiHal2Cq2m-"
   },
   "source": [
    "Replacing nan with modal values,"
   ]
  },
  {
   "cell_type": "code",
   "execution_count": 0,
   "metadata": {
    "colab": {},
    "colab_type": "code",
    "id": "p1cHNCrjq2nE"
   },
   "outputs": [],
   "source": [
    "churn['Balance']=churn['Balance'].fillna(3000)\n",
    "churn['Age']=churn['Age'].fillna(37)"
   ]
  },
  {
   "cell_type": "code",
   "execution_count": 0,
   "metadata": {
    "colab": {},
    "colab_type": "code",
    "id": "U-KcNjuAq2nK"
   },
   "outputs": [],
   "source": [
    "churn.isnull().sum()"
   ]
  },
  {
   "cell_type": "markdown",
   "metadata": {
    "colab_type": "text",
    "id": "F1wK7AbYq2nN"
   },
   "source": [
    "There are no more missing values."
   ]
  },
  {
   "cell_type": "code",
   "execution_count": 0,
   "metadata": {
    "colab": {},
    "colab_type": "code",
    "id": "ZnCqnf2Iq2nP"
   },
   "outputs": [],
   "source": [
    "churn.info()"
   ]
  },
  {
   "cell_type": "markdown",
   "metadata": {
    "colab_type": "text",
    "id": "QeOf_byjq2nU"
   },
   "source": [
    "Age and Balance are still object, which has to be converted"
   ]
  },
  {
   "cell_type": "markdown",
   "metadata": {
    "colab_type": "text",
    "id": "t0500Aipq2nV"
   },
   "source": [
    "### Converting Age and Balance to numeric variables"
   ]
  },
  {
   "cell_type": "code",
   "execution_count": 0,
   "metadata": {
    "colab": {},
    "colab_type": "code",
    "id": "98FyWkZWq2nY"
   },
   "outputs": [],
   "source": [
    "churn['Age']=churn['Age'].astype(str).astype(int)\n",
    "churn['Balance']=churn['Balance'].astype(str).astype(float)"
   ]
  },
  {
   "cell_type": "markdown",
   "metadata": {
    "colab_type": "text",
    "id": "Sf-L0FH3q2nf"
   },
   "source": [
    "### Checking for Duplicates"
   ]
  },
  {
   "cell_type": "code",
   "execution_count": 0,
   "metadata": {
    "colab": {},
    "colab_type": "code",
    "id": "AZb1P2JXq2ng"
   },
   "outputs": [],
   "source": [
    "# Are there any duplicates ?\n",
    "dups = churn.duplicated()\n",
    "print('Number of duplicate rows = %d' % (dups.sum()))\n",
    "churn[dups]"
   ]
  },
  {
   "cell_type": "markdown",
   "metadata": {
    "colab_type": "text",
    "id": "9zdI4oFEq2nk"
   },
   "source": [
    "There are no Duplicates"
   ]
  },
  {
   "cell_type": "markdown",
   "metadata": {
    "colab_type": "text",
    "id": "7mf2r6fnq2nl"
   },
   "source": [
    "### Checking for Outliers"
   ]
  },
  {
   "cell_type": "code",
   "execution_count": 0,
   "metadata": {
    "colab": {},
    "colab_type": "code",
    "id": "UUIcJH2wq2nm"
   },
   "outputs": [],
   "source": [
    "plt.figure(figsize=(15,15))\n",
    "churn[['Age','Balance','Credit Score', 'Tenure', 'Estimated Salary']].boxplot(vert=0)"
   ]
  },
  {
   "cell_type": "markdown",
   "metadata": {
    "colab_type": "text",
    "id": "nMMM7z35q2nq"
   },
   "source": [
    "Very small number of  outliers are present, which is also not significant as it will not affect much on ANN Predictions"
   ]
  },
  {
   "cell_type": "markdown",
   "metadata": {
    "colab_type": "text",
    "id": "uoOPzTZbq2nr"
   },
   "source": [
    "### Checking pairwise distribution of the continuous variables"
   ]
  },
  {
   "cell_type": "code",
   "execution_count": 0,
   "metadata": {
    "colab": {},
    "colab_type": "code",
    "id": "LjZE8Lmwq2ns"
   },
   "outputs": [],
   "source": [
    "import seaborn as sns\n",
    "sns.pairplot(churn[['Age','Balance','Credit Score', 'Tenure', 'Estimated Salary']])"
   ]
  },
  {
   "cell_type": "markdown",
   "metadata": {
    "colab_type": "text",
    "id": "RJEi-herq2ny"
   },
   "source": [
    "### Checking for Correlations"
   ]
  },
  {
   "cell_type": "code",
   "execution_count": 0,
   "metadata": {
    "colab": {},
    "colab_type": "code",
    "id": "sUfs2GOYq2n0"
   },
   "outputs": [],
   "source": [
    "# construct heatmap with only continuous variables\n",
    "plt.figure(figsize=(10,8))\n",
    "sns.set(font_scale=1.2)\n",
    "sns.heatmap(churn[['Age','Balance','Credit Score', 'Tenure', 'Estimated Salary']].corr(), annot=True)"
   ]
  },
  {
   "cell_type": "markdown",
   "metadata": {
    "colab_type": "text",
    "id": "U9U39yEqq2n9"
   },
   "source": [
    "There is hardly any correlation between the variables"
   ]
  },
  {
   "cell_type": "markdown",
   "metadata": {
    "colab_type": "text",
    "id": "ExwAKRzIq2n-"
   },
   "source": [
    "### Train Test Split"
   ]
  },
  {
   "cell_type": "code",
   "execution_count": 0,
   "metadata": {
    "colab": {},
    "colab_type": "code",
    "id": "QRPdwFKTq2oA"
   },
   "outputs": [],
   "source": [
    "from sklearn.model_selection import train_test_split"
   ]
  },
  {
   "cell_type": "code",
   "execution_count": 0,
   "metadata": {
    "colab": {},
    "colab_type": "code",
    "id": "i0ewLg3Gq2oE"
   },
   "outputs": [],
   "source": [
    "#Extract x and y\n",
    "\n",
    "\n",
    "\n"
   ]
  },
  {
   "cell_type": "code",
   "execution_count": 0,
   "metadata": {
    "colab": {},
    "colab_type": "code",
    "id": "3ludwE2_q2oI"
   },
   "outputs": [],
   "source": [
    "#split data into 70% training and 30% test data\n",
    "\n",
    "\n"
   ]
  },
  {
   "cell_type": "code",
   "execution_count": 0,
   "metadata": {
    "colab": {},
    "colab_type": "code",
    "id": "jGwBVgMOq2oM"
   },
   "outputs": [],
   "source": [
    "# Checking dimensions on the train and test data\n",
    "print('x_train: ',x_train.shape)\n",
    "print('x_test: ',x_test.shape)\n",
    "print('y_train: ',y_train.shape)\n",
    "print('y_test: ',y_test.shape)"
   ]
  },
  {
   "cell_type": "markdown",
   "metadata": {
    "colab_type": "text",
    "id": "4Q3ln2oBq2oQ"
   },
   "source": [
    "### Scaling the variables"
   ]
  },
  {
   "cell_type": "code",
   "execution_count": 0,
   "metadata": {
    "colab": {},
    "colab_type": "code",
    "id": "7zuJktf2q2oR"
   },
   "outputs": [],
   "source": [
    "from sklearn.preprocessing import StandardScaler"
   ]
  },
  {
   "cell_type": "code",
   "execution_count": 0,
   "metadata": {
    "colab": {},
    "colab_type": "code",
    "id": "tS9f3ip9q2oV"
   },
   "outputs": [],
   "source": [
    "#Initialize an object for StandardScaler\n",
    "\n",
    "\n"
   ]
  },
  {
   "cell_type": "code",
   "execution_count": 0,
   "metadata": {
    "colab": {},
    "colab_type": "code",
    "id": "hcavoF8yq2oa"
   },
   "outputs": [],
   "source": [
    "#Scale the training data\n",
    "\n",
    "\n"
   ]
  },
  {
   "cell_type": "code",
   "execution_count": 0,
   "metadata": {
    "colab": {},
    "colab_type": "code",
    "id": "TS3g7lmGq2of"
   },
   "outputs": [],
   "source": [
    "x_train"
   ]
  },
  {
   "cell_type": "code",
   "execution_count": 0,
   "metadata": {
    "colab": {},
    "colab_type": "code",
    "id": "LBWTOWg-q2oi"
   },
   "outputs": [],
   "source": [
    "# Apply the transformation on the test data\n",
    "x_test = sc.transform(x_test)"
   ]
  },
  {
   "cell_type": "code",
   "execution_count": 0,
   "metadata": {
    "colab": {},
    "colab_type": "code",
    "id": "dsuVI59gq2on"
   },
   "outputs": [],
   "source": [
    "x_test"
   ]
  },
  {
   "cell_type": "markdown",
   "metadata": {
    "colab_type": "text",
    "id": "CGCToAvZq2or"
   },
   "source": [
    "### Building Neural Network Model"
   ]
  },
  {
   "cell_type": "code",
   "execution_count": 0,
   "metadata": {
    "colab": {},
    "colab_type": "code",
    "id": "LvbP_qcDq2ot"
   },
   "outputs": [],
   "source": [
    "clf = MLPClassifier(hidden_layer_sizes=100, max_iter=5000,\n",
    "                     solver='sgd', verbose=True,  random_state=21,tol=0.01)"
   ]
  },
  {
   "cell_type": "code",
   "execution_count": 0,
   "metadata": {
    "colab": {},
    "colab_type": "code",
    "id": "rYLNdZfRq2ow"
   },
   "outputs": [],
   "source": [
    "# Fit the model on the training data\n",
    "\n",
    "\n"
   ]
  },
  {
   "cell_type": "markdown",
   "metadata": {
    "colab_type": "text",
    "id": "orbvDW-Yq2oy"
   },
   "source": [
    "### Predicting training data"
   ]
  },
  {
   "cell_type": "code",
   "execution_count": 0,
   "metadata": {
    "colab": {},
    "colab_type": "code",
    "id": "zZbXb-blq2oz"
   },
   "outputs": [],
   "source": [
    "# use the model to predict the training data\n",
    "y_pred = \n",
    "\n",
    "\n"
   ]
  },
  {
   "cell_type": "markdown",
   "metadata": {
    "colab_type": "text",
    "id": "Xtz7WXLnq2o2"
   },
   "source": [
    "### Evaluating model performance on training data"
   ]
  },
  {
   "cell_type": "code",
   "execution_count": 0,
   "metadata": {
    "colab": {},
    "colab_type": "code",
    "id": "kjLcX3yQq2o3"
   },
   "outputs": [],
   "source": [
    "from sklearn.metrics import confusion_matrix,classification_report"
   ]
  },
  {
   "cell_type": "code",
   "execution_count": 0,
   "metadata": {
    "colab": {},
    "colab_type": "code",
    "id": "pfuSLe3Tq2o6"
   },
   "outputs": [],
   "source": [
    "confusion_matrix(y_train,y_pred)"
   ]
  },
  {
   "cell_type": "code",
   "execution_count": 0,
   "metadata": {
    "colab": {},
    "colab_type": "code",
    "id": "X0AZ_FJVq2o9"
   },
   "outputs": [],
   "source": [
    "print(classification_report(y_train, y_pred))"
   ]
  },
  {
   "cell_type": "code",
   "execution_count": 0,
   "metadata": {
    "colab": {},
    "colab_type": "code",
    "id": "r2F9lDDQq2pD"
   },
   "outputs": [],
   "source": [
    "# AUC and ROC for the training data\n",
    "# predict probabilities\n",
    "probs = clf.predict_proba(x_train)\n",
    "# keep probabilities for the positive outcome only\n",
    "probs = probs[:, 1]\n",
    "# calculate AUC\n",
    "from sklearn.metrics import roc_auc_score\n",
    "auc = roc_auc_score(y_train, probs)\n",
    "print('AUC: %.3f' % auc)\n",
    "# calculate roc curve\n",
    "from sklearn.metrics import roc_curve\n",
    "fpr, tpr, thresholds = roc_curve(y_train, probs)\n",
    "plt.plot([0, 1], [0, 1], linestyle='--')\n",
    "# plot the roc curve for the model\n",
    "plt.plot(fpr, tpr, marker='.')\n",
    "# show the plot\n",
    "plt.show()"
   ]
  },
  {
   "cell_type": "markdown",
   "metadata": {
    "colab_type": "text",
    "id": "i15od23Xq2pN"
   },
   "source": [
    "### Predicting Test Data and comparing model performance"
   ]
  },
  {
   "cell_type": "code",
   "execution_count": 0,
   "metadata": {
    "colab": {},
    "colab_type": "code",
    "id": "DQkoPC7cq2pO"
   },
   "outputs": [],
   "source": [
    "y_pred = clf.predict(x_test)"
   ]
  },
  {
   "cell_type": "code",
   "execution_count": 0,
   "metadata": {
    "colab": {},
    "colab_type": "code",
    "id": "YpQjGIYeq2pS"
   },
   "outputs": [],
   "source": [
    "confusion_matrix(y_test, y_pred)"
   ]
  },
  {
   "cell_type": "code",
   "execution_count": 0,
   "metadata": {
    "colab": {},
    "colab_type": "code",
    "id": "ZbEnXNp0q2pU"
   },
   "outputs": [],
   "source": [
    "print(classification_report(y_test, y_pred))"
   ]
  },
  {
   "cell_type": "code",
   "execution_count": 0,
   "metadata": {
    "colab": {},
    "colab_type": "code",
    "id": "fGTa0pzmq2pY"
   },
   "outputs": [],
   "source": [
    "# AUC and ROC for the test data\n",
    "\n",
    "# predict probabilities\n",
    "probs = clf.predict_proba(x_test)\n",
    "# keep probabilities for the positive outcome only\n",
    "probs = probs[:, 1]\n",
    "# calculate AUC\n",
    "auc = roc_auc_score(y_test, probs)\n",
    "print('AUC: %.3f' % auc)\n",
    "# calculate roc curve\n",
    "fpr, tpr, thresholds = roc_curve(y_test, probs)\n",
    "plt.plot([0, 1], [0, 1], linestyle='--')\n",
    "# plot the roc curve for the model\n",
    "plt.plot(fpr, tpr, marker='.')\n",
    "# show the plot\n",
    "plt.show()"
   ]
  },
  {
   "cell_type": "markdown",
   "metadata": {
    "colab_type": "text",
    "id": "BZMTmIn1q2pb"
   },
   "source": [
    "### Model Tuning through Grid Search"
   ]
  },
  {
   "cell_type": "markdown",
   "metadata": {},
   "source": [
    "**Below Code may take too much time.These values can be used instead {'hidden_layer_sizes': 500, 'max_iter': 5000, 'solver': 'adam', 'tol': 0.01}**"
   ]
  },
  {
   "cell_type": "code",
   "execution_count": 0,
   "metadata": {
    "colab": {},
    "colab_type": "code",
    "id": "btgrqbFiq2pc"
   },
   "outputs": [],
   "source": [
    "from sklearn.model_selection import GridSearchCV\n",
    "\n",
    "param_grid = {\n",
    "    'hidden_layer_sizes': [100,200,300,500],\n",
    "    'max_iter': [5000,2500,7000,6000],\n",
    "    'solver': ['sgd','adam'],\n",
    "    'tol': [0.01],\n",
    "}\n",
    "\n",
    "nncl = MLPClassifier(random_state=1)\n",
    "\n",
    "grid_search = GridSearchCV(estimator = nncl, param_grid = param_grid, cv = 10)"
   ]
  },
  {
   "cell_type": "code",
   "execution_count": 0,
   "metadata": {
    "colab": {},
    "colab_type": "code",
    "id": "UxkZZzv4q2ph"
   },
   "outputs": [],
   "source": [
    "grid_search.fit(x_train, y_train)"
   ]
  },
  {
   "cell_type": "code",
   "execution_count": 0,
   "metadata": {
    "colab": {},
    "colab_type": "code",
    "id": "L3zh3hcfq2pk"
   },
   "outputs": [],
   "source": [
    "grid_search.best_params_"
   ]
  },
  {
   "cell_type": "code",
   "execution_count": 0,
   "metadata": {
    "colab": {},
    "colab_type": "code",
    "id": "WI6lUTkzq2po"
   },
   "outputs": [],
   "source": [
    "best_grid = grid_search.best_estimator_"
   ]
  },
  {
   "cell_type": "code",
   "execution_count": 0,
   "metadata": {
    "colab": {},
    "colab_type": "code",
    "id": "lyVUqzzCq2pq"
   },
   "outputs": [],
   "source": [
    "best_grid"
   ]
  },
  {
   "cell_type": "code",
   "execution_count": 0,
   "metadata": {
    "colab": {},
    "colab_type": "code",
    "id": "zKCTtFf6q2ps"
   },
   "outputs": [],
   "source": [
    "ytrain_predict = best_grid.predict(x_train)\n",
    "ytest_predict = best_grid.predict(x_test)"
   ]
  },
  {
   "cell_type": "code",
   "execution_count": 0,
   "metadata": {
    "colab": {},
    "colab_type": "code",
    "id": "C1eG3zGvq2pz"
   },
   "outputs": [],
   "source": [
    "confusion_matrix(y_train,ytrain_predict)"
   ]
  },
  {
   "cell_type": "code",
   "execution_count": 0,
   "metadata": {
    "colab": {},
    "colab_type": "code",
    "id": "sMb0vIRFq2p2"
   },
   "outputs": [],
   "source": [
    "# Accuracy of Train data\n",
    "\n"
   ]
  },
  {
   "cell_type": "code",
   "execution_count": 0,
   "metadata": {
    "colab": {},
    "colab_type": "code",
    "id": "FzGQk6hxq2p5"
   },
   "outputs": [],
   "source": [
    "print(classification_report(y_train,ytrain_predict))"
   ]
  },
  {
   "cell_type": "code",
   "execution_count": 0,
   "metadata": {
    "colab": {},
    "colab_type": "code",
    "id": "Cz30APT-q2p8"
   },
   "outputs": [],
   "source": [
    "#from sklearn.metrics import roc_curve,roc_auc_score\n",
    "rf_fpr, rf_tpr,_=roc_curve(y_train,best_grid.predict_proba(x_train)[:,1])\n",
    "plt.plot(rf_fpr,rf_tpr, marker='x', label='NN')\n",
    "plt.plot(np.arange(0,1.1,0.1),np.arange(0,1.1,0.1))\n",
    "plt.xlabel('False Positive Rate')\n",
    "plt.ylabel('True Positive Rate')\n",
    "plt.title('ROC')\n",
    "plt.show()\n",
    "print('Area under Curve is', roc_auc_score(y_train,best_grid.predict_proba(x_train)[:,1]))"
   ]
  },
  {
   "cell_type": "code",
   "execution_count": 0,
   "metadata": {
    "colab": {},
    "colab_type": "code",
    "id": "kfPB3z72q2p_"
   },
   "outputs": [],
   "source": [
    "confusion_matrix(y_test,ytest_predict)"
   ]
  },
  {
   "cell_type": "code",
   "execution_count": 0,
   "metadata": {
    "colab": {},
    "colab_type": "code",
    "id": "ix1AH9i8q2qC"
   },
   "outputs": [],
   "source": [
    "# Accuracy of Test data\n",
    "\n"
   ]
  },
  {
   "cell_type": "code",
   "execution_count": 0,
   "metadata": {
    "colab": {},
    "colab_type": "code",
    "id": "JpjnI-bAq2qF"
   },
   "outputs": [],
   "source": [
    "print(classification_report(y_test,ytest_predict))"
   ]
  },
  {
   "cell_type": "code",
   "execution_count": 0,
   "metadata": {
    "colab": {},
    "colab_type": "code",
    "id": "4cA9kaNrq2qL"
   },
   "outputs": [],
   "source": [
    "#from sklearn.metrics import roc_curve,roc_auc_score\n",
    "rf_fpr, rf_tpr,_=roc_curve(y_test,best_grid.predict_proba(x_test)[:,1])\n",
    "plt.plot(rf_fpr,rf_tpr, marker='x', label='NN')\n",
    "plt.plot(np.arange(0,1.1,0.1),np.arange(0,1.1,0.1))\n",
    "plt.xlabel('False Positive Rate')\n",
    "plt.ylabel('True Positive Rate')\n",
    "plt.title('ROC')\n",
    "plt.show()\n",
    "print('Area under Curve is', roc_auc_score(y_test,best_grid.predict_proba(x_test)[:,1]))"
   ]
  },
  {
   "cell_type": "code",
   "execution_count": 0,
   "metadata": {
    "colab": {},
    "colab_type": "code",
    "id": "DBF5m0a4q2qP"
   },
   "outputs": [],
   "source": [
    "best_grid.score"
   ]
  },
  {
   "cell_type": "markdown",
   "metadata": {
    "colab_type": "text",
    "id": "KNCerX6Lq2qS"
   },
   "source": [
    "## Conclusion"
   ]
  },
  {
   "cell_type": "markdown",
   "metadata": {
    "colab_type": "text",
    "id": "VoKZuWTjq2qT"
   },
   "source": [
    "AUC on the training data is 86% and on test data is 84%. The precision and recall metrics are also almost similar between training and test set, which indicates no overfitting or underfitting has happened. \n",
    "  \n",
    "best_grid model has better improved performance over the initial clf model as the sensitivity was much lesser in the initial model.\n",
    "\n",
    "The Overall model performance is moderate enough to start predicting if any new customer will churn or not. "
   ]
  }
 ],
 "metadata": {
  "colab": {
   "collapsed_sections": [
    "xSlZ5rInq2le",
    "Pqigx2vOq2lj",
    "rCMHF0dMq2lq",
    "fhsA1mSQq2mA",
    "OaA6JSdKq2mS",
    "kZINjSDMq2me",
    "9HiuwOohq2ms",
    "t0500Aipq2nV",
    "Sf-L0FH3q2nf",
    "7mf2r6fnq2nl",
    "uoOPzTZbq2nr",
    "RJEi-herq2ny",
    "ExwAKRzIq2n-",
    "4Q3ln2oBq2oQ",
    "CGCToAvZq2or",
    "orbvDW-Yq2oy",
    "Xtz7WXLnq2o2",
    "i15od23Xq2pN",
    "BZMTmIn1q2pb"
   ],
   "name": "Neural Networks - Churn Prediction - Student File.ipynb",
   "provenance": []
  },
  "kernelspec": {
   "display_name": "Python 3",
   "language": "python",
   "name": "python3"
  },
  "language_info": {
   "codemirror_mode": {
    "name": "ipython",
    "version": 3
   },
   "file_extension": ".py",
   "mimetype": "text/x-python",
   "name": "python",
   "nbconvert_exporter": "python",
   "pygments_lexer": "ipython3",
   "version": "3.7.4"
  },
  "toc": {
   "base_numbering": 1,
   "nav_menu": {},
   "number_sections": true,
   "sideBar": true,
   "skip_h1_title": false,
   "title_cell": "Table of Contents",
   "title_sidebar": "Contents",
   "toc_cell": false,
   "toc_position": {},
   "toc_section_display": true,
   "toc_window_display": false
  },
  "varInspector": {
   "cols": {
    "lenName": 16,
    "lenType": 16,
    "lenVar": 40
   },
   "kernels_config": {
    "python": {
     "delete_cmd_postfix": "",
     "delete_cmd_prefix": "del ",
     "library": "var_list.py",
     "varRefreshCmd": "print(var_dic_list())"
    },
    "r": {
     "delete_cmd_postfix": ") ",
     "delete_cmd_prefix": "rm(",
     "library": "var_list.r",
     "varRefreshCmd": "cat(var_dic_list()) "
    }
   },
   "types_to_exclude": [
    "module",
    "function",
    "builtin_function_or_method",
    "instance",
    "_Feature"
   ],
   "window_display": false
  }
 },
 "nbformat": 4,
 "nbformat_minor": 1
}
